{
 "cells": [
  {
   "cell_type": "code",
   "execution_count": 3,
   "id": "b791ef09-2dc4-40d8-9366-b01e4d00d754",
   "metadata": {},
   "outputs": [],
   "source": [
    "import json\n",
    "from glob import glob\n",
    "from omegaconf import DictConfig, OmegaConf\n",
    "from os.path import join\n",
    "import numpy as np"
   ]
  },
  {
   "cell_type": "code",
   "execution_count": 2,
   "id": "61171612-0d31-49d2-b2de-6e24a0ee1773",
   "metadata": {},
   "outputs": [
    {
     "data": {
      "text/plain": [
       "['./outputs/jointly_made/2024-02-23',\n",
       " './outputs/2024-02-18/21-50-53',\n",
       " './outputs/2024-02-18/21-53-48',\n",
       " './outputs/2024-02-18/21-56-30',\n",
       " './outputs/2024-02-18/21-56-55',\n",
       " './outputs/2024-02-18/22-07-25',\n",
       " './outputs/2024-02-18/21-53-33',\n",
       " './outputs/2024-02-18/21-56-01',\n",
       " './outputs/2024-02-18/21-51-03',\n",
       " './outputs/2024-02-23/00-55-56',\n",
       " './outputs/2024-02-23/20-17-18',\n",
       " './outputs/2024-02-23/17-44-19',\n",
       " './outputs/2024-02-23/20-14-48',\n",
       " './outputs/2024-02-23/00-06-16',\n",
       " './outputs/2024-02-23/00-22-28',\n",
       " './outputs/2024-02-19/04-30-44',\n",
       " './outputs/2024-02-19/23-29-59',\n",
       " './outputs/2024-02-19/05-41-44',\n",
       " './outputs/2024-02-19/00-03-58',\n",
       " './outputs/2024-02-19/01-16-05',\n",
       " './outputs/2024-02-19/18-37-50',\n",
       " './outputs/2024-02-19/16-41-37',\n",
       " './outputs/2024-02-19/05-43-02',\n",
       " './outputs/2024-02-20/00-17-47',\n",
       " './outputs/2024-02-20/02-53-19',\n",
       " './outputs/2024-02-22/23-21-36',\n",
       " './outputs/2024-02-22/23-48-10',\n",
       " './outputs/2024-02-22/23-23-43',\n",
       " './outputs/2024-02-24/02-42-36']"
      ]
     },
     "execution_count": 2,
     "metadata": {},
     "output_type": "execute_result"
    }
   ],
   "source": [
    "glob('./outputs/*/*')"
   ]
  },
  {
   "cell_type": "code",
   "execution_count": 5,
   "id": "895226de-a7e8-403e-91f7-3af3eaf82b07",
   "metadata": {},
   "outputs": [
    {
     "data": {
      "text/plain": [
       "['./outputs/2023-01-27/21-14-03/diagnostics',\n",
       " './outputs/2023-01-27/21-14-03/agents_log',\n",
       " './outputs/2023-01-27/21-14-03/config_agent.yaml',\n",
       " './outputs/2023-01-27/21-14-03/videos',\n",
       " './outputs/2023-01-27/21-14-03/benchmark.log',\n",
       " './outputs/2023-01-27/21-14-03/wandb']"
      ]
     },
     "execution_count": 5,
     "metadata": {},
     "output_type": "execute_result"
    }
   ],
   "source": [
    "glob('./outputs/2023-01-27/21-14-03/*')"
   ]
  },
  {
   "cell_type": "code",
   "execution_count": 8,
   "id": "d510b6cd-8ea0-436a-b378-e44c46252f73",
   "metadata": {},
   "outputs": [],
   "source": [
    "cfg = OmegaConf.load('./outputs/2023-01-27/21-14-03/config_agent.yaml')"
   ]
  },
  {
   "cell_type": "code",
   "execution_count": 10,
   "id": "5fb2bf95-59e2-41f6-b78d-c85b4b8bf6c4",
   "metadata": {},
   "outputs": [
    {
     "name": "stdout",
     "output_type": "stream",
     "text": [
      "entry_point\n",
      "ckpt\n",
      "wb_run_path\n",
      "wb_ckpt_step\n",
      "rl_run_path\n",
      "rl_ckpt_step\n",
      "mid_fusion\n",
      "future_step_prediction\n",
      "lb_mode\n",
      "env_wrapper\n"
     ]
    }
   ],
   "source": [
    "for k in cfg.keys():\n",
    "    print(k)"
   ]
  },
  {
   "cell_type": "code",
   "execution_count": 20,
   "id": "4b936190-a125-4d40-abac-b07840a6ee76",
   "metadata": {},
   "outputs": [
    {
     "data": {
      "text/plain": [
       "['./outputs/2023-01-27/21-14-03/videos/custom_LeaderBoard-v0_Town01_None_train_eval/',\n",
       " './outputs/2023-01-26/07-50-34/videos/custom_LeaderBoard-v0_Town01_None_train_eval/',\n",
       " './outputs/2023-01-26/10-30-17/videos/custom_LeaderBoard-v0_Town03_None_train_eval/',\n",
       " './outputs/2023-01-25/23-36-39/videos/custom_LeaderBoard-v0_Town05_None_new/',\n",
       " './outputs/2023-01-25/20-09-45/videos/custom_LeaderBoard-v0_Town02_None_new/',\n",
       " './outputs/2023-01-25/20-53-21/videos/custom_LeaderBoard-v0_Town04_test_new/',\n",
       " './outputs/2023-01-25/20-03-31/videos/custom_LeaderBoard-v0_Town02_None_new/',\n",
       " './outputs/2023-01-25/19-43-57/videos/custom_LeaderBoard-v0_Town02_None_new/',\n",
       " './outputs/2023-01-25/19-46-58/videos/custom_LeaderBoard-v0_Town02_None_new/',\n",
       " './outputs/2023-01-29/17-00-57/videos/custom_LeaderBoard-v0_Town04_train_train_eval/',\n",
       " './outputs/2023-01-29/21-37-36/videos/custom_LeaderBoard-v0_Town06_None_train_eval/',\n",
       " './outputs/2023-01-29/11-35-16/videos/custom_LeaderBoard-v0_Town01_None_train_eval/',\n",
       " './outputs/2023-01-29/11-59-40/videos/custom_LeaderBoard-v0_Town01_None_train_eval/',\n",
       " './outputs/2023-01-29/13-31-36/videos/custom_LeaderBoard-v0_Town03_None_train_eval/']"
      ]
     },
     "execution_count": 20,
     "metadata": {},
     "output_type": "execute_result"
    }
   ],
   "source": [
    "glob('./outputs/*/*/videos/*/')"
   ]
  },
  {
   "cell_type": "code",
   "execution_count": 36,
   "id": "e1c7462d-f1c3-4e23-852f-2f535701d8c8",
   "metadata": {},
   "outputs": [
    {
     "data": {
      "text/plain": [
       "['./outputs/2023-01-27/21-14-03/diagnostics/custom_LeaderBoard-v0_Town01_None_train_eval/',\n",
       " './outputs/2023-01-26/07-50-34/diagnostics/custom_LeaderBoard-v0_Town01_None_train_eval/',\n",
       " './outputs/2023-01-29/11-35-16/diagnostics/custom_LeaderBoard-v0_Town01_None_train_eval/',\n",
       " './outputs/2023-01-29/11-59-40/diagnostics/custom_LeaderBoard-v0_Town01_None_train_eval/']"
      ]
     },
     "execution_count": 36,
     "metadata": {},
     "output_type": "execute_result"
    }
   ],
   "source": [
    "glob('./outputs/*/*/diagnostics/custom_LeaderBoard-v0_Town01*eval/')"
   ]
  },
  {
   "cell_type": "code",
   "execution_count": 37,
   "id": "e7edaa50-6ab1-4c40-88bf-db9124978119",
   "metadata": {},
   "outputs": [
    {
     "data": {
      "text/plain": [
       "['./outputs/2023-01-26/10-30-17/diagnostics/custom_LeaderBoard-v0_Town03_None_train_eval/',\n",
       " './outputs/2023-01-29/13-31-36/diagnostics/custom_LeaderBoard-v0_Town03_None_train_eval/']"
      ]
     },
     "execution_count": 37,
     "metadata": {},
     "output_type": "execute_result"
    }
   ],
   "source": [
    "glob('./outputs/*/*/diagnostics/custom_LeaderBoard-v0_Town03*eval/')"
   ]
  },
  {
   "cell_type": "code",
   "execution_count": 38,
   "id": "66980c29-bae2-4ebd-8375-1d98057a3577",
   "metadata": {},
   "outputs": [
    {
     "data": {
      "text/plain": [
       "['./outputs/2023-01-29/17-00-57/diagnostics/custom_LeaderBoard-v0_Town04_train_train_eval/']"
      ]
     },
     "execution_count": 38,
     "metadata": {},
     "output_type": "execute_result"
    }
   ],
   "source": [
    "glob('./outputs/*/*/diagnostics/custom_LeaderBoard-v0_Town04*eval/')"
   ]
  },
  {
   "cell_type": "code",
   "execution_count": 39,
   "id": "760bc40d-519e-4d9f-b4b1-518a6c58f0ec",
   "metadata": {},
   "outputs": [
    {
     "data": {
      "text/plain": [
       "['./outputs/2023-01-29/21-37-36/diagnostics/custom_LeaderBoard-v0_Town06_None_train_eval/']"
      ]
     },
     "execution_count": 39,
     "metadata": {},
     "output_type": "execute_result"
    }
   ],
   "source": [
    "glob('./outputs/*/*/diagnostics/custom_LeaderBoard-v0_Town06*eval/')"
   ]
  },
  {
   "cell_type": "code",
   "execution_count": 46,
   "id": "61ac77d7-a8aa-48fe-a4a9-c5545f9abd2e",
   "metadata": {},
   "outputs": [
    {
     "name": "stdout",
     "output_type": "stream",
     "text": [
      "40\n"
     ]
    }
   ],
   "source": [
    "given_paths = glob('./outputs/*/*/diagnostics/custom_LeaderBoard-v0_Town01*eval/')\n",
    "sum_files = 0\n",
    "for each_path in given_paths:\n",
    "    sum_files += len(glob(each_path + '*'))\n",
    "print(sum_files)"
   ]
  },
  {
   "cell_type": "code",
   "execution_count": 47,
   "id": "65e0fe5d-b886-44f3-bf88-a4b5a92b2b58",
   "metadata": {},
   "outputs": [
    {
     "name": "stdout",
     "output_type": "stream",
     "text": [
      "49\n"
     ]
    }
   ],
   "source": [
    "given_paths = glob('./outputs/*/*/diagnostics/custom_LeaderBoard-v0_Town03*eval/')\n",
    "sum_files = 0\n",
    "for each_path in given_paths:\n",
    "    sum_files += len(glob(each_path + '*'))\n",
    "print(sum_files)"
   ]
  },
  {
   "cell_type": "code",
   "execution_count": 43,
   "id": "711e17c8-f1cf-4c07-9905-a52d615aee43",
   "metadata": {},
   "outputs": [
    {
     "name": "stdout",
     "output_type": "stream",
     "text": [
      "20\n"
     ]
    }
   ],
   "source": [
    "given_paths = glob('./outputs/*/*/diagnostics/custom_LeaderBoard-v0_Town04*eval/')\n",
    "sum_files = 0\n",
    "for each_path in given_paths:\n",
    "    sum_files += len(glob(each_path + '*'))\n",
    "print(sum_files)"
   ]
  },
  {
   "cell_type": "code",
   "execution_count": 44,
   "id": "f0e9053b-fb81-47bb-8c08-8df0cabbc1e5",
   "metadata": {},
   "outputs": [
    {
     "name": "stdout",
     "output_type": "stream",
     "text": [
      "19\n"
     ]
    }
   ],
   "source": [
    "given_paths = glob('./outputs/*/*/diagnostics/custom_LeaderBoard-v0_Town06*eval/')\n",
    "sum_files = 0\n",
    "for each_path in given_paths:\n",
    "    sum_files += len(glob(each_path + '*'))\n",
    "print(sum_files)"
   ]
  },
  {
   "cell_type": "code",
   "execution_count": 51,
   "id": "bb969a27-3c92-4845-8f61-6397e18be081",
   "metadata": {},
   "outputs": [],
   "source": [
    "wetnoons = glob('./outputs/2023-01-30/17-13-13/diagnostics/custom_LeaderBoard-v0_Town01_None_train_eval/*WetNoon*')\n",
    "clearsunsets = glob('./outputs/2023-01-30/17-13-13/diagnostics/custom_LeaderBoard-v0_Town01_None_train_eval/*ClearSunset*')"
   ]
  },
  {
   "cell_type": "code",
   "execution_count": 58,
   "id": "1b6b4d32-fa45-4f93-9b5a-dd6358323909",
   "metadata": {},
   "outputs": [],
   "source": [
    "wetnoon_dict = json.load(open(wetnoons[0]))"
   ]
  },
  {
   "cell_type": "code",
   "execution_count": 60,
   "id": "3782e636-e681-40d2-b703-266513539737",
   "metadata": {},
   "outputs": [
    {
     "data": {
      "text/plain": [
       "dict_keys(['collisions_layout', 'collisions_vehicle', 'collisions_pedestrian', 'collisions_others', 'red_light', 'encounter_light', 'stop_infraction', 'encounter_stop', 'route_dev', 'vehicle_blocked', 'outside_lane', 'wrong_lane', 'timeout', 'route_completion'])"
      ]
     },
     "execution_count": 60,
     "metadata": {},
     "output_type": "execute_result"
    }
   ],
   "source": [
    "wetnoon_dict['hero'].keys()"
   ]
  },
  {
   "cell_type": "code",
   "execution_count": 63,
   "id": "596734d1-dffa-446d-b683-0c6cd7333677",
   "metadata": {},
   "outputs": [
    {
     "data": {
      "text/plain": [
       "True"
      ]
     },
     "execution_count": 63,
     "metadata": {},
     "output_type": "execute_result"
    }
   ],
   "source": [
    "wetnoon_dict['hero']['route_completion']['is_route_completed']"
   ]
  },
  {
   "cell_type": "code",
   "execution_count": 64,
   "id": "30e82558-4db9-4766-a5e3-dc723aa71227",
   "metadata": {},
   "outputs": [
    {
     "name": "stdout",
     "output_type": "stream",
     "text": [
      "True\n",
      "False\n",
      "False\n",
      "False\n",
      "False\n",
      "False\n",
      "True\n",
      "False\n",
      "True\n",
      "False\n"
     ]
    }
   ],
   "source": [
    "for file in wetnoons:\n",
    "    file = json.load(open(file))\n",
    "    print(file['hero']['route_completion']['is_route_completed'])"
   ]
  },
  {
   "cell_type": "code",
   "execution_count": null,
   "id": "0930eac7-c460-448e-86ad-7d556e2b1491",
   "metadata": {},
   "outputs": [],
   "source": []
  },
  {
   "cell_type": "markdown",
   "id": "d261a5b0-3d11-47c5-bff7-ecc9fb2d3917",
   "metadata": {},
   "source": [
    "### Problem is that results are spread out in folders, I can log the data folders into this notebook here\n",
    "\n",
    "#### Settings are lb_small_tt (Only town 1 is here, in train weathers 2 on 10 routes each)"
   ]
  },
  {
   "cell_type": "markdown",
   "id": "feb5b213-1e6d-4c24-8e31-d758375acc71",
   "metadata": {},
   "source": [
    "#### Models:  \n",
    "Multistep prediction Dagger 0 is kept in: /home/shubham/Desktop/git/carla-roach/outputs/2023-01-30/10-49-36  \n",
    "Multistep prediction Dagger 1 is reloacted into : /home/shubham/Desktop/git/carla-roach/outputs/jointly_made/2023-01-27/21-14-03  \n",
    "Multistep prediction Dagger 2 is kept in: /home/shubham/Desktop/git/carla-roach/outputs/2023-01-30/14-11-03\n",
    "\n",
    "Baseline = Singlestep predition\n",
    "Baseline Dagger 0 is kept in: /home/shubham/Desktop/git/carla-roach/outputs/2023-01-30/17-13-13  \n",
    "Baseline Dagger 1 is relocated into: /home/shubham/Desktop/git/carla-roach/outputs/jointly_made/2023-01-31/12-15-47  "
   ]
  },
  {
   "cell_type": "markdown",
   "id": "5981ab5c-569b-4508-a1da-3d27b2c7b9a5",
   "metadata": {},
   "source": [
    "Multistep dagger 0"
   ]
  },
  {
   "cell_type": "code",
   "execution_count": 68,
   "id": "e76fc3fe-ab43-43c4-b6e9-3ed0c5988c16",
   "metadata": {},
   "outputs": [
    {
     "data": {
      "text/plain": [
       "1"
      ]
     },
     "execution_count": 68,
     "metadata": {},
     "output_type": "execute_result"
    }
   ],
   "source": [
    "address = '/home/shubham/Desktop/git/carla-roach/outputs/2023-01-30/10-49-36'\n",
    "address = join(address, 'diagnostics/custom_LeaderBoard-v0_Town01_None_train_eval/')\n",
    "score = 0\n",
    "for file in glob(join(address,'*')):\n",
    "    score += int(json.load(open(file))['hero']['route_completion']['is_route_completed'])\n",
    "score"
   ]
  },
  {
   "cell_type": "markdown",
   "id": "f3a2c660-f34e-4720-9e1f-b1b7c8e83c5d",
   "metadata": {},
   "source": [
    "Multistep dapper 1"
   ]
  },
  {
   "cell_type": "code",
   "execution_count": 70,
   "id": "11ec0df7-1a51-49b0-b465-4fee56a0f2ea",
   "metadata": {},
   "outputs": [
    {
     "data": {
      "text/plain": [
       "4"
      ]
     },
     "execution_count": 70,
     "metadata": {},
     "output_type": "execute_result"
    }
   ],
   "source": [
    "address = '/home/shubham/Desktop/git/carla-roach/outputs/jointly_made/2023-01-27/21-14-03'\n",
    "address = join(address, 'diagnostics/custom_LeaderBoard-v0_Town01_None_train_eval/')\n",
    "score = 0\n",
    "for file in glob(join(address,'*')):\n",
    "    score += int(json.load(open(file))['hero']['route_completion']['is_route_completed'])\n",
    "score"
   ]
  },
  {
   "cell_type": "markdown",
   "id": "1b6ba2ea-e408-4c1b-a7e7-f4d0560c4cb0",
   "metadata": {},
   "source": [
    "Multistep dagger 2"
   ]
  },
  {
   "cell_type": "code",
   "execution_count": 69,
   "id": "49dd8406-9a97-42bd-be9e-72b9b8e97a4e",
   "metadata": {},
   "outputs": [
    {
     "data": {
      "text/plain": [
       "10"
      ]
     },
     "execution_count": 69,
     "metadata": {},
     "output_type": "execute_result"
    }
   ],
   "source": [
    "address = '/home/shubham/Desktop/git/carla-roach/outputs/2023-01-30/14-11-03'\n",
    "address = join(address, 'diagnostics/custom_LeaderBoard-v0_Town01_None_train_eval/')\n",
    "score = 0\n",
    "for file in glob(join(address,'*')):\n",
    "    score += int(json.load(open(file))['hero']['route_completion']['is_route_completed'])\n",
    "score"
   ]
  },
  {
   "cell_type": "markdown",
   "id": "ad780dc6-4863-4b76-9fb9-4daa0185c96f",
   "metadata": {},
   "source": [
    "Baseline dagger 0"
   ]
  },
  {
   "cell_type": "code",
   "execution_count": 71,
   "id": "1107337b-fa5e-4d29-b41f-15ac679c3893",
   "metadata": {},
   "outputs": [
    {
     "data": {
      "text/plain": [
       "5"
      ]
     },
     "execution_count": 71,
     "metadata": {},
     "output_type": "execute_result"
    }
   ],
   "source": [
    "address = '/home/shubham/Desktop/git/carla-roach/outputs/2023-01-30/17-13-13'\n",
    "address = join(address, 'diagnostics/custom_LeaderBoard-v0_Town01_None_train_eval/')\n",
    "score = 0\n",
    "for file in glob(join(address,'*')):\n",
    "    score += int(json.load(open(file))['hero']['route_completion']['is_route_completed'])\n",
    "score"
   ]
  },
  {
   "cell_type": "markdown",
   "id": "efb9d4cf-b987-443d-9fdc-a0b0d7abef3c",
   "metadata": {},
   "source": [
    "Baseline dagger 1"
   ]
  },
  {
   "cell_type": "code",
   "execution_count": 76,
   "id": "e151cf03-2185-492f-915e-24733d67c465",
   "metadata": {},
   "outputs": [
    {
     "data": {
      "text/plain": [
       "14"
      ]
     },
     "execution_count": 76,
     "metadata": {},
     "output_type": "execute_result"
    }
   ],
   "source": [
    "address = '/home/shubham/Desktop/git/carla-roach/outputs/jointly_made/2023-01-31/12-15-47/'\n",
    "address = join(address, 'diagnostics/custom_LeaderBoard-v0_Town01_None_train_eval/')\n",
    "score = 0\n",
    "for file in glob(join(address,'*')):\n",
    "    score += int(json.load(open(file))['hero']['route_completion']['is_route_completed'])\n",
    "score"
   ]
  },
  {
   "cell_type": "markdown",
   "id": "de22f28e-548b-4bca-84f8-a922c6c41d1c",
   "metadata": {},
   "source": [
    "Baseline dagger 2"
   ]
  },
  {
   "cell_type": "code",
   "execution_count": 3,
   "id": "a44ef3fd-6b1a-479b-82dd-244485abac3e",
   "metadata": {},
   "outputs": [
    {
     "data": {
      "text/plain": [
       "13"
      ]
     },
     "execution_count": 3,
     "metadata": {},
     "output_type": "execute_result"
    }
   ],
   "source": [
    "address = '/home/shubham/Desktop/git/carla-roach/outputs/2023-02-13/19-49-24'\n",
    "address = join(address, 'diagnostics/custom_LeaderBoard-v0_Town01_None_train_eval/')\n",
    "score = 0\n",
    "for file in glob(join(address,'*')):\n",
    "    score += int(json.load(open(file))['hero']['route_completion']['is_route_completed'])\n",
    "score\n"
   ]
  },
  {
   "cell_type": "markdown",
   "id": "2b0600a7-b849-47bb-99be-f4ef1c6909ee",
   "metadata": {},
   "source": [
    "Baseline dagger 2 (Another epoch)"
   ]
  },
  {
   "cell_type": "code",
   "execution_count": 34,
   "id": "6c73cfd7-3255-4abd-bce5-9ada8027d2ac",
   "metadata": {},
   "outputs": [
    {
     "data": {
      "text/plain": [
       "7"
      ]
     },
     "execution_count": 34,
     "metadata": {},
     "output_type": "execute_result"
    }
   ],
   "source": [
    "address = '/home/shubham/Desktop/git/carla-roach/outputs/2023-02-27/06-31-04/'\n",
    "address = join(address, 'diagnostics/custom_LeaderBoard-v0_Town01_None_train_eval/')\n",
    "score = 0\n",
    "for file in glob(join(address,'*')):\n",
    "    score += int(json.load(open(file))['hero']['route_completion']['is_route_completed'])\n",
    "score\n"
   ]
  },
  {
   "cell_type": "markdown",
   "id": "7747d101-7de7-4d86-8403-767f784212ee",
   "metadata": {},
   "source": [
    "Baseline dagger 2 (Another epoch)"
   ]
  },
  {
   "cell_type": "code",
   "execution_count": 33,
   "id": "78675322-6738-4d8d-b0e6-946b08339ccb",
   "metadata": {},
   "outputs": [
    {
     "data": {
      "text/plain": [
       "15"
      ]
     },
     "execution_count": 33,
     "metadata": {},
     "output_type": "execute_result"
    }
   ],
   "source": [
    "address = '/home/shubham/Desktop/git/carla-roach/outputs/2023-02-27/09-11-39/'\n",
    "address = join(address, 'diagnostics/custom_LeaderBoard-v0_Town01_None_train_eval/')\n",
    "score = 0\n",
    "for file in glob(join(address,'*')):\n",
    "    score += int(json.load(open(file))['hero']['route_completion']['is_route_completed'])\n",
    "score\n"
   ]
  },
  {
   "cell_type": "markdown",
   "id": "40ea7e57-e7df-460a-aa7f-425aab058c2b",
   "metadata": {},
   "source": [
    "Baseline dagger 3"
   ]
  },
  {
   "cell_type": "code",
   "execution_count": 75,
   "id": "f0905288-5e46-4b72-9250-41d3faf1dbfe",
   "metadata": {},
   "outputs": [
    {
     "data": {
      "text/plain": [
       "13"
      ]
     },
     "execution_count": 75,
     "metadata": {},
     "output_type": "execute_result"
    }
   ],
   "source": [
    "address = '/home/shubham/Desktop/git/carla-roach/outputs/2023-03-06/08-06-38/'\n",
    "address = join(address, 'diagnostics/custom_LeaderBoard-v0_Town01_None_train_eval/')\n",
    "score = 0\n",
    "for file in glob(join(address,'*')):\n",
    "    score += int(json.load(open(file))['hero']['route_completion']['is_route_completed'])\n",
    "score\n"
   ]
  },
  {
   "cell_type": "markdown",
   "id": "530a8348-f3e4-4da1-85d2-19e36da40238",
   "metadata": {},
   "source": [
    "Baseline dagger 4"
   ]
  },
  {
   "cell_type": "code",
   "execution_count": 77,
   "id": "0c9fd31a-9399-4e23-9476-785168f2e1d0",
   "metadata": {},
   "outputs": [
    {
     "data": {
      "text/plain": [
       "17"
      ]
     },
     "execution_count": 77,
     "metadata": {},
     "output_type": "execute_result"
    }
   ],
   "source": [
    "address = '/home/shubham/Desktop/git/carla-roach/outputs/2023-03-06/10-48-17/'\n",
    "address = join(address, 'diagnostics/custom_LeaderBoard-v0_Town01_None_train_eval/')\n",
    "score = 0\n",
    "for file in glob(join(address,'*')):\n",
    "    score += int(json.load(open(file))['hero']['route_completion']['is_route_completed'])\n",
    "score\n"
   ]
  },
  {
   "cell_type": "markdown",
   "id": "00584489-b12d-4c58-a7ee-e4b0aa755291",
   "metadata": {},
   "source": [
    "Baseline dagger 5"
   ]
  },
  {
   "cell_type": "code",
   "execution_count": 78,
   "id": "2ba50720-e60f-4aa2-9ccf-15e90f7d73a0",
   "metadata": {},
   "outputs": [
    {
     "data": {
      "text/plain": [
       "20"
      ]
     },
     "execution_count": 78,
     "metadata": {},
     "output_type": "execute_result"
    }
   ],
   "source": [
    "address = '/home/shubham/Desktop/git/carla-roach/outputs/2023-03-06/13-35-29/'\n",
    "address = join(address, 'diagnostics/custom_LeaderBoard-v0_Town01_None_train_eval/')\n",
    "score = 0\n",
    "for file in glob(join(address,'*')):\n",
    "    score += int(json.load(open(file))['hero']['route_completion']['is_route_completed'])\n",
    "score\n"
   ]
  },
  {
   "cell_type": "markdown",
   "id": "db6fdf5d-b933-4621-a29c-e7c5091a1f2e",
   "metadata": {},
   "source": [
    "Sequential Penalty dagger 0"
   ]
  },
  {
   "cell_type": "code",
   "execution_count": 4,
   "id": "1e8102ee-5b12-47d0-b0fa-2aed527b8328",
   "metadata": {},
   "outputs": [
    {
     "data": {
      "text/plain": [
       "3"
      ]
     },
     "execution_count": 4,
     "metadata": {},
     "output_type": "execute_result"
    }
   ],
   "source": [
    "address = '/home/shubham/Desktop/git/carla-roach/outputs/2023-02-13/10-07-36'\n",
    "address = join(address, 'diagnostics/custom_LeaderBoard-v0_Town01_None_train_eval/')\n",
    "score = 0\n",
    "for file in glob(join(address,'*')):\n",
    "    score += int(json.load(open(file))['hero']['route_completion']['is_route_completed'])\n",
    "score\n"
   ]
  },
  {
   "cell_type": "markdown",
   "id": "4c1b8e3b-be0e-400c-8ac7-e710d3ab8ba4",
   "metadata": {},
   "source": [
    "Sequential Penalty 2nd Image dagger 0"
   ]
  },
  {
   "cell_type": "code",
   "execution_count": 6,
   "id": "cc19a57b-716e-455c-aaa3-75e8ccdccc85",
   "metadata": {},
   "outputs": [
    {
     "data": {
      "text/plain": [
       "1"
      ]
     },
     "execution_count": 6,
     "metadata": {},
     "output_type": "execute_result"
    }
   ],
   "source": [
    "address = '/home/shubham/Desktop/git/carla-roach/outputs/2023-02-14/11-24-42'\n",
    "address = join(address, 'diagnostics/custom_LeaderBoard-v0_Town01_None_train_eval/')\n",
    "score = 0\n",
    "for file in glob(join(address,'*')):\n",
    "    score += int(json.load(open(file))['hero']['route_completion']['is_route_completed'])\n",
    "score\n"
   ]
  },
  {
   "cell_type": "markdown",
   "id": "2cd2d370-4c56-42be-adf2-4964f47eba30",
   "metadata": {},
   "source": [
    "Sequential Penalty 2nd Image SUM dagger 0"
   ]
  },
  {
   "cell_type": "code",
   "execution_count": null,
   "id": "ea2efef8-5602-4c0a-bf7f-3b24458ef9a8",
   "metadata": {},
   "outputs": [],
   "source": [
    "address = '/home/shubham/Desktop/git/carla-roach/outputs/ / '\n",
    "address = join(address, 'diagnostics/custom_LeaderBoard-v0_Town01_None_train_eval/')\n",
    "score = 0\n",
    "for file in glob(join(address,'*')):\n",
    "    score += int(json.load(open(file))['hero']['route_completion']['is_route_completed'])\n",
    "score\n"
   ]
  },
  {
   "cell_type": "markdown",
   "id": "591e47d5-b384-4600-9ab0-200181e93c5f",
   "metadata": {},
   "source": [
    "Sequential Penalty SUM dagger 0"
   ]
  },
  {
   "cell_type": "code",
   "execution_count": null,
   "id": "055289b6-4da7-4798-ada9-eb9f25217bb3",
   "metadata": {},
   "outputs": [],
   "source": [
    "address = '/home/shubham/Desktop/git/carla-roach/outputs/ / '\n",
    "address = join(address, 'diagnostics/custom_LeaderBoard-v0_Town01_None_train_eval/')\n",
    "score = 0\n",
    "for file in glob(join(address,'*')):\n",
    "    score += int(json.load(open(file))['hero']['route_completion']['is_route_completed'])\n",
    "score\n"
   ]
  },
  {
   "cell_type": "markdown",
   "id": "3a3103b3-38ea-4987-8c42-93a492d59878",
   "metadata": {},
   "source": [
    "SegVPR encoder dagger 0"
   ]
  },
  {
   "cell_type": "code",
   "execution_count": 3,
   "id": "37194cfe-a46c-4791-a043-3e1a4ce67a7e",
   "metadata": {},
   "outputs": [
    {
     "data": {
      "text/plain": [
       "2"
      ]
     },
     "execution_count": 3,
     "metadata": {},
     "output_type": "execute_result"
    }
   ],
   "source": [
    "address = '/home/shubham/Desktop/git/carla-roach/outputs/2023-02-20/22-09-59/'\n",
    "address = join(address, 'diagnostics/custom_LeaderBoard-v0_Town01_None_train_eval/')\n",
    "score = 0\n",
    "for file in glob(join(address,'*')):\n",
    "    score += int(json.load(open(file))['hero']['route_completion']['is_route_completed'])\n",
    "score"
   ]
  },
  {
   "cell_type": "markdown",
   "id": "80a3abb5-b23e-4a2a-bc84-d06dd3bc18b4",
   "metadata": {},
   "source": [
    "SegVPR encoder dagger 1"
   ]
  },
  {
   "cell_type": "code",
   "execution_count": 11,
   "id": "53ecf5a5-8677-41f6-89a8-9f7a80a8b94c",
   "metadata": {},
   "outputs": [
    {
     "data": {
      "text/plain": [
       "15"
      ]
     },
     "execution_count": 11,
     "metadata": {},
     "output_type": "execute_result"
    }
   ],
   "source": [
    "address = '/home/shubham/Desktop/git/carla-roach/outputs/2023-02-21/12-07-14/'\n",
    "address = join(address, 'diagnostics/custom_LeaderBoard-v0_Town01_None_train_eval/')\n",
    "score = 0\n",
    "for file in glob(join(address,'*')):\n",
    "    score += int(json.load(open(file))['hero']['route_completion']['is_route_completed'])\n",
    "score"
   ]
  },
  {
   "cell_type": "markdown",
   "id": "eeacc20f-4178-48db-8f6a-139ff62953fe",
   "metadata": {},
   "source": [
    "SegVPR encoder dagger 2"
   ]
  },
  {
   "cell_type": "code",
   "execution_count": 19,
   "id": "79172e44-baa7-41b1-81a2-efb8e1815918",
   "metadata": {},
   "outputs": [
    {
     "data": {
      "text/plain": [
       "16"
      ]
     },
     "execution_count": 19,
     "metadata": {},
     "output_type": "execute_result"
    }
   ],
   "source": [
    "address = '/home/shubham/Desktop/git/carla-roach/outputs/2023-02-22/14-52-10/'\n",
    "address = join(address, 'diagnostics/custom_LeaderBoard-v0_Town01_None_train_eval/')\n",
    "score = 0\n",
    "for file in glob(join(address,'*')):\n",
    "    score += int(json.load(open(file))['hero']['route_completion']['is_route_completed'])\n",
    "score"
   ]
  },
  {
   "cell_type": "markdown",
   "id": "41e02b8f-cf19-4821-963e-09b45b3741d7",
   "metadata": {},
   "source": [
    "SegVPR encoder dagger 3"
   ]
  },
  {
   "cell_type": "code",
   "execution_count": 28,
   "id": "18c52e4c-6d83-4908-a0ae-29afaf3b52f2",
   "metadata": {},
   "outputs": [
    {
     "data": {
      "text/plain": [
       "16"
      ]
     },
     "execution_count": 28,
     "metadata": {},
     "output_type": "execute_result"
    }
   ],
   "source": [
    "address = '/home/shubham/Desktop/git/carla-roach/outputs/2023-02-25/17-54-03/'\n",
    "address = join(address, 'diagnostics/custom_LeaderBoard-v0_Town01_None_train_eval/')\n",
    "score = 0\n",
    "for file in glob(join(address,'*')):\n",
    "    score += int(json.load(open(file))['hero']['route_completion']['is_route_completed'])\n",
    "score"
   ]
  },
  {
   "cell_type": "markdown",
   "id": "9d0e159b-5600-4a0e-a217-7665317664d0",
   "metadata": {},
   "source": [
    "SegVPR encoder dagger 4"
   ]
  },
  {
   "cell_type": "code",
   "execution_count": 30,
   "id": "8f86de42-b6a0-4d24-8211-3e0078744bd3",
   "metadata": {},
   "outputs": [
    {
     "data": {
      "text/plain": [
       "19"
      ]
     },
     "execution_count": 30,
     "metadata": {},
     "output_type": "execute_result"
    }
   ],
   "source": [
    "address = '/home/shubham/Desktop/git/carla-roach/outputs/2023-02-26/22-12-22/'\n",
    "address = join(address, 'diagnostics/custom_LeaderBoard-v0_Town01_None_train_eval/')\n",
    "score = 0\n",
    "for file in glob(join(address,'*')):\n",
    "    score += int(json.load(open(file))['hero']['route_completion']['is_route_completed'])\n",
    "score"
   ]
  },
  {
   "cell_type": "markdown",
   "id": "ce70a97d-aa0a-4ece-acd9-fc6c8d87c111",
   "metadata": {},
   "source": [
    "SegVPR encoder dagger 5"
   ]
  },
  {
   "cell_type": "code",
   "execution_count": 35,
   "id": "d8d19a27-5bde-4402-9f87-33c5111f6b68",
   "metadata": {},
   "outputs": [
    {
     "data": {
      "text/plain": [
       "17"
      ]
     },
     "execution_count": 35,
     "metadata": {},
     "output_type": "execute_result"
    }
   ],
   "source": [
    "address = '/home/shubham/Desktop/git/carla-roach/outputs/2023-02-28/10-56-29/'\n",
    "address = join(address, 'diagnostics/custom_LeaderBoard-v0_Town01_None_train_eval/')\n",
    "score = 0\n",
    "for file in glob(join(address,'*')):\n",
    "    score += int(json.load(open(file))['hero']['route_completion']['is_route_completed'])\n",
    "score"
   ]
  },
  {
   "cell_type": "code",
   "execution_count": null,
   "id": "5c83af9c-3bae-4537-9791-ab0c2d759ee4",
   "metadata": {},
   "outputs": [],
   "source": []
  },
  {
   "cell_type": "markdown",
   "id": "7b55d062-c109-4b67-9d66-3e7178a03d79",
   "metadata": {},
   "source": [
    "## On Test set (lb_small_nn i.e. Town 5 + new weathers)"
   ]
  },
  {
   "cell_type": "markdown",
   "id": "6816469d-c72f-463a-a9f1-eeeae6e18a55",
   "metadata": {},
   "source": [
    "SegVPR encoder dagger 0"
   ]
  },
  {
   "cell_type": "code",
   "execution_count": 25,
   "id": "e25de325-5811-489f-98e7-9054a7dbd3f2",
   "metadata": {},
   "outputs": [
    {
     "data": {
      "text/plain": [
       "4"
      ]
     },
     "execution_count": 25,
     "metadata": {},
     "output_type": "execute_result"
    }
   ],
   "source": [
    "address = '/home/shubham/Desktop/git/carla-roach/outputs/2023-02-24/01-56-49/'\n",
    "address = join(address, 'diagnostics/custom_LeaderBoard-v0_Town05_None_new/')\n",
    "score = 0\n",
    "for file in glob(join(address,'*')):\n",
    "    score += int(json.load(open(file))['hero']['route_completion']['is_route_completed'])\n",
    "score"
   ]
  },
  {
   "cell_type": "markdown",
   "id": "1cfa4b51-e5aa-4638-a4b6-74f0c9d20577",
   "metadata": {},
   "source": [
    "SegVPR encoder dagger 1"
   ]
  },
  {
   "cell_type": "code",
   "execution_count": 17,
   "id": "69a449e2-5984-4323-aca6-afca9b4171de",
   "metadata": {},
   "outputs": [
    {
     "data": {
      "text/plain": [
       "11"
      ]
     },
     "execution_count": 17,
     "metadata": {},
     "output_type": "execute_result"
    }
   ],
   "source": [
    "address = '/home/shubham/Desktop/git/carla-roach/outputs/2023-02-21/21-51-49/'\n",
    "address = join(address, 'diagnostics/custom_LeaderBoard-v0_Town05_None_new/')\n",
    "score = 0\n",
    "for file in glob(join(address,'*')):\n",
    "    score += int(json.load(open(file))['hero']['route_completion']['is_route_completed'])\n",
    "score"
   ]
  },
  {
   "cell_type": "markdown",
   "id": "f0023b49-9ad8-4023-a3b8-dcc0d870d2c3",
   "metadata": {},
   "source": [
    "SegVPR encoder dagger 2"
   ]
  },
  {
   "cell_type": "code",
   "execution_count": 20,
   "id": "099652d5-3309-47bd-88a7-270535625e5f",
   "metadata": {},
   "outputs": [
    {
     "data": {
      "text/plain": [
       "14"
      ]
     },
     "execution_count": 20,
     "metadata": {},
     "output_type": "execute_result"
    }
   ],
   "source": [
    "address = '/home/shubham/Desktop/git/carla-roach/outputs/2023-02-22/18-30-19/'\n",
    "address = join(address, 'diagnostics/custom_LeaderBoard-v0_Town05_None_new/')\n",
    "score = 0\n",
    "for file in glob(join(address,'*')):\n",
    "    score += int(json.load(open(file))['hero']['route_completion']['is_route_completed'])\n",
    "score"
   ]
  },
  {
   "cell_type": "markdown",
   "id": "e2df68f2-ce56-4331-bb4e-9f49aa0cf1d3",
   "metadata": {},
   "source": [
    "SegVPR encoder dagger 3"
   ]
  },
  {
   "cell_type": "code",
   "execution_count": 29,
   "id": "ef1cbeeb-8cd7-4e48-9d16-e965fc8aecb0",
   "metadata": {},
   "outputs": [
    {
     "data": {
      "text/plain": [
       "16"
      ]
     },
     "execution_count": 29,
     "metadata": {},
     "output_type": "execute_result"
    }
   ],
   "source": [
    "address = '/home/shubham/Desktop/git/carla-roach/outputs/2023-02-25/21-15-09/'\n",
    "address = join(address, 'diagnostics/custom_LeaderBoard-v0_Town05_None_new/')\n",
    "score = 0\n",
    "for file in glob(join(address,'*')):\n",
    "    score += int(json.load(open(file))['hero']['route_completion']['is_route_completed'])\n",
    "score"
   ]
  },
  {
   "cell_type": "markdown",
   "id": "d355a9ae-9c83-494e-8dc6-385e1d566897",
   "metadata": {},
   "source": [
    "SegVPR encoder dagger 4"
   ]
  },
  {
   "cell_type": "code",
   "execution_count": 32,
   "id": "1831c021-5ec3-486b-995f-cf5add3f8b33",
   "metadata": {},
   "outputs": [
    {
     "data": {
      "text/plain": [
       "17"
      ]
     },
     "execution_count": 32,
     "metadata": {},
     "output_type": "execute_result"
    }
   ],
   "source": [
    "address = '/home/shubham/Desktop/git/carla-roach/outputs/2023-02-27/01-28-08/'\n",
    "address = join(address, 'diagnostics/custom_LeaderBoard-v0_Town05_None_new/')\n",
    "score = 0\n",
    "for file in glob(join(address,'*')):\n",
    "    score += int(json.load(open(file))['hero']['route_completion']['is_route_completed'])\n",
    "score"
   ]
  },
  {
   "cell_type": "markdown",
   "id": "2b4026a4-6733-4c15-a745-048e8b4635a1",
   "metadata": {},
   "source": [
    "SegVPR encoder dagger 5"
   ]
  },
  {
   "cell_type": "code",
   "execution_count": 36,
   "id": "ca8fa637-4204-4906-ac46-549d400c2e1c",
   "metadata": {},
   "outputs": [
    {
     "data": {
      "text/plain": [
       "17"
      ]
     },
     "execution_count": 36,
     "metadata": {},
     "output_type": "execute_result"
    }
   ],
   "source": [
    "address = '/home/shubham/Desktop/git/carla-roach/outputs/jointly_made/2023-02-28/14-07-30/'\n",
    "address = join(address, 'diagnostics/custom_LeaderBoard-v0_Town05_None_new/')\n",
    "score = 0\n",
    "for file in glob(join(address,'*')):\n",
    "    score += int(json.load(open(file))['hero']['route_completion']['is_route_completed'])\n",
    "score"
   ]
  },
  {
   "cell_type": "markdown",
   "id": "30ac78b9-1e56-4bc1-9c40-15327ce3fe0b",
   "metadata": {},
   "source": [
    "Baseline dagger 0"
   ]
  },
  {
   "cell_type": "code",
   "execution_count": 22,
   "id": "61eeb187-9d81-4c44-ad61-4d7e7a3cb79a",
   "metadata": {},
   "outputs": [
    {
     "data": {
      "text/plain": [
       "3"
      ]
     },
     "execution_count": 22,
     "metadata": {},
     "output_type": "execute_result"
    }
   ],
   "source": [
    "address = '/home/shubham/Desktop/git/carla-roach/outputs/2023-02-23/10-44-27/'\n",
    "address = join(address, 'diagnostics/custom_LeaderBoard-v0_Town05_None_new/')\n",
    "score = 0\n",
    "for file in glob(join(address,'*')):\n",
    "    score += int(json.load(open(file))['hero']['route_completion']['is_route_completed'])\n",
    "score"
   ]
  },
  {
   "cell_type": "markdown",
   "id": "50d553d4-fe71-4f90-93d4-5644af2f208f",
   "metadata": {},
   "source": [
    "Baseline dagger 1"
   ]
  },
  {
   "cell_type": "code",
   "execution_count": 23,
   "id": "fbd5fefb-096e-472c-ba91-bb8e7c12dc92",
   "metadata": {},
   "outputs": [
    {
     "data": {
      "text/plain": [
       "7"
      ]
     },
     "execution_count": 23,
     "metadata": {},
     "output_type": "execute_result"
    }
   ],
   "source": [
    "address = '/home/shubham/Desktop/git/carla-roach/outputs/2023-02-23/00-05-38/'\n",
    "address = join(address, 'diagnostics/custom_LeaderBoard-v0_Town05_None_new/')\n",
    "score = 0\n",
    "for file in glob(join(address,'*')):\n",
    "    score += int(json.load(open(file))['hero']['route_completion']['is_route_completed'])\n",
    "score"
   ]
  },
  {
   "cell_type": "markdown",
   "id": "5a4a0983-d682-434b-a972-7212e6d5123a",
   "metadata": {},
   "source": [
    "Baseline dagger 2"
   ]
  },
  {
   "cell_type": "code",
   "execution_count": 18,
   "id": "fb631e15-7bd0-4a42-afe0-61e2a21e1358",
   "metadata": {},
   "outputs": [
    {
     "data": {
      "text/plain": [
       "2"
      ]
     },
     "execution_count": 18,
     "metadata": {},
     "output_type": "execute_result"
    }
   ],
   "source": [
    "address = '/home/shubham/Desktop/git/carla-roach/outputs/2023-02-22/06-14-44/'\n",
    "address = join(address, 'diagnostics/custom_LeaderBoard-v0_Town05_None_new/')\n",
    "score = 0\n",
    "for file in glob(join(address,'*')):\n",
    "    score += int(json.load(open(file))['hero']['route_completion']['is_route_completed'])\n",
    "score"
   ]
  },
  {
   "cell_type": "markdown",
   "id": "bd1d6dfe-4762-465b-856c-ca447c62af2b",
   "metadata": {},
   "source": [
    "Baseline dagger 2 (another epoch)"
   ]
  },
  {
   "cell_type": "code",
   "execution_count": 37,
   "id": "f7ae51d6-e060-4b21-81d9-603a3e083b65",
   "metadata": {},
   "outputs": [
    {
     "data": {
      "text/plain": [
       "2"
      ]
     },
     "execution_count": 37,
     "metadata": {},
     "output_type": "execute_result"
    }
   ],
   "source": [
    "address = '/home/shubham/Desktop/git/carla-roach/outputs/2023-02-28/19-18-05/'\n",
    "address = join(address, 'diagnostics/custom_LeaderBoard-v0_Town05_None_new/')\n",
    "score = 0\n",
    "for file in glob(join(address,'*')):\n",
    "    score += int(json.load(open(file))['hero']['route_completion']['is_route_completed'])\n",
    "score"
   ]
  },
  {
   "cell_type": "markdown",
   "id": "2a076a59-9603-41a5-b3e4-10636d5b714f",
   "metadata": {},
   "source": [
    "Baseline dagger 2 (another epoch)"
   ]
  },
  {
   "cell_type": "code",
   "execution_count": 38,
   "id": "22cf14e7-c70e-48e0-b732-4b260f2cdab8",
   "metadata": {},
   "outputs": [
    {
     "data": {
      "text/plain": [
       "4"
      ]
     },
     "execution_count": 38,
     "metadata": {},
     "output_type": "execute_result"
    }
   ],
   "source": [
    "address = '/home/shubham/Desktop/git/carla-roach/outputs/2023-03-01/00-46-54/'\n",
    "address = join(address, 'diagnostics/custom_LeaderBoard-v0_Town05_None_new/')\n",
    "score = 0\n",
    "for file in glob(join(address,'*')):\n",
    "    score += int(json.load(open(file))['hero']['route_completion']['is_route_completed'])\n",
    "score"
   ]
  },
  {
   "cell_type": "markdown",
   "id": "a0da5a8d-e36b-4977-b3b9-4234ae3eac0d",
   "metadata": {},
   "source": [
    "Baseline dagger 3"
   ]
  },
  {
   "cell_type": "code",
   "execution_count": 72,
   "id": "9e439f90-4d00-4462-a3dd-e2cb219e7a2b",
   "metadata": {},
   "outputs": [
    {
     "data": {
      "text/plain": [
       "14"
      ]
     },
     "execution_count": 72,
     "metadata": {},
     "output_type": "execute_result"
    }
   ],
   "source": [
    "address = '/home/shubham/Desktop/git/carla-roach/outputs/2023-03-05/20-13-19/'\n",
    "address = join(address, 'diagnostics/custom_LeaderBoard-v0_Town05_None_new/')\n",
    "score = 0\n",
    "for file in glob(join(address,'*')):\n",
    "    score += int(json.load(open(file))['hero']['route_completion']['is_route_completed'])\n",
    "score"
   ]
  },
  {
   "cell_type": "markdown",
   "id": "118b172e-4a4d-4624-a816-9bb7b00d2514",
   "metadata": {},
   "source": [
    "Baseline dagger 4"
   ]
  },
  {
   "cell_type": "code",
   "execution_count": 73,
   "id": "4f9c7d5d-417c-47f1-aa0a-341cb139e5d3",
   "metadata": {},
   "outputs": [
    {
     "data": {
      "text/plain": [
       "8"
      ]
     },
     "execution_count": 73,
     "metadata": {},
     "output_type": "execute_result"
    }
   ],
   "source": [
    "address = '/home/shubham/Desktop/git/carla-roach/outputs/2023-03-06/00-18-45/'\n",
    "address = join(address, 'diagnostics/custom_LeaderBoard-v0_Town05_None_new/')\n",
    "score = 0\n",
    "for file in glob(join(address,'*')):\n",
    "    score += int(json.load(open(file))['hero']['route_completion']['is_route_completed'])\n",
    "score"
   ]
  },
  {
   "cell_type": "markdown",
   "id": "29d264d5-7f9f-4fb3-a92c-0313fa20025a",
   "metadata": {},
   "source": [
    "Baseline dagger "
   ]
  },
  {
   "cell_type": "code",
   "execution_count": 74,
   "id": "a0555dfb-3b4c-426f-858a-e8e58729040e",
   "metadata": {},
   "outputs": [
    {
     "data": {
      "text/plain": [
       "10"
      ]
     },
     "execution_count": 74,
     "metadata": {},
     "output_type": "execute_result"
    }
   ],
   "source": [
    "address = '/home/shubham/Desktop/git/carla-roach/outputs/2023-03-06/03-37-31/'\n",
    "address = join(address, 'diagnostics/custom_LeaderBoard-v0_Town05_None_new/')\n",
    "score = 0\n",
    "for file in glob(join(address,'*')):\n",
    "    score += int(json.load(open(file))['hero']['route_completion']['is_route_completed'])\n",
    "score"
   ]
  },
  {
   "cell_type": "code",
   "execution_count": 44,
   "id": "27a909c0-9ca5-4b2c-a5d1-d65fb4354dcb",
   "metadata": {},
   "outputs": [],
   "source": [
    "json_file = json.load(open(file))"
   ]
  },
  {
   "cell_type": "markdown",
   "id": "fe9e9032-41a9-4bf7-88dc-9ada25bfd0aa",
   "metadata": {},
   "source": [
    "Driving score / penalty calculation:"
   ]
  },
  {
   "cell_type": "code",
   "execution_count": 42,
   "id": "cb20b7af-de31-451f-b288-fd5bda685a64",
   "metadata": {},
   "outputs": [
    {
     "data": {
      "text/plain": [
       "dict_keys(['collisions_layout', 'collisions_vehicle', 'collisions_pedestrian', 'collisions_others', 'red_light', 'encounter_light', 'stop_infraction', 'encounter_stop', 'route_dev', 'vehicle_blocked', 'outside_lane', 'wrong_lane', 'timeout', 'route_completion'])"
      ]
     },
     "execution_count": 42,
     "metadata": {},
     "output_type": "execute_result"
    }
   ],
   "source": [
    "json_file.keys()"
   ]
  },
  {
   "cell_type": "code",
   "execution_count": 51,
   "id": "94a4b285-52ef-4dfe-81cb-262e29d0d811",
   "metadata": {},
   "outputs": [],
   "source": [
    "def calc_score(dict_from_file):\n",
    "    ev_id = 'hero'\n",
    "    PENALTY_COLLISION_PEDESTRIAN = 0.50\n",
    "    PENALTY_COLLISION_VEHICLE = 0.60\n",
    "    PENALTY_COLLISION_STATIC = 0.65\n",
    "    PENALTY_TRAFFIC_LIGHT = 0.70\n",
    "    PENALTY_STOP = 0.80\n",
    "    \n",
    "    # Note relevant keys\n",
    "    n_collisions_layout = int(len(dict_from_file[ev_id]['collisions_layout']))\n",
    "    n_collisions_vehicle = int(len(dict_from_file[ev_id]['collisions_vehicle']))\n",
    "    n_collisions_pedestrian = int(len(dict_from_file[ev_id]['collisions_pedestrian']))\n",
    "    n_collisions_others = int(len(dict_from_file[ev_id]['collisions_others']))\n",
    "    n_red_light = int(len(dict_from_file[ev_id]['red_light']))\n",
    "    n_encounter_light = int(len(dict_from_file[ev_id]['encounter_light']))\n",
    "    n_stop_infraction = int(len(dict_from_file[ev_id]['stop_infraction']))\n",
    "    n_encounter_stop = int(len(dict_from_file[ev_id]['encounter_stop']))\n",
    "\n",
    "    total_length = float(dict_from_file['hero']['route_completion']['route_length_in_m']) / 1000\n",
    "    completed_length = float(dict_from_file['hero']['route_completion']['route_completed_in_m']) / 1000\n",
    "    total_length = max(total_length, 0.001)\n",
    "    completed_length = max(completed_length, 0.001)\n",
    "\n",
    "    outside_lane_length = np.sum([x['distance_traveled']\n",
    "                                  for x in dict_from_file[ev_id]['outside_lane']]) / 1000\n",
    "    wrong_lane_length = np.sum([x['distance_traveled']\n",
    "                                for x in dict_from_file[ev_id]['wrong_lane']]) / 1000\n",
    "\n",
    "\n",
    "    \n",
    "    n_collisions = n_collisions_layout + n_collisions_vehicle + n_collisions_pedestrian + n_collisions_others\n",
    "\n",
    "    score_penalty = 1.0 * (1 - (outside_lane_length+wrong_lane_length)/completed_length) \\\n",
    "    * (PENALTY_COLLISION_STATIC ** n_collisions_layout) \\\n",
    "    * (PENALTY_COLLISION_VEHICLE ** n_collisions_vehicle) \\\n",
    "    * (PENALTY_COLLISION_PEDESTRIAN ** n_collisions_pedestrian) \\\n",
    "    * (PENALTY_TRAFFIC_LIGHT ** n_red_light) \\\n",
    "    * (PENALTY_STOP ** n_stop_infraction)\n",
    "    \n",
    "    return score_penalty"
   ]
  },
  {
   "cell_type": "code",
   "execution_count": 52,
   "id": "6b7954c4-0f96-48c5-9bc6-5e07caa173d8",
   "metadata": {},
   "outputs": [
    {
     "data": {
      "text/plain": [
       "0.4865909526659865"
      ]
     },
     "execution_count": 52,
     "metadata": {},
     "output_type": "execute_result"
    }
   ],
   "source": [
    "calc_score(json_file)"
   ]
  },
  {
   "cell_type": "code",
   "execution_count": 70,
   "id": "b34f994c-6179-4628-9fb1-ffc967fb1553",
   "metadata": {},
   "outputs": [],
   "source": [
    "def multi_score_printer(name_address_dict, nn=False):\n",
    "    if nn:\n",
    "        diagnostics_folder = 'diagnostics/custom_LeaderBoard-v0_Town05_None_new/'\n",
    "    else: # tt\n",
    "        diagnostics_folder = 'diagnostics/custom_LeaderBoard-v0_Town01_None_train_eval/'\n",
    "    \n",
    "    for name, address in name_address_dict.items():\n",
    "        address = join(address, diagnostics_folder)\n",
    "        score = 0.0\n",
    "        for idx, file in enumerate(glob(join(address,'*'))):\n",
    "            score += calc_score(json.load(open(file)))\n",
    "        print(f\"{name} Drivin Score={score/20}\")"
   ]
  },
  {
   "cell_type": "code",
   "execution_count": null,
   "id": "fa7fcd38-4194-4ad0-9756-05e6143cf7ee",
   "metadata": {},
   "outputs": [],
   "source": []
  },
  {
   "cell_type": "markdown",
   "id": "692616cb-a821-426b-8f46-1612d30a402f",
   "metadata": {},
   "source": [
    "## Driving score TT"
   ]
  },
  {
   "cell_type": "markdown",
   "id": "f4d5108c-c5d6-4f5d-accb-9d20ef2c289f",
   "metadata": {
    "tags": []
   },
   "source": [
    "SegVPR Dagger 2"
   ]
  },
  {
   "cell_type": "code",
   "execution_count": null,
   "id": "4f9086f9-1636-4e36-9d72-63ca9bf93589",
   "metadata": {},
   "outputs": [
    {
     "data": {
      "text/plain": [
       "0.9160559918158568"
      ]
     },
     "execution_count": 56,
     "metadata": {},
     "output_type": "execute_result"
    }
   ],
   "source": [
    "address = '/home/shubham/Desktop/git/carla-roach/outputs/2023-02-22/14-52-10/'\n",
    "address = join(address, 'diagnostics/custom_LeaderBoard-v0_Town01_None_train_eval/')\n",
    "score = 0\n",
    "for idx, file in enumerate(glob(join(address,'*'))):\n",
    "    score += calc_score(json.load(open(file)))\n",
    "score/20"
   ]
  },
  {
   "cell_type": "code",
   "execution_count": 61,
   "id": "faf2bb53-09af-479a-b1ad-8a94254a44b8",
   "metadata": {
    "tags": []
   },
   "outputs": [
    {
     "name": "stdout",
     "output_type": "stream",
     "text": [
      "SegVPR Dagger 0 Drivin Score=0.3549449175906785\n",
      "SegVPR Dagger 1 Drivin Score=0.6256184500231634\n",
      "SegVPR Dagger 2 Drivin Score=0.9160559918158568\n",
      "SegVPR Dagger 3 Drivin Score=0.8611181468642479\n",
      "SegVPR Dagger 4 Drivin Score=0.8173052554999561\n",
      "SegVPR Dagger 5 Drivin Score=0.876\n"
     ]
    }
   ],
   "source": [
    "tt_dict_seg = {\n",
    "    'SegVPR Dagger 0': '/home/shubham/Desktop/git/carla-roach/outputs/2023-02-20/22-09-59/',\n",
    "    'SegVPR Dagger 1': '/home/shubham/Desktop/git/carla-roach/outputs/2023-02-21/12-07-14/',\n",
    "    'SegVPR Dagger 2': '/home/shubham/Desktop/git/carla-roach/outputs/2023-02-22/14-52-10/',\n",
    "    'SegVPR Dagger 3': '/home/shubham/Desktop/git/carla-roach/outputs/2023-02-25/17-54-03/',\n",
    "    'SegVPR Dagger 4': '/home/shubham/Desktop/git/carla-roach/outputs/2023-02-26/22-12-22/',\n",
    "    'SegVPR Dagger 5': '/home/shubham/Desktop/git/carla-roach/outputs/2023-02-28/10-56-29/'\n",
    "}\n",
    "multi_score_printer(tt_dict_seg)"
   ]
  },
  {
   "cell_type": "code",
   "execution_count": 63,
   "id": "5d98b2d7-cc93-47a7-87d6-545e84bf18e7",
   "metadata": {},
   "outputs": [
    {
     "name": "stdout",
     "output_type": "stream",
     "text": [
      "Baseline Dagger 0 Drivin Score=0.25782187685428926\n",
      "Baseline Dagger 1 Drivin Score=0.6301455863827241\n",
      "Baseline Dagger 2 Drivin Score=0.6151747850751389\n"
     ]
    }
   ],
   "source": [
    "tt_dict_baseline = {\n",
    "    'Baseline Dagger 0': '/home/shubham/Desktop/git/carla-roach/outputs/2023-01-30/17-13-13',\n",
    "    'Baseline Dagger 1': '/home/shubham/Desktop/git/carla-roach/outputs/jointly_made/2023-01-31/12-15-47/',\n",
    "    'Baseline Dagger 2': '/home/shubham/Desktop/git/carla-roach/outputs/2023-02-13/19-49-24',\n",
    "}\n",
    "multi_score_printer(tt_dict_baseline)"
   ]
  },
  {
   "cell_type": "code",
   "execution_count": null,
   "id": "db0b6f5d-9c50-4af8-ba64-f90d21464314",
   "metadata": {},
   "outputs": [],
   "source": []
  },
  {
   "cell_type": "code",
   "execution_count": null,
   "id": "f8de16b5-3b4f-407f-ba1a-62f1aa6ba274",
   "metadata": {},
   "outputs": [],
   "source": []
  },
  {
   "cell_type": "markdown",
   "id": "e6fa4d31-bd83-4c68-8155-c2ec9e2e0213",
   "metadata": {},
   "source": [
    "## Driving score for NN"
   ]
  },
  {
   "cell_type": "markdown",
   "id": "0c1b6674-ec09-476a-a586-9187e8aec77e",
   "metadata": {},
   "source": [
    "SegVPR Dagger 2"
   ]
  },
  {
   "cell_type": "code",
   "execution_count": 58,
   "id": "36722005-5c5b-4dd6-a66c-19f476bc979a",
   "metadata": {},
   "outputs": [
    {
     "data": {
      "text/plain": [
       "0.37157134712298073"
      ]
     },
     "execution_count": 58,
     "metadata": {},
     "output_type": "execute_result"
    }
   ],
   "source": [
    "address = '/home/shubham/Desktop/git/carla-roach/outputs/2023-02-22/18-30-19/'\n",
    "address = join(address, 'diagnostics/custom_LeaderBoard-v0_Town05_None_new/')\n",
    "score = 0\n",
    "for file in glob(join(address,'*')):\n",
    "    score += calc_score(json.load(open(file)))\n",
    "score/20"
   ]
  },
  {
   "cell_type": "code",
   "execution_count": 64,
   "id": "cc718378-eef5-424f-9bfe-04bbdfa25563",
   "metadata": {},
   "outputs": [
    {
     "name": "stdout",
     "output_type": "stream",
     "text": [
      "SegVPR Dagger 0 Drivin Score=0.21637397347115267\n",
      "SegVPR Dagger 1 Drivin Score=0.36357119609232624\n",
      "SegVPR Dagger 2 Drivin Score=0.37157134712298073\n",
      "SegVPR Dagger 3 Drivin Score=0.3797666631845499\n",
      "SegVPR Dagger 4 Drivin Score=0.3739661848248055\n",
      "SegVPR Dagger 5 Drivin Score=0.3944826836353543\n"
     ]
    }
   ],
   "source": [
    "tt_dict_seg = {\n",
    "    'SegVPR Dagger 0': '/home/shubham/Desktop/git/carla-roach/outputs/2023-02-24/01-56-49/',\n",
    "    'SegVPR Dagger 1': '/home/shubham/Desktop/git/carla-roach/outputs/2023-02-21/21-51-49/',\n",
    "    'SegVPR Dagger 2': '/home/shubham/Desktop/git/carla-roach/outputs/2023-02-22/18-30-19/',\n",
    "    'SegVPR Dagger 3': '/home/shubham/Desktop/git/carla-roach/outputs/2023-02-25/21-15-09/',\n",
    "    'SegVPR Dagger 4': '/home/shubham/Desktop/git/carla-roach/outputs/2023-02-27/01-28-08/',\n",
    "    'SegVPR Dagger 5': '/home/shubham/Desktop/git/carla-roach/outputs/jointly_made/2023-02-28/14-07-30/'\n",
    "}\n",
    "multi_score_printer(tt_dict_seg, nn=True)"
   ]
  },
  {
   "cell_type": "code",
   "execution_count": 71,
   "id": "2e8dc8bb-b48c-4765-9ef3-bcf2e8157868",
   "metadata": {},
   "outputs": [
    {
     "name": "stdout",
     "output_type": "stream",
     "text": [
      "Baseline Dagger 0 Drivin Score=0.4040502363375772\n",
      "Baseline Dagger 1 Drivin Score=0.37480550507834376\n",
      "Baseline Dagger 2 Drivin Score=0.6187287347415644\n"
     ]
    }
   ],
   "source": [
    "tt_dict_baseline = {\n",
    "    'Baseline Dagger 0': '/home/shubham/Desktop/git/carla-roach/outputs/2023-02-23/10-44-27/',\n",
    "    'Baseline Dagger 1': '/home/shubham/Desktop/git/carla-roach/outputs/2023-02-23/00-05-38/',\n",
    "    'Baseline Dagger 2': '/home/shubham/Desktop/git/carla-roach/outputs/2023-02-22/06-14-44/',\n",
    "}\n",
    "multi_score_printer(tt_dict_baseline, nn=True)"
   ]
  },
  {
   "cell_type": "code",
   "execution_count": null,
   "id": "dd11d835-4c29-47d7-8275-f25b8442b209",
   "metadata": {},
   "outputs": [],
   "source": []
  },
  {
   "cell_type": "code",
   "execution_count": null,
   "id": "254eaf05-9087-44af-8cbc-2f102782f438",
   "metadata": {},
   "outputs": [],
   "source": []
  },
  {
   "cell_type": "code",
   "execution_count": null,
   "id": "f46c8508-6aba-4faa-9a6f-4cda6e8af67f",
   "metadata": {},
   "outputs": [],
   "source": []
  },
  {
   "cell_type": "code",
   "execution_count": null,
   "id": "6526068a-ba3e-4832-a890-309cb7fc73b3",
   "metadata": {},
   "outputs": [],
   "source": []
  },
  {
   "cell_type": "markdown",
   "id": "1b6a124a-2444-4919-a92a-2218e293cbef",
   "metadata": {},
   "source": [
    "# Full scale benchmarking"
   ]
  },
  {
   "cell_type": "markdown",
   "id": "b1865dcf-2b10-4ba9-be2d-a3041ca06dcb",
   "metadata": {},
   "source": [
    "### FOR NN"
   ]
  },
  {
   "cell_type": "code",
   "execution_count": 5,
   "id": "709a8680-82f7-4916-947e-3e295fc5a63c",
   "metadata": {},
   "outputs": [],
   "source": [
    "from os.path import isdir, join\n",
    "import yaml\n",
    "from yaml.loader import SafeLoader"
   ]
  },
  {
   "cell_type": "code",
   "execution_count": 6,
   "id": "0c679696-83bb-4d18-b6af-65182d504c03",
   "metadata": {},
   "outputs": [],
   "source": [
    "dirs_only = []\n",
    "for each in glob('/home/shubham/Desktop/git/carla-roach/outputs/*'):\n",
    "    if isdir(each):\n",
    "        dirs_only.append(each)"
   ]
  },
  {
   "cell_type": "code",
   "execution_count": 7,
   "id": "cb8c0d62-62a1-4750-8e22-afe4f0edc9ba",
   "metadata": {},
   "outputs": [],
   "source": [
    "dirs_only.sort()"
   ]
  },
  {
   "cell_type": "code",
   "execution_count": 8,
   "id": "57c9ccf9-cc55-4e60-886d-9900b9d4ae14",
   "metadata": {},
   "outputs": [],
   "source": [
    "nn_list = dirs_only[19:-1]"
   ]
  },
  {
   "cell_type": "code",
   "execution_count": 9,
   "id": "652e7c54-b537-48b0-9376-62213dd9b73d",
   "metadata": {},
   "outputs": [
    {
     "data": {
      "text/plain": [
       "['/home/shubham/Desktop/git/carla-roach/outputs/2023-03-06',\n",
       " '/home/shubham/Desktop/git/carla-roach/outputs/2023-03-07',\n",
       " '/home/shubham/Desktop/git/carla-roach/outputs/2023-03-08',\n",
       " '/home/shubham/Desktop/git/carla-roach/outputs/2023-03-09',\n",
       " '/home/shubham/Desktop/git/carla-roach/outputs/2023-03-10',\n",
       " '/home/shubham/Desktop/git/carla-roach/outputs/2023-03-11',\n",
       " '/home/shubham/Desktop/git/carla-roach/outputs/2023-03-12',\n",
       " '/home/shubham/Desktop/git/carla-roach/outputs/2023-03-13',\n",
       " '/home/shubham/Desktop/git/carla-roach/outputs/2023-03-14',\n",
       " '/home/shubham/Desktop/git/carla-roach/outputs/2023-03-15',\n",
       " '/home/shubham/Desktop/git/carla-roach/outputs/2023-03-18',\n",
       " '/home/shubham/Desktop/git/carla-roach/outputs/2023-03-19',\n",
       " '/home/shubham/Desktop/git/carla-roach/outputs/2023-03-20',\n",
       " '/home/shubham/Desktop/git/carla-roach/outputs/2023-03-21',\n",
       " '/home/shubham/Desktop/git/carla-roach/outputs/2023-03-23',\n",
       " '/home/shubham/Desktop/git/carla-roach/outputs/2023-03-24',\n",
       " '/home/shubham/Desktop/git/carla-roach/outputs/2023-03-27',\n",
       " '/home/shubham/Desktop/git/carla-roach/outputs/2023-03-28',\n",
       " '/home/shubham/Desktop/git/carla-roach/outputs/2023-03-31',\n",
       " '/home/shubham/Desktop/git/carla-roach/outputs/2023-04-01',\n",
       " '/home/shubham/Desktop/git/carla-roach/outputs/2023-04-02',\n",
       " '/home/shubham/Desktop/git/carla-roach/outputs/2023-04-03',\n",
       " '/home/shubham/Desktop/git/carla-roach/outputs/2023-04-04',\n",
       " '/home/shubham/Desktop/git/carla-roach/outputs/2023-04-05',\n",
       " '/home/shubham/Desktop/git/carla-roach/outputs/2023-04-11',\n",
       " '/home/shubham/Desktop/git/carla-roach/outputs/2023-04-12',\n",
       " '/home/shubham/Desktop/git/carla-roach/outputs/2023-04-13',\n",
       " '/home/shubham/Desktop/git/carla-roach/outputs/2023-04-14',\n",
       " '/home/shubham/Desktop/git/carla-roach/outputs/2023-04-15',\n",
       " '/home/shubham/Desktop/git/carla-roach/outputs/2023-04-16',\n",
       " '/home/shubham/Desktop/git/carla-roach/outputs/2023-04-17',\n",
       " '/home/shubham/Desktop/git/carla-roach/outputs/2023-04-18',\n",
       " '/home/shubham/Desktop/git/carla-roach/outputs/2023-04-19',\n",
       " '/home/shubham/Desktop/git/carla-roach/outputs/2023-04-20',\n",
       " '/home/shubham/Desktop/git/carla-roach/outputs/2023-04-22',\n",
       " '/home/shubham/Desktop/git/carla-roach/outputs/2023-04-23',\n",
       " '/home/shubham/Desktop/git/carla-roach/outputs/2023-04-24',\n",
       " '/home/shubham/Desktop/git/carla-roach/outputs/2023-04-25',\n",
       " '/home/shubham/Desktop/git/carla-roach/outputs/2023-04-26',\n",
       " '/home/shubham/Desktop/git/carla-roach/outputs/2023-04-27',\n",
       " '/home/shubham/Desktop/git/carla-roach/outputs/2023-04-28',\n",
       " '/home/shubham/Desktop/git/carla-roach/outputs/2023-04-29',\n",
       " '/home/shubham/Desktop/git/carla-roach/outputs/2023-04-30',\n",
       " '/home/shubham/Desktop/git/carla-roach/outputs/2023-05-02',\n",
       " '/home/shubham/Desktop/git/carla-roach/outputs/2023-05-03']"
      ]
     },
     "execution_count": 9,
     "metadata": {},
     "output_type": "execute_result"
    }
   ],
   "source": [
    "nn_list"
   ]
  },
  {
   "cell_type": "code",
   "execution_count": 21,
   "id": "669edc81-a17e-44e8-9e8a-97ca74e650ae",
   "metadata": {
    "tags": []
   },
   "outputs": [
    {
     "name": "stdout",
     "output_type": "stream",
     "text": [
      "Date = 2023-03-06 Time = 00-18-45 Add: /home/shubham/Desktop/git/carla-roach/outputs/2023-03-06/00-18-45 Model name = 20230302_202806LbModeBaselineD4\n",
      "Date = 2023-03-06 Time = 03-37-31 Add: /home/shubham/Desktop/git/carla-roach/outputs/2023-03-06/03-37-31 Model name = 20230303_180104LbModeBaselineD5\n",
      "Date = 2023-03-06 Time = 08-06-38 Add: /home/shubham/Desktop/git/carla-roach/outputs/2023-03-06/08-06-38 Model name = 20230301_220308LbModeBaselineD3\n",
      "Date = 2023-03-06 Time = 10-48-17 Add: /home/shubham/Desktop/git/carla-roach/outputs/2023-03-06/10-48-17 Model name = 20230302_202806LbModeBaselineD4\n",
      "Date = 2023-03-06 Time = 13-35-29 Add: /home/shubham/Desktop/git/carla-roach/outputs/2023-03-06/13-35-29 Model name = 20230303_180104LbModeBaselineD5\n",
      "Date = 2023-03-06 Time = 23-01-01 Add: /home/shubham/Desktop/git/carla-roach/outputs/2023-03-06/23-01-01 Model name = 20230227_074626SegVPRencD5\n",
      "Date = 2023-03-07 Time = 01-34-21 Add: /home/shubham/Desktop/git/carla-roach/outputs/2023-03-07/01-34-21 Model name = 20230227_074626SegVPRencD5\n",
      "Date = 2023-03-07 Time = 09-23-15 Add: /home/shubham/Desktop/git/carla-roach/outputs/2023-03-07/09-23-15 Model name = 20230227_074626SegVPRencD5\n",
      "Date = 2023-03-07 Time = 14-18-34 Add: /home/shubham/Desktop/git/carla-roach/outputs/2023-03-07/14-18-34 Model name = 20230303_180104LbModeBaselineD5\n",
      "Date = 2023-03-07 Time = 16-49-10 Add: /home/shubham/Desktop/git/carla-roach/outputs/2023-03-07/16-49-10 Model name = 20230303_180104LbModeBaselineD5\n",
      "Date = 2023-03-08 Time = 00-55-41 Add: /home/shubham/Desktop/git/carla-roach/outputs/2023-03-08/00-55-41 Model name = 20230303_180104LbModeBaselineD5\n",
      "Date = 2023-03-08 Time = 09-19-56 Add: /home/shubham/Desktop/git/carla-roach/outputs/2023-03-08/09-19-56 Model name = 20230301_220308LbModeBaselineD3\n",
      "Date = 2023-03-08 Time = 10-59-48 Add: /home/shubham/Desktop/git/carla-roach/outputs/2023-03-08/10-59-48 Model name = 20230301_220308LbModeBaselineD3\n",
      "Date = 2023-03-08 Time = 15-59-18 Add: /home/shubham/Desktop/git/carla-roach/outputs/2023-03-08/15-59-18 Model name = 20230301_220308LbModeBaselineD3\n",
      "Date = 2023-03-08 Time = 19-21-15 Add: /home/shubham/Desktop/git/carla-roach/outputs/2023-03-08/19-21-15 Model name = 20230223_131935SegVPRencD3\n",
      "Date = 2023-03-08 Time = 21-40-31 Add: /home/shubham/Desktop/git/carla-roach/outputs/2023-03-08/21-40-31 Model name = 20230223_131935SegVPRencD3\n",
      "Date = 2023-03-09 Time = 03-16-45 Add: /home/shubham/Desktop/git/carla-roach/outputs/2023-03-09/03-16-45 Model name = 20230223_131935SegVPRencD3\n",
      "Date = 2023-03-09 Time = 23-57-36 Add: /home/shubham/Desktop/git/carla-roach/outputs/2023-03-09/23-57-36 Model name = 20230302_202806LbModeBaselineD4\n",
      "Date = 2023-03-10 Time = 02-25-05 Add: /home/shubham/Desktop/git/carla-roach/outputs/2023-03-10/02-25-05 Model name = 20230302_202806LbModeBaselineD4\n",
      "Date = 2023-03-10 Time = 07-01-28 Add: /home/shubham/Desktop/git/carla-roach/outputs/2023-03-10/07-01-28 Model name = 20230302_202806LbModeBaselineD4\n",
      "Date = 2023-03-10 Time = 10-43-41 Add: /home/shubham/Desktop/git/carla-roach/outputs/2023-03-10/10-43-41 Model name = 20230226_005522SegVPRencD4\n",
      "Date = 2023-03-10 Time = 13-02-56 Add: /home/shubham/Desktop/git/carla-roach/outputs/2023-03-10/13-02-56 Model name = 20230226_005522SegVPRencD4\n",
      "Date = 2023-03-10 Time = 20-56-30 Add: /home/shubham/Desktop/git/carla-roach/outputs/2023-03-10/20-56-30 Model name = 20230226_005522SegVPRencD4\n",
      "Date = 2023-03-11 Time = 18-57-18 Add: /home/shubham/Desktop/git/carla-roach/outputs/2023-03-11/18-57-18 Model name = 20230131_025157LbModeBaselineD1\n",
      "Date = 2023-03-11 Time = 20-09-08 Add: /home/shubham/Desktop/git/carla-roach/outputs/2023-03-11/20-09-08 Model name = 20230131_025157LbModeBaselineD1\n",
      "Date = 2023-03-12 Time = 00-30-42 Add: /home/shubham/Desktop/git/carla-roach/outputs/2023-03-12/00-30-42 Model name = 20230131_025157LbModeBaselineD1\n",
      "Date = 2023-03-12 Time = 05-16-22 Add: /home/shubham/Desktop/git/carla-roach/outputs/2023-03-12/05-16-22 Model name = 20230220_231756SegVPRencD1\n",
      "Date = 2023-03-12 Time = 07-50-57 Add: /home/shubham/Desktop/git/carla-roach/outputs/2023-03-12/07-50-57 Model name = 20230220_231756SegVPRencD1\n",
      "Date = 2023-03-12 Time = 12-48-02 Add: /home/shubham/Desktop/git/carla-roach/outputs/2023-03-12/12-48-02 Model name = 20230220_231756SegVPRencD1\n",
      "Date = 2023-03-13 Time = 07-09-16 Add: /home/shubham/Desktop/git/carla-roach/outputs/2023-03-13/07-09-16 Model name = 20230130_105732LbModeBaseline\n",
      "Date = 2023-03-13 Time = 07-48-55 Add: /home/shubham/Desktop/git/carla-roach/outputs/2023-03-13/07-48-55 Model name = 20230130_105732LbModeBaseline\n",
      "Date = 2023-03-13 Time = 11-01-27 Add: /home/shubham/Desktop/git/carla-roach/outputs/2023-03-13/11-01-27 Model name = 20230130_105732LbModeBaseline\n",
      "Date = 2023-03-13 Time = 14-51-33 Add: /home/shubham/Desktop/git/carla-roach/outputs/2023-03-13/14-51-33 Model name = 20230220_010526SegVPRenc\n",
      "Date = 2023-03-13 Time = 15-29-19 Add: /home/shubham/Desktop/git/carla-roach/outputs/2023-03-13/15-29-19 Model name = 20230220_010526SegVPRenc\n",
      "Date = 2023-03-13 Time = 19-59-05 Add: /home/shubham/Desktop/git/carla-roach/outputs/2023-03-13/19-59-05 Model name = 20230220_010526SegVPRenc\n",
      "Date = 2023-03-14 Time = 16-14-27 Add: /home/shubham/Desktop/git/carla-roach/outputs/2023-03-14/16-14-27 Model name = 20230131_184744LbModeBaselineD2\n",
      "Date = 2023-03-14 Time = 17-03-22 Add: /home/shubham/Desktop/git/carla-roach/outputs/2023-03-14/17-03-22 Model name = 20230131_184744LbModeBaselineD2\n",
      "Date = 2023-03-14 Time = 22-15-18 Add: /home/shubham/Desktop/git/carla-roach/outputs/2023-03-14/22-15-18 Model name = 20230131_184744LbModeBaselineD2\n",
      "Date = 2023-03-15 Time = 02-08-53 Add: /home/shubham/Desktop/git/carla-roach/outputs/2023-03-15/02-08-53 Model name = 20230221_205635SegVPRencD2\n",
      "Date = 2023-03-15 Time = 04-01-53 Add: /home/shubham/Desktop/git/carla-roach/outputs/2023-03-15/04-01-53 Model name = 20230221_205635SegVPRencD2\n",
      "Date = 2023-03-15 Time = 10-51-24 Add: /home/shubham/Desktop/git/carla-roach/outputs/2023-03-15/10-51-24 Model name = 20230221_205635SegVPRencD2\n"
     ]
    }
   ],
   "source": [
    "for each_date_folder in nn_list:\n",
    "    time_folders = sorted(list(glob(join(each_date_folder, '*'))))\n",
    "    for each_time_folder in time_folders:\n",
    "        model_name = yaml.load(open(join( each_time_folder,'config_agent.yaml')), Loader=SafeLoader)['ckpt'].split('/')[-3]\n",
    "        \n",
    "        print(f\"Date = {each_date_folder.split('/')[-1]} Time = {each_time_folder.split('/')[-1]} Add: {each_time_folder} Model name = {model_name}\")"
   ]
  },
  {
   "cell_type": "code",
   "execution_count": null,
   "id": "34af0c02-f03e-45f9-b52c-195559678eba",
   "metadata": {},
   "outputs": [],
   "source": []
  },
  {
   "cell_type": "markdown",
   "id": "59676049-09d5-4243-9499-08bbb006271d",
   "metadata": {},
   "source": [
    "### Take list of folder, print diagnostic folder name, print success rate in each (out of how many also)"
   ]
  },
  {
   "cell_type": "code",
   "execution_count": 18,
   "id": "9c961391-2e15-475e-be03-8bda015af679",
   "metadata": {},
   "outputs": [
    {
     "name": "stdout",
     "output_type": "stream",
     "text": [
      "0\n",
      "2\n",
      "7\n"
     ]
    }
   ],
   "source": [
    "list_of_address = [\n",
    "    \"/home/shubham/Desktop/git/carla-roach/outputs/2023-03-13/14-51-33\",\n",
    "    \"/home/shubham/Desktop/git/carla-roach/outputs/2023-03-13/15-29-19\",\n",
    "    \"/home/shubham/Desktop/git/carla-roach/outputs/2023-03-13/19-59-05\"\n",
    "]\n",
    "for address in list_of_address:\n",
    "    setting_folder = glob(join(address, 'diagnostics', '*'))\n",
    "    setting_name = setting_folder[0].split('/')[-1]\n",
    "    setting_folder = setting_folder[0]\n",
    "    score = 0\n",
    "    for file in glob(join(setting_folder,'*')):\n",
    "        score += int(json.load(open(file))['hero']['route_completion']['is_route_completed'])\n",
    "    print(score)\n",
    "    "
   ]
  },
  {
   "cell_type": "code",
   "execution_count": null,
   "id": "726ca82f-8e2b-4cc6-bcfa-bd6d66271793",
   "metadata": {},
   "outputs": [],
   "source": []
  },
  {
   "cell_type": "code",
   "execution_count": 6,
   "id": "c7cfab8a-709f-4aac-97ef-d955c5c132ab",
   "metadata": {},
   "outputs": [],
   "source": [
    "list_of_address = [\n",
    "    \"/home/shubham/Desktop/git/carla-roach/outputs/2023-03-06/23-01-01/\",\n",
    "    \"/home/shubham/Desktop/git/carla-roach/outputs/2023-03-07/01-34-21\",\n",
    "    \"/home/shubham/Desktop/git/carla-roach/outputs/2023-03-07/09-23-15\"\n",
    "]\n",
    "\n",
    "def calc_success_rate(list_of_address):\n",
    "    success, total = 0, 0\n",
    "    for address in list_of_address:\n",
    "        setting_folder = glob(join(address, 'diagnostics', '*'))\n",
    "        setting_name = setting_folder[0].split('/')[-1]\n",
    "        setting_folder = setting_folder[0]\n",
    "\n",
    "        score = 0\n",
    "        for file in glob(join(setting_folder,'*')):\n",
    "            score += int(json.load(open(file))['hero']['route_completion']['is_route_completed'])\n",
    "        print(f\"Score: {score}/{len(glob(join(setting_folder,'*')))}\")\n",
    "        success += score\n",
    "        total += len(glob(join(setting_folder,'*')))\n",
    "    return (success/total)*100"
   ]
  },
  {
   "cell_type": "code",
   "execution_count": 21,
   "id": "538007ba-6c06-4202-b517-d77802a15a98",
   "metadata": {},
   "outputs": [
    {
     "name": "stdout",
     "output_type": "stream",
     "text": [
      "Score: 1/12\n",
      "Score: 14/20\n",
      "Score: 18/20\n"
     ]
    },
    {
     "data": {
      "text/plain": [
       "63.46153846153846"
      ]
     },
     "execution_count": 21,
     "metadata": {},
     "output_type": "execute_result"
    }
   ],
   "source": [
    "calc_success_rate(list_of_address)"
   ]
  },
  {
   "cell_type": "code",
   "execution_count": null,
   "id": "a4dc34e7-81e3-4872-814c-042213c10a12",
   "metadata": {},
   "outputs": [],
   "source": []
  },
  {
   "cell_type": "code",
   "execution_count": 22,
   "id": "17338a24-63cc-4904-afa9-868943323a4d",
   "metadata": {},
   "outputs": [],
   "source": [
    "s5 = [\n",
    "    \"/home/shubham/Desktop/git/carla-roach/outputs/2023-03-06/23-01-01/\",\n",
    "    \"/home/shubham/Desktop/git/carla-roach/outputs/2023-03-07/01-34-21\",\n",
    "    \"/home/shubham/Desktop/git/carla-roach/outputs/2023-03-07/09-23-15\"\n",
    "]\n",
    "s4 = [\n",
    "    \"/home/shubham/Desktop/git/carla-roach/outputs/2023-03-10/10-43-41\",\n",
    "    \"/home/shubham/Desktop/git/carla-roach/outputs/2023-03-10/13-02-56\",\n",
    "    \"/home/shubham/Desktop/git/carla-roach/outputs/2023-03-10/20-56-30\"\n",
    "]\n",
    "s3 = [\n",
    "    \"/home/shubham/Desktop/git/carla-roach/outputs/2023-03-08/19-21-15\",\n",
    "    \"/home/shubham/Desktop/git/carla-roach/outputs/2023-03-08/21-40-31\",\n",
    "    \"/home/shubham/Desktop/git/carla-roach/outputs/2023-03-09/03-16-45\"\n",
    "]\n",
    "s2 = [\n",
    "    \"/home/shubham/Desktop/git/carla-roach/outputs/2023-03-15/02-08-53\",\n",
    "    \"/home/shubham/Desktop/git/carla-roach/outputs/2023-03-15/04-01-53\",\n",
    "    \"/home/shubham/Desktop/git/carla-roach/outputs/2023-03-15/10-51-24\"\n",
    "]\n",
    "s1 = [\n",
    "    \"/home/shubham/Desktop/git/carla-roach/outputs/2023-03-12/05-16-22\",\n",
    "    \"/home/shubham/Desktop/git/carla-roach/outputs/2023-03-12/07-50-57\",\n",
    "    \"/home/shubham/Desktop/git/carla-roach/outputs/2023-03-12/12-48-02\"\n",
    "]\n",
    "s0 = [\n",
    "    \"/home/shubham/Desktop/git/carla-roach/outputs/2023-03-13/14-51-33\",\n",
    "    \"/home/shubham/Desktop/git/carla-roach/outputs/2023-03-13/15-29-19\",\n",
    "    \"/home/shubham/Desktop/git/carla-roach/outputs/2023-03-13/19-59-05\"\n",
    "]\n"
   ]
  },
  {
   "cell_type": "code",
   "execution_count": 23,
   "id": "c4478dd6-75c7-409d-a9c5-86655414844c",
   "metadata": {},
   "outputs": [],
   "source": [
    "b5 = [\n",
    "    \"/home/shubham/Desktop/git/carla-roach/outputs/2023-03-07/14-18-34\",\n",
    "    \"/home/shubham/Desktop/git/carla-roach/outputs/2023-03-07/16-49-10\",\n",
    "    \"/home/shubham/Desktop/git/carla-roach/outputs/2023-03-08/00-55-41\"\n",
    "]\n",
    "b4 = [\n",
    "    \"/home/shubham/Desktop/git/carla-roach/outputs/2023-03-09/23-57-36\",\n",
    "    \"/home/shubham/Desktop/git/carla-roach/outputs/2023-03-10/02-25-05\",\n",
    "    \"/home/shubham/Desktop/git/carla-roach/outputs/2023-03-10/07-01-28\"\n",
    "]\n",
    "b3 = [\n",
    "    \"/home/shubham/Desktop/git/carla-roach/outputs/2023-03-08/09-19-56\",\n",
    "    \"/home/shubham/Desktop/git/carla-roach/outputs/2023-03-08/10-59-48\",\n",
    "    \"/home/shubham/Desktop/git/carla-roach/outputs/2023-03-08/15-59-18\"\n",
    "]\n",
    "b2 = [\n",
    "    \"/home/shubham/Desktop/git/carla-roach/outputs/2023-03-14/16-14-27\",\n",
    "    \"/home/shubham/Desktop/git/carla-roach/outputs/2023-03-14/17-03-22\",\n",
    "    \"/home/shubham/Desktop/git/carla-roach/outputs/2023-03-14/22-15-18\"\n",
    "]\n",
    "b1 = [\n",
    "    \"/home/shubham/Desktop/git/carla-roach/outputs/2023-03-11/18-57-18\",\n",
    "    \"/home/shubham/Desktop/git/carla-roach/outputs/2023-03-11/20-09-08\",\n",
    "    \"/home/shubham/Desktop/git/carla-roach/outputs/2023-03-12/00-30-42\"\n",
    "]\n",
    "b0 = [\n",
    "    \"/home/shubham/Desktop/git/carla-roach/outputs/2023-03-13/07-09-16\",\n",
    "    \"/home/shubham/Desktop/git/carla-roach/outputs/2023-03-13/07-48-55\",\n",
    "    \"/home/shubham/Desktop/git/carla-roach/outputs/2023-03-13/11-01-27\"\n",
    "]"
   ]
  },
  {
   "cell_type": "code",
   "execution_count": null,
   "id": "fc0de3fe-b183-4eb6-8b4f-d8590d2d2459",
   "metadata": {},
   "outputs": [],
   "source": []
  },
  {
   "cell_type": "code",
   "execution_count": 26,
   "id": "3a3b2adc-eba5-4b0b-896a-1d421f4a1c83",
   "metadata": {},
   "outputs": [
    {
     "name": "stdout",
     "output_type": "stream",
     "text": [
      "Score: 0/12\n",
      "Score: 1/20\n",
      "Score: 2/20\n",
      "Score: 0/12\n",
      "Score: 1/20\n",
      "Score: 5/20\n",
      "Score: 0/12\n",
      "Score: 3/20\n",
      "Score: 5/20\n",
      "Score: 2/12\n",
      "Score: 4/20\n",
      "Score: 10/20\n",
      "Score: 1/12\n",
      "Score: 4/20\n",
      "Score: 10/20\n",
      "Score: 5/12\n",
      "Score: 12/20\n",
      "Score: 13/20\n"
     ]
    }
   ],
   "source": [
    "b_scores = []\n",
    "for b in [b0,b1,b2,b3,b4,b5]:\n",
    "    b_scores.append(calc_success_rate(b))"
   ]
  },
  {
   "cell_type": "code",
   "execution_count": 24,
   "id": "e5aba6bd-a4c0-4b45-b4c3-af5146ccbc3c",
   "metadata": {},
   "outputs": [
    {
     "name": "stdout",
     "output_type": "stream",
     "text": [
      "Score: 0/12\n",
      "Score: 2/20\n",
      "Score: 7/20\n",
      "Score: 1/12\n",
      "Score: 4/20\n",
      "Score: 13/20\n",
      "Score: 1/12\n",
      "Score: 7/20\n",
      "Score: 13/20\n",
      "Score: 6/12\n",
      "Score: 3/20\n",
      "Score: 16/20\n",
      "Score: 4/12\n",
      "Score: 11/20\n",
      "Score: 17/20\n",
      "Score: 1/12\n",
      "Score: 14/20\n",
      "Score: 18/20\n"
     ]
    }
   ],
   "source": [
    "s_scores = []\n",
    "for s in [s0,s1,s2,s3,s4,s5]:\n",
    "    s_scores.append(calc_success_rate(s))"
   ]
  },
  {
   "cell_type": "code",
   "execution_count": 25,
   "id": "7bd64e53-7bef-48ef-8071-b39799148c10",
   "metadata": {},
   "outputs": [],
   "source": [
    "import matplotlib.pyplot as plt\n",
    "plt.rcParams['figure.figsize'] = [15, 10]"
   ]
  },
  {
   "cell_type": "code",
   "execution_count": 28,
   "id": "ee6145c6-c651-43c9-bf5b-ac3c80dc6718",
   "metadata": {
    "tags": []
   },
   "outputs": [
    {
     "data": {
      "image/png": "[encoded data removed]",
      "text/plain": [
       "<Figure size 1080x720 with 1 Axes>"
      ]
     },
     "metadata": {
      "needs_background": "light"
     },
     "output_type": "display_data"
    }
   ],
   "source": [
    "import matplotlib.pyplot as plt\n",
    "import numpy as np\n",
    "\n",
    "ypoints = np.array([3, 8, 1, 10])\n",
    "\n",
    "plt.plot([0,1,2,3,4,5], np.array(s_scores), '.', linestyle = 'dotted', linewidth=3, label='SegVPR Encoded',markersize=15)\n",
    "plt.plot([0,1,2,3,4,5], np.array(b_scores), '.', linestyle = 'dotted', linewidth=3, label='Baseline',markersize=15)\n",
    "plt.legend(prop={'size': 10})\n",
    "plt.xlabel('Data aggregation iterations')\n",
    "plt.ylabel('Success rate (%)')\n",
    "plt.savefig('/home/shubham/Desktop/plots/SuccessRate.png', dpi=400)\n",
    "# plt.savefig('/home/shubham/Desktop/plots/VPRvsBaseline.pgf')\n",
    "plt.show()"
   ]
  },
  {
   "cell_type": "code",
   "execution_count": 189,
   "id": "ad272d0b-1450-45ab-afe6-9298a86083dc",
   "metadata": {},
   "outputs": [],
   "source": [
    "import matplotlib"
   ]
  },
  {
   "cell_type": "code",
   "execution_count": 13,
   "id": "3c360de8-0cbd-4684-9f1c-e9fd9480b06c",
   "metadata": {},
   "outputs": [],
   "source": [
    "# matplotlib.use(\"pgf\")\n",
    "# matplotlib.rcParams.update({\n",
    "#     \"pgf.texsystem\": \"pdflatex\",\n",
    "#     'font.family': 'serif',\n",
    "#     'text.usetex': True,\n",
    "#     'pgf.rcfonts': False,\n",
    "# })"
   ]
  },
  {
   "cell_type": "code",
   "execution_count": null,
   "id": "9699d481-67e5-4d67-bbc9-947dff1feced",
   "metadata": {},
   "outputs": [],
   "source": []
  },
  {
   "cell_type": "code",
   "execution_count": 152,
   "id": "bcb11421-b00a-4e0c-8449-8576722fe38d",
   "metadata": {},
   "outputs": [
    {
     "data": {
      "text/plain": [
       "[17.307692307692307,\n",
       " 34.61538461538461,\n",
       " 48.07692307692308,\n",
       " 61.53846153846154,\n",
       " 63.46153846153846]"
      ]
     },
     "execution_count": 152,
     "metadata": {},
     "output_type": "execute_result"
    }
   ],
   "source": [
    "s_scores"
   ]
  },
  {
   "cell_type": "code",
   "execution_count": 166,
   "id": "456c4693-f7fc-451b-87bb-265ce833ca9b",
   "metadata": {},
   "outputs": [
    {
     "data": {
      "text/plain": [
       "[5.769230769230769,\n",
       " 11.538461538461538,\n",
       " 30.76923076923077,\n",
       " 28.846153846153843,\n",
       " 57.692307692307686]"
      ]
     },
     "execution_count": 166,
     "metadata": {},
     "output_type": "execute_result"
    }
   ],
   "source": [
    "b_scores"
   ]
  },
  {
   "cell_type": "code",
   "execution_count": 100,
   "id": "0d323ace-c7c9-4aa3-9788-3f3dfe4a9e18",
   "metadata": {},
   "outputs": [
    {
     "name": "stdout",
     "output_type": "stream",
     "text": [
      "{'entry_point': 'agents.custom.custom_agent:CustomAgent', 'ckpt': '/home/shubham/Desktop/logs/etoe_vu/20230130_105732LbModeBaseline/models/model_15.t7', 'wb_run_path': None, 'wb_ckpt_step': None, 'rl_run_path': None, 'rl_ckpt_step': None, 'mid_fusion': False, 'future_step_prediction': False, 'lb_mode': True, 'env_wrapper': {'entry_point': 'agents.cilrs.cilrs_wrapper:CilrsWrapper', 'kwargs': {'acc_as_action': True, 'view_augmentation': False, 'value_as_supervision': False, 'value_factor': 1.0, 'action_distribution': None, 'dim_features_supervision': 0, 'input_states': ['speed', 'vec', 'cmd'], 'im_mean': [0.485, 0.456, 0.406], 'im_std': [0.229, 0.224, 0.225], 'im_stack_idx': [-1]}}}\n"
     ]
    }
   ],
   "source": [
    "# Open the file and load the file\n",
    "# with open('/home/shubham/Desktop/git/carla-roach/outputs/2023-03-13/07-09-16') as f:\n",
    "data = \n",
    "print(data)"
   ]
  },
  {
   "cell_type": "code",
   "execution_count": null,
   "id": "a9209425-655d-4b2e-a797-55c365aaa635",
   "metadata": {},
   "outputs": [],
   "source": []
  },
  {
   "cell_type": "code",
   "execution_count": null,
   "id": "ad4b4378-5fea-4df4-a03b-f24f7337125f",
   "metadata": {},
   "outputs": [],
   "source": []
  },
  {
   "cell_type": "code",
   "execution_count": 5,
   "id": "aed81521-0e93-4d13-a16b-5d51b27c5962",
   "metadata": {},
   "outputs": [],
   "source": [
    "list_of_address = [\n",
    "    \"/home/shubham/Desktop/git/carla-roach/outputs/2023-03-06/23-01-01/\",\n",
    "    \"/home/shubham/Desktop/git/carla-roach/outputs/2023-03-07/01-34-21\",\n",
    "    \"/home/shubham/Desktop/git/carla-roach/outputs/2023-03-07/09-23-15\"\n",
    "]\n",
    "\n",
    "def route_completion_ratio(list_of_address):\n",
    "    completed_distance, total_distance = 0.0, 0.0\n",
    "    \n",
    "    for address in list_of_address:\n",
    "        setting_folder = glob(join(address, 'diagnostics', '*'))\n",
    "        setting_name = setting_folder[0].split('/')[-1]\n",
    "        setting_folder = setting_folder[0]\n",
    "\n",
    "        score = 0\n",
    "        for file in glob(join(setting_folder,'*')):\n",
    "            score += int(json.load(open(file))['hero']['route_completion']['is_route_completed'])\n",
    "            \n",
    "            completed_distance += float(json.load(open(file))['hero']['route_completion']['route_completed_in_m'])\n",
    "            total_distance += float(json.load(open(file))['hero']['route_completion']['route_length_in_m'])\n",
    "            \n",
    "    return (completed_distance/total_distance)*100"
   ]
  },
  {
   "cell_type": "code",
   "execution_count": 8,
   "id": "9432bf6a-6fdd-4e5c-9027-2ca6496b6e95",
   "metadata": {},
   "outputs": [
    {
     "ename": "IndexError",
     "evalue": "list index out of range",
     "output_type": "error",
     "traceback": [
      "\u001b[0;31m---------------------------------------------------------------------------\u001b[0m",
      "\u001b[0;31mIndexError\u001b[0m                                Traceback (most recent call last)",
      "Cell \u001b[0;32mIn[8], line 1\u001b[0m\n\u001b[0;32m----> 1\u001b[0m \u001b[43mroute_completion_ratio\u001b[49m\u001b[43m(\u001b[49m\u001b[43mlist_of_address\u001b[49m\u001b[43m)\u001b[49m\n",
      "Cell \u001b[0;32mIn[7], line 12\u001b[0m, in \u001b[0;36mroute_completion_ratio\u001b[0;34m(list_of_address)\u001b[0m\n\u001b[1;32m     10\u001b[0m \u001b[38;5;28;01mfor\u001b[39;00m address \u001b[38;5;129;01min\u001b[39;00m list_of_address:\n\u001b[1;32m     11\u001b[0m     setting_folder \u001b[38;5;241m=\u001b[39m glob(join(address, \u001b[38;5;124m'\u001b[39m\u001b[38;5;124mdiagnostics\u001b[39m\u001b[38;5;124m'\u001b[39m, \u001b[38;5;124m'\u001b[39m\u001b[38;5;124m*\u001b[39m\u001b[38;5;124m'\u001b[39m))\n\u001b[0;32m---> 12\u001b[0m     setting_name \u001b[38;5;241m=\u001b[39m \u001b[43msetting_folder\u001b[49m\u001b[43m[\u001b[49m\u001b[38;5;241;43m0\u001b[39;49m\u001b[43m]\u001b[49m\u001b[38;5;241m.\u001b[39msplit(\u001b[38;5;124m'\u001b[39m\u001b[38;5;124m/\u001b[39m\u001b[38;5;124m'\u001b[39m)[\u001b[38;5;241m-\u001b[39m\u001b[38;5;241m1\u001b[39m]\n\u001b[1;32m     13\u001b[0m     setting_folder \u001b[38;5;241m=\u001b[39m setting_folder[\u001b[38;5;241m0\u001b[39m]\n\u001b[1;32m     15\u001b[0m     score \u001b[38;5;241m=\u001b[39m \u001b[38;5;241m0\u001b[39m\n",
      "\u001b[0;31mIndexError\u001b[0m: list index out of range"
     ]
    }
   ],
   "source": [
    "route_completion_ratio(list_of_address)"
   ]
  },
  {
   "cell_type": "code",
   "execution_count": null,
   "id": "87c80b93-7232-478f-ae50-a41df9ae7b60",
   "metadata": {},
   "outputs": [],
   "source": [
    "b_ratios = []\n",
    "for b in [b0,b1,b2,b3,b4,b5]:\n",
    "    b_ratios.append(route_completion_ratio(b))"
   ]
  },
  {
   "cell_type": "code",
   "execution_count": null,
   "id": "0aa70cb9-905b-4220-b058-c54ff3052cbd",
   "metadata": {},
   "outputs": [],
   "source": [
    "s_ratios = []\n",
    "for s in [s0,s1,s2,s3,s4,s5]:\n",
    "    s_ratios.append(route_completion_ratio(s))"
   ]
  },
  {
   "cell_type": "code",
   "execution_count": null,
   "id": "2a763b02-3bb2-4874-9233-38556c6356c6",
   "metadata": {},
   "outputs": [
    {
     "data": {
      "image/png": "[encoded data removed]",
      "text/plain": [
       "<Figure size 1080x720 with 1 Axes>"
      ]
     },
     "metadata": {
      "needs_background": "light"
     },
     "output_type": "display_data"
    }
   ],
   "source": [
    "import matplotlib.pyplot as plt\n",
    "import numpy as np\n",
    "\n",
    "\n",
    "plt.plot([0,1,2,3,4,5], np.array(s_ratios), '.', linestyle = 'dotted', linewidth=3, label='SegVPR Encoded',markersize=15)\n",
    "plt.plot([0,1,2,3,4,5], np.array(b_ratios), '.', linestyle = 'dotted', linewidth=3, label='Baseline',markersize=15)\n",
    "plt.legend(prop={'size': 10})\n",
    "plt.xlabel('Data aggregation iterations')\n",
    "plt.ylabel('Ratio of dist traveled to total dist (%)')\n",
    "plt.savefig('/home/shubham/Desktop/plots/RouteRatio.png', dpi=400)\n",
    "# plt.savefig('/home/shubham/Desktop/plots/VPRvsBaseline.pgf')\n",
    "plt.show()"
   ]
  },
  {
   "cell_type": "code",
   "execution_count": null,
   "id": "fe732ff4-82ae-4393-b3e2-3b98bc3477f6",
   "metadata": {},
   "outputs": [],
   "source": []
  },
  {
   "cell_type": "markdown",
   "id": "0bf3ba55-6987-46b8-b84f-426e3d1450c8",
   "metadata": {},
   "source": [
    "## For first TT"
   ]
  },
  {
   "cell_type": "code",
   "execution_count": null,
   "id": "51aa3f51-9742-4d6b-a6e9-d1161498dc67",
   "metadata": {},
   "outputs": [],
   "source": [
    "from os.path import isdir"
   ]
  },
  {
   "cell_type": "code",
   "execution_count": null,
   "id": "d6af8e1b-bef7-4217-9b91-02338836da42",
   "metadata": {},
   "outputs": [],
   "source": [
    "dirs_only = []\n",
    "for each in glob('/home/shubham/Desktop/git/carla-roach/outputs/*'):\n",
    "    if isdir(each):\n",
    "        dirs_only.append(each)\n",
    "dirs_only.sort()\n",
    "nn_list = dirs_only[19:-1]"
   ]
  },
  {
   "cell_type": "code",
   "execution_count": null,
   "id": "5eb3f725-8226-4a66-b4fc-34c2fd19d33e",
   "metadata": {},
   "outputs": [
    {
     "data": {
      "text/plain": [
       "['/home/shubham/Desktop/git/carla-roach/outputs/2023-03-06',\n",
       " '/home/shubham/Desktop/git/carla-roach/outputs/2023-03-07',\n",
       " '/home/shubham/Desktop/git/carla-roach/outputs/2023-03-08',\n",
       " '/home/shubham/Desktop/git/carla-roach/outputs/2023-03-09',\n",
       " '/home/shubham/Desktop/git/carla-roach/outputs/2023-03-10',\n",
       " '/home/shubham/Desktop/git/carla-roach/outputs/2023-03-11',\n",
       " '/home/shubham/Desktop/git/carla-roach/outputs/2023-03-12',\n",
       " '/home/shubham/Desktop/git/carla-roach/outputs/2023-03-13',\n",
       " '/home/shubham/Desktop/git/carla-roach/outputs/2023-03-14',\n",
       " '/home/shubham/Desktop/git/carla-roach/outputs/2023-03-15',\n",
       " '/home/shubham/Desktop/git/carla-roach/outputs/2023-03-18',\n",
       " '/home/shubham/Desktop/git/carla-roach/outputs/2023-03-19',\n",
       " '/home/shubham/Desktop/git/carla-roach/outputs/2023-03-20',\n",
       " '/home/shubham/Desktop/git/carla-roach/outputs/2023-03-21',\n",
       " '/home/shubham/Desktop/git/carla-roach/outputs/2023-03-23',\n",
       " '/home/shubham/Desktop/git/carla-roach/outputs/2023-03-24',\n",
       " '/home/shubham/Desktop/git/carla-roach/outputs/2023-03-27',\n",
       " '/home/shubham/Desktop/git/carla-roach/outputs/2023-03-28',\n",
       " '/home/shubham/Desktop/git/carla-roach/outputs/2023-03-31',\n",
       " '/home/shubham/Desktop/git/carla-roach/outputs/2023-04-01',\n",
       " '/home/shubham/Desktop/git/carla-roach/outputs/2023-04-02',\n",
       " '/home/shubham/Desktop/git/carla-roach/outputs/2023-04-03',\n",
       " '/home/shubham/Desktop/git/carla-roach/outputs/2023-04-04',\n",
       " '/home/shubham/Desktop/git/carla-roach/outputs/2023-04-05']"
      ]
     },
     "execution_count": 33,
     "metadata": {},
     "output_type": "execute_result"
    }
   ],
   "source": [
    "nn_list"
   ]
  },
  {
   "cell_type": "code",
   "execution_count": null,
   "id": "2a0480d1-3247-4941-a965-87b08dee0135",
   "metadata": {},
   "outputs": [
    {
     "name": "stdout",
     "output_type": "stream",
     "text": [
      "Date = 2023-03-06 Time = 00-18-45 Add: /home/shubham/Desktop/git/carla-roach/outputs/2023-03-06/00-18-45 Model name = 20230302_202806LbModeBaselineD4\n",
      "Date = 2023-03-06 Time = 03-37-31 Add: /home/shubham/Desktop/git/carla-roach/outputs/2023-03-06/03-37-31 Model name = 20230303_180104LbModeBaselineD5\n",
      "Date = 2023-03-06 Time = 08-06-38 Add: /home/shubham/Desktop/git/carla-roach/outputs/2023-03-06/08-06-38 Model name = 20230301_220308LbModeBaselineD3\n",
      "Date = 2023-03-06 Time = 10-48-17 Add: /home/shubham/Desktop/git/carla-roach/outputs/2023-03-06/10-48-17 Model name = 20230302_202806LbModeBaselineD4\n",
      "Date = 2023-03-06 Time = 13-35-29 Add: /home/shubham/Desktop/git/carla-roach/outputs/2023-03-06/13-35-29 Model name = 20230303_180104LbModeBaselineD5\n",
      "Date = 2023-03-06 Time = 23-01-01 Add: /home/shubham/Desktop/git/carla-roach/outputs/2023-03-06/23-01-01 Model name = 20230227_074626SegVPRencD5\n",
      "Date = 2023-03-07 Time = 01-34-21 Add: /home/shubham/Desktop/git/carla-roach/outputs/2023-03-07/01-34-21 Model name = 20230227_074626SegVPRencD5\n",
      "Date = 2023-03-07 Time = 09-23-15 Add: /home/shubham/Desktop/git/carla-roach/outputs/2023-03-07/09-23-15 Model name = 20230227_074626SegVPRencD5\n",
      "Date = 2023-03-07 Time = 14-18-34 Add: /home/shubham/Desktop/git/carla-roach/outputs/2023-03-07/14-18-34 Model name = 20230303_180104LbModeBaselineD5\n",
      "Date = 2023-03-07 Time = 16-49-10 Add: /home/shubham/Desktop/git/carla-roach/outputs/2023-03-07/16-49-10 Model name = 20230303_180104LbModeBaselineD5\n",
      "Date = 2023-03-08 Time = 00-55-41 Add: /home/shubham/Desktop/git/carla-roach/outputs/2023-03-08/00-55-41 Model name = 20230303_180104LbModeBaselineD5\n",
      "Date = 2023-03-08 Time = 09-19-56 Add: /home/shubham/Desktop/git/carla-roach/outputs/2023-03-08/09-19-56 Model name = 20230301_220308LbModeBaselineD3\n",
      "Date = 2023-03-08 Time = 10-59-48 Add: /home/shubham/Desktop/git/carla-roach/outputs/2023-03-08/10-59-48 Model name = 20230301_220308LbModeBaselineD3\n",
      "Date = 2023-03-08 Time = 15-59-18 Add: /home/shubham/Desktop/git/carla-roach/outputs/2023-03-08/15-59-18 Model name = 20230301_220308LbModeBaselineD3\n",
      "Date = 2023-03-08 Time = 19-21-15 Add: /home/shubham/Desktop/git/carla-roach/outputs/2023-03-08/19-21-15 Model name = 20230223_131935SegVPRencD3\n",
      "Date = 2023-03-08 Time = 21-40-31 Add: /home/shubham/Desktop/git/carla-roach/outputs/2023-03-08/21-40-31 Model name = 20230223_131935SegVPRencD3\n",
      "Date = 2023-03-09 Time = 03-16-45 Add: /home/shubham/Desktop/git/carla-roach/outputs/2023-03-09/03-16-45 Model name = 20230223_131935SegVPRencD3\n",
      "Date = 2023-03-09 Time = 23-57-36 Add: /home/shubham/Desktop/git/carla-roach/outputs/2023-03-09/23-57-36 Model name = 20230302_202806LbModeBaselineD4\n",
      "Date = 2023-03-10 Time = 02-25-05 Add: /home/shubham/Desktop/git/carla-roach/outputs/2023-03-10/02-25-05 Model name = 20230302_202806LbModeBaselineD4\n",
      "Date = 2023-03-10 Time = 07-01-28 Add: /home/shubham/Desktop/git/carla-roach/outputs/2023-03-10/07-01-28 Model name = 20230302_202806LbModeBaselineD4\n",
      "Date = 2023-03-10 Time = 10-43-41 Add: /home/shubham/Desktop/git/carla-roach/outputs/2023-03-10/10-43-41 Model name = 20230226_005522SegVPRencD4\n",
      "Date = 2023-03-10 Time = 13-02-56 Add: /home/shubham/Desktop/git/carla-roach/outputs/2023-03-10/13-02-56 Model name = 20230226_005522SegVPRencD4\n",
      "Date = 2023-03-10 Time = 20-56-30 Add: /home/shubham/Desktop/git/carla-roach/outputs/2023-03-10/20-56-30 Model name = 20230226_005522SegVPRencD4\n",
      "Date = 2023-03-11 Time = 18-57-18 Add: /home/shubham/Desktop/git/carla-roach/outputs/2023-03-11/18-57-18 Model name = 20230131_025157LbModeBaselineD1\n",
      "Date = 2023-03-11 Time = 20-09-08 Add: /home/shubham/Desktop/git/carla-roach/outputs/2023-03-11/20-09-08 Model name = 20230131_025157LbModeBaselineD1\n",
      "Date = 2023-03-12 Time = 00-30-42 Add: /home/shubham/Desktop/git/carla-roach/outputs/2023-03-12/00-30-42 Model name = 20230131_025157LbModeBaselineD1\n",
      "Date = 2023-03-12 Time = 05-16-22 Add: /home/shubham/Desktop/git/carla-roach/outputs/2023-03-12/05-16-22 Model name = 20230220_231756SegVPRencD1\n",
      "Date = 2023-03-12 Time = 07-50-57 Add: /home/shubham/Desktop/git/carla-roach/outputs/2023-03-12/07-50-57 Model name = 20230220_231756SegVPRencD1\n",
      "Date = 2023-03-12 Time = 12-48-02 Add: /home/shubham/Desktop/git/carla-roach/outputs/2023-03-12/12-48-02 Model name = 20230220_231756SegVPRencD1\n",
      "Date = 2023-03-13 Time = 07-09-16 Add: /home/shubham/Desktop/git/carla-roach/outputs/2023-03-13/07-09-16 Model name = 20230130_105732LbModeBaseline\n",
      "Date = 2023-03-13 Time = 07-48-55 Add: /home/shubham/Desktop/git/carla-roach/outputs/2023-03-13/07-48-55 Model name = 20230130_105732LbModeBaseline\n",
      "Date = 2023-03-13 Time = 11-01-27 Add: /home/shubham/Desktop/git/carla-roach/outputs/2023-03-13/11-01-27 Model name = 20230130_105732LbModeBaseline\n",
      "Date = 2023-03-13 Time = 14-51-33 Add: /home/shubham/Desktop/git/carla-roach/outputs/2023-03-13/14-51-33 Model name = 20230220_010526SegVPRenc\n",
      "Date = 2023-03-13 Time = 15-29-19 Add: /home/shubham/Desktop/git/carla-roach/outputs/2023-03-13/15-29-19 Model name = 20230220_010526SegVPRenc\n",
      "Date = 2023-03-13 Time = 19-59-05 Add: /home/shubham/Desktop/git/carla-roach/outputs/2023-03-13/19-59-05 Model name = 20230220_010526SegVPRenc\n",
      "Date = 2023-03-14 Time = 16-14-27 Add: /home/shubham/Desktop/git/carla-roach/outputs/2023-03-14/16-14-27 Model name = 20230131_184744LbModeBaselineD2\n",
      "Date = 2023-03-14 Time = 17-03-22 Add: /home/shubham/Desktop/git/carla-roach/outputs/2023-03-14/17-03-22 Model name = 20230131_184744LbModeBaselineD2\n",
      "Date = 2023-03-14 Time = 22-15-18 Add: /home/shubham/Desktop/git/carla-roach/outputs/2023-03-14/22-15-18 Model name = 20230131_184744LbModeBaselineD2\n",
      "Date = 2023-03-15 Time = 02-08-53 Add: /home/shubham/Desktop/git/carla-roach/outputs/2023-03-15/02-08-53 Model name = 20230221_205635SegVPRencD2\n",
      "Date = 2023-03-15 Time = 04-01-53 Add: /home/shubham/Desktop/git/carla-roach/outputs/2023-03-15/04-01-53 Model name = 20230221_205635SegVPRencD2\n",
      "Date = 2023-03-15 Time = 10-51-24 Add: /home/shubham/Desktop/git/carla-roach/outputs/2023-03-15/10-51-24 Model name = 20230221_205635SegVPRencD2\n",
      "Date = 2023-03-18 Time = 21-49-08 Add: /home/shubham/Desktop/git/carla-roach/outputs/2023-03-18/21-49-08 Model name = 20230220_010526SegVPRenc\n",
      "Date = 2023-03-19 Time = 00-43-07 Add: /home/shubham/Desktop/git/carla-roach/outputs/2023-03-19/00-43-07 Model name = 20230220_010526SegVPRenc\n",
      "Date = 2023-03-19 Time = 05-02-57 Add: /home/shubham/Desktop/git/carla-roach/outputs/2023-03-19/05-02-57 Model name = 20230220_010526SegVPRenc\n",
      "Date = 2023-03-19 Time = 08-57-26 Add: /home/shubham/Desktop/git/carla-roach/outputs/2023-03-19/08-57-26 Model name = 20230220_010526SegVPRenc\n",
      "Date = 2023-03-19 Time = 23-18-18 Add: /home/shubham/Desktop/git/carla-roach/outputs/2023-03-19/23-18-18 Model name = 20230220_231756SegVPRencD1\n",
      "Date = 2023-03-19 Time = 23-33-48 Add: /home/shubham/Desktop/git/carla-roach/outputs/2023-03-19/23-33-48 Model name = 20230220_231756SegVPRencD1\n",
      "Date = 2023-03-20 Time = 02-27-18 Add: /home/shubham/Desktop/git/carla-roach/outputs/2023-03-20/02-27-18 Model name = 20230220_231756SegVPRencD1\n",
      "Date = 2023-03-20 Time = 08-41-51 Add: /home/shubham/Desktop/git/carla-roach/outputs/2023-03-20/08-41-51 Model name = 20230220_231756SegVPRencD1\n",
      "Date = 2023-03-20 Time = 12-57-34 Add: /home/shubham/Desktop/git/carla-roach/outputs/2023-03-20/12-57-34 Model name = 20230220_231756SegVPRencD1\n",
      "Date = 2023-03-20 Time = 17-43-55 Add: /home/shubham/Desktop/git/carla-roach/outputs/2023-03-20/17-43-55 Model name = 20230221_205635SegVPRencD2\n",
      "Date = 2023-03-20 Time = 21-10-16 Add: /home/shubham/Desktop/git/carla-roach/outputs/2023-03-20/21-10-16 Model name = 20230221_205635SegVPRencD2\n",
      "Date = 2023-03-21 Time = 04-32-29 Add: /home/shubham/Desktop/git/carla-roach/outputs/2023-03-21/04-32-29 Model name = 20230221_205635SegVPRencD2\n",
      "Date = 2023-03-21 Time = 10-33-40 Add: /home/shubham/Desktop/git/carla-roach/outputs/2023-03-21/10-33-40 Model name = 20230221_205635SegVPRencD2\n",
      "Date = 2023-03-23 Time = 10-18-54 Add: /home/shubham/Desktop/git/carla-roach/outputs/2023-03-23/10-18-54 Model name = 20230223_131935SegVPRencD3\n",
      "Date = 2023-03-23 Time = 13-35-15 Add: /home/shubham/Desktop/git/carla-roach/outputs/2023-03-23/13-35-15 Model name = 20230223_131935SegVPRencD3\n",
      "Date = 2023-03-23 Time = 20-45-31 Add: /home/shubham/Desktop/git/carla-roach/outputs/2023-03-23/20-45-31 Model name = 20230223_131935SegVPRencD3\n",
      "Date = 2023-03-24 Time = 02-28-09 Add: /home/shubham/Desktop/git/carla-roach/outputs/2023-03-24/02-28-09 Model name = 20230223_131935SegVPRencD3\n",
      "Date = 2023-03-24 Time = 06-51-13 Add: /home/shubham/Desktop/git/carla-roach/outputs/2023-03-24/06-51-13 Model name = 20230226_005522SegVPRencD4\n",
      "Date = 2023-03-24 Time = 09-59-05 Add: /home/shubham/Desktop/git/carla-roach/outputs/2023-03-24/09-59-05 Model name = 20230226_005522SegVPRencD4\n",
      "Date = 2023-03-24 Time = 17-36-44 Add: /home/shubham/Desktop/git/carla-roach/outputs/2023-03-24/17-36-44 Model name = 20230226_005522SegVPRencD4\n",
      "Date = 2023-03-24 Time = 23-23-50 Add: /home/shubham/Desktop/git/carla-roach/outputs/2023-03-24/23-23-50 Model name = 20230226_005522SegVPRencD4\n",
      "Date = 2023-03-27 Time = 10-39-26 Add: /home/shubham/Desktop/git/carla-roach/outputs/2023-03-27/10-39-26 Model name = 20230227_074626SegVPRencD5\n",
      "Date = 2023-03-27 Time = 13-46-04 Add: /home/shubham/Desktop/git/carla-roach/outputs/2023-03-27/13-46-04 Model name = 20230227_074626SegVPRencD5\n",
      "Date = 2023-03-27 Time = 21-54-07 Add: /home/shubham/Desktop/git/carla-roach/outputs/2023-03-27/21-54-07 Model name = 20230227_074626SegVPRencD5\n",
      "Date = 2023-03-28 Time = 04-28-35 Add: /home/shubham/Desktop/git/carla-roach/outputs/2023-03-28/04-28-35 Model name = 20230227_074626SegVPRencD5\n",
      "Date = 2023-03-28 Time = 09-29-08 Add: /home/shubham/Desktop/git/carla-roach/outputs/2023-03-28/09-29-08 Model name = 20230130_105732LbModeBaseline\n",
      "Date = 2023-03-28 Time = 11-58-40 Add: /home/shubham/Desktop/git/carla-roach/outputs/2023-03-28/11-58-40 Model name = 20230130_105732LbModeBaseline\n",
      "Date = 2023-03-28 Time = 17-05-31 Add: /home/shubham/Desktop/git/carla-roach/outputs/2023-03-28/17-05-31 Model name = 20230130_105732LbModeBaseline\n",
      "Date = 2023-03-28 Time = 17-34-19 Add: /home/shubham/Desktop/git/carla-roach/outputs/2023-03-28/17-34-19 Model name = 20230130_105732LbModeBaseline\n",
      "Date = 2023-03-28 Time = 21-06-33 Add: /home/shubham/Desktop/git/carla-roach/outputs/2023-03-28/21-06-33 Model name = 20230130_105732LbModeBaseline\n",
      "Date = 2023-03-31 Time = 07-55-18 Add: /home/shubham/Desktop/git/carla-roach/outputs/2023-03-31/07-55-18 Model name = 20230131_025157LbModeBaselineD1\n",
      "Date = 2023-03-31 Time = 11-15-43 Add: /home/shubham/Desktop/git/carla-roach/outputs/2023-03-31/11-15-43 Model name = 20230131_025157LbModeBaselineD1\n",
      "Date = 2023-03-31 Time = 16-51-26 Add: /home/shubham/Desktop/git/carla-roach/outputs/2023-03-31/16-51-26 Model name = 20230131_025157LbModeBaselineD1\n",
      "Date = 2023-03-31 Time = 20-34-11 Add: /home/shubham/Desktop/git/carla-roach/outputs/2023-03-31/20-34-11 Model name = 20230131_025157LbModeBaselineD1\n",
      "Date = 2023-04-01 Time = 00-24-40 Add: /home/shubham/Desktop/git/carla-roach/outputs/2023-04-01/00-24-40 Model name = 20230131_184744LbModeBaselineD2\n",
      "Date = 2023-04-01 Time = 03-34-51 Add: /home/shubham/Desktop/git/carla-roach/outputs/2023-04-01/03-34-51 Model name = 20230131_184744LbModeBaselineD2\n",
      "Date = 2023-04-01 Time = 10-40-00 Add: /home/shubham/Desktop/git/carla-roach/outputs/2023-04-01/10-40-00 Model name = 20230131_184744LbModeBaselineD2\n",
      "Date = 2023-04-01 Time = 14-55-32 Add: /home/shubham/Desktop/git/carla-roach/outputs/2023-04-01/14-55-32 Model name = 20230131_184744LbModeBaselineD2\n",
      "Date = 2023-04-02 Time = 10-58-46 Add: /home/shubham/Desktop/git/carla-roach/outputs/2023-04-02/10-58-46 Model name = 20230301_220308LbModeBaselineD3\n",
      "Date = 2023-04-02 Time = 13-38-59 Add: /home/shubham/Desktop/git/carla-roach/outputs/2023-04-02/13-38-59 Model name = 20230301_220308LbModeBaselineD3\n",
      "Date = 2023-04-02 Time = 19-33-32 Add: /home/shubham/Desktop/git/carla-roach/outputs/2023-04-02/19-33-32 Model name = 20230301_220308LbModeBaselineD3\n",
      "Date = 2023-04-03 Time = 00-20-44 Add: /home/shubham/Desktop/git/carla-roach/outputs/2023-04-03/00-20-44 Model name = 20230301_220308LbModeBaselineD3\n",
      "Date = 2023-04-03 Time = 04-39-11 Add: /home/shubham/Desktop/git/carla-roach/outputs/2023-04-03/04-39-11 Model name = 20230302_202806LbModeBaselineD4\n",
      "Date = 2023-04-03 Time = 07-27-28 Add: /home/shubham/Desktop/git/carla-roach/outputs/2023-04-03/07-27-28 Model name = 20230302_202806LbModeBaselineD4\n",
      "Date = 2023-04-03 Time = 13-42-53 Add: /home/shubham/Desktop/git/carla-roach/outputs/2023-04-03/13-42-53 Model name = 20230302_202806LbModeBaselineD4\n",
      "Date = 2023-04-03 Time = 17-46-19 Add: /home/shubham/Desktop/git/carla-roach/outputs/2023-04-03/17-46-19 Model name = 20230302_202806LbModeBaselineD4\n",
      "Date = 2023-04-04 Time = 10-01-20 Add: /home/shubham/Desktop/git/carla-roach/outputs/2023-04-04/10-01-20 Model name = 20230327_110716LbModeBaselineD5_v2\n",
      "Date = 2023-04-04 Time = 12-59-46 Add: /home/shubham/Desktop/git/carla-roach/outputs/2023-04-04/12-59-46 Model name = 20230327_110716LbModeBaselineD5_v2\n",
      "Date = 2023-04-04 Time = 19-14-28 Add: /home/shubham/Desktop/git/carla-roach/outputs/2023-04-04/19-14-28 Model name = 20230327_110716LbModeBaselineD5_v2\n",
      "Date = 2023-04-05 Time = 00-23-23 Add: /home/shubham/Desktop/git/carla-roach/outputs/2023-04-05/00-23-23 Model name = 20230327_110716LbModeBaselineD5_v2\n"
     ]
    }
   ],
   "source": [
    "for each_date_folder in nn_list:\n",
    "    time_folders = sorted(list(glob(join(each_date_folder, '*'))))\n",
    "    for each_time_folder in time_folders:\n",
    "        model_name = yaml.load(open(join( each_time_folder,'config_agent.yaml')), Loader=SafeLoader)['ckpt'].split('/')[-3]\n",
    "        \n",
    "        print(f\"Date = {each_date_folder.split('/')[-1]} Time = {each_time_folder.split('/')[-1]} Add: {each_time_folder} Model name = {model_name}\")"
   ]
  },
  {
   "cell_type": "markdown",
   "id": "8a386410-9a1b-47e7-aad3-efbf177c0410",
   "metadata": {},
   "source": [
    "Date = 2023-03-18 Time = 21-49-08 Add: /home/shubham/Desktop/git/carla-roach/outputs/2023-03-18/21-49-08 Model name = 20230220_010526SegVPRenc\n",
    "Date = 2023-03-19 Time = 00-43-07 Add: /home/shubham/Desktop/git/carla-roach/outputs/2023-03-19/00-43-07 Model name = 20230220_010526SegVPRenc\n",
    "Date = 2023-03-19 Time = 05-02-57 Add: /home/shubham/Desktop/git/carla-roach/outputs/2023-03-19/05-02-57 Model name = 20230220_010526SegVPRenc\n",
    "Date = 2023-03-19 Time = 08-57-26 Add: /home/shubham/Desktop/git/carla-roach/outputs/2023-03-19/08-57-26 Model name = 20230220_010526SegVPRenc\n",
    "\n",
    "Date = 2023-03-19 Time = 23-18-18 Add: /home/shubham/Desktop/git/carla-roach/outputs/2023-03-19/23-18-18 Model name = 20230220_231756SegVPRencD1\n",
    "Date = 2023-03-19 Time = 23-33-48 Add: /home/shubham/Desktop/git/carla-roach/outputs/2023-03-19/23-33-48 Model name = 20230220_231756SegVPRencD1\n",
    "Date = 2023-03-20 Time = 02-27-18 Add: /home/shubham/Desktop/git/carla-roach/outputs/2023-03-20/02-27-18 Model name = 20230220_231756SegVPRencD1\n",
    "Date = 2023-03-20 Time = 08-41-51 Add: /home/shubham/Desktop/git/carla-roach/outputs/2023-03-20/08-41-51 Model name = 20230220_231756SegVPRencD1\n",
    "Date = 2023-03-20 Time = 12-57-34 Add: /home/shubham/Desktop/git/carla-roach/outputs/2023-03-20/12-57-34 Model name = 20230220_231756SegVPRencD1\n",
    "\n",
    "Date = 2023-03-20 Time = 17-43-55 Add: /home/shubham/Desktop/git/carla-roach/outputs/2023-03-20/17-43-55 Model name = 20230221_205635SegVPRencD2\n",
    "Date = 2023-03-20 Time = 21-10-16 Add: /home/shubham/Desktop/git/carla-roach/outputs/2023-03-20/21-10-16 Model name = 20230221_205635SegVPRencD2\n",
    "Date = 2023-03-21 Time = 04-32-29 Add: /home/shubham/Desktop/git/carla-roach/outputs/2023-03-21/04-32-29 Model name = 20230221_205635SegVPRencD2\n",
    "Date = 2023-03-21 Time = 10-33-40 Add: /home/shubham/Desktop/git/carla-roach/outputs/2023-03-21/10-33-40 Model name = 20230221_205635SegVPRencD2\n",
    "\n",
    "Date = 2023-03-23 Time = 10-18-54 Add: /home/shubham/Desktop/git/carla-roach/outputs/2023-03-23/10-18-54 Model name = 20230223_131935SegVPRencD3\n",
    "Date = 2023-03-23 Time = 13-35-15 Add: /home/shubham/Desktop/git/carla-roach/outputs/2023-03-23/13-35-15 Model name = 20230223_131935SegVPRencD3\n",
    "Date = 2023-03-23 Time = 20-45-31 Add: /home/shubham/Desktop/git/carla-roach/outputs/2023-03-23/20-45-31 Model name = 20230223_131935SegVPRencD3\n",
    "Date = 2023-03-24 Time = 02-28-09 Add: /home/shubham/Desktop/git/carla-roach/outputs/2023-03-24/02-28-09 Model name = 20230223_131935SegVPRencD3\n",
    "\n",
    "Date = 2023-03-24 Time = 06-51-13 Add: /home/shubham/Desktop/git/carla-roach/outputs/2023-03-24/06-51-13 Model name = 20230226_005522SegVPRencD4\n",
    "Date = 2023-03-24 Time = 09-59-05 Add: /home/shubham/Desktop/git/carla-roach/outputs/2023-03-24/09-59-05 Model name = 20230226_005522SegVPRencD4\n",
    "Date = 2023-03-24 Time = 17-36-44 Add: /home/shubham/Desktop/git/carla-roach/outputs/2023-03-24/17-36-44 Model name = 20230226_005522SegVPRencD4\n",
    "Date = 2023-03-24 Time = 23-23-50 Add: /home/shubham/Desktop/git/carla-roach/outputs/2023-03-24/23-23-50 Model name = 20230226_005522SegVPRencD4\n",
    "\n",
    "Date = 2023-03-27 Time = 10-39-26 Add: /home/shubham/Desktop/git/carla-roach/outputs/2023-03-27/10-39-26 Model name = 20230227_074626SegVPRencD5\n",
    "Date = 2023-03-27 Time = 13-46-04 Add: /home/shubham/Desktop/git/carla-roach/outputs/2023-03-27/13-46-04 Model name = 20230227_074626SegVPRencD5\n",
    "Date = 2023-03-27 Time = 21-54-07 Add: /home/shubham/Desktop/git/carla-roach/outputs/2023-03-27/21-54-07 Model name = 20230227_074626SegVPRencD5\n",
    "Date = 2023-03-28 Time = 04-28-35 Add: /home/shubham/Desktop/git/carla-roach/outputs/2023-03-28/04-28-35 Model name = 20230227_074626SegVPRencD5\n",
    "\n",
    "Date = 2023-03-28 Time = 09-29-08 Add: /home/shubham/Desktop/git/carla-roach/outputs/2023-03-28/09-29-08 Model name = 20230130_105732LbModeBaseline\n",
    "Date = 2023-03-28 Time = 11-58-40 Add: /home/shubham/Desktop/git/carla-roach/outputs/2023-03-28/11-58-40 Model name = 20230130_105732LbModeBaseline\n",
    "Date = 2023-03-28 Time = 17-05-31 Add: /home/shubham/Desktop/git/carla-roach/outputs/2023-03-28/17-05-31 Model name = 20230130_105732LbModeBaseline\n",
    "Date = 2023-03-28 Time = 17-34-19 Add: /home/shubham/Desktop/git/carla-roach/outputs/2023-03-28/17-34-19 Model name = 20230130_105732LbModeBaseline\n",
    "Date = 2023-03-28 Time = 21-06-33 Add: /home/shubham/Desktop/git/carla-roach/outputs/2023-03-28/21-06-33 Model name = 20230130_105732LbModeBaseline\n",
    "\n",
    "Date = 2023-03-31 Time = 07-55-18 Add: /home/shubham/Desktop/git/carla-roach/outputs/2023-03-31/07-55-18 Model name = 20230131_025157LbModeBaselineD1\n",
    "Date = 2023-03-31 Time = 11-15-43 Add: /home/shubham/Desktop/git/carla-roach/outputs/2023-03-31/11-15-43 Model name = 20230131_025157LbModeBaselineD1\n",
    "Date = 2023-03-31 Time = 16-51-26 Add: /home/shubham/Desktop/git/carla-roach/outputs/2023-03-31/16-51-26 Model name = 20230131_025157LbModeBaselineD1\n",
    "Date = 2023-03-31 Time = 20-34-11 Add: /home/shubham/Desktop/git/carla-roach/outputs/2023-03-31/20-34-11 Model name = 20230131_025157LbModeBaselineD1\n",
    "\n",
    "Date = 2023-04-01 Time = 00-24-40 Add: /home/shubham/Desktop/git/carla-roach/outputs/2023-04-01/00-24-40 Model name = 20230131_184744LbModeBaselineD2\n",
    "Date = 2023-04-01 Time = 03-34-51 Add: /home/shubham/Desktop/git/carla-roach/outputs/2023-04-01/03-34-51 Model name = 20230131_184744LbModeBaselineD2\n",
    "Date = 2023-04-01 Time = 10-40-00 Add: /home/shubham/Desktop/git/carla-roach/outputs/2023-04-01/10-40-00 Model name = 20230131_184744LbModeBaselineD2\n",
    "Date = 2023-04-01 Time = 14-55-32 Add: /home/shubham/Desktop/git/carla-roach/outputs/2023-04-01/14-55-32 Model name = 20230131_184744LbModeBaselineD2\n",
    "\n",
    "Date = 2023-04-02 Time = 10-58-46 Add: /home/shubham/Desktop/git/carla-roach/outputs/2023-04-02/10-58-46 Model name = 20230301_220308LbModeBaselineD3\n",
    "Date = 2023-04-02 Time = 13-38-59 Add: /home/shubham/Desktop/git/carla-roach/outputs/2023-04-02/13-38-59 Model name = 20230301_220308LbModeBaselineD3\n",
    "Date = 2023-04-02 Time = 19-33-32 Add: /home/shubham/Desktop/git/carla-roach/outputs/2023-04-02/19-33-32 Model name = 20230301_220308LbModeBaselineD3\n",
    "Date = 2023-04-03 Time = 00-20-44 Add: /home/shubham/Desktop/git/carla-roach/outputs/2023-04-03/00-20-44 Model name = 20230301_220308LbModeBaselineD3\n",
    "\n",
    "Date = 2023-04-03 Time = 04-39-11 Add: /home/shubham/Desktop/git/carla-roach/outputs/2023-04-03/04-39-11 Model name = 20230302_202806LbModeBaselineD4\n",
    "Date = 2023-04-03 Time = 07-27-28 Add: /home/shubham/Desktop/git/carla-roach/outputs/2023-04-03/07-27-28 Model name = 20230302_202806LbModeBaselineD4\n",
    "Date = 2023-04-03 Time = 13-42-53 Add: /home/shubham/Desktop/git/carla-roach/outputs/2023-04-03/13-42-53 Model name = 20230302_202806LbModeBaselineD4\n",
    "Date = 2023-04-03 Time = 17-46-19 Add: /home/shubham/Desktop/git/carla-roach/outputs/2023-04-03/17-46-19 Model name = 20230302_202806LbModeBaselineD4\n",
    "\n",
    "Date = 2023-04-04 Time = 10-01-20 Add: /home/shubham/Desktop/git/carla-roach/outputs/2023-04-04/10-01-20 Model name = 20230327_110716LbModeBaselineD5_v2\n",
    "Date = 2023-04-04 Time = 12-59-46 Add: /home/shubham/Desktop/git/carla-roach/outputs/2023-04-04/12-59-46 Model name = 20230327_110716LbModeBaselineD5_v2\n",
    "Date = 2023-04-04 Time = 19-14-28 Add: /home/shubham/Desktop/git/carla-roach/outputs/2023-04-04/19-14-28 Model name = 20230327_110716LbModeBaselineD5_v2\n",
    "Date = 2023-04-05 Time = 00-23-23 Add: /home/shubham/Desktop/git/carla-roach/outputs/2023-04-05/00-23-23 Model name = 20230327_110716LbModeBaselineD5_v2"
   ]
  },
  {
   "cell_type": "code",
   "execution_count": null,
   "id": "175d47f5-d8da-4e21-8b12-f13961c9f112",
   "metadata": {},
   "outputs": [],
   "source": [
    "s0 = [\n",
    "\"/home/shubham/Desktop/git/carla-roach/outputs/2023-03-18/21-49-08\",\n",
    "\"/home/shubham/Desktop/git/carla-roach/outputs/2023-03-19/00-43-07\",\n",
    "\"/home/shubham/Desktop/git/carla-roach/outputs/2023-03-19/05-02-57\",\n",
    "\"/home/shubham/Desktop/git/carla-roach/outputs/2023-03-19/08-57-26\"\n",
    "]\n",
    "\n",
    "s1 = [\n",
    "\"/home/shubham/Desktop/git/carla-roach/outputs/jointly_made/2023-03-19/23-33-48\",\n",
    "\"/home/shubham/Desktop/git/carla-roach/outputs/2023-03-20/02-27-18\",\n",
    "\"/home/shubham/Desktop/git/carla-roach/outputs/2023-03-20/08-41-51\",\n",
    "\"/home/shubham/Desktop/git/carla-roach/outputs/2023-03-20/12-57-34\",\n",
    "]\n",
    "\n",
    "s2 = [\n",
    "\"/home/shubham/Desktop/git/carla-roach/outputs/2023-03-20/17-43-55\",\n",
    "\"/home/shubham/Desktop/git/carla-roach/outputs/2023-03-20/21-10-16\",\n",
    "\"/home/shubham/Desktop/git/carla-roach/outputs/2023-03-21/04-32-29\",\n",
    "\"/home/shubham/Desktop/git/carla-roach/outputs/2023-03-21/10-33-40\",\n",
    "]\n",
    "\n",
    "s3 = [\n",
    "\"/home/shubham/Desktop/git/carla-roach/outputs/2023-03-23/10-18-54\",\n",
    "\"/home/shubham/Desktop/git/carla-roach/outputs/2023-03-23/13-35-15\",\n",
    "\"/home/shubham/Desktop/git/carla-roach/outputs/2023-03-23/20-45-31\",\n",
    "\"/home/shubham/Desktop/git/carla-roach/outputs/2023-03-24/02-28-09\",\n",
    "]\n",
    "\n",
    "s4 = [\n",
    "\"/home/shubham/Desktop/git/carla-roach/outputs/2023-03-24/06-51-13\",\n",
    "\"/home/shubham/Desktop/git/carla-roach/outputs/2023-03-24/09-59-05\",\n",
    "\"/home/shubham/Desktop/git/carla-roach/outputs/2023-03-24/17-36-44\",\n",
    "\"/home/shubham/Desktop/git/carla-roach/outputs/2023-03-24/23-23-50\",\n",
    "]\n",
    "\n",
    "s5 = [\n",
    "\"/home/shubham/Desktop/git/carla-roach/outputs/2023-03-27/10-39-26\",\n",
    "\"/home/shubham/Desktop/git/carla-roach/outputs/2023-03-27/13-46-04\",\n",
    "\"/home/shubham/Desktop/git/carla-roach/outputs/2023-03-27/21-54-07\",\n",
    "\"/home/shubham/Desktop/git/carla-roach/outputs/2023-03-28/04-28-35\",\n",
    "]\n",
    "\n",
    "\n",
    "b0 = [\n",
    "\"/home/shubham/Desktop/git/carla-roach/outputs/2023-03-28/09-29-08\",\n",
    "\"/home/shubham/Desktop/git/carla-roach/outputs/jointly_made/2023-03-28/11-58-40\",\n",
    "\"/home/shubham/Desktop/git/carla-roach/outputs/2023-03-28/17-34-19\",\n",
    "\"/home/shubham/Desktop/git/carla-roach/outputs/2023-03-28/21-06-33\",\n",
    "]\n",
    "    \n",
    "b1 = [\n",
    "\"/home/shubham/Desktop/git/carla-roach/outputs/2023-03-31/07-55-18\",\n",
    "\"/home/shubham/Desktop/git/carla-roach/outputs/2023-03-31/11-15-43\",\n",
    "\"/home/shubham/Desktop/git/carla-roach/outputs/2023-03-31/16-51-26\",\n",
    "\"/home/shubham/Desktop/git/carla-roach/outputs/2023-03-31/20-34-11\",\n",
    "\n",
    "]\n",
    "    \n",
    "b2 = [\n",
    "\"/home/shubham/Desktop/git/carla-roach/outputs/2023-04-01/00-24-40\",\n",
    "\"/home/shubham/Desktop/git/carla-roach/outputs/2023-04-01/03-34-51\",\n",
    "\"/home/shubham/Desktop/git/carla-roach/outputs/2023-04-01/10-40-00\",\n",
    "\"/home/shubham/Desktop/git/carla-roach/outputs/2023-04-01/14-55-32\",\n",
    "\n",
    "]\n",
    "    \n",
    "b3 = [\n",
    "\"/home/shubham/Desktop/git/carla-roach/outputs/2023-04-02/10-58-46\",\n",
    "\"/home/shubham/Desktop/git/carla-roach/outputs/2023-04-02/13-38-59\",\n",
    "\"/home/shubham/Desktop/git/carla-roach/outputs/2023-04-02/19-33-32\",\n",
    "\"/home/shubham/Desktop/git/carla-roach/outputs/2023-04-03/00-20-44\",\n",
    "\n",
    "]\n",
    "    \n",
    "b4 = [\n",
    "\"/home/shubham/Desktop/git/carla-roach/outputs/2023-04-03/04-39-11\",\n",
    "\"/home/shubham/Desktop/git/carla-roach/outputs/2023-04-03/07-27-28\",\n",
    "\"/home/shubham/Desktop/git/carla-roach/outputs/2023-04-03/13-42-53\",\n",
    "\"/home/shubham/Desktop/git/carla-roach/outputs/2023-04-03/17-46-19\",\n",
    "]\n",
    "    \n",
    "b5 = [\n",
    "\"/home/shubham/Desktop/git/carla-roach/outputs/2023-04-04/10-01-20\",\n",
    "\"/home/shubham/Desktop/git/carla-roach/outputs/2023-04-04/12-59-46\",\n",
    "\"/home/shubham/Desktop/git/carla-roach/outputs/2023-04-04/19-14-28\",\n",
    "\"/home/shubham/Desktop/git/carla-roach/outputs/2023-04-05/00-23-23\",\n",
    "]\n"
   ]
  },
  {
   "cell_type": "code",
   "execution_count": null,
   "id": "bc47d663-cf74-4267-a853-739734004114",
   "metadata": {},
   "outputs": [
    {
     "name": "stdout",
     "output_type": "stream",
     "text": [
      "Score: 6/20\n",
      "Score: 5/40\n",
      "Score: 2/20\n",
      "Score: 6/20\n",
      "Score: 13/20\n",
      "Score: 10/40\n",
      "Score: 4/20\n",
      "Score: 3/20\n",
      "Score: 13/20\n",
      "Score: 16/40\n",
      "Score: 5/20\n",
      "Score: 7/20\n",
      "Score: 10/20\n",
      "Score: 19/40\n",
      "Score: 8/20\n",
      "Score: 5/20\n",
      "Score: 16/20\n",
      "Score: 21/40\n",
      "Score: 8/20\n",
      "Score: 10/20\n",
      "Score: 19/20\n",
      "Score: 21/40\n",
      "Score: 13/20\n",
      "Score: 9/20\n"
     ]
    }
   ],
   "source": [
    "b_scores = []\n",
    "for b in [b0,b1,b2,b3,b4,b5]:\n",
    "    b_scores.append(calc_success_rate(b))"
   ]
  },
  {
   "cell_type": "code",
   "execution_count": null,
   "id": "57889a62-bbef-42ec-a14d-317e14a6cd9f",
   "metadata": {},
   "outputs": [
    {
     "name": "stdout",
     "output_type": "stream",
     "text": [
      "Score: 0/20\n",
      "Score: 5/40\n",
      "Score: 2/20\n",
      "Score: 3/20\n",
      "Score: 15/19\n",
      "Score: 15/40\n",
      "Score: 8/20\n",
      "Score: 8/20\n",
      "Score: 19/20\n",
      "Score: 25/40\n",
      "Score: 13/20\n",
      "Score: 10/20\n",
      "Score: 16/20\n",
      "Score: 22/40\n",
      "Score: 13/20\n",
      "Score: 7/20\n",
      "Score: 18/20\n",
      "Score: 34/40\n",
      "Score: 15/20\n",
      "Score: 19/20\n",
      "Score: 18/20\n",
      "Score: 28/40\n",
      "Score: 15/20\n",
      "Score: 10/20\n"
     ]
    }
   ],
   "source": [
    "s_scores = []\n",
    "for s in [s0,s1,s2,s3,s4,s5]:\n",
    "    s_scores.append(calc_success_rate(s))"
   ]
  },
  {
   "cell_type": "code",
   "execution_count": null,
   "id": "c9508592-7cde-493a-bc1a-08d111c2c4d1",
   "metadata": {},
   "outputs": [
    {
     "data": {
      "image/png": "[encoded data removed]",
      "text/plain": [
       "<Figure size 432x288 with 1 Axes>"
      ]
     },
     "metadata": {
      "needs_background": "light"
     },
     "output_type": "display_data"
    }
   ],
   "source": [
    "import matplotlib.pyplot as plt\n",
    "import numpy as np\n",
    "\n",
    "ypoints = np.array([3, 8, 1, 10])\n",
    "\n",
    "plt.plot([0,1,2,3,4,5], np.array(s_scores), '.', linestyle = 'dotted', linewidth=3, label='SegVPR Encoded',markersize=15)\n",
    "plt.plot([0,1,2,3,4,5], np.array(b_scores), '.', linestyle = 'dotted', linewidth=3, label='Baseline',markersize=15)\n",
    "plt.legend(prop={'size': 10})\n",
    "plt.xlabel('Data aggregation iterations')\n",
    "plt.ylabel('Success rate (%)')\n",
    "# plt.savefig('/home/shubham/Desktop/plots/SuccessRate.png', dpi=400)\n",
    "# plt.savefig('/home/shubham/Desktop/plots/VPRvsBaseline.pgf')\n",
    "plt.show()"
   ]
  },
  {
   "cell_type": "code",
   "execution_count": null,
   "id": "829cb17a-8ebd-430f-b861-4dc127a1f5c0",
   "metadata": {},
   "outputs": [],
   "source": []
  },
  {
   "cell_type": "code",
   "execution_count": null,
   "id": "7dba9ae7-1fd5-4777-9822-00dae0ffe949",
   "metadata": {},
   "outputs": [],
   "source": [
    "b_ratios = []\n",
    "for b in [b0,b1,b2,b3,b4,b5]:\n",
    "    b_ratios.append(route_completion_ratio(b))"
   ]
  },
  {
   "cell_type": "code",
   "execution_count": null,
   "id": "c2bce042-4a8b-4776-8918-6310d0c08a16",
   "metadata": {},
   "outputs": [],
   "source": [
    "s_ratios = []\n",
    "for s in [s0,s1,s2,s3,s4,s5]:\n",
    "    s_ratios.append(route_completion_ratio(s))"
   ]
  },
  {
   "cell_type": "code",
   "execution_count": null,
   "id": "92a2ce68-7d87-41ed-a6cb-149c197c7960",
   "metadata": {},
   "outputs": [
    {
     "data": {
      "image/png": "[encoded data removed]",
      "text/plain": [
       "<Figure size 432x288 with 1 Axes>"
      ]
     },
     "metadata": {
      "needs_background": "light"
     },
     "output_type": "display_data"
    }
   ],
   "source": [
    "import matplotlib.pyplot as plt\n",
    "import numpy as np\n",
    "\n",
    "\n",
    "plt.plot([0,1,2,3,4,5], np.array(s_ratios), '.', linestyle = 'dotted', linewidth=3, label='SegVPR Encoded',markersize=15)\n",
    "plt.plot([0,1,2,3,4,5], np.array(b_ratios), '.', linestyle = 'dotted', linewidth=3, label='Baseline',markersize=15)\n",
    "plt.legend(prop={'size': 10})\n",
    "plt.xlabel('Data aggregation iterations')\n",
    "plt.ylabel('Ratio of dist traveled to total dist (%)')\n",
    "# plt.savefig('/home/shubham/Desktop/plots/RouteRatio.png', dpi=400)\n",
    "# plt.savefig('/home/shubham/Desktop/plots/VPRvsBaseline.pgf')\n",
    "plt.show()"
   ]
  },
  {
   "cell_type": "code",
   "execution_count": null,
   "id": "3e0598ef-55a6-4025-950a-a4d7a933576d",
   "metadata": {},
   "outputs": [],
   "source": []
  },
  {
   "cell_type": "markdown",
   "id": "60e1427b-bbfe-4cd5-b381-792b40b52cbe",
   "metadata": {},
   "source": [
    "# Seed 2 and 3"
   ]
  },
  {
   "cell_type": "code",
   "execution_count": null,
   "id": "024226b4-b035-4e4a-9687-3c9b2dbf9eb3",
   "metadata": {},
   "outputs": [
    {
     "name": "stdout",
     "output_type": "stream",
     "text": [
      "Date = 2023-03-06 Time = 00-18-45 Add: /home/shubham/Desktop/git/carla-roach/outputs/2023-03-06/00-18-45 Model name = 20230302_202806LbModeBaselineD4\n",
      "Date = 2023-03-06 Time = 03-37-31 Add: /home/shubham/Desktop/git/carla-roach/outputs/2023-03-06/03-37-31 Model name = 20230303_180104LbModeBaselineD5\n",
      "Date = 2023-03-06 Time = 08-06-38 Add: /home/shubham/Desktop/git/carla-roach/outputs/2023-03-06/08-06-38 Model name = 20230301_220308LbModeBaselineD3\n",
      "Date = 2023-03-06 Time = 10-48-17 Add: /home/shubham/Desktop/git/carla-roach/outputs/2023-03-06/10-48-17 Model name = 20230302_202806LbModeBaselineD4\n",
      "Date = 2023-03-06 Time = 13-35-29 Add: /home/shubham/Desktop/git/carla-roach/outputs/2023-03-06/13-35-29 Model name = 20230303_180104LbModeBaselineD5\n",
      "Date = 2023-03-06 Time = 23-01-01 Add: /home/shubham/Desktop/git/carla-roach/outputs/2023-03-06/23-01-01 Model name = 20230227_074626SegVPRencD5\n",
      "Date = 2023-03-07 Time = 01-34-21 Add: /home/shubham/Desktop/git/carla-roach/outputs/2023-03-07/01-34-21 Model name = 20230227_074626SegVPRencD5\n",
      "Date = 2023-03-07 Time = 09-23-15 Add: /home/shubham/Desktop/git/carla-roach/outputs/2023-03-07/09-23-15 Model name = 20230227_074626SegVPRencD5\n",
      "Date = 2023-03-07 Time = 14-18-34 Add: /home/shubham/Desktop/git/carla-roach/outputs/2023-03-07/14-18-34 Model name = 20230303_180104LbModeBaselineD5\n",
      "Date = 2023-03-07 Time = 16-49-10 Add: /home/shubham/Desktop/git/carla-roach/outputs/2023-03-07/16-49-10 Model name = 20230303_180104LbModeBaselineD5\n",
      "Date = 2023-03-08 Time = 00-55-41 Add: /home/shubham/Desktop/git/carla-roach/outputs/2023-03-08/00-55-41 Model name = 20230303_180104LbModeBaselineD5\n",
      "Date = 2023-03-08 Time = 09-19-56 Add: /home/shubham/Desktop/git/carla-roach/outputs/2023-03-08/09-19-56 Model name = 20230301_220308LbModeBaselineD3\n",
      "Date = 2023-03-08 Time = 10-59-48 Add: /home/shubham/Desktop/git/carla-roach/outputs/2023-03-08/10-59-48 Model name = 20230301_220308LbModeBaselineD3\n",
      "Date = 2023-03-08 Time = 15-59-18 Add: /home/shubham/Desktop/git/carla-roach/outputs/2023-03-08/15-59-18 Model name = 20230301_220308LbModeBaselineD3\n",
      "Date = 2023-03-08 Time = 19-21-15 Add: /home/shubham/Desktop/git/carla-roach/outputs/2023-03-08/19-21-15 Model name = 20230223_131935SegVPRencD3\n",
      "Date = 2023-03-08 Time = 21-40-31 Add: /home/shubham/Desktop/git/carla-roach/outputs/2023-03-08/21-40-31 Model name = 20230223_131935SegVPRencD3\n",
      "Date = 2023-03-09 Time = 03-16-45 Add: /home/shubham/Desktop/git/carla-roach/outputs/2023-03-09/03-16-45 Model name = 20230223_131935SegVPRencD3\n",
      "Date = 2023-03-09 Time = 23-57-36 Add: /home/shubham/Desktop/git/carla-roach/outputs/2023-03-09/23-57-36 Model name = 20230302_202806LbModeBaselineD4\n",
      "Date = 2023-03-10 Time = 02-25-05 Add: /home/shubham/Desktop/git/carla-roach/outputs/2023-03-10/02-25-05 Model name = 20230302_202806LbModeBaselineD4\n",
      "Date = 2023-03-10 Time = 07-01-28 Add: /home/shubham/Desktop/git/carla-roach/outputs/2023-03-10/07-01-28 Model name = 20230302_202806LbModeBaselineD4\n",
      "Date = 2023-03-10 Time = 10-43-41 Add: /home/shubham/Desktop/git/carla-roach/outputs/2023-03-10/10-43-41 Model name = 20230226_005522SegVPRencD4\n",
      "Date = 2023-03-10 Time = 13-02-56 Add: /home/shubham/Desktop/git/carla-roach/outputs/2023-03-10/13-02-56 Model name = 20230226_005522SegVPRencD4\n",
      "Date = 2023-03-10 Time = 20-56-30 Add: /home/shubham/Desktop/git/carla-roach/outputs/2023-03-10/20-56-30 Model name = 20230226_005522SegVPRencD4\n",
      "Date = 2023-03-11 Time = 18-57-18 Add: /home/shubham/Desktop/git/carla-roach/outputs/2023-03-11/18-57-18 Model name = 20230131_025157LbModeBaselineD1\n",
      "Date = 2023-03-11 Time = 20-09-08 Add: /home/shubham/Desktop/git/carla-roach/outputs/2023-03-11/20-09-08 Model name = 20230131_025157LbModeBaselineD1\n",
      "Date = 2023-03-12 Time = 00-30-42 Add: /home/shubham/Desktop/git/carla-roach/outputs/2023-03-12/00-30-42 Model name = 20230131_025157LbModeBaselineD1\n",
      "Date = 2023-03-12 Time = 05-16-22 Add: /home/shubham/Desktop/git/carla-roach/outputs/2023-03-12/05-16-22 Model name = 20230220_231756SegVPRencD1\n",
      "Date = 2023-03-12 Time = 07-50-57 Add: /home/shubham/Desktop/git/carla-roach/outputs/2023-03-12/07-50-57 Model name = 20230220_231756SegVPRencD1\n",
      "Date = 2023-03-12 Time = 12-48-02 Add: /home/shubham/Desktop/git/carla-roach/outputs/2023-03-12/12-48-02 Model name = 20230220_231756SegVPRencD1\n",
      "Date = 2023-03-13 Time = 07-09-16 Add: /home/shubham/Desktop/git/carla-roach/outputs/2023-03-13/07-09-16 Model name = 20230130_105732LbModeBaseline\n",
      "Date = 2023-03-13 Time = 07-48-55 Add: /home/shubham/Desktop/git/carla-roach/outputs/2023-03-13/07-48-55 Model name = 20230130_105732LbModeBaseline\n",
      "Date = 2023-03-13 Time = 11-01-27 Add: /home/shubham/Desktop/git/carla-roach/outputs/2023-03-13/11-01-27 Model name = 20230130_105732LbModeBaseline\n",
      "Date = 2023-03-13 Time = 14-51-33 Add: /home/shubham/Desktop/git/carla-roach/outputs/2023-03-13/14-51-33 Model name = 20230220_010526SegVPRenc\n",
      "Date = 2023-03-13 Time = 15-29-19 Add: /home/shubham/Desktop/git/carla-roach/outputs/2023-03-13/15-29-19 Model name = 20230220_010526SegVPRenc\n",
      "Date = 2023-03-13 Time = 19-59-05 Add: /home/shubham/Desktop/git/carla-roach/outputs/2023-03-13/19-59-05 Model name = 20230220_010526SegVPRenc\n",
      "Date = 2023-03-14 Time = 16-14-27 Add: /home/shubham/Desktop/git/carla-roach/outputs/2023-03-14/16-14-27 Model name = 20230131_184744LbModeBaselineD2\n",
      "Date = 2023-03-14 Time = 17-03-22 Add: /home/shubham/Desktop/git/carla-roach/outputs/2023-03-14/17-03-22 Model name = 20230131_184744LbModeBaselineD2\n",
      "Date = 2023-03-14 Time = 22-15-18 Add: /home/shubham/Desktop/git/carla-roach/outputs/2023-03-14/22-15-18 Model name = 20230131_184744LbModeBaselineD2\n",
      "Date = 2023-03-15 Time = 02-08-53 Add: /home/shubham/Desktop/git/carla-roach/outputs/2023-03-15/02-08-53 Model name = 20230221_205635SegVPRencD2\n",
      "Date = 2023-03-15 Time = 04-01-53 Add: /home/shubham/Desktop/git/carla-roach/outputs/2023-03-15/04-01-53 Model name = 20230221_205635SegVPRencD2\n",
      "Date = 2023-03-15 Time = 10-51-24 Add: /home/shubham/Desktop/git/carla-roach/outputs/2023-03-15/10-51-24 Model name = 20230221_205635SegVPRencD2\n",
      "Date = 2023-03-18 Time = 21-49-08 Add: /home/shubham/Desktop/git/carla-roach/outputs/2023-03-18/21-49-08 Model name = 20230220_010526SegVPRenc\n",
      "Date = 2023-03-19 Time = 00-43-07 Add: /home/shubham/Desktop/git/carla-roach/outputs/2023-03-19/00-43-07 Model name = 20230220_010526SegVPRenc\n",
      "Date = 2023-03-19 Time = 05-02-57 Add: /home/shubham/Desktop/git/carla-roach/outputs/2023-03-19/05-02-57 Model name = 20230220_010526SegVPRenc\n",
      "Date = 2023-03-19 Time = 08-57-26 Add: /home/shubham/Desktop/git/carla-roach/outputs/2023-03-19/08-57-26 Model name = 20230220_010526SegVPRenc\n",
      "Date = 2023-03-19 Time = 23-18-18 Add: /home/shubham/Desktop/git/carla-roach/outputs/2023-03-19/23-18-18 Model name = 20230220_231756SegVPRencD1\n",
      "Date = 2023-03-19 Time = 23-33-48 Add: /home/shubham/Desktop/git/carla-roach/outputs/2023-03-19/23-33-48 Model name = 20230220_231756SegVPRencD1\n",
      "Date = 2023-03-20 Time = 02-27-18 Add: /home/shubham/Desktop/git/carla-roach/outputs/2023-03-20/02-27-18 Model name = 20230220_231756SegVPRencD1\n",
      "Date = 2023-03-20 Time = 08-41-51 Add: /home/shubham/Desktop/git/carla-roach/outputs/2023-03-20/08-41-51 Model name = 20230220_231756SegVPRencD1\n",
      "Date = 2023-03-20 Time = 12-57-34 Add: /home/shubham/Desktop/git/carla-roach/outputs/2023-03-20/12-57-34 Model name = 20230220_231756SegVPRencD1\n",
      "Date = 2023-03-20 Time = 17-43-55 Add: /home/shubham/Desktop/git/carla-roach/outputs/2023-03-20/17-43-55 Model name = 20230221_205635SegVPRencD2\n",
      "Date = 2023-03-20 Time = 21-10-16 Add: /home/shubham/Desktop/git/carla-roach/outputs/2023-03-20/21-10-16 Model name = 20230221_205635SegVPRencD2\n",
      "Date = 2023-03-21 Time = 04-32-29 Add: /home/shubham/Desktop/git/carla-roach/outputs/2023-03-21/04-32-29 Model name = 20230221_205635SegVPRencD2\n",
      "Date = 2023-03-21 Time = 10-33-40 Add: /home/shubham/Desktop/git/carla-roach/outputs/2023-03-21/10-33-40 Model name = 20230221_205635SegVPRencD2\n",
      "Date = 2023-03-23 Time = 10-18-54 Add: /home/shubham/Desktop/git/carla-roach/outputs/2023-03-23/10-18-54 Model name = 20230223_131935SegVPRencD3\n",
      "Date = 2023-03-23 Time = 13-35-15 Add: /home/shubham/Desktop/git/carla-roach/outputs/2023-03-23/13-35-15 Model name = 20230223_131935SegVPRencD3\n",
      "Date = 2023-03-23 Time = 20-45-31 Add: /home/shubham/Desktop/git/carla-roach/outputs/2023-03-23/20-45-31 Model name = 20230223_131935SegVPRencD3\n",
      "Date = 2023-03-24 Time = 02-28-09 Add: /home/shubham/Desktop/git/carla-roach/outputs/2023-03-24/02-28-09 Model name = 20230223_131935SegVPRencD3\n",
      "Date = 2023-03-24 Time = 06-51-13 Add: /home/shubham/Desktop/git/carla-roach/outputs/2023-03-24/06-51-13 Model name = 20230226_005522SegVPRencD4\n",
      "Date = 2023-03-24 Time = 09-59-05 Add: /home/shubham/Desktop/git/carla-roach/outputs/2023-03-24/09-59-05 Model name = 20230226_005522SegVPRencD4\n",
      "Date = 2023-03-24 Time = 17-36-44 Add: /home/shubham/Desktop/git/carla-roach/outputs/2023-03-24/17-36-44 Model name = 20230226_005522SegVPRencD4\n",
      "Date = 2023-03-24 Time = 23-23-50 Add: /home/shubham/Desktop/git/carla-roach/outputs/2023-03-24/23-23-50 Model name = 20230226_005522SegVPRencD4\n",
      "Date = 2023-03-27 Time = 10-39-26 Add: /home/shubham/Desktop/git/carla-roach/outputs/2023-03-27/10-39-26 Model name = 20230227_074626SegVPRencD5\n",
      "Date = 2023-03-27 Time = 13-46-04 Add: /home/shubham/Desktop/git/carla-roach/outputs/2023-03-27/13-46-04 Model name = 20230227_074626SegVPRencD5\n",
      "Date = 2023-03-27 Time = 21-54-07 Add: /home/shubham/Desktop/git/carla-roach/outputs/2023-03-27/21-54-07 Model name = 20230227_074626SegVPRencD5\n",
      "Date = 2023-03-28 Time = 04-28-35 Add: /home/shubham/Desktop/git/carla-roach/outputs/2023-03-28/04-28-35 Model name = 20230227_074626SegVPRencD5\n",
      "Date = 2023-03-28 Time = 09-29-08 Add: /home/shubham/Desktop/git/carla-roach/outputs/2023-03-28/09-29-08 Model name = 20230130_105732LbModeBaseline\n",
      "Date = 2023-03-28 Time = 11-58-40 Add: /home/shubham/Desktop/git/carla-roach/outputs/2023-03-28/11-58-40 Model name = 20230130_105732LbModeBaseline\n",
      "Date = 2023-03-28 Time = 17-05-31 Add: /home/shubham/Desktop/git/carla-roach/outputs/2023-03-28/17-05-31 Model name = 20230130_105732LbModeBaseline\n",
      "Date = 2023-03-28 Time = 17-34-19 Add: /home/shubham/Desktop/git/carla-roach/outputs/2023-03-28/17-34-19 Model name = 20230130_105732LbModeBaseline\n",
      "Date = 2023-03-28 Time = 21-06-33 Add: /home/shubham/Desktop/git/carla-roach/outputs/2023-03-28/21-06-33 Model name = 20230130_105732LbModeBaseline\n",
      "Date = 2023-03-31 Time = 07-55-18 Add: /home/shubham/Desktop/git/carla-roach/outputs/2023-03-31/07-55-18 Model name = 20230131_025157LbModeBaselineD1\n",
      "Date = 2023-03-31 Time = 11-15-43 Add: /home/shubham/Desktop/git/carla-roach/outputs/2023-03-31/11-15-43 Model name = 20230131_025157LbModeBaselineD1\n",
      "Date = 2023-03-31 Time = 16-51-26 Add: /home/shubham/Desktop/git/carla-roach/outputs/2023-03-31/16-51-26 Model name = 20230131_025157LbModeBaselineD1\n",
      "Date = 2023-03-31 Time = 20-34-11 Add: /home/shubham/Desktop/git/carla-roach/outputs/2023-03-31/20-34-11 Model name = 20230131_025157LbModeBaselineD1\n",
      "Date = 2023-04-01 Time = 00-24-40 Add: /home/shubham/Desktop/git/carla-roach/outputs/2023-04-01/00-24-40 Model name = 20230131_184744LbModeBaselineD2\n",
      "Date = 2023-04-01 Time = 03-34-51 Add: /home/shubham/Desktop/git/carla-roach/outputs/2023-04-01/03-34-51 Model name = 20230131_184744LbModeBaselineD2\n",
      "Date = 2023-04-01 Time = 10-40-00 Add: /home/shubham/Desktop/git/carla-roach/outputs/2023-04-01/10-40-00 Model name = 20230131_184744LbModeBaselineD2\n",
      "Date = 2023-04-01 Time = 14-55-32 Add: /home/shubham/Desktop/git/carla-roach/outputs/2023-04-01/14-55-32 Model name = 20230131_184744LbModeBaselineD2\n",
      "Date = 2023-04-02 Time = 10-58-46 Add: /home/shubham/Desktop/git/carla-roach/outputs/2023-04-02/10-58-46 Model name = 20230301_220308LbModeBaselineD3\n",
      "Date = 2023-04-02 Time = 13-38-59 Add: /home/shubham/Desktop/git/carla-roach/outputs/2023-04-02/13-38-59 Model name = 20230301_220308LbModeBaselineD3\n",
      "Date = 2023-04-02 Time = 19-33-32 Add: /home/shubham/Desktop/git/carla-roach/outputs/2023-04-02/19-33-32 Model name = 20230301_220308LbModeBaselineD3\n",
      "Date = 2023-04-03 Time = 00-20-44 Add: /home/shubham/Desktop/git/carla-roach/outputs/2023-04-03/00-20-44 Model name = 20230301_220308LbModeBaselineD3\n",
      "Date = 2023-04-03 Time = 04-39-11 Add: /home/shubham/Desktop/git/carla-roach/outputs/2023-04-03/04-39-11 Model name = 20230302_202806LbModeBaselineD4\n",
      "Date = 2023-04-03 Time = 07-27-28 Add: /home/shubham/Desktop/git/carla-roach/outputs/2023-04-03/07-27-28 Model name = 20230302_202806LbModeBaselineD4\n",
      "Date = 2023-04-03 Time = 13-42-53 Add: /home/shubham/Desktop/git/carla-roach/outputs/2023-04-03/13-42-53 Model name = 20230302_202806LbModeBaselineD4\n",
      "Date = 2023-04-03 Time = 17-46-19 Add: /home/shubham/Desktop/git/carla-roach/outputs/2023-04-03/17-46-19 Model name = 20230302_202806LbModeBaselineD4\n",
      "Date = 2023-04-04 Time = 10-01-20 Add: /home/shubham/Desktop/git/carla-roach/outputs/2023-04-04/10-01-20 Model name = 20230327_110716LbModeBaselineD5_v2\n",
      "Date = 2023-04-04 Time = 12-59-46 Add: /home/shubham/Desktop/git/carla-roach/outputs/2023-04-04/12-59-46 Model name = 20230327_110716LbModeBaselineD5_v2\n",
      "Date = 2023-04-04 Time = 19-14-28 Add: /home/shubham/Desktop/git/carla-roach/outputs/2023-04-04/19-14-28 Model name = 20230327_110716LbModeBaselineD5_v2\n",
      "Date = 2023-04-05 Time = 00-23-23 Add: /home/shubham/Desktop/git/carla-roach/outputs/2023-04-05/00-23-23 Model name = 20230327_110716LbModeBaselineD5_v2\n",
      "Date = 2023-04-11 Time = 01-01-19 Add: /home/shubham/Desktop/git/carla-roach/outputs/2023-04-11/01-01-19 Model name = 20230220_010526SegVPRenc\n",
      "Date = 2023-04-11 Time = 04-03-41 Add: /home/shubham/Desktop/git/carla-roach/outputs/2023-04-11/04-03-41 Model name = 20230220_010526SegVPRenc\n",
      "Date = 2023-04-11 Time = 08-20-15 Add: /home/shubham/Desktop/git/carla-roach/outputs/2023-04-11/08-20-15 Model name = 20230220_010526SegVPRenc\n",
      "Date = 2023-04-11 Time = 13-08-39 Add: /home/shubham/Desktop/git/carla-roach/outputs/2023-04-11/13-08-39 Model name = 20230220_010526SegVPRenc\n",
      "Date = 2023-04-11 Time = 18-04-32 Add: /home/shubham/Desktop/git/carla-roach/outputs/2023-04-11/18-04-32 Model name = 20230220_231756SegVPRencD1\n",
      "Date = 2023-04-11 Time = 21-05-13 Add: /home/shubham/Desktop/git/carla-roach/outputs/2023-04-11/21-05-13 Model name = 20230220_231756SegVPRencD1\n",
      "Date = 2023-04-12 Time = 02-48-33 Add: /home/shubham/Desktop/git/carla-roach/outputs/2023-04-12/02-48-33 Model name = 20230220_231756SegVPRencD1\n",
      "Date = 2023-04-12 Time = 07-36-10 Add: /home/shubham/Desktop/git/carla-roach/outputs/2023-04-12/07-36-10 Model name = 20230220_231756SegVPRencD1\n",
      "Date = 2023-04-12 Time = 23-23-37 Add: /home/shubham/Desktop/git/carla-roach/outputs/2023-04-12/23-23-37 Model name = 20230221_205635SegVPRencD2\n",
      "Date = 2023-04-13 Time = 01-20-41 Add: /home/shubham/Desktop/git/carla-roach/outputs/2023-04-13/01-20-41 Model name = 20230221_205635SegVPRencD2\n",
      "Date = 2023-04-13 Time = 02-45-22 Add: /home/shubham/Desktop/git/carla-roach/outputs/2023-04-13/02-45-22 Model name = 20230221_205635SegVPRencD2\n",
      "Date = 2023-04-13 Time = 09-41-32 Add: /home/shubham/Desktop/git/carla-roach/outputs/2023-04-13/09-41-32 Model name = 20230221_205635SegVPRencD2\n",
      "Date = 2023-04-13 Time = 14-56-31 Add: /home/shubham/Desktop/git/carla-roach/outputs/2023-04-13/14-56-31 Model name = 20230221_205635SegVPRencD2\n",
      "Date = 2023-04-13 Time = 20-20-18 Add: /home/shubham/Desktop/git/carla-roach/outputs/2023-04-13/20-20-18 Model name = 20230223_131935SegVPRencD3\n",
      "Date = 2023-04-13 Time = 23-45-13 Add: /home/shubham/Desktop/git/carla-roach/outputs/2023-04-13/23-45-13 Model name = 20230223_131935SegVPRencD3\n",
      "Date = 2023-04-14 Time = 06-34-45 Add: /home/shubham/Desktop/git/carla-roach/outputs/2023-04-14/06-34-45 Model name = 20230223_131935SegVPRencD3\n",
      "Date = 2023-04-14 Time = 12-06-56 Add: /home/shubham/Desktop/git/carla-roach/outputs/2023-04-14/12-06-56 Model name = 20230223_131935SegVPRencD3\n",
      "Date = 2023-04-15 Time = 14-09-36 Add: /home/shubham/Desktop/git/carla-roach/outputs/2023-04-15/14-09-36 Model name = 20230226_005522SegVPRencD4\n",
      "Date = 2023-04-15 Time = 17-26-55 Add: /home/shubham/Desktop/git/carla-roach/outputs/2023-04-15/17-26-55 Model name = 20230226_005522SegVPRencD4\n",
      "Date = 2023-04-16 Time = 01-05-32 Add: /home/shubham/Desktop/git/carla-roach/outputs/2023-04-16/01-05-32 Model name = 20230226_005522SegVPRencD4\n",
      "Date = 2023-04-16 Time = 06-40-53 Add: /home/shubham/Desktop/git/carla-roach/outputs/2023-04-16/06-40-53 Model name = 20230226_005522SegVPRencD4\n",
      "Date = 2023-04-16 Time = 12-06-54 Add: /home/shubham/Desktop/git/carla-roach/outputs/2023-04-16/12-06-54 Model name = 20230227_074626SegVPRencD5\n",
      "Date = 2023-04-16 Time = 15-35-55 Add: /home/shubham/Desktop/git/carla-roach/outputs/2023-04-16/15-35-55 Model name = 20230227_074626SegVPRencD5\n",
      "Date = 2023-04-16 Time = 22-59-41 Add: /home/shubham/Desktop/git/carla-roach/outputs/2023-04-16/22-59-41 Model name = 20230227_074626SegVPRencD5\n",
      "Date = 2023-04-17 Time = 05-30-42 Add: /home/shubham/Desktop/git/carla-roach/outputs/2023-04-17/05-30-42 Model name = 20230227_074626SegVPRencD5\n",
      "Date = 2023-04-17 Time = 10-27-35 Add: /home/shubham/Desktop/git/carla-roach/outputs/2023-04-17/10-27-35 Model name = 20230130_105732LbModeBaseline\n",
      "Date = 2023-04-17 Time = 12-43-24 Add: /home/shubham/Desktop/git/carla-roach/outputs/2023-04-17/12-43-24 Model name = 20230130_105732LbModeBaseline\n",
      "Date = 2023-04-17 Time = 18-11-03 Add: /home/shubham/Desktop/git/carla-roach/outputs/2023-04-17/18-11-03 Model name = 20230130_105732LbModeBaseline\n",
      "Date = 2023-04-17 Time = 21-38-43 Add: /home/shubham/Desktop/git/carla-roach/outputs/2023-04-17/21-38-43 Model name = 20230130_105732LbModeBaseline\n",
      "Date = 2023-04-18 Time = 02-12-04 Add: /home/shubham/Desktop/git/carla-roach/outputs/2023-04-18/02-12-04 Model name = 20230131_025157LbModeBaselineD1\n",
      "Date = 2023-04-18 Time = 05-36-54 Add: /home/shubham/Desktop/git/carla-roach/outputs/2023-04-18/05-36-54 Model name = 20230131_025157LbModeBaselineD1\n",
      "Date = 2023-04-18 Time = 11-10-34 Add: /home/shubham/Desktop/git/carla-roach/outputs/2023-04-18/11-10-34 Model name = 20230131_025157LbModeBaselineD1\n",
      "Date = 2023-04-18 Time = 14-54-42 Add: /home/shubham/Desktop/git/carla-roach/outputs/2023-04-18/14-54-42 Model name = 20230131_025157LbModeBaselineD1\n",
      "Date = 2023-04-18 Time = 20-52-18 Add: /home/shubham/Desktop/git/carla-roach/outputs/2023-04-18/20-52-18 Model name = 20230131_184744LbModeBaselineD2\n",
      "Date = 2023-04-19 Time = 00-26-15 Add: /home/shubham/Desktop/git/carla-roach/outputs/2023-04-19/00-26-15 Model name = 20230131_184744LbModeBaselineD2\n",
      "Date = 2023-04-19 Time = 06-40-40 Add: /home/shubham/Desktop/git/carla-roach/outputs/2023-04-19/06-40-40 Model name = 20230131_184744LbModeBaselineD2\n",
      "Date = 2023-04-19 Time = 11-15-12 Add: /home/shubham/Desktop/git/carla-roach/outputs/2023-04-19/11-15-12 Model name = 20230131_184744LbModeBaselineD2\n",
      "Date = 2023-04-19 Time = 16-39-01 Add: /home/shubham/Desktop/git/carla-roach/outputs/2023-04-19/16-39-01 Model name = 20230301_220308LbModeBaselineD3\n",
      "Date = 2023-04-19 Time = 19-48-02 Add: /home/shubham/Desktop/git/carla-roach/outputs/2023-04-19/19-48-02 Model name = 20230301_220308LbModeBaselineD3\n",
      "Date = 2023-04-20 Time = 01-38-10 Add: /home/shubham/Desktop/git/carla-roach/outputs/2023-04-20/01-38-10 Model name = 20230301_220308LbModeBaselineD3\n",
      "Date = 2023-04-20 Time = 05-38-57 Add: /home/shubham/Desktop/git/carla-roach/outputs/2023-04-20/05-38-57 Model name = 20230301_220308LbModeBaselineD3\n",
      "Date = 2023-04-22 Time = 12-59-40 Add: /home/shubham/Desktop/git/carla-roach/outputs/2023-04-22/12-59-40 Model name = 20230302_202806LbModeBaselineD4\n",
      "Date = 2023-04-22 Time = 16-02-28 Add: /home/shubham/Desktop/git/carla-roach/outputs/2023-04-22/16-02-28 Model name = 20230302_202806LbModeBaselineD4\n",
      "Date = 2023-04-22 Time = 21-48-05 Add: /home/shubham/Desktop/git/carla-roach/outputs/2023-04-22/21-48-05 Model name = 20230302_202806LbModeBaselineD4\n",
      "Date = 2023-04-23 Time = 01-52-37 Add: /home/shubham/Desktop/git/carla-roach/outputs/2023-04-23/01-52-37 Model name = 20230302_202806LbModeBaselineD4\n",
      "Date = 2023-04-23 Time = 06-37-30 Add: /home/shubham/Desktop/git/carla-roach/outputs/2023-04-23/06-37-30 Model name = 20230327_110716LbModeBaselineD5_v2\n",
      "Date = 2023-04-23 Time = 10-03-27 Add: /home/shubham/Desktop/git/carla-roach/outputs/2023-04-23/10-03-27 Model name = 20230327_110716LbModeBaselineD5_v2\n",
      "Date = 2023-04-23 Time = 16-24-59 Add: /home/shubham/Desktop/git/carla-roach/outputs/2023-04-23/16-24-59 Model name = 20230327_110716LbModeBaselineD5_v2\n",
      "Date = 2023-04-23 Time = 21-40-14 Add: /home/shubham/Desktop/git/carla-roach/outputs/2023-04-23/21-40-14 Model name = 20230327_110716LbModeBaselineD5_v2\n",
      "Date = 2023-04-24 Time = 09-30-34 Add: /home/shubham/Desktop/git/carla-roach/outputs/2023-04-24/09-30-34 Model name = 20230220_010526SegVPRenc\n",
      "Date = 2023-04-24 Time = 12-15-50 Add: /home/shubham/Desktop/git/carla-roach/outputs/2023-04-24/12-15-50 Model name = 20230220_010526SegVPRenc\n",
      "Date = 2023-04-24 Time = 16-19-37 Add: /home/shubham/Desktop/git/carla-roach/outputs/2023-04-24/16-19-37 Model name = 20230220_010526SegVPRenc\n",
      "Date = 2023-04-24 Time = 19-50-20 Add: /home/shubham/Desktop/git/carla-roach/outputs/2023-04-24/19-50-20 Model name = 20230220_010526SegVPRenc\n",
      "Date = 2023-04-25 Time = 01-35-33 Add: /home/shubham/Desktop/git/carla-roach/outputs/2023-04-25/01-35-33 Model name = 20230220_231756SegVPRencD1\n",
      "Date = 2023-04-25 Time = 04-38-09 Add: /home/shubham/Desktop/git/carla-roach/outputs/2023-04-25/04-38-09 Model name = 20230220_231756SegVPRencD1\n",
      "Date = 2023-04-25 Time = 10-23-57 Add: /home/shubham/Desktop/git/carla-roach/outputs/2023-04-25/10-23-57 Model name = 20230220_231756SegVPRencD1\n",
      "Date = 2023-04-25 Time = 14-37-46 Add: /home/shubham/Desktop/git/carla-roach/outputs/2023-04-25/14-37-46 Model name = 20230220_231756SegVPRencD1\n",
      "Date = 2023-04-25 Time = 20-12-47 Add: /home/shubham/Desktop/git/carla-roach/outputs/2023-04-25/20-12-47 Model name = 20230221_205635SegVPRencD2\n",
      "Date = 2023-04-25 Time = 23-40-48 Add: /home/shubham/Desktop/git/carla-roach/outputs/2023-04-25/23-40-48 Model name = 20230221_205635SegVPRencD2\n",
      "Date = 2023-04-26 Time = 06-41-34 Add: /home/shubham/Desktop/git/carla-roach/outputs/2023-04-26/06-41-34 Model name = 20230221_205635SegVPRencD2\n",
      "Date = 2023-04-26 Time = 11-49-55 Add: /home/shubham/Desktop/git/carla-roach/outputs/2023-04-26/11-49-55 Model name = 20230221_205635SegVPRencD2\n",
      "Date = 2023-04-26 Time = 16-50-45 Add: /home/shubham/Desktop/git/carla-roach/outputs/2023-04-26/16-50-45 Model name = 20230223_131935SegVPRencD3\n",
      "Date = 2023-04-26 Time = 20-02-39 Add: /home/shubham/Desktop/git/carla-roach/outputs/2023-04-26/20-02-39 Model name = 20230223_131935SegVPRencD3\n",
      "Date = 2023-04-27 Time = 03-19-31 Add: /home/shubham/Desktop/git/carla-roach/outputs/2023-04-27/03-19-31 Model name = 20230223_131935SegVPRencD3\n",
      "Date = 2023-04-27 Time = 09-22-31 Add: /home/shubham/Desktop/git/carla-roach/outputs/2023-04-27/09-22-31 Model name = 20230223_131935SegVPRencD3\n",
      "Date = 2023-04-28 Time = 11-47-58 Add: /home/shubham/Desktop/git/carla-roach/outputs/2023-04-28/11-47-58 Model name = 20230226_005522SegVPRencD4\n",
      "Date = 2023-04-28 Time = 15-05-34 Add: /home/shubham/Desktop/git/carla-roach/outputs/2023-04-28/15-05-34 Model name = 20230226_005522SegVPRencD4\n",
      "Date = 2023-04-28 Time = 22-28-29 Add: /home/shubham/Desktop/git/carla-roach/outputs/2023-04-28/22-28-29 Model name = 20230226_005522SegVPRencD4\n",
      "Date = 2023-04-29 Time = 04-43-45 Add: /home/shubham/Desktop/git/carla-roach/outputs/2023-04-29/04-43-45 Model name = 20230226_005522SegVPRencD4\n",
      "Date = 2023-04-29 Time = 09-39-54 Add: /home/shubham/Desktop/git/carla-roach/outputs/2023-04-29/09-39-54 Model name = 20230227_074626SegVPRencD5\n",
      "Date = 2023-04-29 Time = 13-00-13 Add: /home/shubham/Desktop/git/carla-roach/outputs/2023-04-29/13-00-13 Model name = 20230227_074626SegVPRencD5\n",
      "Date = 2023-04-29 Time = 20-24-44 Add: /home/shubham/Desktop/git/carla-roach/outputs/2023-04-29/20-24-44 Model name = 20230227_074626SegVPRencD5\n",
      "Date = 2023-04-30 Time = 02-13-06 Add: /home/shubham/Desktop/git/carla-roach/outputs/2023-04-30/02-13-06 Model name = 20230227_074626SegVPRencD5\n",
      "Date = 2023-05-02 Time = 12-29-29 Add: /home/shubham/Desktop/git/carla-roach/outputs/2023-05-02/12-29-29 Model name = 20230130_105732LbModeBaseline\n",
      "Date = 2023-05-02 Time = 15-10-05 Add: /home/shubham/Desktop/git/carla-roach/outputs/2023-05-02/15-10-05 Model name = 20230130_105732LbModeBaseline\n",
      "Date = 2023-05-02 Time = 20-23-05 Add: /home/shubham/Desktop/git/carla-roach/outputs/2023-05-02/20-23-05 Model name = 20230130_105732LbModeBaseline\n",
      "Date = 2023-05-03 Time = 00-11-05 Add: /home/shubham/Desktop/git/carla-roach/outputs/2023-05-03/00-11-05 Model name = 20230130_105732LbModeBaseline\n",
      "Date = 2023-05-03 Time = 04-16-14 Add: /home/shubham/Desktop/git/carla-roach/outputs/2023-05-03/04-16-14 Model name = 20230131_025157LbModeBaselineD1\n",
      "Date = 2023-05-03 Time = 07-45-34 Add: /home/shubham/Desktop/git/carla-roach/outputs/2023-05-03/07-45-34 Model name = 20230131_025157LbModeBaselineD1\n",
      "Date = 2023-05-03 Time = 13-39-08 Add: /home/shubham/Desktop/git/carla-roach/outputs/2023-05-03/13-39-08 Model name = 20230131_025157LbModeBaselineD1\n",
      "Date = 2023-05-03 Time = 17-23-21 Add: /home/shubham/Desktop/git/carla-roach/outputs/2023-05-03/17-23-21 Model name = 20230131_025157LbModeBaselineD1\n"
     ]
    }
   ],
   "source": [
    "for each_date_folder in nn_list:\n",
    "    time_folders = sorted(list(glob(join(each_date_folder, '*'))))\n",
    "    for each_time_folder in time_folders:\n",
    "        model_name = yaml.load(open(join( each_time_folder,'config_agent.yaml')), Loader=SafeLoader)['ckpt'].split('/')[-3]\n",
    "        \n",
    "        print(f\"Date = {each_date_folder.split('/')[-1]} Time = {each_time_folder.split('/')[-1]} Add: {each_time_folder} Model name = {model_name}\")"
   ]
  },
  {
   "cell_type": "code",
   "execution_count": null,
   "id": "d658eae1-77e9-41c1-a8ec-c38b3de98e6c",
   "metadata": {},
   "outputs": [],
   "source": []
  },
  {
   "cell_type": "code",
   "execution_count": null,
   "id": "54fca067-9e52-410c-884b-220ee7ed106e",
   "metadata": {},
   "outputs": [],
   "source": [
    "s0 = [\n",
    "\"/home/shubham/Desktop/git/carla-roach/outputs/2023-04-11/01-01-19\",\n",
    "\"/home/shubham/Desktop/git/carla-roach/outputs/2023-04-11/04-03-41\",\n",
    "\"/home/shubham/Desktop/git/carla-roach/outputs/2023-04-11/08-20-15\",\n",
    "\"/home/shubham/Desktop/git/carla-roach/outputs/2023-04-11/13-08-39\"\n",
    "]\n",
    "\n",
    "s1 = [\n",
    "\"/home/shubham/Desktop/git/carla-roach/outputs/2023-04-11/18-04-32\",\n",
    "\"/home/shubham/Desktop/git/carla-roach/outputs/2023-04-11/21-05-13\",\n",
    "\"/home/shubham/Desktop/git/carla-roach/outputs/2023-04-12/02-48-33\",\n",
    "\"/home/shubham/Desktop/git/carla-roach/outputs/2023-04-12/07-36-10\"\n",
    "]\n",
    "\n",
    "s2 = [\n",
    "\"/home/shubham/Desktop/git/carla-roach/outputs/jointly_made/2023-04-12/23-23-37\",\n",
    "\"/home/shubham/Desktop/git/carla-roach/outputs/2023-04-13/02-45-22\",\n",
    "\"/home/shubham/Desktop/git/carla-roach/outputs/2023-04-13/09-41-32\",\n",
    "\"/home/shubham/Desktop/git/carla-roach/outputs/2023-04-13/14-56-31\",\n",
    "]\n",
    "\n",
    "s3 = [\n",
    "\"/home/shubham/Desktop/git/carla-roach/outputs/2023-04-13/20-20-18\",\n",
    "\"/home/shubham/Desktop/git/carla-roach/outputs/2023-04-13/23-45-13\",\n",
    "\"/home/shubham/Desktop/git/carla-roach/outputs/2023-04-14/06-34-45\",\n",
    "\"/home/shubham/Desktop/git/carla-roach/outputs/2023-04-14/12-06-56\"\n",
    "]\n",
    "\n",
    "s4 = [\n",
    "\"/home/shubham/Desktop/git/carla-roach/outputs/2023-04-15/14-09-36\",\n",
    "\"/home/shubham/Desktop/git/carla-roach/outputs/2023-04-15/17-26-55\",\n",
    "\"/home/shubham/Desktop/git/carla-roach/outputs/2023-04-16/01-05-32\",\n",
    "\"/home/shubham/Desktop/git/carla-roach/outputs/2023-04-16/06-40-53\"\n",
    "]\n",
    "\n",
    "s5 = [\n",
    "\"/home/shubham/Desktop/git/carla-roach/outputs/2023-04-16/12-06-54\",\n",
    "\"/home/shubham/Desktop/git/carla-roach/outputs/2023-04-16/15-35-55\",\n",
    "\"/home/shubham/Desktop/git/carla-roach/outputs/2023-04-16/22-59-41\",\n",
    "\"/home/shubham/Desktop/git/carla-roach/outputs/2023-04-17/05-30-42\"\n",
    "]\n",
    "\n",
    "\n",
    "\n",
    "b0 = [\n",
    "\"/home/shubham/Desktop/git/carla-roach/outputs/2023-04-17/10-27-35\",\n",
    "\"/home/shubham/Desktop/git/carla-roach/outputs/2023-04-17/12-43-24\",\n",
    "\"/home/shubham/Desktop/git/carla-roach/outputs/2023-04-17/18-11-03\",\n",
    "\"/home/shubham/Desktop/git/carla-roach/outputs/2023-04-17/21-38-43\",\n",
    "]\n",
    "\n",
    "b1 = [\n",
    "\"/home/shubham/Desktop/git/carla-roach/outputs/2023-04-18/02-12-04\",\n",
    "\"/home/shubham/Desktop/git/carla-roach/outputs/2023-04-18/05-36-54\",\n",
    "\"/home/shubham/Desktop/git/carla-roach/outputs/2023-04-18/11-10-34\",\n",
    "\"/home/shubham/Desktop/git/carla-roach/outputs/2023-04-18/14-54-42\",\n",
    "]\n",
    "\n",
    "b2 = [\n",
    "\"/home/shubham/Desktop/git/carla-roach/outputs/2023-04-18/20-52-18\",\n",
    "\"/home/shubham/Desktop/git/carla-roach/outputs/2023-04-19/00-26-15\",\n",
    "\"/home/shubham/Desktop/git/carla-roach/outputs/2023-04-19/06-40-40\",\n",
    "\"/home/shubham/Desktop/git/carla-roach/outputs/2023-04-19/11-15-12\",\n",
    "]\n",
    "\n",
    "b3 = [\n",
    "\"/home/shubham/Desktop/git/carla-roach/outputs/2023-04-19/16-39-01\",\n",
    "\"/home/shubham/Desktop/git/carla-roach/outputs/2023-04-19/19-48-02\",\n",
    "\"/home/shubham/Desktop/git/carla-roach/outputs/2023-04-20/01-38-10\",\n",
    "\"/home/shubham/Desktop/git/carla-roach/outputs/2023-04-20/05-38-57\",\n",
    "]\n",
    "\n",
    "b4 = [\n",
    "\"/home/shubham/Desktop/git/carla-roach/outputs/2023-04-22/12-59-40\",\n",
    "\"/home/shubham/Desktop/git/carla-roach/outputs/2023-04-22/16-02-28\",\n",
    "\"/home/shubham/Desktop/git/carla-roach/outputs/2023-04-22/21-48-05\",\n",
    "\"/home/shubham/Desktop/git/carla-roach/outputs/2023-04-23/01-52-37\",\n",
    "]\n",
    "\n",
    "b5 = [\n",
    "\"/home/shubham/Desktop/git/carla-roach/outputs/2023-04-23/06-37-30\",\n",
    "\"/home/shubham/Desktop/git/carla-roach/outputs/2023-04-23/10-03-27\",\n",
    "\"/home/shubham/Desktop/git/carla-roach/outputs/2023-04-23/16-24-59\",\n",
    "\"/home/shubham/Desktop/git/carla-roach/outputs/2023-04-23/21-40-14\",\n",
    "]\n",
    "\n"
   ]
  },
  {
   "cell_type": "code",
   "execution_count": null,
   "id": "ffaee663-6458-4ccd-8d1c-a94fb3b6c62c",
   "metadata": {},
   "outputs": [],
   "source": []
  },
  {
   "cell_type": "code",
   "execution_count": null,
   "id": "9e3fa0e9-af74-431d-9cb6-15609a62cf75",
   "metadata": {},
   "outputs": [
    {
     "name": "stdout",
     "output_type": "stream",
     "text": [
      "Score: 6/20\n",
      "Score: 6/40\n",
      "Score: 4/20\n",
      "Score: 4/20\n",
      "Score: 13/20\n",
      "Score: 10/40\n",
      "Score: 4/20\n",
      "Score: 7/20\n",
      "Score: 16/20\n",
      "Score: 18/40\n",
      "Score: 5/20\n",
      "Score: 6/20\n",
      "Score: 11/20\n",
      "Score: 17/40\n",
      "Score: 10/20\n",
      "Score: 9/20\n",
      "Score: 18/20\n",
      "Score: 20/40\n",
      "Score: 8/20\n",
      "Score: 11/20\n",
      "Score: 20/20\n",
      "Score: 22/40\n",
      "Score: 11/20\n",
      "Score: 12/20\n"
     ]
    }
   ],
   "source": [
    "b_scores = []\n",
    "for b in [b0,b1,b2,b3,b4,b5]:\n",
    "    b_scores.append(calc_success_rate(b))"
   ]
  },
  {
   "cell_type": "code",
   "execution_count": null,
   "id": "3ad497d4-4424-42ea-b0e3-bc0264e74231",
   "metadata": {},
   "outputs": [
    {
     "name": "stdout",
     "output_type": "stream",
     "text": [
      "Score: 0/20\n",
      "Score: 5/40\n",
      "Score: 3/20\n",
      "Score: 2/20\n",
      "Score: 16/20\n",
      "Score: 14/40\n",
      "Score: 7/20\n",
      "Score: 9/20\n",
      "Score: 15/20\n",
      "Score: 21/40\n",
      "Score: 10/20\n",
      "Score: 11/20\n",
      "Score: 17/20\n",
      "Score: 27/40\n",
      "Score: 14/20\n",
      "Score: 9/20\n",
      "Score: 19/20\n",
      "Score: 31/40\n",
      "Score: 13/20\n",
      "Score: 18/20\n",
      "Score: 18/20\n",
      "Score: 30/40\n",
      "Score: 16/20\n",
      "Score: 10/20\n"
     ]
    }
   ],
   "source": [
    "s_scores = []\n",
    "for s in [s0,s1,s2,s3,s4,s5]:\n",
    "    s_scores.append(calc_success_rate(s))"
   ]
  },
  {
   "cell_type": "code",
   "execution_count": null,
   "id": "69d59ee1-156e-4039-becb-813cab0bb7b9",
   "metadata": {},
   "outputs": [],
   "source": []
  },
  {
   "cell_type": "code",
   "execution_count": null,
   "id": "56436516-0601-4f61-a29e-93288a9aa22e",
   "metadata": {},
   "outputs": [
    {
     "data": {
      "image/png": "[encoded data removed]",
      "text/plain": [
       "<Figure size 432x288 with 1 Axes>"
      ]
     },
     "metadata": {
      "needs_background": "light"
     },
     "output_type": "display_data"
    }
   ],
   "source": [
    "import matplotlib.pyplot as plt\n",
    "import numpy as np\n",
    "\n",
    "ypoints = np.array([3, 8, 1, 10])\n",
    "\n",
    "plt.plot([0,1,2,3,4,5], np.array(s_scores), '.', linestyle = 'dotted', linewidth=3, label='SegVPR Encoded',markersize=15)\n",
    "plt.plot([0,1,2,3,4,5], np.array(b_scores), '.', linestyle = 'dotted', linewidth=3, label='Baseline',markersize=15)\n",
    "plt.legend(prop={'size': 10})\n",
    "plt.xlabel('Data aggregation iterations')\n",
    "plt.ylabel('Success rate (%)')\n",
    "# plt.savefig('/home/shubham/Desktop/plots/SuccessRate.png', dpi=400)\n",
    "# plt.savefig('/home/shubham/Desktop/plots/VPRvsBaseline.pgf')\n",
    "plt.show()"
   ]
  },
  {
   "cell_type": "code",
   "execution_count": null,
   "id": "8a8d7b23-ab4f-41a6-992f-d85838ee3301",
   "metadata": {},
   "outputs": [
    {
     "data": {
      "image/png": "[encoded data removed]",
      "text/plain": [
       "<Figure size 432x288 with 1 Axes>"
      ]
     },
     "metadata": {
      "needs_background": "light"
     },
     "output_type": "display_data"
    }
   ],
   "source": [
    "import matplotlib.pyplot as plt\n",
    "import numpy as np\n",
    "\n",
    "\n",
    "plt.plot([0,1,2,3,4,5], np.array(s_ratios), '.', linestyle = 'dotted', linewidth=3, label='SegVPR Encoded',markersize=15)\n",
    "plt.plot([0,1,2,3,4,5], np.array(b_ratios), '.', linestyle = 'dotted', linewidth=3, label='Baseline',markersize=15)\n",
    "plt.legend(prop={'size': 10})\n",
    "plt.xlabel('Data aggregation iterations')\n",
    "plt.ylabel('Ratio of dist traveled to total dist (%)')\n",
    "# plt.savefig('/home/shubham/Desktop/plots/RouteRatio.png', dpi=400)\n",
    "# plt.savefig('/home/shubham/Desktop/plots/VPRvsBaseline.pgf')\n",
    "plt.show()"
   ]
  },
  {
   "cell_type": "markdown",
   "id": "fd178b7f-54a6-4eb2-aa6f-6a1cd5dd8d23",
   "metadata": {},
   "source": [
    "### Getting seed from Other PC"
   ]
  },
  {
   "cell_type": "code",
   "execution_count": null,
   "id": "805a0640-6fd5-4bdd-9b95-32dac793cac9",
   "metadata": {},
   "outputs": [
    {
     "name": "stdout",
     "output_type": "stream",
     "text": [
      "Date = 2023-03-18 Time = 22-27-55 Add: /home/shubham/Desktop/git/carla-roach/outputs2/2023-03-18/22-27-55 Model name = 20230308_095313SegVPRAUGD2\n",
      "Date = 2023-03-23 Time = 11-24-35 Add: /home/shubham/Desktop/git/carla-roach/outputs2/2023-03-23/11-24-35 Model name = 20230302_202806LbModeBaselineD4\n",
      "Date = 2023-03-27 Time = 22-30-01 Add: /home/shubham/Desktop/git/carla-roach/outputs2/2023-03-27/22-30-01 Model name = 20230327_110716LbModeBaselineD5_v2\n",
      "Date = 2023-03-28 Time = 00-42-43 Add: /home/shubham/Desktop/git/carla-roach/outputs2/2023-03-28/00-42-43 Model name = 20230327_110716LbModeBaselineD5_v2\n",
      "Date = 2023-03-28 Time = 04-36-54 Add: /home/shubham/Desktop/git/carla-roach/outputs2/2023-03-28/04-36-54 Model name = 20230327_110716LbModeBaselineD5_v2\n",
      "Date = 2023-03-28 Time = 05-26-53 Add: /home/shubham/Desktop/git/carla-roach/outputs2/2023-03-28/05-26-53 Model name = 20230327_110716LbModeBaselineD5_v2\n",
      "Date = 2023-03-28 Time = 11-01-05 Add: /home/shubham/Desktop/git/carla-roach/outputs2/2023-03-28/11-01-05 Model name = 20230327_110716LbModeBaselineD5_v2\n",
      "Date = 2023-03-28 Time = 13-44-55 Add: /home/shubham/Desktop/git/carla-roach/outputs2/2023-03-28/13-44-55 Model name = 20230327_110716LbModeBaselineD5_v2\n",
      "Date = 2023-03-28 Time = 19-18-25 Add: /home/shubham/Desktop/git/carla-roach/outputs2/2023-03-28/19-18-25 Model name = 20230327_110716LbModeBaselineD5_v2\n",
      "Date = 2023-03-28 Time = 20-51-46 Add: /home/shubham/Desktop/git/carla-roach/outputs2/2023-03-28/20-51-46 Model name = 20230327_110716LbModeBaselineD5_v2\n",
      "Date = 2023-03-28 Time = 23-40-48 Add: /home/shubham/Desktop/git/carla-roach/outputs2/2023-03-28/23-40-48 Model name = 20230327_110716LbModeBaselineD5_v2\n",
      "Date = 2023-04-11 Time = 01-38-13 Add: /home/shubham/Desktop/git/carla-roach/outputs2/2023-04-11/01-38-13 Model name = 20230220_010526SegVPRenc\n",
      "Date = 2023-04-11 Time = 01-39-38 Add: /home/shubham/Desktop/git/carla-roach/outputs2/2023-04-11/01-39-38 Model name = 20230220_010526SegVPRenc\n",
      "Date = 2023-04-11 Time = 01-40-55 Add: /home/shubham/Desktop/git/carla-roach/outputs2/2023-04-11/01-40-55 Model name = 20230220_010526SegVPRenc\n",
      "Date = 2023-04-11 Time = 01-43-21 Add: /home/shubham/Desktop/git/carla-roach/outputs2/2023-04-11/01-43-21 Model name = 20230220_010526SegVPRenc\n",
      "Date = 2023-04-11 Time = 02-17-25 Add: /home/shubham/Desktop/git/carla-roach/outputs2/2023-04-11/02-17-25 Model name = 20230220_010526SegVPRenc\n",
      "Date = 2023-04-11 Time = 06-03-08 Add: /home/shubham/Desktop/git/carla-roach/outputs2/2023-04-11/06-03-08 Model name = 20230220_010526SegVPRenc\n",
      "Date = 2023-04-11 Time = 08-44-28 Add: /home/shubham/Desktop/git/carla-roach/outputs2/2023-04-11/08-44-28 Model name = 20230220_231756SegVPRencD1\n",
      "Date = 2023-04-11 Time = 10-07-49 Add: /home/shubham/Desktop/git/carla-roach/outputs2/2023-04-11/10-07-49 Model name = 20230220_231756SegVPRencD1\n",
      "Date = 2023-04-11 Time = 13-24-49 Add: /home/shubham/Desktop/git/carla-roach/outputs2/2023-04-11/13-24-49 Model name = 20230220_231756SegVPRencD1\n",
      "Date = 2023-04-11 Time = 19-14-33 Add: /home/shubham/Desktop/git/carla-roach/outputs2/2023-04-11/19-14-33 Model name = 20230221_205635SegVPRencD2\n",
      "Date = 2023-04-11 Time = 20-33-11 Add: /home/shubham/Desktop/git/carla-roach/outputs2/2023-04-11/20-33-11 Model name = 20230221_205635SegVPRencD2\n",
      "Date = 2023-04-12 Time = 01-50-33 Add: /home/shubham/Desktop/git/carla-roach/outputs2/2023-04-12/01-50-33 Model name = 20230221_205635SegVPRencD2\n",
      "Date = 2023-04-12 Time = 07-37-12 Add: /home/shubham/Desktop/git/carla-roach/outputs2/2023-04-12/07-37-12 Model name = 20230221_205635SegVPRencD2\n",
      "Date = 2023-04-12 Time = 09-44-53 Add: /home/shubham/Desktop/git/carla-roach/outputs2/2023-04-12/09-44-53 Model name = 20230223_131935SegVPRencD3\n",
      "Date = 2023-04-12 Time = 11-51-38 Add: /home/shubham/Desktop/git/carla-roach/outputs2/2023-04-12/11-51-38 Model name = 20230223_131935SegVPRencD3\n",
      "Date = 2023-04-12 Time = 17-59-57 Add: /home/shubham/Desktop/git/carla-roach/outputs2/2023-04-12/17-59-57 Model name = 20230223_131935SegVPRencD3\n",
      "Date = 2023-04-12 Time = 23-22-38 Add: /home/shubham/Desktop/git/carla-roach/outputs2/2023-04-12/23-22-38 Model name = 20230226_005522SegVPRencD4\n",
      "Date = 2023-04-13 Time = 01-17-00 Add: /home/shubham/Desktop/git/carla-roach/outputs2/2023-04-13/01-17-00 Model name = 20230226_005522SegVPRencD4\n",
      "Date = 2023-04-13 Time = 07-54-01 Add: /home/shubham/Desktop/git/carla-roach/outputs2/2023-04-13/07-54-01 Model name = 20230226_005522SegVPRencD4\n",
      "Date = 2023-04-13 Time = 11-37-28 Add: /home/shubham/Desktop/git/carla-roach/outputs2/2023-04-13/11-37-28 Model name = 20230227_074626SegVPRencD5\n",
      "Date = 2023-04-13 Time = 13-16-37 Add: /home/shubham/Desktop/git/carla-roach/outputs2/2023-04-13/13-16-37 Model name = 20230227_074626SegVPRencD5\n",
      "Date = 2023-04-13 Time = 19-32-28 Add: /home/shubham/Desktop/git/carla-roach/outputs2/2023-04-13/19-32-28 Model name = 20230227_074626SegVPRencD5\n",
      "Date = 2023-04-14 Time = 12-23-19 Add: /home/shubham/Desktop/git/carla-roach/outputs2/2023-04-14/12-23-19 Model name = 20230130_105732LbModeBaseline\n",
      "Date = 2023-04-14 Time = 13-07-57 Add: /home/shubham/Desktop/git/carla-roach/outputs2/2023-04-14/13-07-57 Model name = 20230130_105732LbModeBaseline\n",
      "Date = 2023-04-14 Time = 13-10-45 Add: /home/shubham/Desktop/git/carla-roach/outputs2/2023-04-14/13-10-45 Model name = 20230130_105732LbModeBaseline\n",
      "Date = 2023-04-14 Time = 15-45-35 Add: /home/shubham/Desktop/git/carla-roach/outputs2/2023-04-14/15-45-35 Model name = 20230130_105732LbModeBaseline\n",
      "Date = 2023-04-14 Time = 18-28-52 Add: /home/shubham/Desktop/git/carla-roach/outputs2/2023-04-14/18-28-52 Model name = 20230131_025157LbModeBaselineD1\n",
      "Date = 2023-04-14 Time = 19-29-37 Add: /home/shubham/Desktop/git/carla-roach/outputs2/2023-04-14/19-29-37 Model name = 20230131_025157LbModeBaselineD1\n",
      "Date = 2023-04-14 Time = 22-53-12 Add: /home/shubham/Desktop/git/carla-roach/outputs2/2023-04-14/22-53-12 Model name = 20230131_025157LbModeBaselineD1\n",
      "Date = 2023-04-15 Time = 14-08-02 Add: /home/shubham/Desktop/git/carla-roach/outputs2/2023-04-15/14-08-02 Model name = 20230131_184744LbModeBaselineD2\n",
      "Date = 2023-04-15 Time = 14-48-32 Add: /home/shubham/Desktop/git/carla-roach/outputs2/2023-04-15/14-48-32 Model name = 20230131_184744LbModeBaselineD2\n",
      "Date = 2023-04-15 Time = 19-15-52 Add: /home/shubham/Desktop/git/carla-roach/outputs2/2023-04-15/19-15-52 Model name = 20230131_184744LbModeBaselineD2\n",
      "Date = 2023-04-15 Time = 22-44-07 Add: /home/shubham/Desktop/git/carla-roach/outputs2/2023-04-15/22-44-07 Model name = 20230301_220308LbModeBaselineD3\n",
      "Date = 2023-04-15 Time = 23-39-52 Add: /home/shubham/Desktop/git/carla-roach/outputs2/2023-04-15/23-39-52 Model name = 20230301_220308LbModeBaselineD3\n",
      "Date = 2023-04-16 Time = 03-26-56 Add: /home/shubham/Desktop/git/carla-roach/outputs2/2023-04-16/03-26-56 Model name = 20230301_220308LbModeBaselineD3\n",
      "Date = 2023-04-17 Time = 01-32-51 Add: /home/shubham/Desktop/git/carla-roach/outputs2/2023-04-17/01-32-51 Model name = 20230302_202806LbModeBaselineD4\n",
      "Date = 2023-04-17 Time = 03-27-41 Add: /home/shubham/Desktop/git/carla-roach/outputs2/2023-04-17/03-27-41 Model name = 20230302_202806LbModeBaselineD4\n",
      "Date = 2023-04-17 Time = 07-33-51 Add: /home/shubham/Desktop/git/carla-roach/outputs2/2023-04-17/07-33-51 Model name = 20230302_202806LbModeBaselineD4\n",
      "Date = 2023-04-17 Time = 10-37-10 Add: /home/shubham/Desktop/git/carla-roach/outputs2/2023-04-17/10-37-10 Model name = 20230303_180104LbModeBaselineD5\n",
      "Date = 2023-04-17 Time = 12-35-18 Add: /home/shubham/Desktop/git/carla-roach/outputs2/2023-04-17/12-35-18 Model name = 20230303_180104LbModeBaselineD5\n",
      "Date = 2023-04-17 Time = 18-37-52 Add: /home/shubham/Desktop/git/carla-roach/outputs2/2023-04-17/18-37-52 Model name = 20230303_180104LbModeBaselineD5\n",
      "Date = 2023-04-18 Time = 10-38-58 Add: /home/shubham/Desktop/git/carla-roach/outputs2/2023-04-18/10-38-58 Model name = 20230327_110716LbModeBaselineD5_v2\n",
      "Date = 2023-04-18 Time = 12-12-00 Add: /home/shubham/Desktop/git/carla-roach/outputs2/2023-04-18/12-12-00 Model name = 20230327_110716LbModeBaselineD5_v2\n",
      "Date = 2023-04-18 Time = 17-04-50 Add: /home/shubham/Desktop/git/carla-roach/outputs2/2023-04-18/17-04-50 Model name = 20230327_110716LbModeBaselineD5_v2\n",
      "Date = 2023-04-18 Time = 20-55-14 Add: /home/shubham/Desktop/git/carla-roach/outputs2/2023-04-18/20-55-14 Model name = 20230220_010526SegVPRenc\n",
      "Date = 2023-04-18 Time = 21-32-49 Add: /home/shubham/Desktop/git/carla-roach/outputs2/2023-04-18/21-32-49 Model name = 20230220_010526SegVPRenc\n",
      "Date = 2023-04-19 Time = 01-12-20 Add: /home/shubham/Desktop/git/carla-roach/outputs2/2023-04-19/01-12-20 Model name = 20230220_010526SegVPRenc\n",
      "Date = 2023-04-19 Time = 04-43-34 Add: /home/shubham/Desktop/git/carla-roach/outputs2/2023-04-19/04-43-34 Model name = 20230220_231756SegVPRencD1\n",
      "Date = 2023-04-19 Time = 06-25-26 Add: /home/shubham/Desktop/git/carla-roach/outputs2/2023-04-19/06-25-26 Model name = 20230220_231756SegVPRencD1\n",
      "Date = 2023-04-19 Time = 10-33-34 Add: /home/shubham/Desktop/git/carla-roach/outputs2/2023-04-19/10-33-34 Model name = 20230220_231756SegVPRencD1\n",
      "Date = 2023-04-19 Time = 23-28-18 Add: /home/shubham/Desktop/git/carla-roach/outputs2/2023-04-19/23-28-18 Model name = 20230221_205635SegVPRencD2\n",
      "Date = 2023-04-20 Time = 01-25-33 Add: /home/shubham/Desktop/git/carla-roach/outputs2/2023-04-20/01-25-33 Model name = 20230221_205635SegVPRencD2\n",
      "Date = 2023-04-20 Time = 06-27-00 Add: /home/shubham/Desktop/git/carla-roach/outputs2/2023-04-20/06-27-00 Model name = 20230221_205635SegVPRencD2\n",
      "Date = 2023-04-20 Time = 10-29-14 Add: /home/shubham/Desktop/git/carla-roach/outputs2/2023-04-20/10-29-14 Model name = 20230223_131935SegVPRencD3\n",
      "Date = 2023-04-20 Time = 12-49-17 Add: /home/shubham/Desktop/git/carla-roach/outputs2/2023-04-20/12-49-17 Model name = 20230223_131935SegVPRencD3\n",
      "Date = 2023-04-20 Time = 17-33-35 Add: /home/shubham/Desktop/git/carla-roach/outputs2/2023-04-20/17-33-35 Model name = 20230223_131935SegVPRencD3\n",
      "Date = 2023-04-22 Time = 13-02-33 Add: /home/shubham/Desktop/git/carla-roach/outputs2/2023-04-22/13-02-33 Model name = 20230226_005522SegVPRencD4\n",
      "Date = 2023-04-22 Time = 15-02-32 Add: /home/shubham/Desktop/git/carla-roach/outputs2/2023-04-22/15-02-32 Model name = 20230226_005522SegVPRencD4\n",
      "Date = 2023-04-22 Time = 21-51-11 Add: /home/shubham/Desktop/git/carla-roach/outputs2/2023-04-22/21-51-11 Model name = 20230226_005522SegVPRencD4\n",
      "Date = 2023-04-23 Time = 01-31-43 Add: /home/shubham/Desktop/git/carla-roach/outputs2/2023-04-23/01-31-43 Model name = 20230227_074626SegVPRencD5\n",
      "Date = 2023-04-23 Time = 03-57-31 Add: /home/shubham/Desktop/git/carla-roach/outputs2/2023-04-23/03-57-31 Model name = 20230227_074626SegVPRencD5\n",
      "Date = 2023-04-23 Time = 09-44-11 Add: /home/shubham/Desktop/git/carla-roach/outputs2/2023-04-23/09-44-11 Model name = 20230227_074626SegVPRencD5\n",
      "Date = 2023-04-23 Time = 14-10-06 Add: /home/shubham/Desktop/git/carla-roach/outputs2/2023-04-23/14-10-06 Model name = 20230130_105732LbModeBaseline\n",
      "Date = 2023-04-23 Time = 14-48-01 Add: /home/shubham/Desktop/git/carla-roach/outputs2/2023-04-23/14-48-01 Model name = 20230130_105732LbModeBaseline\n",
      "Date = 2023-04-23 Time = 17-42-43 Add: /home/shubham/Desktop/git/carla-roach/outputs2/2023-04-23/17-42-43 Model name = 20230130_105732LbModeBaseline\n",
      "Date = 2023-04-23 Time = 20-04-41 Add: /home/shubham/Desktop/git/carla-roach/outputs2/2023-04-23/20-04-41 Model name = 20230131_025157LbModeBaselineD1\n",
      "Date = 2023-04-23 Time = 21-33-40 Add: /home/shubham/Desktop/git/carla-roach/outputs2/2023-04-23/21-33-40 Model name = 20230131_025157LbModeBaselineD1\n",
      "Date = 2023-04-24 Time = 01-08-49 Add: /home/shubham/Desktop/git/carla-roach/outputs2/2023-04-24/01-08-49 Model name = 20230131_025157LbModeBaselineD1\n",
      "Date = 2023-04-24 Time = 02-47-01 Add: /home/shubham/Desktop/git/carla-roach/outputs2/2023-04-24/02-47-01 Model name = 20230131_025157LbModeBaselineD1\n",
      "Date = 2023-04-24 Time = 09-26-12 Add: /home/shubham/Desktop/git/carla-roach/outputs2/2023-04-24/09-26-12 Model name = 20230131_184744LbModeBaselineD2\n",
      "Date = 2023-04-24 Time = 10-09-30 Add: /home/shubham/Desktop/git/carla-roach/outputs2/2023-04-24/10-09-30 Model name = 20230131_184744LbModeBaselineD2\n",
      "Date = 2023-04-24 Time = 14-49-41 Add: /home/shubham/Desktop/git/carla-roach/outputs2/2023-04-24/14-49-41 Model name = 20230131_184744LbModeBaselineD2\n",
      "Date = 2023-04-24 Time = 17-58-27 Add: /home/shubham/Desktop/git/carla-roach/outputs2/2023-04-24/17-58-27 Model name = 20230301_220308LbModeBaselineD3\n",
      "Date = 2023-04-24 Time = 19-19-58 Add: /home/shubham/Desktop/git/carla-roach/outputs2/2023-04-24/19-19-58 Model name = 20230301_220308LbModeBaselineD3\n",
      "Date = 2023-04-24 Time = 23-22-56 Add: /home/shubham/Desktop/git/carla-roach/outputs2/2023-04-24/23-22-56 Model name = 20230301_220308LbModeBaselineD3\n",
      "Date = 2023-04-25 Time = 07-20-26 Add: /home/shubham/Desktop/git/carla-roach/outputs2/2023-04-25/07-20-26 Model name = 20230302_202806LbModeBaselineD4\n",
      "Date = 2023-04-25 Time = 09-27-43 Add: /home/shubham/Desktop/git/carla-roach/outputs2/2023-04-25/09-27-43 Model name = 20230302_202806LbModeBaselineD4\n",
      "Date = 2023-04-25 Time = 13-24-21 Add: /home/shubham/Desktop/git/carla-roach/outputs2/2023-04-25/13-24-21 Model name = 20230302_202806LbModeBaselineD4\n",
      "Date = 2023-04-25 Time = 16-25-15 Add: /home/shubham/Desktop/git/carla-roach/outputs2/2023-04-25/16-25-15 Model name = 20230327_110716LbModeBaselineD5_v2\n",
      "Date = 2023-04-25 Time = 18-02-12 Add: /home/shubham/Desktop/git/carla-roach/outputs2/2023-04-25/18-02-12 Model name = 20230327_110716LbModeBaselineD5_v2\n",
      "Date = 2023-04-25 Time = 18-33-19 Add: /home/shubham/Desktop/git/carla-roach/outputs2/2023-04-25/18-33-19 Model name = 20230327_110716LbModeBaselineD5_v2\n",
      "Date = 2023-04-26 Time = 00-23-58 Add: /home/shubham/Desktop/git/carla-roach/outputs2/2023-04-26/00-23-58 Model name = 20230327_110716LbModeBaselineD5_v2\n",
      "Date = 2023-04-26 Time = 07-29-34 Add: /home/shubham/Desktop/git/carla-roach/outputs2/2023-04-26/07-29-34 Model name = 20230131_184744LbModeBaselineD2\n",
      "Date = 2023-04-26 Time = 08-49-31 Add: /home/shubham/Desktop/git/carla-roach/outputs2/2023-04-26/08-49-31 Model name = 20230131_184744LbModeBaselineD2\n",
      "Date = 2023-04-26 Time = 10-20-05 Add: /home/shubham/Desktop/git/carla-roach/outputs2/2023-04-26/10-20-05 Model name = 20230131_184744LbModeBaselineD2\n",
      "Date = 2023-04-26 Time = 14-18-38 Add: /home/shubham/Desktop/git/carla-roach/outputs2/2023-04-26/14-18-38 Model name = 20230131_184744LbModeBaselineD2\n",
      "Date = 2023-04-26 Time = 16-02-46 Add: /home/shubham/Desktop/git/carla-roach/outputs2/2023-04-26/16-02-46 Model name = 20230131_184744LbModeBaselineD2\n",
      "Date = 2023-04-26 Time = 19-32-35 Add: /home/shubham/Desktop/git/carla-roach/outputs2/2023-04-26/19-32-35 Model name = 20230131_184744LbModeBaselineD2\n",
      "Date = 2023-04-26 Time = 23-46-36 Add: /home/shubham/Desktop/git/carla-roach/outputs2/2023-04-26/23-46-36 Model name = 20230301_220308LbModeBaselineD3\n",
      "Date = 2023-04-27 Time = 02-16-46 Add: /home/shubham/Desktop/git/carla-roach/outputs2/2023-04-27/02-16-46 Model name = 20230301_220308LbModeBaselineD3\n",
      "Date = 2023-04-27 Time = 07-30-36 Add: /home/shubham/Desktop/git/carla-roach/outputs2/2023-04-27/07-30-36 Model name = 20230301_220308LbModeBaselineD3\n",
      "Date = 2023-04-27 Time = 11-02-41 Add: /home/shubham/Desktop/git/carla-roach/outputs2/2023-04-27/11-02-41 Model name = 20230301_220308LbModeBaselineD3\n",
      "Date = 2023-04-28 Time = 11-45-37 Add: /home/shubham/Desktop/git/carla-roach/outputs2/2023-04-28/11-45-37 Model name = 20230302_202806LbModeBaselineD4\n",
      "Date = 2023-04-28 Time = 13-45-12 Add: /home/shubham/Desktop/git/carla-roach/outputs2/2023-04-28/13-45-12 Model name = 20230302_202806LbModeBaselineD4\n",
      "Date = 2023-04-28 Time = 18-08-22 Add: /home/shubham/Desktop/git/carla-roach/outputs2/2023-04-28/18-08-22 Model name = 20230302_202806LbModeBaselineD4\n",
      "Date = 2023-04-28 Time = 21-36-57 Add: /home/shubham/Desktop/git/carla-roach/outputs2/2023-04-28/21-36-57 Model name = 20230327_110716LbModeBaselineD5_v2\n",
      "Date = 2023-04-28 Time = 23-24-26 Add: /home/shubham/Desktop/git/carla-roach/outputs2/2023-04-28/23-24-26 Model name = 20230327_110716LbModeBaselineD5_v2\n",
      "Date = 2023-04-29 Time = 06-24-36 Add: /home/shubham/Desktop/git/carla-roach/outputs2/2023-04-29/06-24-36 Model name = 20230327_110716LbModeBaselineD5_v2\n"
     ]
    }
   ],
   "source": [
    "from os.path import isfile\n",
    "\n",
    "dirs_only = []\n",
    "for each in glob('/home/shubham/Desktop/git/carla-roach/outputs2/*'):\n",
    "    if isdir(each):\n",
    "        dirs_only.append(each)\n",
    "\n",
    "dirs_only.sort()\n",
    "nn_list = dirs_only#[19:-1]\n",
    "\n",
    "for each_date_folder in nn_list:\n",
    "    time_folders = sorted(list(glob(join(each_date_folder, '*'))))\n",
    "    for each_time_folder in time_folders:\n",
    "        \n",
    "        if isfile(join(each_time_folder, 'benchmark.log')):\n",
    "            # print(join( each_time_folder,'config_agent.yaml'))\n",
    "            # print(yaml.load(open(join( each_time_folder,'config_agent.yaml')), Loader=SafeLoader)\n",
    "            model_name = yaml.load(open(join( each_time_folder,'config_agent.yaml')), Loader=SafeLoader)['ckpt'].split('/')[-3]\n",
    "\n",
    "            print(f\"Date = {each_date_folder.split('/')[-1]} Time = {each_time_folder.split('/')[-1]} Add: {each_time_folder} Model name = {model_name}\")"
   ]
  },
  {
   "cell_type": "code",
   "execution_count": null,
   "id": "3d350085-0aaa-4cef-a337-6e54c3a71e6a",
   "metadata": {},
   "outputs": [],
   "source": []
  },
  {
   "cell_type": "markdown",
   "id": "f6cd47ab-73d1-42cd-b7c6-9f37176b16c7",
   "metadata": {},
   "source": [
    "# Full cell way"
   ]
  },
  {
   "cell_type": "markdown",
   "id": "d384b4e4-20d1-4713-932f-57c9586f2740",
   "metadata": {},
   "source": [
    "## NN 1"
   ]
  },
  {
   "cell_type": "code",
   "execution_count": null,
   "id": "23a45821-7fee-4be3-ae06-abd197d6b52a",
   "metadata": {},
   "outputs": [
    {
     "name": "stdout",
     "output_type": "stream",
     "text": [
      "Score: 0/12\n",
      "Score: 1/20\n",
      "Score: 2/20\n",
      "Score: 0/12\n",
      "Score: 1/20\n",
      "Score: 5/20\n",
      "Score: 0/12\n",
      "Score: 3/20\n",
      "Score: 5/20\n",
      "Score: 2/12\n",
      "Score: 4/20\n",
      "Score: 10/20\n",
      "Score: 1/12\n",
      "Score: 4/20\n",
      "Score: 10/20\n",
      "Score: 5/12\n",
      "Score: 12/20\n",
      "Score: 13/20\n",
      "Score: 0/12\n",
      "Score: 2/20\n",
      "Score: 7/20\n",
      "Score: 1/12\n",
      "Score: 4/20\n",
      "Score: 13/20\n",
      "Score: 1/12\n",
      "Score: 7/20\n",
      "Score: 13/20\n",
      "Score: 6/12\n",
      "Score: 3/20\n",
      "Score: 16/20\n",
      "Score: 4/12\n",
      "Score: 11/20\n",
      "Score: 17/20\n",
      "Score: 1/12\n",
      "Score: 14/20\n",
      "Score: 18/20\n",
      "Baseline SR: [5.769230769230769, 11.538461538461538, 15.384615384615385, 30.76923076923077, 28.846153846153843, 57.692307692307686]\n",
      "Baseline Ratio: [26.458870199057323, 36.23013755855496, 29.198256335187832, 50.16666632012542, 50.47892923646777, 83.15884776830474]\n",
      "SegVPR SR: [17.307692307692307, 34.61538461538461, 40.38461538461539, 48.07692307692308, 61.53846153846154, 63.46153846153846]\n",
      "SegVPR Ratio: [42.10191916819338, 54.721117209969826, 75.68566221967446, 66.23442234017415, 86.36033418939982, 88.16432703560191]\n"
     ]
    }
   ],
   "source": [
    "\n",
    "s5 = [\n",
    "    \"/home/shubham/Desktop/git/carla-roach/outputs/2023-03-06/23-01-01/\",\n",
    "    \"/home/shubham/Desktop/git/carla-roach/outputs/2023-03-07/01-34-21\",\n",
    "    \"/home/shubham/Desktop/git/carla-roach/outputs/2023-03-07/09-23-15\"\n",
    "]\n",
    "s4 = [\n",
    "    \"/home/shubham/Desktop/git/carla-roach/outputs/2023-03-10/10-43-41\",\n",
    "    \"/home/shubham/Desktop/git/carla-roach/outputs/2023-03-10/13-02-56\",\n",
    "    \"/home/shubham/Desktop/git/carla-roach/outputs/2023-03-10/20-56-30\"\n",
    "]\n",
    "s3 = [\n",
    "    \"/home/shubham/Desktop/git/carla-roach/outputs/2023-03-08/19-21-15\",\n",
    "    \"/home/shubham/Desktop/git/carla-roach/outputs/2023-03-08/21-40-31\",\n",
    "    \"/home/shubham/Desktop/git/carla-roach/outputs/2023-03-09/03-16-45\"\n",
    "]\n",
    "s2 = [\n",
    "    \"/home/shubham/Desktop/git/carla-roach/outputs/2023-03-15/02-08-53\",\n",
    "    \"/home/shubham/Desktop/git/carla-roach/outputs/2023-03-15/04-01-53\",\n",
    "    \"/home/shubham/Desktop/git/carla-roach/outputs/2023-03-15/10-51-24\"\n",
    "]\n",
    "s1 = [\n",
    "    \"/home/shubham/Desktop/git/carla-roach/outputs/2023-03-12/05-16-22\",\n",
    "    \"/home/shubham/Desktop/git/carla-roach/outputs/2023-03-12/07-50-57\",\n",
    "    \"/home/shubham/Desktop/git/carla-roach/outputs/2023-03-12/12-48-02\"\n",
    "]\n",
    "s0 = [\n",
    "    \"/home/shubham/Desktop/git/carla-roach/outputs/2023-03-13/14-51-33\",\n",
    "    \"/home/shubham/Desktop/git/carla-roach/outputs/2023-03-13/15-29-19\",\n",
    "    \"/home/shubham/Desktop/git/carla-roach/outputs/2023-03-13/19-59-05\"\n",
    "]\n",
    "\n",
    "\n",
    "b5 = [\n",
    "    \"/home/shubham/Desktop/git/carla-roach/outputs/2023-03-07/14-18-34\",\n",
    "    \"/home/shubham/Desktop/git/carla-roach/outputs/2023-03-07/16-49-10\",\n",
    "    \"/home/shubham/Desktop/git/carla-roach/outputs/2023-03-08/00-55-41\"\n",
    "]\n",
    "b4 = [\n",
    "    \"/home/shubham/Desktop/git/carla-roach/outputs/2023-03-09/23-57-36\",\n",
    "    \"/home/shubham/Desktop/git/carla-roach/outputs/2023-03-10/02-25-05\",\n",
    "    \"/home/shubham/Desktop/git/carla-roach/outputs/2023-03-10/07-01-28\"\n",
    "]\n",
    "b3 = [\n",
    "    \"/home/shubham/Desktop/git/carla-roach/outputs/2023-03-08/09-19-56\",\n",
    "    \"/home/shubham/Desktop/git/carla-roach/outputs/2023-03-08/10-59-48\",\n",
    "    \"/home/shubham/Desktop/git/carla-roach/outputs/2023-03-08/15-59-18\"\n",
    "]\n",
    "b2 = [\n",
    "    \"/home/shubham/Desktop/git/carla-roach/outputs/2023-03-14/16-14-27\",\n",
    "    \"/home/shubham/Desktop/git/carla-roach/outputs/2023-03-14/17-03-22\",\n",
    "    \"/home/shubham/Desktop/git/carla-roach/outputs/2023-03-14/22-15-18\"\n",
    "]\n",
    "b1 = [\n",
    "    \"/home/shubham/Desktop/git/carla-roach/outputs/2023-03-11/18-57-18\",\n",
    "    \"/home/shubham/Desktop/git/carla-roach/outputs/2023-03-11/20-09-08\",\n",
    "    \"/home/shubham/Desktop/git/carla-roach/outputs/2023-03-12/00-30-42\"\n",
    "]\n",
    "b0 = [\n",
    "    \"/home/shubham/Desktop/git/carla-roach/outputs/2023-03-13/07-09-16\",\n",
    "    \"/home/shubham/Desktop/git/carla-roach/outputs/2023-03-13/07-48-55\",\n",
    "    \"/home/shubham/Desktop/git/carla-roach/outputs/2023-03-13/11-01-27\"\n",
    "]\n",
    "\n",
    "b_scores = []\n",
    "for b in [b0,b1,b2,b3,b4,b5]:\n",
    "    b_scores.append(calc_success_rate(b))\n",
    "    \n",
    "s_scores = []\n",
    "for s in [s0,s1,s2,s3,s4,s5]:\n",
    "    s_scores.append(calc_success_rate(s))\n",
    "\n",
    "b_ratios = []\n",
    "for b in [b0,b1,b2,b3,b4,b5]:\n",
    "    b_ratios.append(route_completion_ratio(b))\n",
    "    \n",
    "s_ratios = []\n",
    "for s in [s0,s1,s2,s3,s4,s5]:\n",
    "    s_ratios.append(route_completion_ratio(s))\n",
    "    \n",
    "print(f\"Baseline SR: {b_scores}\")\n",
    "print(f\"Baseline Ratio: {b_ratios}\")\n",
    "print(f\"SegVPR SR: {s_scores}\")\n",
    "print(f\"SegVPR Ratio: {s_ratios}\")"
   ]
  },
  {
   "cell_type": "code",
   "execution_count": null,
   "id": "2e701f3a-65d2-4f44-abf7-ecfa8c216041",
   "metadata": {},
   "outputs": [
    {
     "name": "stdout",
     "output_type": "stream",
     "text": [
      "Score: 0/12\n",
      "Score: 1/20\n",
      "Score: 2/20\n",
      "Score: 0/12\n",
      "Score: 2/20\n",
      "Score: 6/20\n",
      "Score: 0/12\n",
      "Score: 3/20\n",
      "Score: 2/20\n",
      "Score: 0/12\n",
      "Score: 4/20\n",
      "Score: 13/20\n",
      "Score: 3/12\n",
      "Score: 5/20\n",
      "Score: 10/20\n",
      "Score: 2/12\n",
      "Score: 6/20\n",
      "Score: 11/20\n",
      "Score: 0/12\n",
      "Score: 1/20\n",
      "Score: 5/20\n",
      "Score: 0/12\n",
      "Score: 3/20\n",
      "Score: 13/20\n",
      "Score: 0/12\n",
      "Score: 5/20\n",
      "Score: 11/20\n",
      "Score: 6/12\n",
      "Score: 4/20\n",
      "Score: 14/20\n",
      "Score: 3/12\n",
      "Score: 13/20\n",
      "Score: 16/20\n",
      "Score: 2/12\n",
      "Score: 12/20\n",
      "Score: 16/20\n",
      "Baseline SR: [5.769230769230769, 15.384615384615385, 9.615384615384617, 32.69230769230769, 34.61538461538461, 36.53846153846153]\n",
      "Baseline Ratio: [28.524613587700255, 34.590602356433685, 30.50097914447721, 50.0141648039756, 53.02348435713851, 65.91480679320047]\n",
      "SegVPR SR: [11.538461538461538, 30.76923076923077, 30.76923076923077, 46.15384615384615, 61.53846153846154, 57.692307692307686]\n",
      "SegVPR Ratio: [32.76031722942273, 47.556631878282715, 66.33908877103103, 74.12075055567486, 85.83895670324108, 83.18608653439861]\n"
     ]
    }
   ],
   "source": [
    "\n",
    "s0 = [\n",
    "\"/home/shubham/Desktop/git/carla-roach/outputs2/2023-04-11/01-43-21\",\n",
    "\"/home/shubham/Desktop/git/carla-roach/outputs2/2023-04-11/02-17-25\",\n",
    "\"/home/shubham/Desktop/git/carla-roach/outputs2/2023-04-11/06-03-08\",\n",
    "]\n",
    "\n",
    "s1 = [\n",
    "\"/home/shubham/Desktop/git/carla-roach/outputs2/2023-04-11/08-44-28\",\n",
    "\"/home/shubham/Desktop/git/carla-roach/outputs2/2023-04-11/10-07-49\",\n",
    "\"/home/shubham/Desktop/git/carla-roach/outputs2/2023-04-11/13-24-49\",\n",
    "]\n",
    "\n",
    "s2 = [\n",
    "\"/home/shubham/Desktop/git/carla-roach/outputs2/2023-04-11/19-14-33\",\n",
    "\"/home/shubham/Desktop/git/carla-roach/outputs2/2023-04-11/20-33-11\",\n",
    "\"/home/shubham/Desktop/git/carla-roach/outputs/jointly_made/2023-04-123/01-50-33\",\n",
    "]\n",
    "\n",
    "s3 = [\n",
    "\"/home/shubham/Desktop/git/carla-roach/outputs2/2023-04-12/09-44-53\",\n",
    "\"/home/shubham/Desktop/git/carla-roach/outputs2/2023-04-12/11-51-38\",\n",
    "\"/home/shubham/Desktop/git/carla-roach/outputs2/2023-04-12/17-59-57\",\n",
    "]\n",
    "\n",
    "s4 = [\n",
    "\"/home/shubham/Desktop/git/carla-roach/outputs2/2023-04-12/23-22-38\",\n",
    "\"/home/shubham/Desktop/git/carla-roach/outputs2/2023-04-13/01-17-00\",\n",
    "\"/home/shubham/Desktop/git/carla-roach/outputs2/2023-04-13/07-54-01\",\n",
    "]\n",
    "\n",
    "s5 = [\n",
    "\"/home/shubham/Desktop/git/carla-roach/outputs2/2023-04-13/11-37-28\",\n",
    "\"/home/shubham/Desktop/git/carla-roach/outputs2/2023-04-13/13-16-37\",\n",
    "\"/home/shubham/Desktop/git/carla-roach/outputs2/2023-04-13/19-32-28\",\n",
    "]\n",
    "\n",
    "b0 = [\n",
    "\"/home/shubham/Desktop/git/carla-roach/outputs2/2023-04-14/12-23-19\",\n",
    "\"/home/shubham/Desktop/git/carla-roach/outputs2/2023-04-14/13-10-45\",\n",
    "\"/home/shubham/Desktop/git/carla-roach/outputs2/2023-04-14/15-45-35\",\n",
    "]\n",
    "\n",
    "b1 = [\n",
    "\"/home/shubham/Desktop/git/carla-roach/outputs2/2023-04-14/18-28-52\",\n",
    "\"/home/shubham/Desktop/git/carla-roach/outputs2/2023-04-14/19-29-37\",\n",
    "\"/home/shubham/Desktop/git/carla-roach/outputs2/2023-04-14/22-53-12\",\n",
    "]\n",
    "\n",
    "b2 = [\n",
    "\"/home/shubham/Desktop/git/carla-roach/outputs2/2023-04-15/14-08-02\",\n",
    "\"/home/shubham/Desktop/git/carla-roach/outputs2/2023-04-15/14-48-32\",\n",
    "\"/home/shubham/Desktop/git/carla-roach/outputs2/2023-04-15/19-15-52\",\n",
    "]\n",
    "\n",
    "b3 = [\n",
    "\"/home/shubham/Desktop/git/carla-roach/outputs2/2023-04-15/22-44-07\",\n",
    "\"/home/shubham/Desktop/git/carla-roach/outputs2/2023-04-15/23-39-52\",\n",
    "\"/home/shubham/Desktop/git/carla-roach/outputs2/2023-04-16/03-26-56\",\n",
    "]\n",
    "\n",
    "b4 = [\n",
    "\"/home/shubham/Desktop/git/carla-roach/outputs2/2023-04-17/01-32-51\",\n",
    "\"/home/shubham/Desktop/git/carla-roach/outputs2/2023-04-17/03-27-41\",\n",
    "\"/home/shubham/Desktop/git/carla-roach/outputs2/2023-04-17/07-33-51\",\n",
    "]\n",
    "\n",
    "# V1, ignore this and take next\n",
    "#b5 = [\n",
    "#\"/home/shubham/Desktop/git/carla-roach/outputs2/2023-04-17/10-37-10\",\n",
    "#\"/home/shubham/Desktop/git/carla-roach/outputs2/2023-04-17/12-35-18\",\n",
    "#\"/home/shubham/Desktop/git/carla-roach/outputs2/2023-04-17/18-37-52\",\n",
    "#]\n",
    "\n",
    "b5 = [\n",
    "\"/home/shubham/Desktop/git/carla-roach/outputs2/2023-04-18/10-38-58\",\n",
    "\"/home/shubham/Desktop/git/carla-roach/outputs2/2023-04-18/12-12-00\",\n",
    "\"/home/shubham/Desktop/git/carla-roach/outputs2/2023-04-18/17-04-50\",\n",
    "]\n",
    "\n",
    "\n",
    "\n",
    "b_scores = []\n",
    "for b in [b0,b1,b2,b3,b4,b5]:\n",
    "    b_scores.append(calc_success_rate(b))\n",
    "    \n",
    "s_scores = []\n",
    "for s in [s0,s1,s2,s3,s4,s5]:\n",
    "    s_scores.append(calc_success_rate(s))\n",
    "\n",
    "b_ratios = []\n",
    "for b in [b0,b1,b2,b3,b4,b5]:\n",
    "    b_ratios.append(route_completion_ratio(b))\n",
    "    \n",
    "s_ratios = []\n",
    "for s in [s0,s1,s2,s3,s4,s5]:\n",
    "    s_ratios.append(route_completion_ratio(s))\n",
    "    \n",
    "print(f\"Baseline SR: {b_scores}\")\n",
    "print(f\"Baseline Ratio: {b_ratios}\")\n",
    "print(f\"SegVPR SR: {s_scores}\")\n",
    "print(f\"SegVPR Ratio: {s_ratios}\")"
   ]
  },
  {
   "cell_type": "code",
   "execution_count": null,
   "id": "2f8ead6c-cfe6-4c6d-acc5-593f0e32c299",
   "metadata": {},
   "outputs": [
    {
     "name": "stdout",
     "output_type": "stream",
     "text": [
      "Score: 0/12\n",
      "Score: 0/20\n",
      "Score: 2/20\n",
      "Score: 0/12\n",
      "Score: 1/20\n",
      "Score: 6/20\n",
      "Score: 0/12\n",
      "Score: 3/20\n",
      "Score: 3/20\n",
      "Score: 0/12\n",
      "Score: 3/20\n",
      "Score: 13/20\n",
      "Score: 2/12\n",
      "Score: 4/20\n",
      "Score: 11/20\n",
      "Score: 6/12\n",
      "Score: 8/20\n",
      "Score: 14/20\n",
      "Score: 0/12\n",
      "Score: 2/20\n",
      "Score: 4/20\n",
      "Score: 3/12\n",
      "Score: 5/20\n",
      "Score: 14/20\n",
      "Score: 3/12\n",
      "Score: 3/20\n",
      "Score: 14/20\n",
      "Score: 6/12\n",
      "Score: 4/20\n",
      "Score: 15/20\n",
      "Score: 4/12\n",
      "Score: 10/20\n",
      "Score: 16/20\n",
      "Score: 1/12\n",
      "Score: 10/20\n",
      "Score: 16/20\n",
      "Baseline SR: [3.8461538461538463, 13.461538461538462, 11.538461538461538, 30.76923076923077, 32.69230769230769, 53.84615384615385]\n",
      "Baseline Ratio: [32.23525884267558, 35.87630565119424, 31.820912996289287, 51.8183388692272, 52.74375068126148, 78.20370344512703]\n",
      "SegVPR SR: [11.538461538461538, 42.30769230769231, 38.46153846153847, 48.07692307692308, 57.692307692307686, 51.92307692307693]\n",
      "SegVPR Ratio: [36.48686213153657, 58.41136470978048, 68.52956460222124, 65.89043880431028, 85.85984838992432, 79.86072479459861]\n"
     ]
    }
   ],
   "source": [
    "s0 =[\n",
    "\"/home/shubham/Desktop/git/carla-roach/outputs2/2023-04-18/20-55-14\",\n",
    "\"/home/shubham/Desktop/git/carla-roach/outputs2/2023-04-18/21-32-49\",\n",
    "\"/home/shubham/Desktop/git/carla-roach/outputs2/2023-04-19/01-12-20\",\n",
    "]\n",
    "s1 = [\n",
    "\"/home/shubham/Desktop/git/carla-roach/outputs2/2023-04-19/04-43-34\",\n",
    "\"/home/shubham/Desktop/git/carla-roach/outputs2/2023-04-19/06-25-26\",\n",
    "\"/home/shubham/Desktop/git/carla-roach/outputs2/2023-04-19/10-33-34\",\n",
    "]\n",
    "\n",
    "s2 = [\n",
    "\"/home/shubham/Desktop/git/carla-roach/outputs2/2023-04-19/23-28-18\",\n",
    "\"/home/shubham/Desktop/git/carla-roach/outputs2/2023-04-20/01-25-33\",\n",
    "\"/home/shubham/Desktop/git/carla-roach/outputs2/2023-04-20/06-27-00\",\n",
    "]\n",
    "\n",
    "s3 = [\n",
    "\"/home/shubham/Desktop/git/carla-roach/outputs2/2023-04-20/10-29-14\",\n",
    "\"/home/shubham/Desktop/git/carla-roach/outputs2/2023-04-20/12-49-17\",\n",
    "\"/home/shubham/Desktop/git/carla-roach/outputs2/2023-04-20/17-33-35\",\n",
    "]\n",
    "\n",
    "s4 = [\n",
    "\"/home/shubham/Desktop/git/carla-roach/outputs2/2023-04-22/13-02-33\",\n",
    "\"/home/shubham/Desktop/git/carla-roach/outputs2/2023-04-22/15-02-32\",\n",
    "\"/home/shubham/Desktop/git/carla-roach/outputs2/2023-04-22/21-51-11\",\n",
    "]\n",
    "\n",
    "s5 = [\n",
    "\"/home/shubham/Desktop/git/carla-roach/outputs2/2023-04-23/01-31-43\",\n",
    "\"/home/shubham/Desktop/git/carla-roach/outputs2/2023-04-23/03-57-31\",\n",
    "\"/home/shubham/Desktop/git/carla-roach/outputs2/2023-04-23/09-44-11\",\n",
    "]\n",
    "\n",
    "b0 =[\n",
    "\"/home/shubham/Desktop/git/carla-roach/outputs2/2023-04-23/14-10-06\",\n",
    "\"/home/shubham/Desktop/git/carla-roach/outputs2/2023-04-23/14-48-01\",\n",
    "\"/home/shubham/Desktop/git/carla-roach/outputs2/2023-04-23/17-42-43\",\n",
    "]\n",
    "\n",
    "b1 = [\n",
    "\"/home/shubham/Desktop/git/carla-roach/outputs2/2023-04-23/20-04-41\",\n",
    "\"/home/shubham/Desktop/git/carla-roach/outputs2/2023-04-23/21-33-40\",\n",
    "\"/home/shubham/Desktop/git/carla-roach/outputs/jointly_made/2023-04-24/01-08-49\",\n",
    "]\n",
    "\n",
    "b2 = [\n",
    "\"/home/shubham/Desktop/git/carla-roach/outputs2/2023-04-24/09-26-12\",\n",
    "\"/home/shubham/Desktop/git/carla-roach/outputs2/2023-04-24/10-09-30\",\n",
    "\"/home/shubham/Desktop/git/carla-roach/outputs2/2023-04-24/14-49-41\",\n",
    "]\n",
    "\n",
    "b3 = [\n",
    "\"/home/shubham/Desktop/git/carla-roach/outputs2/2023-04-24/17-58-27\",\n",
    "\"/home/shubham/Desktop/git/carla-roach/outputs2/2023-04-24/19-19-58\",\n",
    "\"/home/shubham/Desktop/git/carla-roach/outputs2/2023-04-24/23-22-56\",\n",
    "]\n",
    "\n",
    "b4 = [\n",
    "\"/home/shubham/Desktop/git/carla-roach/outputs2/2023-04-25/07-20-26\",\n",
    "\"/home/shubham/Desktop/git/carla-roach/outputs2/2023-04-25/09-27-43\",\n",
    "\"/home/shubham/Desktop/git/carla-roach/outputs2/2023-04-25/13-24-21\",\n",
    "]\n",
    "\n",
    "b5 = [\n",
    "\"/home/shubham/Desktop/git/carla-roach/outputs/jointly_made/2023-04-25/16-25-15\",\n",
    "\"/home/shubham/Desktop/git/carla-roach/outputs2/2023-04-25/18-33-19\",\n",
    "\"/home/shubham/Desktop/git/carla-roach/outputs2/2023-04-26/00-23-58\",\n",
    "]\n",
    "\n",
    "\n",
    "\n",
    "b_scores = []\n",
    "for b in [b0,b1,b2,b3,b4,b5]:\n",
    "    b_scores.append(calc_success_rate(b))\n",
    "    \n",
    "s_scores = []\n",
    "for s in [s0,s1,s2,s3,s4,s5]:\n",
    "    s_scores.append(calc_success_rate(s))\n",
    "\n",
    "b_ratios = []\n",
    "for b in [b0,b1,b2,b3,b4,b5]:\n",
    "    b_ratios.append(route_completion_ratio(b))\n",
    "    \n",
    "s_ratios = []\n",
    "for s in [s0,s1,s2,s3,s4,s5]:\n",
    "    s_ratios.append(route_completion_ratio(s))\n",
    "    \n",
    "print(f\"Baseline SR: {b_scores}\")\n",
    "print(f\"Baseline Ratio: {b_ratios}\")\n",
    "print(f\"SegVPR SR: {s_scores}\")\n",
    "print(f\"SegVPR Ratio: {s_ratios}\")"
   ]
  },
  {
   "cell_type": "markdown",
   "id": "366c5e59-be9d-4d85-bafc-8df1c7e4d233",
   "metadata": {},
   "source": [
    "## TT"
   ]
  },
  {
   "cell_type": "code",
   "execution_count": null,
   "id": "ee7602b8-6e07-498b-aceb-13bd00a429c5",
   "metadata": {},
   "outputs": [
    {
     "name": "stdout",
     "output_type": "stream",
     "text": [
      "Score: 6/20\n",
      "Score: 5/40\n",
      "Score: 2/20\n",
      "Score: 6/20\n",
      "Score: 13/20\n",
      "Score: 10/40\n",
      "Score: 4/20\n",
      "Score: 3/20\n",
      "Score: 13/20\n",
      "Score: 16/40\n",
      "Score: 5/20\n",
      "Score: 7/20\n",
      "Score: 10/20\n",
      "Score: 19/40\n",
      "Score: 8/20\n",
      "Score: 5/20\n",
      "Score: 16/20\n",
      "Score: 21/40\n",
      "Score: 8/20\n",
      "Score: 10/20\n",
      "Score: 19/20\n",
      "Score: 21/40\n",
      "Score: 13/20\n",
      "Score: 9/20\n",
      "Score: 0/20\n",
      "Score: 5/40\n",
      "Score: 2/20\n",
      "Score: 3/20\n",
      "Score: 15/19\n",
      "Score: 15/40\n",
      "Score: 8/20\n",
      "Score: 8/20\n",
      "Score: 19/20\n",
      "Score: 25/40\n",
      "Score: 13/20\n",
      "Score: 10/20\n",
      "Score: 16/20\n",
      "Score: 22/40\n",
      "Score: 13/20\n",
      "Score: 7/20\n",
      "Score: 18/20\n",
      "Score: 34/40\n",
      "Score: 15/20\n",
      "Score: 19/20\n",
      "Score: 18/20\n",
      "Score: 28/40\n",
      "Score: 15/20\n",
      "Score: 10/20\n",
      "Baseline SR: [19.0, 30.0, 41.0, 42.0, 55.00000000000001, 62.0]\n",
      "Baseline Ratio: [49.96818578162413, 54.64272905138695, 64.65412368937494, 65.20009957163833, 68.84292412617852, 77.30343865912582]\n",
      "SegVPR SR: [10.0, 46.464646464646464, 67.0, 57.99999999999999, 86.0, 71.0]\n",
      "SegVPR Ratio: [42.30054399524229, 66.95893734022448, 85.51986927477722, 79.70556950885836, 95.49820573945826, 91.1344828020593]\n"
     ]
    }
   ],
   "source": [
    "s0 = [\n",
    "\"/home/shubham/Desktop/git/carla-roach/outputs/2023-03-18/21-49-08\",\n",
    "\"/home/shubham/Desktop/git/carla-roach/outputs/2023-03-19/00-43-07\",\n",
    "\"/home/shubham/Desktop/git/carla-roach/outputs/2023-03-19/05-02-57\",\n",
    "\"/home/shubham/Desktop/git/carla-roach/outputs/2023-03-19/08-57-26\"\n",
    "]\n",
    "\n",
    "s1 = [\n",
    "\"/home/shubham/Desktop/git/carla-roach/outputs/jointly_made/2023-03-19/23-33-48\",\n",
    "\"/home/shubham/Desktop/git/carla-roach/outputs/2023-03-20/02-27-18\",\n",
    "\"/home/shubham/Desktop/git/carla-roach/outputs/2023-03-20/08-41-51\",\n",
    "\"/home/shubham/Desktop/git/carla-roach/outputs/2023-03-20/12-57-34\",\n",
    "]\n",
    "\n",
    "s2 = [\n",
    "\"/home/shubham/Desktop/git/carla-roach/outputs/2023-03-20/17-43-55\",\n",
    "\"/home/shubham/Desktop/git/carla-roach/outputs/2023-03-20/21-10-16\",\n",
    "\"/home/shubham/Desktop/git/carla-roach/outputs/2023-03-21/04-32-29\",\n",
    "\"/home/shubham/Desktop/git/carla-roach/outputs/2023-03-21/10-33-40\",\n",
    "]\n",
    "\n",
    "s3 = [\n",
    "\"/home/shubham/Desktop/git/carla-roach/outputs/2023-03-23/10-18-54\",\n",
    "\"/home/shubham/Desktop/git/carla-roach/outputs/2023-03-23/13-35-15\",\n",
    "\"/home/shubham/Desktop/git/carla-roach/outputs/2023-03-23/20-45-31\",\n",
    "\"/home/shubham/Desktop/git/carla-roach/outputs/2023-03-24/02-28-09\",\n",
    "]\n",
    "\n",
    "s4 = [\n",
    "\"/home/shubham/Desktop/git/carla-roach/outputs/2023-03-24/06-51-13\",\n",
    "\"/home/shubham/Desktop/git/carla-roach/outputs/2023-03-24/09-59-05\",\n",
    "\"/home/shubham/Desktop/git/carla-roach/outputs/2023-03-24/17-36-44\",\n",
    "\"/home/shubham/Desktop/git/carla-roach/outputs/2023-03-24/23-23-50\",\n",
    "]\n",
    "\n",
    "s5 = [\n",
    "\"/home/shubham/Desktop/git/carla-roach/outputs/2023-03-27/10-39-26\",\n",
    "\"/home/shubham/Desktop/git/carla-roach/outputs/2023-03-27/13-46-04\",\n",
    "\"/home/shubham/Desktop/git/carla-roach/outputs/2023-03-27/21-54-07\",\n",
    "\"/home/shubham/Desktop/git/carla-roach/outputs/2023-03-28/04-28-35\",\n",
    "]\n",
    "\n",
    "\n",
    "b0 = [\n",
    "\"/home/shubham/Desktop/git/carla-roach/outputs/2023-03-28/09-29-08\",\n",
    "\"/home/shubham/Desktop/git/carla-roach/outputs/jointly_made/2023-03-28/11-58-40\",\n",
    "\"/home/shubham/Desktop/git/carla-roach/outputs/2023-03-28/17-34-19\",\n",
    "\"/home/shubham/Desktop/git/carla-roach/outputs/2023-03-28/21-06-33\",\n",
    "]\n",
    "    \n",
    "b1 = [\n",
    "\"/home/shubham/Desktop/git/carla-roach/outputs/2023-03-31/07-55-18\",\n",
    "\"/home/shubham/Desktop/git/carla-roach/outputs/2023-03-31/11-15-43\",\n",
    "\"/home/shubham/Desktop/git/carla-roach/outputs/2023-03-31/16-51-26\",\n",
    "\"/home/shubham/Desktop/git/carla-roach/outputs/2023-03-31/20-34-11\",\n",
    "\n",
    "]\n",
    "    \n",
    "b2 = [\n",
    "\"/home/shubham/Desktop/git/carla-roach/outputs/2023-04-01/00-24-40\",\n",
    "\"/home/shubham/Desktop/git/carla-roach/outputs/2023-04-01/03-34-51\",\n",
    "\"/home/shubham/Desktop/git/carla-roach/outputs/2023-04-01/10-40-00\",\n",
    "\"/home/shubham/Desktop/git/carla-roach/outputs/2023-04-01/14-55-32\",\n",
    "\n",
    "]\n",
    "    \n",
    "b3 = [\n",
    "\"/home/shubham/Desktop/git/carla-roach/outputs/2023-04-02/10-58-46\",\n",
    "\"/home/shubham/Desktop/git/carla-roach/outputs/2023-04-02/13-38-59\",\n",
    "\"/home/shubham/Desktop/git/carla-roach/outputs/2023-04-02/19-33-32\",\n",
    "\"/home/shubham/Desktop/git/carla-roach/outputs/2023-04-03/00-20-44\",\n",
    "\n",
    "]\n",
    "    \n",
    "b4 = [\n",
    "\"/home/shubham/Desktop/git/carla-roach/outputs/2023-04-03/04-39-11\",\n",
    "\"/home/shubham/Desktop/git/carla-roach/outputs/2023-04-03/07-27-28\",\n",
    "\"/home/shubham/Desktop/git/carla-roach/outputs/2023-04-03/13-42-53\",\n",
    "\"/home/shubham/Desktop/git/carla-roach/outputs/2023-04-03/17-46-19\",\n",
    "]\n",
    "    \n",
    "b5 = [\n",
    "\"/home/shubham/Desktop/git/carla-roach/outputs/2023-04-04/10-01-20\",\n",
    "\"/home/shubham/Desktop/git/carla-roach/outputs/2023-04-04/12-59-46\",\n",
    "\"/home/shubham/Desktop/git/carla-roach/outputs/2023-04-04/19-14-28\",\n",
    "\"/home/shubham/Desktop/git/carla-roach/outputs/2023-04-05/00-23-23\",\n",
    "]\n",
    "\n",
    "b_scores = []\n",
    "for b in [b0,b1,b2,b3,b4,b5]:\n",
    "    b_scores.append(calc_success_rate(b))\n",
    "    \n",
    "s_scores = []\n",
    "for s in [s0,s1,s2,s3,s4,s5]:\n",
    "    s_scores.append(calc_success_rate(s))\n",
    "\n",
    "b_ratios = []\n",
    "for b in [b0,b1,b2,b3,b4,b5]:\n",
    "    b_ratios.append(route_completion_ratio(b))\n",
    "    \n",
    "s_ratios = []\n",
    "for s in [s0,s1,s2,s3,s4,s5]:\n",
    "    s_ratios.append(route_completion_ratio(s))\n",
    "    \n",
    "print(f\"Baseline SR: {b_scores}\")\n",
    "print(f\"Baseline Ratio: {b_ratios}\")\n",
    "print(f\"SegVPR SR: {s_scores}\")\n",
    "print(f\"SegVPR Ratio: {s_ratios}\")"
   ]
  },
  {
   "cell_type": "code",
   "execution_count": null,
   "id": "2462be77-7149-42b0-a02f-bb20b1e8349b",
   "metadata": {},
   "outputs": [
    {
     "name": "stdout",
     "output_type": "stream",
     "text": [
      "Score: 6/20\n",
      "Score: 6/40\n",
      "Score: 4/20\n",
      "Score: 4/20\n",
      "Score: 13/20\n",
      "Score: 10/40\n",
      "Score: 4/20\n",
      "Score: 7/20\n",
      "Score: 16/20\n",
      "Score: 18/40\n",
      "Score: 5/20\n",
      "Score: 6/20\n",
      "Score: 11/20\n",
      "Score: 17/40\n",
      "Score: 10/20\n",
      "Score: 9/20\n",
      "Score: 18/20\n",
      "Score: 20/40\n",
      "Score: 8/20\n",
      "Score: 11/20\n",
      "Score: 20/20\n",
      "Score: 22/40\n",
      "Score: 11/20\n",
      "Score: 12/20\n",
      "Score: 0/20\n",
      "Score: 5/40\n",
      "Score: 3/20\n",
      "Score: 2/20\n",
      "Score: 16/20\n",
      "Score: 14/40\n",
      "Score: 7/20\n",
      "Score: 9/20\n",
      "Score: 15/20\n",
      "Score: 21/40\n",
      "Score: 10/20\n",
      "Score: 11/20\n",
      "Score: 17/20\n",
      "Score: 27/40\n",
      "Score: 14/20\n",
      "Score: 9/20\n",
      "Score: 19/20\n",
      "Score: 31/40\n",
      "Score: 13/20\n",
      "Score: 18/20\n",
      "Score: 18/20\n",
      "Score: 30/40\n",
      "Score: 16/20\n",
      "Score: 10/20\n",
      "Baseline SR: [20.0, 34.0, 45.0, 47.0, 56.99999999999999, 65.0]\n",
      "Baseline Ratio: [48.64628090881574, 53.55298960591607, 64.35412390727296, 64.23732791511095, 70.09542225074557, 78.4094075963081]\n",
      "SegVPR SR: [10.0, 46.0, 56.99999999999999, 67.0, 81.0, 74.0]\n",
      "SegVPR Ratio: [43.18221281879337, 67.25082093256097, 77.33157733903542, 81.72078294033945, 89.74150366776827, 89.04771512168176]\n"
     ]
    }
   ],
   "source": [
    "s0 = [\n",
    "\"/home/shubham/Desktop/git/carla-roach/outputs/2023-04-11/01-01-19\",\n",
    "\"/home/shubham/Desktop/git/carla-roach/outputs/2023-04-11/04-03-41\",\n",
    "\"/home/shubham/Desktop/git/carla-roach/outputs/2023-04-11/08-20-15\",\n",
    "\"/home/shubham/Desktop/git/carla-roach/outputs/2023-04-11/13-08-39\"\n",
    "]\n",
    "\n",
    "s1 = [\n",
    "\"/home/shubham/Desktop/git/carla-roach/outputs/2023-04-11/18-04-32\",\n",
    "\"/home/shubham/Desktop/git/carla-roach/outputs/2023-04-11/21-05-13\",\n",
    "\"/home/shubham/Desktop/git/carla-roach/outputs/2023-04-12/02-48-33\",\n",
    "\"/home/shubham/Desktop/git/carla-roach/outputs/2023-04-12/07-36-10\"\n",
    "]\n",
    "\n",
    "s2 = [\n",
    "\"/home/shubham/Desktop/git/carla-roach/outputs/jointly_made/2023-04-12/23-23-37\",\n",
    "\"/home/shubham/Desktop/git/carla-roach/outputs/2023-04-13/02-45-22\",\n",
    "\"/home/shubham/Desktop/git/carla-roach/outputs/2023-04-13/09-41-32\",\n",
    "\"/home/shubham/Desktop/git/carla-roach/outputs/2023-04-13/14-56-31\",\n",
    "]\n",
    "\n",
    "s3 = [\n",
    "\"/home/shubham/Desktop/git/carla-roach/outputs/2023-04-13/20-20-18\",\n",
    "\"/home/shubham/Desktop/git/carla-roach/outputs/2023-04-13/23-45-13\",\n",
    "\"/home/shubham/Desktop/git/carla-roach/outputs/2023-04-14/06-34-45\",\n",
    "\"/home/shubham/Desktop/git/carla-roach/outputs/2023-04-14/12-06-56\"\n",
    "]\n",
    "\n",
    "s4 = [\n",
    "\"/home/shubham/Desktop/git/carla-roach/outputs/2023-04-15/14-09-36\",\n",
    "\"/home/shubham/Desktop/git/carla-roach/outputs/2023-04-15/17-26-55\",\n",
    "\"/home/shubham/Desktop/git/carla-roach/outputs/2023-04-16/01-05-32\",\n",
    "\"/home/shubham/Desktop/git/carla-roach/outputs/2023-04-16/06-40-53\"\n",
    "]\n",
    "\n",
    "s5 = [\n",
    "\"/home/shubham/Desktop/git/carla-roach/outputs/2023-04-16/12-06-54\",\n",
    "\"/home/shubham/Desktop/git/carla-roach/outputs/2023-04-16/15-35-55\",\n",
    "\"/home/shubham/Desktop/git/carla-roach/outputs/2023-04-16/22-59-41\",\n",
    "\"/home/shubham/Desktop/git/carla-roach/outputs/2023-04-17/05-30-42\"\n",
    "]\n",
    "\n",
    "\n",
    "\n",
    "b0 = [\n",
    "\"/home/shubham/Desktop/git/carla-roach/outputs/2023-04-17/10-27-35\",\n",
    "\"/home/shubham/Desktop/git/carla-roach/outputs/2023-04-17/12-43-24\",\n",
    "\"/home/shubham/Desktop/git/carla-roach/outputs/2023-04-17/18-11-03\",\n",
    "\"/home/shubham/Desktop/git/carla-roach/outputs/2023-04-17/21-38-43\",\n",
    "]\n",
    "\n",
    "b1 = [\n",
    "\"/home/shubham/Desktop/git/carla-roach/outputs/2023-04-18/02-12-04\",\n",
    "\"/home/shubham/Desktop/git/carla-roach/outputs/2023-04-18/05-36-54\",\n",
    "\"/home/shubham/Desktop/git/carla-roach/outputs/2023-04-18/11-10-34\",\n",
    "\"/home/shubham/Desktop/git/carla-roach/outputs/2023-04-18/14-54-42\",\n",
    "]\n",
    "\n",
    "b2 = [\n",
    "\"/home/shubham/Desktop/git/carla-roach/outputs/2023-04-18/20-52-18\",\n",
    "\"/home/shubham/Desktop/git/carla-roach/outputs/2023-04-19/00-26-15\",\n",
    "\"/home/shubham/Desktop/git/carla-roach/outputs/2023-04-19/06-40-40\",\n",
    "\"/home/shubham/Desktop/git/carla-roach/outputs/2023-04-19/11-15-12\",\n",
    "]\n",
    "\n",
    "b3 = [\n",
    "\"/home/shubham/Desktop/git/carla-roach/outputs/2023-04-19/16-39-01\",\n",
    "\"/home/shubham/Desktop/git/carla-roach/outputs/2023-04-19/19-48-02\",\n",
    "\"/home/shubham/Desktop/git/carla-roach/outputs/2023-04-20/01-38-10\",\n",
    "\"/home/shubham/Desktop/git/carla-roach/outputs/2023-04-20/05-38-57\",\n",
    "]\n",
    "\n",
    "b4 = [\n",
    "\"/home/shubham/Desktop/git/carla-roach/outputs/2023-04-22/12-59-40\",\n",
    "\"/home/shubham/Desktop/git/carla-roach/outputs/2023-04-22/16-02-28\",\n",
    "\"/home/shubham/Desktop/git/carla-roach/outputs/2023-04-22/21-48-05\",\n",
    "\"/home/shubham/Desktop/git/carla-roach/outputs/2023-04-23/01-52-37\",\n",
    "]\n",
    "\n",
    "b5 = [\n",
    "\"/home/shubham/Desktop/git/carla-roach/outputs/2023-04-23/06-37-30\",\n",
    "\"/home/shubham/Desktop/git/carla-roach/outputs/2023-04-23/10-03-27\",\n",
    "\"/home/shubham/Desktop/git/carla-roach/outputs/2023-04-23/16-24-59\",\n",
    "\"/home/shubham/Desktop/git/carla-roach/outputs/2023-04-23/21-40-14\",\n",
    "]\n",
    "\n",
    "\n",
    "b_scores = []\n",
    "for b in [b0,b1,b2,b3,b4,b5]:\n",
    "    b_scores.append(calc_success_rate(b))\n",
    "    \n",
    "s_scores = []\n",
    "for s in [s0,s1,s2,s3,s4,s5]:\n",
    "    s_scores.append(calc_success_rate(s))\n",
    "\n",
    "b_ratios = []\n",
    "for b in [b0,b1,b2,b3,b4,b5]:\n",
    "    b_ratios.append(route_completion_ratio(b))\n",
    "    \n",
    "s_ratios = []\n",
    "for s in [s0,s1,s2,s3,s4,s5]:\n",
    "    s_ratios.append(route_completion_ratio(s))\n",
    "    \n",
    "print(f\"Baseline SR: {b_scores}\")\n",
    "print(f\"Baseline Ratio: {b_ratios}\")\n",
    "print(f\"SegVPR SR: {s_scores}\")\n",
    "print(f\"SegVPR Ratio: {s_ratios}\")"
   ]
  },
  {
   "cell_type": "code",
   "execution_count": null,
   "id": "0768e1e9-97b3-4fdc-a12b-9f89a524574f",
   "metadata": {},
   "outputs": [
    {
     "name": "stdout",
     "output_type": "stream",
     "text": [
      "Score: 5/20\n",
      "Score: 4/40\n",
      "Score: 3/20\n",
      "Score: 7/20\n",
      "Score: 9/20\n",
      "Score: 9/40\n",
      "Score: 7/20\n",
      "Score: 5/20\n",
      "Score: 12/20\n",
      "Score: 13/40\n",
      "Score: 5/20\n",
      "Score: 5/20\n",
      "Score: 12/20\n",
      "Score: 20/40\n",
      "Score: 7/20\n",
      "Score: 5/20\n",
      "Score: 18/20\n",
      "Score: 16/40\n",
      "Score: 9/20\n",
      "Score: 10/20\n",
      "Score: 20/20\n",
      "Score: 26/40\n",
      "Score: 11/20\n",
      "Score: 10/20\n",
      "Score: 2/20\n",
      "Score: 8/40\n",
      "Score: 2/20\n",
      "Score: 3/20\n",
      "Score: 10/20\n",
      "Score: 14/40\n",
      "Score: 8/20\n",
      "Score: 9/20\n",
      "Score: 19/20\n",
      "Score: 21/40\n",
      "Score: 9/20\n",
      "Score: 10/20\n",
      "Score: 18/20\n",
      "Score: 29/40\n",
      "Score: 12/20\n",
      "Score: 11/20\n",
      "Score: 18/20\n",
      "Score: 28/40\n",
      "Score: 16/20\n",
      "Score: 15/20\n",
      "Score: 19/20\n",
      "Score: 26/40\n",
      "Score: 13/20\n",
      "Score: 9/20\n",
      "Baseline SR: [19.0, 30.0, 35.0, 44.0, 53.0, 67.0]\n",
      "Baseline Ratio: [43.95706044256347, 54.96073304746921, 58.808892824920335, 63.36403376545344, 69.21345272481628, 81.35832339584655]\n",
      "SegVPR SR: [15.0, 41.0, 59.0, 70.0, 77.0, 67.0]\n",
      "SegVPR Ratio: [44.37015036555909, 64.52852266271945, 76.61546099688175, 85.02047830072573, 90.69872450068327, 84.4903014767483]\n"
     ]
    }
   ],
   "source": [
    "\n",
    "s0 = [\n",
    "\"/home/shubham/Desktop/git/carla-roach/outputs/2023-04-24/09-30-34\",\n",
    "\"/home/shubham/Desktop/git/carla-roach/outputs/2023-04-24/12-15-50\",\n",
    "\"/home/shubham/Desktop/git/carla-roach/outputs/2023-04-24/16-19-37\",\n",
    "\"/home/shubham/Desktop/git/carla-roach/outputs/2023-04-24/19-50-20\",\n",
    "]\n",
    "\n",
    "s1 = [\n",
    "\"/home/shubham/Desktop/git/carla-roach/outputs/2023-04-25/01-35-33\",\n",
    "\"/home/shubham/Desktop/git/carla-roach/outputs/2023-04-25/04-38-09\",\n",
    "\"/home/shubham/Desktop/git/carla-roach/outputs/2023-04-25/10-23-57\",\n",
    "\"/home/shubham/Desktop/git/carla-roach/outputs/2023-04-25/14-37-46\",\n",
    "]\n",
    "\n",
    "s2 = [\n",
    "\"/home/shubham/Desktop/git/carla-roach/outputs/2023-04-25/20-12-47\",\n",
    "\"/home/shubham/Desktop/git/carla-roach/outputs/2023-04-25/23-40-48\",\n",
    "\"/home/shubham/Desktop/git/carla-roach/outputs/2023-04-26/06-41-34\",\n",
    "\"/home/shubham/Desktop/git/carla-roach/outputs/2023-04-26/11-49-55\",\n",
    "]\n",
    "\n",
    "s3 = [\n",
    "\"/home/shubham/Desktop/git/carla-roach/outputs/2023-04-26/16-50-45\",\n",
    "\"/home/shubham/Desktop/git/carla-roach/outputs/2023-04-26/20-02-39\",\n",
    "\"/home/shubham/Desktop/git/carla-roach/outputs/2023-04-27/03-19-31\",\n",
    "\"/home/shubham/Desktop/git/carla-roach/outputs/2023-04-27/09-22-31\",\n",
    "]\n",
    "\n",
    "s4 = [\n",
    "\"/home/shubham/Desktop/git/carla-roach/outputs/2023-04-28/11-47-58\",\n",
    "\"/home/shubham/Desktop/git/carla-roach/outputs/2023-04-28/15-05-34\",\n",
    "\"/home/shubham/Desktop/git/carla-roach/outputs/2023-04-28/22-28-29\",\n",
    "\"/home/shubham/Desktop/git/carla-roach/outputs/2023-04-29/04-43-45\",\n",
    "]\n",
    "\n",
    "s5 = [\n",
    "\"/home/shubham/Desktop/git/carla-roach/outputs/2023-04-29/09-39-54\",\n",
    "\"/home/shubham/Desktop/git/carla-roach/outputs/2023-04-29/13-00-13\",\n",
    "\"/home/shubham/Desktop/git/carla-roach/outputs/2023-04-29/20-24-44\",\n",
    "\"/home/shubham/Desktop/git/carla-roach/outputs/2023-04-30/02-13-06\",\n",
    "]\n",
    "\n",
    "b0 = [\n",
    "\"/home/shubham/Desktop/git/carla-roach/outputs/2023-05-02/12-29-29\",\n",
    "\"/home/shubham/Desktop/git/carla-roach/outputs/2023-05-02/15-10-05\",\n",
    "\"/home/shubham/Desktop/git/carla-roach/outputs/2023-05-02/20-23-05\",\n",
    "\"/home/shubham/Desktop/git/carla-roach/outputs/2023-05-03/00-11-05\",\n",
    "]\n",
    "\n",
    "b1 = [\n",
    "\"/home/shubham/Desktop/git/carla-roach/outputs/2023-05-03/04-16-14\",\n",
    "\"/home/shubham/Desktop/git/carla-roach/outputs/2023-05-03/07-45-34\",\n",
    "\"/home/shubham/Desktop/git/carla-roach/outputs/2023-05-03/13-39-08\",\n",
    "\"/home/shubham/Desktop/git/carla-roach/outputs/2023-05-03/17-23-21\",\n",
    "]\n",
    "\n",
    "# b2 and b3 are just made here\n",
    "\n",
    "# b4 and b5 are calculating\n",
    "\n",
    "b2 = [\n",
    "\"/home/shubham/Desktop/git/carla-roach/outputs/jointly_made/2023-04-26/08-49-31\",\n",
    "\"/home/shubham/Desktop/git/carla-roach/outputs/jointly_made/2023-04-26/10-20-05\",\n",
    "\"/home/shubham/Desktop/git/carla-roach/outputs2/2023-04-26/16-02-46\",\n",
    "\"/home/shubham/Desktop/git/carla-roach/outputs2/2023-04-26/19-32-35\"\n",
    "]\n",
    "\n",
    "b3 = [\n",
    "\"/home/shubham/Desktop/git/carla-roach/outputs2/2023-04-26/23-46-36\",\n",
    "\"/home/shubham/Desktop/git/carla-roach/outputs2/2023-04-27/02-16-46\",\n",
    "\"/home/shubham/Desktop/git/carla-roach/outputs2/2023-04-27/07-30-36\",\n",
    "\"/home/shubham/Desktop/git/carla-roach/outputs2/2023-04-27/11-02-41\",\n",
    "]\n",
    "\n",
    "b4 = [\n",
    "\"/home/shubham/Desktop/git/carla-roach/outputs/2023-05-09/08-03-36\",\n",
    "\"/home/shubham/Desktop/git/carla-roach/outputs/2023-05-09/11-11-53\",\n",
    "\"/home/shubham/Desktop/git/carla-roach/outputs/jointly_made/2023-05-09/16-48-52\",\n",
    "\"/home/shubham/Desktop/git/carla-roach/outputs/2023-05-09/21-02-59\",\n",
    "]\n",
    "\n",
    "b5= [\n",
    "\"/home/shubham/Desktop/git/carla-roach/outputs/2023-05-10/02-18-16\",\n",
    "\"/home/shubham/Desktop/git/carla-roach/outputs/2023-05-10/05-26-49\",\n",
    "\"/home/shubham/Desktop/git/carla-roach/outputs/2023-05-10/12-21-02\",\n",
    "\"/home/shubham/Desktop/git/carla-roach/outputs/2023-05-10/16-57-38\",\n",
    "]\n",
    "\n",
    "b_scores = []\n",
    "for b in [b0,b1,b2,b3, b4, b5]:\n",
    "    b_scores.append(calc_success_rate(b))\n",
    "    \n",
    "s_scores = []\n",
    "for s in [s0,s1,s2,s3,s4,s5]:\n",
    "    s_scores.append(calc_success_rate(s))\n",
    "\n",
    "b_ratios = []\n",
    "for b in [b0,b1,b2,b3, b4, b5]:\n",
    "    b_ratios.append(route_completion_ratio(b))\n",
    "    \n",
    "s_ratios = []\n",
    "for s in [s0,s1,s2,s3,s4,s5]:\n",
    "    s_ratios.append(route_completion_ratio(s))\n",
    "    \n",
    "print(f\"Baseline SR: {b_scores}\")\n",
    "print(f\"Baseline Ratio: {b_ratios}\")\n",
    "print(f\"SegVPR SR: {s_scores}\")\n",
    "print(f\"SegVPR Ratio: {s_ratios}\")"
   ]
  },
  {
   "cell_type": "code",
   "execution_count": null,
   "id": "faf2cbd4-1955-4ae9-ab17-1206933301d4",
   "metadata": {},
   "outputs": [],
   "source": []
  },
  {
   "cell_type": "code",
   "execution_count": null,
   "id": "1ac937e7-ea42-4510-9e7b-54e93822d07a",
   "metadata": {},
   "outputs": [
    {
     "name": "stdout",
     "output_type": "stream",
     "text": [
      "Date = 2023-03-06 Time = 00-18-45 Add: /home/shubham/Desktop/git/carla-roach/outputs/2023-03-06/00-18-45 Model name = 20230302_202806LbModeBaselineD4\n",
      "Date = 2023-03-06 Time = 03-37-31 Add: /home/shubham/Desktop/git/carla-roach/outputs/2023-03-06/03-37-31 Model name = 20230303_180104LbModeBaselineD5\n",
      "Date = 2023-03-06 Time = 08-06-38 Add: /home/shubham/Desktop/git/carla-roach/outputs/2023-03-06/08-06-38 Model name = 20230301_220308LbModeBaselineD3\n",
      "Date = 2023-03-06 Time = 10-48-17 Add: /home/shubham/Desktop/git/carla-roach/outputs/2023-03-06/10-48-17 Model name = 20230302_202806LbModeBaselineD4\n",
      "Date = 2023-03-06 Time = 13-35-29 Add: /home/shubham/Desktop/git/carla-roach/outputs/2023-03-06/13-35-29 Model name = 20230303_180104LbModeBaselineD5\n",
      "Date = 2023-03-06 Time = 23-01-01 Add: /home/shubham/Desktop/git/carla-roach/outputs/2023-03-06/23-01-01 Model name = 20230227_074626SegVPRencD5\n",
      "Date = 2023-03-07 Time = 01-34-21 Add: /home/shubham/Desktop/git/carla-roach/outputs/2023-03-07/01-34-21 Model name = 20230227_074626SegVPRencD5\n",
      "Date = 2023-03-07 Time = 09-23-15 Add: /home/shubham/Desktop/git/carla-roach/outputs/2023-03-07/09-23-15 Model name = 20230227_074626SegVPRencD5\n",
      "Date = 2023-03-07 Time = 14-18-34 Add: /home/shubham/Desktop/git/carla-roach/outputs/2023-03-07/14-18-34 Model name = 20230303_180104LbModeBaselineD5\n",
      "Date = 2023-03-07 Time = 16-49-10 Add: /home/shubham/Desktop/git/carla-roach/outputs/2023-03-07/16-49-10 Model name = 20230303_180104LbModeBaselineD5\n",
      "Date = 2023-03-08 Time = 00-55-41 Add: /home/shubham/Desktop/git/carla-roach/outputs/2023-03-08/00-55-41 Model name = 20230303_180104LbModeBaselineD5\n",
      "Date = 2023-03-08 Time = 09-19-56 Add: /home/shubham/Desktop/git/carla-roach/outputs/2023-03-08/09-19-56 Model name = 20230301_220308LbModeBaselineD3\n",
      "Date = 2023-03-08 Time = 10-59-48 Add: /home/shubham/Desktop/git/carla-roach/outputs/2023-03-08/10-59-48 Model name = 20230301_220308LbModeBaselineD3\n",
      "Date = 2023-03-08 Time = 15-59-18 Add: /home/shubham/Desktop/git/carla-roach/outputs/2023-03-08/15-59-18 Model name = 20230301_220308LbModeBaselineD3\n",
      "Date = 2023-03-08 Time = 19-21-15 Add: /home/shubham/Desktop/git/carla-roach/outputs/2023-03-08/19-21-15 Model name = 20230223_131935SegVPRencD3\n",
      "Date = 2023-03-08 Time = 21-40-31 Add: /home/shubham/Desktop/git/carla-roach/outputs/2023-03-08/21-40-31 Model name = 20230223_131935SegVPRencD3\n",
      "Date = 2023-03-09 Time = 03-16-45 Add: /home/shubham/Desktop/git/carla-roach/outputs/2023-03-09/03-16-45 Model name = 20230223_131935SegVPRencD3\n",
      "Date = 2023-03-09 Time = 23-57-36 Add: /home/shubham/Desktop/git/carla-roach/outputs/2023-03-09/23-57-36 Model name = 20230302_202806LbModeBaselineD4\n",
      "Date = 2023-03-10 Time = 02-25-05 Add: /home/shubham/Desktop/git/carla-roach/outputs/2023-03-10/02-25-05 Model name = 20230302_202806LbModeBaselineD4\n",
      "Date = 2023-03-10 Time = 07-01-28 Add: /home/shubham/Desktop/git/carla-roach/outputs/2023-03-10/07-01-28 Model name = 20230302_202806LbModeBaselineD4\n",
      "Date = 2023-03-10 Time = 10-43-41 Add: /home/shubham/Desktop/git/carla-roach/outputs/2023-03-10/10-43-41 Model name = 20230226_005522SegVPRencD4\n",
      "Date = 2023-03-10 Time = 13-02-56 Add: /home/shubham/Desktop/git/carla-roach/outputs/2023-03-10/13-02-56 Model name = 20230226_005522SegVPRencD4\n",
      "Date = 2023-03-10 Time = 20-56-30 Add: /home/shubham/Desktop/git/carla-roach/outputs/2023-03-10/20-56-30 Model name = 20230226_005522SegVPRencD4\n",
      "Date = 2023-03-11 Time = 18-57-18 Add: /home/shubham/Desktop/git/carla-roach/outputs/2023-03-11/18-57-18 Model name = 20230131_025157LbModeBaselineD1\n",
      "Date = 2023-03-11 Time = 20-09-08 Add: /home/shubham/Desktop/git/carla-roach/outputs/2023-03-11/20-09-08 Model name = 20230131_025157LbModeBaselineD1\n",
      "Date = 2023-03-12 Time = 00-30-42 Add: /home/shubham/Desktop/git/carla-roach/outputs/2023-03-12/00-30-42 Model name = 20230131_025157LbModeBaselineD1\n",
      "Date = 2023-03-12 Time = 05-16-22 Add: /home/shubham/Desktop/git/carla-roach/outputs/2023-03-12/05-16-22 Model name = 20230220_231756SegVPRencD1\n",
      "Date = 2023-03-12 Time = 07-50-57 Add: /home/shubham/Desktop/git/carla-roach/outputs/2023-03-12/07-50-57 Model name = 20230220_231756SegVPRencD1\n",
      "Date = 2023-03-12 Time = 12-48-02 Add: /home/shubham/Desktop/git/carla-roach/outputs/2023-03-12/12-48-02 Model name = 20230220_231756SegVPRencD1\n",
      "Date = 2023-03-13 Time = 07-09-16 Add: /home/shubham/Desktop/git/carla-roach/outputs/2023-03-13/07-09-16 Model name = 20230130_105732LbModeBaseline\n",
      "Date = 2023-03-13 Time = 07-48-55 Add: /home/shubham/Desktop/git/carla-roach/outputs/2023-03-13/07-48-55 Model name = 20230130_105732LbModeBaseline\n",
      "Date = 2023-03-13 Time = 11-01-27 Add: /home/shubham/Desktop/git/carla-roach/outputs/2023-03-13/11-01-27 Model name = 20230130_105732LbModeBaseline\n",
      "Date = 2023-03-13 Time = 14-51-33 Add: /home/shubham/Desktop/git/carla-roach/outputs/2023-03-13/14-51-33 Model name = 20230220_010526SegVPRenc\n",
      "Date = 2023-03-13 Time = 15-29-19 Add: /home/shubham/Desktop/git/carla-roach/outputs/2023-03-13/15-29-19 Model name = 20230220_010526SegVPRenc\n",
      "Date = 2023-03-13 Time = 19-59-05 Add: /home/shubham/Desktop/git/carla-roach/outputs/2023-03-13/19-59-05 Model name = 20230220_010526SegVPRenc\n",
      "Date = 2023-03-14 Time = 16-14-27 Add: /home/shubham/Desktop/git/carla-roach/outputs/2023-03-14/16-14-27 Model name = 20230131_184744LbModeBaselineD2\n",
      "Date = 2023-03-14 Time = 17-03-22 Add: /home/shubham/Desktop/git/carla-roach/outputs/2023-03-14/17-03-22 Model name = 20230131_184744LbModeBaselineD2\n",
      "Date = 2023-03-14 Time = 22-15-18 Add: /home/shubham/Desktop/git/carla-roach/outputs/2023-03-14/22-15-18 Model name = 20230131_184744LbModeBaselineD2\n",
      "Date = 2023-03-15 Time = 02-08-53 Add: /home/shubham/Desktop/git/carla-roach/outputs/2023-03-15/02-08-53 Model name = 20230221_205635SegVPRencD2\n",
      "Date = 2023-03-15 Time = 04-01-53 Add: /home/shubham/Desktop/git/carla-roach/outputs/2023-03-15/04-01-53 Model name = 20230221_205635SegVPRencD2\n",
      "Date = 2023-03-15 Time = 10-51-24 Add: /home/shubham/Desktop/git/carla-roach/outputs/2023-03-15/10-51-24 Model name = 20230221_205635SegVPRencD2\n",
      "Date = 2023-03-18 Time = 21-49-08 Add: /home/shubham/Desktop/git/carla-roach/outputs/2023-03-18/21-49-08 Model name = 20230220_010526SegVPRenc\n",
      "Date = 2023-03-19 Time = 00-43-07 Add: /home/shubham/Desktop/git/carla-roach/outputs/2023-03-19/00-43-07 Model name = 20230220_010526SegVPRenc\n",
      "Date = 2023-03-19 Time = 05-02-57 Add: /home/shubham/Desktop/git/carla-roach/outputs/2023-03-19/05-02-57 Model name = 20230220_010526SegVPRenc\n",
      "Date = 2023-03-19 Time = 08-57-26 Add: /home/shubham/Desktop/git/carla-roach/outputs/2023-03-19/08-57-26 Model name = 20230220_010526SegVPRenc\n",
      "Date = 2023-03-19 Time = 23-18-18 Add: /home/shubham/Desktop/git/carla-roach/outputs/2023-03-19/23-18-18 Model name = 20230220_231756SegVPRencD1\n",
      "Date = 2023-03-19 Time = 23-33-48 Add: /home/shubham/Desktop/git/carla-roach/outputs/2023-03-19/23-33-48 Model name = 20230220_231756SegVPRencD1\n",
      "Date = 2023-03-20 Time = 02-27-18 Add: /home/shubham/Desktop/git/carla-roach/outputs/2023-03-20/02-27-18 Model name = 20230220_231756SegVPRencD1\n",
      "Date = 2023-03-20 Time = 08-41-51 Add: /home/shubham/Desktop/git/carla-roach/outputs/2023-03-20/08-41-51 Model name = 20230220_231756SegVPRencD1\n",
      "Date = 2023-03-20 Time = 12-57-34 Add: /home/shubham/Desktop/git/carla-roach/outputs/2023-03-20/12-57-34 Model name = 20230220_231756SegVPRencD1\n",
      "Date = 2023-03-20 Time = 17-43-55 Add: /home/shubham/Desktop/git/carla-roach/outputs/2023-03-20/17-43-55 Model name = 20230221_205635SegVPRencD2\n",
      "Date = 2023-03-20 Time = 21-10-16 Add: /home/shubham/Desktop/git/carla-roach/outputs/2023-03-20/21-10-16 Model name = 20230221_205635SegVPRencD2\n",
      "Date = 2023-03-21 Time = 04-32-29 Add: /home/shubham/Desktop/git/carla-roach/outputs/2023-03-21/04-32-29 Model name = 20230221_205635SegVPRencD2\n",
      "Date = 2023-03-21 Time = 10-33-40 Add: /home/shubham/Desktop/git/carla-roach/outputs/2023-03-21/10-33-40 Model name = 20230221_205635SegVPRencD2\n",
      "Date = 2023-03-23 Time = 10-18-54 Add: /home/shubham/Desktop/git/carla-roach/outputs/2023-03-23/10-18-54 Model name = 20230223_131935SegVPRencD3\n",
      "Date = 2023-03-23 Time = 13-35-15 Add: /home/shubham/Desktop/git/carla-roach/outputs/2023-03-23/13-35-15 Model name = 20230223_131935SegVPRencD3\n",
      "Date = 2023-03-23 Time = 20-45-31 Add: /home/shubham/Desktop/git/carla-roach/outputs/2023-03-23/20-45-31 Model name = 20230223_131935SegVPRencD3\n",
      "Date = 2023-03-24 Time = 02-28-09 Add: /home/shubham/Desktop/git/carla-roach/outputs/2023-03-24/02-28-09 Model name = 20230223_131935SegVPRencD3\n",
      "Date = 2023-03-24 Time = 06-51-13 Add: /home/shubham/Desktop/git/carla-roach/outputs/2023-03-24/06-51-13 Model name = 20230226_005522SegVPRencD4\n",
      "Date = 2023-03-24 Time = 09-59-05 Add: /home/shubham/Desktop/git/carla-roach/outputs/2023-03-24/09-59-05 Model name = 20230226_005522SegVPRencD4\n",
      "Date = 2023-03-24 Time = 17-36-44 Add: /home/shubham/Desktop/git/carla-roach/outputs/2023-03-24/17-36-44 Model name = 20230226_005522SegVPRencD4\n",
      "Date = 2023-03-24 Time = 23-23-50 Add: /home/shubham/Desktop/git/carla-roach/outputs/2023-03-24/23-23-50 Model name = 20230226_005522SegVPRencD4\n",
      "Date = 2023-03-27 Time = 10-39-26 Add: /home/shubham/Desktop/git/carla-roach/outputs/2023-03-27/10-39-26 Model name = 20230227_074626SegVPRencD5\n",
      "Date = 2023-03-27 Time = 13-46-04 Add: /home/shubham/Desktop/git/carla-roach/outputs/2023-03-27/13-46-04 Model name = 20230227_074626SegVPRencD5\n",
      "Date = 2023-03-27 Time = 21-54-07 Add: /home/shubham/Desktop/git/carla-roach/outputs/2023-03-27/21-54-07 Model name = 20230227_074626SegVPRencD5\n",
      "Date = 2023-03-28 Time = 04-28-35 Add: /home/shubham/Desktop/git/carla-roach/outputs/2023-03-28/04-28-35 Model name = 20230227_074626SegVPRencD5\n",
      "Date = 2023-03-28 Time = 09-29-08 Add: /home/shubham/Desktop/git/carla-roach/outputs/2023-03-28/09-29-08 Model name = 20230130_105732LbModeBaseline\n",
      "Date = 2023-03-28 Time = 11-58-40 Add: /home/shubham/Desktop/git/carla-roach/outputs/2023-03-28/11-58-40 Model name = 20230130_105732LbModeBaseline\n",
      "Date = 2023-03-28 Time = 17-05-31 Add: /home/shubham/Desktop/git/carla-roach/outputs/2023-03-28/17-05-31 Model name = 20230130_105732LbModeBaseline\n",
      "Date = 2023-03-28 Time = 17-34-19 Add: /home/shubham/Desktop/git/carla-roach/outputs/2023-03-28/17-34-19 Model name = 20230130_105732LbModeBaseline\n",
      "Date = 2023-03-28 Time = 21-06-33 Add: /home/shubham/Desktop/git/carla-roach/outputs/2023-03-28/21-06-33 Model name = 20230130_105732LbModeBaseline\n",
      "Date = 2023-03-31 Time = 07-55-18 Add: /home/shubham/Desktop/git/carla-roach/outputs/2023-03-31/07-55-18 Model name = 20230131_025157LbModeBaselineD1\n",
      "Date = 2023-03-31 Time = 11-15-43 Add: /home/shubham/Desktop/git/carla-roach/outputs/2023-03-31/11-15-43 Model name = 20230131_025157LbModeBaselineD1\n",
      "Date = 2023-03-31 Time = 16-51-26 Add: /home/shubham/Desktop/git/carla-roach/outputs/2023-03-31/16-51-26 Model name = 20230131_025157LbModeBaselineD1\n",
      "Date = 2023-03-31 Time = 20-34-11 Add: /home/shubham/Desktop/git/carla-roach/outputs/2023-03-31/20-34-11 Model name = 20230131_025157LbModeBaselineD1\n",
      "Date = 2023-04-01 Time = 00-24-40 Add: /home/shubham/Desktop/git/carla-roach/outputs/2023-04-01/00-24-40 Model name = 20230131_184744LbModeBaselineD2\n",
      "Date = 2023-04-01 Time = 03-34-51 Add: /home/shubham/Desktop/git/carla-roach/outputs/2023-04-01/03-34-51 Model name = 20230131_184744LbModeBaselineD2\n",
      "Date = 2023-04-01 Time = 10-40-00 Add: /home/shubham/Desktop/git/carla-roach/outputs/2023-04-01/10-40-00 Model name = 20230131_184744LbModeBaselineD2\n",
      "Date = 2023-04-01 Time = 14-55-32 Add: /home/shubham/Desktop/git/carla-roach/outputs/2023-04-01/14-55-32 Model name = 20230131_184744LbModeBaselineD2\n",
      "Date = 2023-04-02 Time = 10-58-46 Add: /home/shubham/Desktop/git/carla-roach/outputs/2023-04-02/10-58-46 Model name = 20230301_220308LbModeBaselineD3\n",
      "Date = 2023-04-02 Time = 13-38-59 Add: /home/shubham/Desktop/git/carla-roach/outputs/2023-04-02/13-38-59 Model name = 20230301_220308LbModeBaselineD3\n",
      "Date = 2023-04-02 Time = 19-33-32 Add: /home/shubham/Desktop/git/carla-roach/outputs/2023-04-02/19-33-32 Model name = 20230301_220308LbModeBaselineD3\n",
      "Date = 2023-04-03 Time = 00-20-44 Add: /home/shubham/Desktop/git/carla-roach/outputs/2023-04-03/00-20-44 Model name = 20230301_220308LbModeBaselineD3\n",
      "Date = 2023-04-03 Time = 04-39-11 Add: /home/shubham/Desktop/git/carla-roach/outputs/2023-04-03/04-39-11 Model name = 20230302_202806LbModeBaselineD4\n",
      "Date = 2023-04-03 Time = 07-27-28 Add: /home/shubham/Desktop/git/carla-roach/outputs/2023-04-03/07-27-28 Model name = 20230302_202806LbModeBaselineD4\n",
      "Date = 2023-04-03 Time = 13-42-53 Add: /home/shubham/Desktop/git/carla-roach/outputs/2023-04-03/13-42-53 Model name = 20230302_202806LbModeBaselineD4\n",
      "Date = 2023-04-03 Time = 17-46-19 Add: /home/shubham/Desktop/git/carla-roach/outputs/2023-04-03/17-46-19 Model name = 20230302_202806LbModeBaselineD4\n",
      "Date = 2023-04-04 Time = 10-01-20 Add: /home/shubham/Desktop/git/carla-roach/outputs/2023-04-04/10-01-20 Model name = 20230327_110716LbModeBaselineD5_v2\n",
      "Date = 2023-04-04 Time = 12-59-46 Add: /home/shubham/Desktop/git/carla-roach/outputs/2023-04-04/12-59-46 Model name = 20230327_110716LbModeBaselineD5_v2\n",
      "Date = 2023-04-04 Time = 19-14-28 Add: /home/shubham/Desktop/git/carla-roach/outputs/2023-04-04/19-14-28 Model name = 20230327_110716LbModeBaselineD5_v2\n",
      "Date = 2023-04-05 Time = 00-23-23 Add: /home/shubham/Desktop/git/carla-roach/outputs/2023-04-05/00-23-23 Model name = 20230327_110716LbModeBaselineD5_v2\n",
      "Date = 2023-04-11 Time = 01-01-19 Add: /home/shubham/Desktop/git/carla-roach/outputs/2023-04-11/01-01-19 Model name = 20230220_010526SegVPRenc\n",
      "Date = 2023-04-11 Time = 04-03-41 Add: /home/shubham/Desktop/git/carla-roach/outputs/2023-04-11/04-03-41 Model name = 20230220_010526SegVPRenc\n",
      "Date = 2023-04-11 Time = 08-20-15 Add: /home/shubham/Desktop/git/carla-roach/outputs/2023-04-11/08-20-15 Model name = 20230220_010526SegVPRenc\n",
      "Date = 2023-04-11 Time = 13-08-39 Add: /home/shubham/Desktop/git/carla-roach/outputs/2023-04-11/13-08-39 Model name = 20230220_010526SegVPRenc\n",
      "Date = 2023-04-11 Time = 18-04-32 Add: /home/shubham/Desktop/git/carla-roach/outputs/2023-04-11/18-04-32 Model name = 20230220_231756SegVPRencD1\n",
      "Date = 2023-04-11 Time = 21-05-13 Add: /home/shubham/Desktop/git/carla-roach/outputs/2023-04-11/21-05-13 Model name = 20230220_231756SegVPRencD1\n",
      "Date = 2023-04-12 Time = 02-48-33 Add: /home/shubham/Desktop/git/carla-roach/outputs/2023-04-12/02-48-33 Model name = 20230220_231756SegVPRencD1\n",
      "Date = 2023-04-12 Time = 07-36-10 Add: /home/shubham/Desktop/git/carla-roach/outputs/2023-04-12/07-36-10 Model name = 20230220_231756SegVPRencD1\n",
      "Date = 2023-04-12 Time = 23-23-37 Add: /home/shubham/Desktop/git/carla-roach/outputs/2023-04-12/23-23-37 Model name = 20230221_205635SegVPRencD2\n",
      "Date = 2023-04-13 Time = 01-20-41 Add: /home/shubham/Desktop/git/carla-roach/outputs/2023-04-13/01-20-41 Model name = 20230221_205635SegVPRencD2\n",
      "Date = 2023-04-13 Time = 02-45-22 Add: /home/shubham/Desktop/git/carla-roach/outputs/2023-04-13/02-45-22 Model name = 20230221_205635SegVPRencD2\n",
      "Date = 2023-04-13 Time = 09-41-32 Add: /home/shubham/Desktop/git/carla-roach/outputs/2023-04-13/09-41-32 Model name = 20230221_205635SegVPRencD2\n",
      "Date = 2023-04-13 Time = 14-56-31 Add: /home/shubham/Desktop/git/carla-roach/outputs/2023-04-13/14-56-31 Model name = 20230221_205635SegVPRencD2\n",
      "Date = 2023-04-13 Time = 20-20-18 Add: /home/shubham/Desktop/git/carla-roach/outputs/2023-04-13/20-20-18 Model name = 20230223_131935SegVPRencD3\n",
      "Date = 2023-04-13 Time = 23-45-13 Add: /home/shubham/Desktop/git/carla-roach/outputs/2023-04-13/23-45-13 Model name = 20230223_131935SegVPRencD3\n",
      "Date = 2023-04-14 Time = 06-34-45 Add: /home/shubham/Desktop/git/carla-roach/outputs/2023-04-14/06-34-45 Model name = 20230223_131935SegVPRencD3\n",
      "Date = 2023-04-14 Time = 12-06-56 Add: /home/shubham/Desktop/git/carla-roach/outputs/2023-04-14/12-06-56 Model name = 20230223_131935SegVPRencD3\n",
      "Date = 2023-04-15 Time = 14-09-36 Add: /home/shubham/Desktop/git/carla-roach/outputs/2023-04-15/14-09-36 Model name = 20230226_005522SegVPRencD4\n",
      "Date = 2023-04-15 Time = 17-26-55 Add: /home/shubham/Desktop/git/carla-roach/outputs/2023-04-15/17-26-55 Model name = 20230226_005522SegVPRencD4\n",
      "Date = 2023-04-16 Time = 01-05-32 Add: /home/shubham/Desktop/git/carla-roach/outputs/2023-04-16/01-05-32 Model name = 20230226_005522SegVPRencD4\n",
      "Date = 2023-04-16 Time = 06-40-53 Add: /home/shubham/Desktop/git/carla-roach/outputs/2023-04-16/06-40-53 Model name = 20230226_005522SegVPRencD4\n",
      "Date = 2023-04-16 Time = 12-06-54 Add: /home/shubham/Desktop/git/carla-roach/outputs/2023-04-16/12-06-54 Model name = 20230227_074626SegVPRencD5\n",
      "Date = 2023-04-16 Time = 15-35-55 Add: /home/shubham/Desktop/git/carla-roach/outputs/2023-04-16/15-35-55 Model name = 20230227_074626SegVPRencD5\n",
      "Date = 2023-04-16 Time = 22-59-41 Add: /home/shubham/Desktop/git/carla-roach/outputs/2023-04-16/22-59-41 Model name = 20230227_074626SegVPRencD5\n",
      "Date = 2023-04-17 Time = 05-30-42 Add: /home/shubham/Desktop/git/carla-roach/outputs/2023-04-17/05-30-42 Model name = 20230227_074626SegVPRencD5\n",
      "Date = 2023-04-17 Time = 10-27-35 Add: /home/shubham/Desktop/git/carla-roach/outputs/2023-04-17/10-27-35 Model name = 20230130_105732LbModeBaseline\n",
      "Date = 2023-04-17 Time = 12-43-24 Add: /home/shubham/Desktop/git/carla-roach/outputs/2023-04-17/12-43-24 Model name = 20230130_105732LbModeBaseline\n",
      "Date = 2023-04-17 Time = 18-11-03 Add: /home/shubham/Desktop/git/carla-roach/outputs/2023-04-17/18-11-03 Model name = 20230130_105732LbModeBaseline\n",
      "Date = 2023-04-17 Time = 21-38-43 Add: /home/shubham/Desktop/git/carla-roach/outputs/2023-04-17/21-38-43 Model name = 20230130_105732LbModeBaseline\n",
      "Date = 2023-04-18 Time = 02-12-04 Add: /home/shubham/Desktop/git/carla-roach/outputs/2023-04-18/02-12-04 Model name = 20230131_025157LbModeBaselineD1\n",
      "Date = 2023-04-18 Time = 05-36-54 Add: /home/shubham/Desktop/git/carla-roach/outputs/2023-04-18/05-36-54 Model name = 20230131_025157LbModeBaselineD1\n",
      "Date = 2023-04-18 Time = 11-10-34 Add: /home/shubham/Desktop/git/carla-roach/outputs/2023-04-18/11-10-34 Model name = 20230131_025157LbModeBaselineD1\n",
      "Date = 2023-04-18 Time = 14-54-42 Add: /home/shubham/Desktop/git/carla-roach/outputs/2023-04-18/14-54-42 Model name = 20230131_025157LbModeBaselineD1\n",
      "Date = 2023-04-18 Time = 20-52-18 Add: /home/shubham/Desktop/git/carla-roach/outputs/2023-04-18/20-52-18 Model name = 20230131_184744LbModeBaselineD2\n",
      "Date = 2023-04-19 Time = 00-26-15 Add: /home/shubham/Desktop/git/carla-roach/outputs/2023-04-19/00-26-15 Model name = 20230131_184744LbModeBaselineD2\n",
      "Date = 2023-04-19 Time = 06-40-40 Add: /home/shubham/Desktop/git/carla-roach/outputs/2023-04-19/06-40-40 Model name = 20230131_184744LbModeBaselineD2\n",
      "Date = 2023-04-19 Time = 11-15-12 Add: /home/shubham/Desktop/git/carla-roach/outputs/2023-04-19/11-15-12 Model name = 20230131_184744LbModeBaselineD2\n",
      "Date = 2023-04-19 Time = 16-39-01 Add: /home/shubham/Desktop/git/carla-roach/outputs/2023-04-19/16-39-01 Model name = 20230301_220308LbModeBaselineD3\n",
      "Date = 2023-04-19 Time = 19-48-02 Add: /home/shubham/Desktop/git/carla-roach/outputs/2023-04-19/19-48-02 Model name = 20230301_220308LbModeBaselineD3\n",
      "Date = 2023-04-20 Time = 01-38-10 Add: /home/shubham/Desktop/git/carla-roach/outputs/2023-04-20/01-38-10 Model name = 20230301_220308LbModeBaselineD3\n",
      "Date = 2023-04-20 Time = 05-38-57 Add: /home/shubham/Desktop/git/carla-roach/outputs/2023-04-20/05-38-57 Model name = 20230301_220308LbModeBaselineD3\n",
      "Date = 2023-04-22 Time = 12-59-40 Add: /home/shubham/Desktop/git/carla-roach/outputs/2023-04-22/12-59-40 Model name = 20230302_202806LbModeBaselineD4\n",
      "Date = 2023-04-22 Time = 16-02-28 Add: /home/shubham/Desktop/git/carla-roach/outputs/2023-04-22/16-02-28 Model name = 20230302_202806LbModeBaselineD4\n",
      "Date = 2023-04-22 Time = 21-48-05 Add: /home/shubham/Desktop/git/carla-roach/outputs/2023-04-22/21-48-05 Model name = 20230302_202806LbModeBaselineD4\n",
      "Date = 2023-04-23 Time = 01-52-37 Add: /home/shubham/Desktop/git/carla-roach/outputs/2023-04-23/01-52-37 Model name = 20230302_202806LbModeBaselineD4\n",
      "Date = 2023-04-23 Time = 06-37-30 Add: /home/shubham/Desktop/git/carla-roach/outputs/2023-04-23/06-37-30 Model name = 20230327_110716LbModeBaselineD5_v2\n",
      "Date = 2023-04-23 Time = 10-03-27 Add: /home/shubham/Desktop/git/carla-roach/outputs/2023-04-23/10-03-27 Model name = 20230327_110716LbModeBaselineD5_v2\n",
      "Date = 2023-04-23 Time = 16-24-59 Add: /home/shubham/Desktop/git/carla-roach/outputs/2023-04-23/16-24-59 Model name = 20230327_110716LbModeBaselineD5_v2\n",
      "Date = 2023-04-23 Time = 21-40-14 Add: /home/shubham/Desktop/git/carla-roach/outputs/2023-04-23/21-40-14 Model name = 20230327_110716LbModeBaselineD5_v2\n",
      "Date = 2023-04-24 Time = 09-30-34 Add: /home/shubham/Desktop/git/carla-roach/outputs/2023-04-24/09-30-34 Model name = 20230220_010526SegVPRenc\n",
      "Date = 2023-04-24 Time = 12-15-50 Add: /home/shubham/Desktop/git/carla-roach/outputs/2023-04-24/12-15-50 Model name = 20230220_010526SegVPRenc\n",
      "Date = 2023-04-24 Time = 16-19-37 Add: /home/shubham/Desktop/git/carla-roach/outputs/2023-04-24/16-19-37 Model name = 20230220_010526SegVPRenc\n",
      "Date = 2023-04-24 Time = 19-50-20 Add: /home/shubham/Desktop/git/carla-roach/outputs/2023-04-24/19-50-20 Model name = 20230220_010526SegVPRenc\n",
      "Date = 2023-04-25 Time = 01-35-33 Add: /home/shubham/Desktop/git/carla-roach/outputs/2023-04-25/01-35-33 Model name = 20230220_231756SegVPRencD1\n",
      "Date = 2023-04-25 Time = 04-38-09 Add: /home/shubham/Desktop/git/carla-roach/outputs/2023-04-25/04-38-09 Model name = 20230220_231756SegVPRencD1\n",
      "Date = 2023-04-25 Time = 10-23-57 Add: /home/shubham/Desktop/git/carla-roach/outputs/2023-04-25/10-23-57 Model name = 20230220_231756SegVPRencD1\n",
      "Date = 2023-04-25 Time = 14-37-46 Add: /home/shubham/Desktop/git/carla-roach/outputs/2023-04-25/14-37-46 Model name = 20230220_231756SegVPRencD1\n",
      "Date = 2023-04-25 Time = 20-12-47 Add: /home/shubham/Desktop/git/carla-roach/outputs/2023-04-25/20-12-47 Model name = 20230221_205635SegVPRencD2\n",
      "Date = 2023-04-25 Time = 23-40-48 Add: /home/shubham/Desktop/git/carla-roach/outputs/2023-04-25/23-40-48 Model name = 20230221_205635SegVPRencD2\n",
      "Date = 2023-04-26 Time = 06-41-34 Add: /home/shubham/Desktop/git/carla-roach/outputs/2023-04-26/06-41-34 Model name = 20230221_205635SegVPRencD2\n",
      "Date = 2023-04-26 Time = 11-49-55 Add: /home/shubham/Desktop/git/carla-roach/outputs/2023-04-26/11-49-55 Model name = 20230221_205635SegVPRencD2\n",
      "Date = 2023-04-26 Time = 16-50-45 Add: /home/shubham/Desktop/git/carla-roach/outputs/2023-04-26/16-50-45 Model name = 20230223_131935SegVPRencD3\n",
      "Date = 2023-04-26 Time = 20-02-39 Add: /home/shubham/Desktop/git/carla-roach/outputs/2023-04-26/20-02-39 Model name = 20230223_131935SegVPRencD3\n",
      "Date = 2023-04-27 Time = 03-19-31 Add: /home/shubham/Desktop/git/carla-roach/outputs/2023-04-27/03-19-31 Model name = 20230223_131935SegVPRencD3\n",
      "Date = 2023-04-27 Time = 09-22-31 Add: /home/shubham/Desktop/git/carla-roach/outputs/2023-04-27/09-22-31 Model name = 20230223_131935SegVPRencD3\n",
      "Date = 2023-04-28 Time = 11-47-58 Add: /home/shubham/Desktop/git/carla-roach/outputs/2023-04-28/11-47-58 Model name = 20230226_005522SegVPRencD4\n",
      "Date = 2023-04-28 Time = 15-05-34 Add: /home/shubham/Desktop/git/carla-roach/outputs/2023-04-28/15-05-34 Model name = 20230226_005522SegVPRencD4\n",
      "Date = 2023-04-28 Time = 22-28-29 Add: /home/shubham/Desktop/git/carla-roach/outputs/2023-04-28/22-28-29 Model name = 20230226_005522SegVPRencD4\n",
      "Date = 2023-04-29 Time = 04-43-45 Add: /home/shubham/Desktop/git/carla-roach/outputs/2023-04-29/04-43-45 Model name = 20230226_005522SegVPRencD4\n",
      "Date = 2023-04-29 Time = 09-39-54 Add: /home/shubham/Desktop/git/carla-roach/outputs/2023-04-29/09-39-54 Model name = 20230227_074626SegVPRencD5\n",
      "Date = 2023-04-29 Time = 13-00-13 Add: /home/shubham/Desktop/git/carla-roach/outputs/2023-04-29/13-00-13 Model name = 20230227_074626SegVPRencD5\n",
      "Date = 2023-04-29 Time = 20-24-44 Add: /home/shubham/Desktop/git/carla-roach/outputs/2023-04-29/20-24-44 Model name = 20230227_074626SegVPRencD5\n",
      "Date = 2023-04-30 Time = 02-13-06 Add: /home/shubham/Desktop/git/carla-roach/outputs/2023-04-30/02-13-06 Model name = 20230227_074626SegVPRencD5\n",
      "Date = 2023-05-02 Time = 12-29-29 Add: /home/shubham/Desktop/git/carla-roach/outputs/2023-05-02/12-29-29 Model name = 20230130_105732LbModeBaseline\n",
      "Date = 2023-05-02 Time = 15-10-05 Add: /home/shubham/Desktop/git/carla-roach/outputs/2023-05-02/15-10-05 Model name = 20230130_105732LbModeBaseline\n",
      "Date = 2023-05-02 Time = 20-23-05 Add: /home/shubham/Desktop/git/carla-roach/outputs/2023-05-02/20-23-05 Model name = 20230130_105732LbModeBaseline\n",
      "Date = 2023-05-03 Time = 00-11-05 Add: /home/shubham/Desktop/git/carla-roach/outputs/2023-05-03/00-11-05 Model name = 20230130_105732LbModeBaseline\n",
      "Date = 2023-05-03 Time = 04-16-14 Add: /home/shubham/Desktop/git/carla-roach/outputs/2023-05-03/04-16-14 Model name = 20230131_025157LbModeBaselineD1\n",
      "Date = 2023-05-03 Time = 07-45-34 Add: /home/shubham/Desktop/git/carla-roach/outputs/2023-05-03/07-45-34 Model name = 20230131_025157LbModeBaselineD1\n",
      "Date = 2023-05-03 Time = 13-39-08 Add: /home/shubham/Desktop/git/carla-roach/outputs/2023-05-03/13-39-08 Model name = 20230131_025157LbModeBaselineD1\n",
      "Date = 2023-05-03 Time = 17-23-21 Add: /home/shubham/Desktop/git/carla-roach/outputs/2023-05-03/17-23-21 Model name = 20230131_025157LbModeBaselineD1\n",
      "Date = 2023-05-09 Time = 08-03-36 Add: /home/shubham/Desktop/git/carla-roach/outputs/2023-05-09/08-03-36 Model name = 20230302_202806LbModeBaselineD4\n",
      "Date = 2023-05-09 Time = 11-11-53 Add: /home/shubham/Desktop/git/carla-roach/outputs/2023-05-09/11-11-53 Model name = 20230302_202806LbModeBaselineD4\n",
      "Date = 2023-05-09 Time = 16-48-52 Add: /home/shubham/Desktop/git/carla-roach/outputs/2023-05-09/16-48-52 Model name = 20230302_202806LbModeBaselineD4\n",
      "Date = 2023-05-09 Time = 19-33-25 Add: /home/shubham/Desktop/git/carla-roach/outputs/2023-05-09/19-33-25 Model name = 20230302_202806LbModeBaselineD4\n",
      "Date = 2023-05-09 Time = 21-02-59 Add: /home/shubham/Desktop/git/carla-roach/outputs/2023-05-09/21-02-59 Model name = 20230302_202806LbModeBaselineD4\n",
      "Date = 2023-05-10 Time = 02-18-16 Add: /home/shubham/Desktop/git/carla-roach/outputs/2023-05-10/02-18-16 Model name = 20230327_110716LbModeBaselineD5_v2\n",
      "Date = 2023-05-10 Time = 05-26-49 Add: /home/shubham/Desktop/git/carla-roach/outputs/2023-05-10/05-26-49 Model name = 20230327_110716LbModeBaselineD5_v2\n",
      "Date = 2023-05-10 Time = 12-21-02 Add: /home/shubham/Desktop/git/carla-roach/outputs/2023-05-10/12-21-02 Model name = 20230327_110716LbModeBaselineD5_v2\n",
      "Date = 2023-05-10 Time = 16-57-38 Add: /home/shubham/Desktop/git/carla-roach/outputs/2023-05-10/16-57-38 Model name = 20230327_110716LbModeBaselineD5_v2\n"
     ]
    }
   ],
   "source": [
    "from os.path import isfile\n",
    "\n",
    "dirs_only = []\n",
    "for each in glob('/home/shubham/Desktop/git/carla-roach/outputs/*'):\n",
    "    if isdir(each):\n",
    "        dirs_only.append(each)\n",
    "\n",
    "dirs_only.sort()\n",
    "nn_list = dirs_only[19:-1]\n",
    "\n",
    "for each_date_folder in nn_list:\n",
    "    time_folders = sorted(list(glob(join(each_date_folder, '*'))))\n",
    "    for each_time_folder in time_folders:\n",
    "        \n",
    "        if isfile(join(each_time_folder, 'benchmark.log')):\n",
    "            # print(join( each_time_folder,'config_agent.yaml'))\n",
    "            # print(yaml.load(open(join( each_time_folder,'config_agent.yaml')), Loader=SafeLoader)\n",
    "            model_name = yaml.load(open(join( each_time_folder,'config_agent.yaml')), Loader=SafeLoader)['ckpt'].split('/')[-3]\n",
    "\n",
    "            print(f\"Date = {each_date_folder.split('/')[-1]} Time = {each_time_folder.split('/')[-1]} Add: {each_time_folder} Model name = {model_name}\")"
   ]
  },
  {
   "cell_type": "code",
   "execution_count": null,
   "id": "df8b3624-16e0-4dc9-968d-9333c20592ee",
   "metadata": {},
   "outputs": [],
   "source": []
  },
  {
   "cell_type": "code",
   "execution_count": null,
   "metadata": {},
   "outputs": [],
   "source": []
  },
  {
   "cell_type": "code",
   "execution_count": null,
   "id": "ef41bc9c-6580-44b7-9ff7-a34d8d47944f",
   "metadata": {},
   "outputs": [],
   "source": []
  },
  {
   "cell_type": "code",
   "execution_count": null,
   "id": "e380b9a8-3815-4a1d-be16-752b35db4241",
   "metadata": {},
   "outputs": [],
   "source": []
  },
  {
   "cell_type": "markdown",
   "id": "7b4a4dff-03f1-45cc-942a-abc69ce96545",
   "metadata": {},
   "source": [
    "Dino v1 Dagger5"
   ]
  },
  {
   "cell_type": "code",
   "execution_count": null,
   "id": "aa6ac860-1459-4687-bbfb-9b1f4a7bc019",
   "metadata": {},
   "outputs": [
    {
     "name": "stdout",
     "output_type": "stream",
     "text": [
      "Score: 0/12\n",
      "Score: 0/20\n",
      "Score: 9/20\n"
     ]
    },
    {
     "data": {
      "text/plain": [
       "17.307692307692307"
      ]
     },
     "execution_count": 5,
     "metadata": {},
     "output_type": "execute_result"
    }
   ],
   "source": [
    "list_of_addresses = [\n",
    "    \"/home/shubham/Desktop/git/carla-roach/outputs/2024-02-05/19-44-00\",\n",
    "    \"/home/shubham/Desktop/git/carla-roach/outputs/2024-02-05/20-58-53\",\n",
    "    \"/home/shubham/Desktop/git/carla-roach/outputs/2024-02-05/23-26-14\"\n",
    "]\n",
    "calc_success_rate(list_of_addresses)"
   ]
  },
  {
   "cell_type": "markdown",
   "id": "9223ef6e-a1b9-4a2b-8585-282956a5fe4f",
   "metadata": {},
   "source": [
    "Dino v1 Dagger 4"
   ]
  },
  {
   "cell_type": "code",
   "execution_count": null,
   "id": "72fd0e7d-5508-4a09-aa48-a05c8016488a",
   "metadata": {},
   "outputs": [
    {
     "name": "stdout",
     "output_type": "stream",
     "text": [
      "Score: 0/12\n",
      "Score: 0/20\n",
      "Score: 7/20\n"
     ]
    },
    {
     "data": {
      "text/plain": [
       "13.461538461538462"
      ]
     },
     "execution_count": 4,
     "metadata": {},
     "output_type": "execute_result"
    }
   ],
   "source": [
    "list_of_address = [\n",
    "    \"/home/shubham/Desktop/git/carla-roach/outputs/2024-02-03/18-55-34\",\n",
    "    \"/home/shubham/Desktop/git/carla-roach/outputs/2024-02-03/19-47-32\",\n",
    "    \"/home/shubham/Desktop/git/carla-roach/outputs/2024-02-03/21-45-12\"\n",
    "]\n",
    "calc_success_rate(list_of_address)"
   ]
  },
  {
   "cell_type": "code",
   "execution_count": null,
   "id": "92791d6f-81e8-4935-a087-d021496a3a33",
   "metadata": {},
   "outputs": [],
   "source": [
    "list_of_addresses"
   ]
  },
  {
   "cell_type": "markdown",
   "id": "5f23f4ca-5055-4db6-88ee-f5d8985c6edb",
   "metadata": {},
   "source": [
    "## Redoing Dino V1 Dagger 5"
   ]
  },
  {
   "cell_type": "code",
   "execution_count": 25,
   "id": "e281245f-9b60-4a91-8838-7ff905e08129",
   "metadata": {},
   "outputs": [
    {
     "name": "stdout",
     "output_type": "stream",
     "text": [
      "Score: 10/12\n",
      "Score: 9/20\n",
      "Score: 14/20\n"
     ]
    },
    {
     "data": {
      "text/plain": [
       "63.46153846153846"
      ]
     },
     "execution_count": 25,
     "metadata": {},
     "output_type": "execute_result"
    }
   ],
   "source": [
    "madarchod = [\n",
    "    \"/home/shubham/Desktop/git/carla-roach/outputs/jointly_made/2024-02-23/17-44-19/\",\n",
    "    \"/home/shubham/Desktop/git/carla-roach/outputs/2024-02-23/20-17-18/\",\n",
    "    \"/home/shubham/Desktop/git/carla-roach/outputs/2024-02-24/02-42-36/\"\n",
    "]\n",
    "\n",
    "calc_success_rate(madarchod)"
   ]
  },
  {
   "cell_type": "code",
   "execution_count": 22,
   "id": "3809cf4a",
   "metadata": {},
   "outputs": [
    {
     "data": {
      "text/plain": [
       "['/home/shubham/Desktop/git/carla-roach/outputs/2023-03-06/23-01-01/',\n",
       " '/home/shubham/Desktop/git/carla-roach/outputs/2023-03-07/01-34-21',\n",
       " '/home/shubham/Desktop/git/carla-roach/outputs/2023-03-07/09-23-15']"
      ]
     },
     "execution_count": 22,
     "metadata": {},
     "output_type": "execute_result"
    }
   ],
   "source": [
    "list_of_address"
   ]
  },
  {
   "cell_type": "code",
   "execution_count": 32,
   "id": "7e9d8197-eaa2-4c43-adbd-57231c60bcd2",
   "metadata": {},
   "outputs": [
    {
     "data": {
      "text/plain": [
       "82.44920671116759"
      ]
     },
     "execution_count": 32,
     "metadata": {},
     "output_type": "execute_result"
    }
   ],
   "source": [
    "route_completion_ratio(madarchod)"
   ]
  },
  {
   "cell_type": "markdown",
   "id": "d0576adb",
   "metadata": {},
   "source": []
  },
  {
   "cell_type": "code",
   "execution_count": 4,
   "id": "538dc4e7-4706-4cae-aa72-b12a4b2aee2e",
   "metadata": {},
   "outputs": [],
   "source": [
    "def route_completion_ratio(list_of_address):\n",
    "    completed_distance, total_distance = 0.0, 0.0\n",
    "    \n",
    "    for address in list_of_address:\n",
    "        setting_folder = glob(join(address, 'diagnostics', '*'))\n",
    "        setting_name = setting_folder[0].split('/')[-1]\n",
    "        setting_folder = setting_folder[0]\n",
    "\n",
    "        score = 0\n",
    "        for file in glob(join(setting_folder,'*')):\n",
    "            score += int(json.load(open(file))['hero']['route_completion']['is_route_completed'])\n",
    "            \n",
    "            completed_distance += float(json.load(open(file))['hero']['route_completion']['route_completed_in_m'])\n",
    "            total_distance += float(json.load(open(file))['hero']['route_completion']['route_length_in_m'])\n",
    "            \n",
    "    return (completed_distance/total_distance)*100"
   ]
  },
  {
   "cell_type": "code",
   "execution_count": 29,
   "id": "eb7dec3c-224c-4481-95dd-e70ccc91299e",
   "metadata": {},
   "outputs": [
    {
     "name": "stdout",
     "output_type": "stream",
     "text": [
      "/home/shubham/Desktop/git/carla-roach/outputs/2023-03-06/23-01-01/\n"
     ]
    },
    {
     "ename": "IndexError",
     "evalue": "list index out of range",
     "output_type": "error",
     "traceback": [
      "\u001b[0;31m---------------------------------------------------------------------------\u001b[0m",
      "\u001b[0;31mIndexError\u001b[0m                                Traceback (most recent call last)",
      "Cell \u001b[0;32mIn[29], line 1\u001b[0m\n\u001b[0;32m----> 1\u001b[0m \u001b[43mroute_completion_ratio\u001b[49m\u001b[43m(\u001b[49m\u001b[43mlist_of_address\u001b[49m\u001b[43m)\u001b[49m\n",
      "Cell \u001b[0;32mIn[28], line 7\u001b[0m, in \u001b[0;36mroute_completion_ratio\u001b[0;34m(list_of_address)\u001b[0m\n\u001b[1;32m      5\u001b[0m \u001b[38;5;28mprint\u001b[39m(address)\n\u001b[1;32m      6\u001b[0m setting_folder \u001b[38;5;241m=\u001b[39m glob(join(address, \u001b[38;5;124m'\u001b[39m\u001b[38;5;124mdiagnostics\u001b[39m\u001b[38;5;124m'\u001b[39m, \u001b[38;5;124m'\u001b[39m\u001b[38;5;124m*\u001b[39m\u001b[38;5;124m'\u001b[39m))\n\u001b[0;32m----> 7\u001b[0m setting_name \u001b[38;5;241m=\u001b[39m \u001b[43msetting_folder\u001b[49m\u001b[43m[\u001b[49m\u001b[38;5;241;43m0\u001b[39;49m\u001b[43m]\u001b[49m\u001b[38;5;241m.\u001b[39msplit(\u001b[38;5;124m'\u001b[39m\u001b[38;5;124m/\u001b[39m\u001b[38;5;124m'\u001b[39m)[\u001b[38;5;241m-\u001b[39m\u001b[38;5;241m1\u001b[39m]\n\u001b[1;32m      8\u001b[0m setting_folder \u001b[38;5;241m=\u001b[39m setting_folder[\u001b[38;5;241m0\u001b[39m]\n\u001b[1;32m     10\u001b[0m score \u001b[38;5;241m=\u001b[39m \u001b[38;5;241m0\u001b[39m\n",
      "\u001b[0;31mIndexError\u001b[0m: list index out of range"
     ]
    }
   ],
   "source": [
    "route_completion_ratio(list_of_address)"
   ]
  },
  {
   "cell_type": "code",
   "execution_count": null,
   "id": "8ae1b15d-8e00-421d-931b-6868c7bf8a48",
   "metadata": {},
   "outputs": [],
   "source": []
  },
  {
   "cell_type": "code",
   "execution_count": 35,
   "id": "3d362836-7941-49fe-a255-06a57050d1d1",
   "metadata": {},
   "outputs": [
    {
     "name": "stdout",
     "output_type": "stream",
     "text": [
      "Score: 5/12\n",
      "Score: 8/20\n",
      "Score: 15/20\n"
     ]
    },
    {
     "data": {
      "text/plain": [
       "53.84615384615385"
      ]
     },
     "execution_count": 35,
     "metadata": {},
     "output_type": "execute_result"
    }
   ],
   "source": [
    "list_of_addresses = [\n",
    "    '/home/shubham/Desktop/git/carla-roach/outputs/2024-02-26/22-59-31/',\n",
    "    '/home/shubham/Desktop/git/carla-roach/outputs/2024-02-27/01-03-14/',\n",
    "    '/home/shubham/Desktop/git/carla-roach/outputs/2024-02-27/08-01-37/'\n",
    "]\n",
    "calc_success_rate(list_of_addresses)\n"
   ]
  },
  {
   "cell_type": "code",
   "execution_count": 36,
   "id": "a22d7865",
   "metadata": {},
   "outputs": [
    {
     "data": {
      "text/plain": [
       "80.62769599041964"
      ]
     },
     "execution_count": 36,
     "metadata": {},
     "output_type": "execute_result"
    }
   ],
   "source": [
    "route_completion_ratio(list_of_addresses)"
   ]
  },
  {
   "cell_type": "markdown",
   "id": "f898d0b9",
   "metadata": {},
   "source": [
    "### Dino v1 seed 2022 (second seed) NN"
   ]
  },
  {
   "cell_type": "code",
   "execution_count": 37,
   "id": "4e143866",
   "metadata": {},
   "outputs": [
    {
     "name": "stdout",
     "output_type": "stream",
     "text": [
      "Score: 6/12\n",
      "Score: 8/20\n",
      "Score: 15/20\n"
     ]
    },
    {
     "data": {
      "text/plain": [
       "55.769230769230774"
      ]
     },
     "execution_count": 37,
     "metadata": {},
     "output_type": "execute_result"
    }
   ],
   "source": [
    "list_of_addresses = [\n",
    "    '/home/shubham/Desktop/git/carla-roach/outputs/2024-02-27/23-13-55',\n",
    "    '/home/shubham/Desktop/git/carla-roach/outputs/2024-02-28/01-14-31',\n",
    "    '/home/shubham/Desktop/git/carla-roach/outputs/2024-02-28/07-15-11'\n",
    "]\n",
    "calc_success_rate(list_of_addresses)\n"
   ]
  },
  {
   "cell_type": "code",
   "execution_count": 39,
   "id": "6f76dbb9",
   "metadata": {},
   "outputs": [
    {
     "data": {
      "text/plain": [
       "78.11889623600663"
      ]
     },
     "execution_count": 39,
     "metadata": {},
     "output_type": "execute_result"
    }
   ],
   "source": [
    "list_of_addresses = [\n",
    "    '/home/shubham/Desktop/git/carla-roach/outputs/2024-02-27/23-13-55',\n",
    "    '/home/shubham/Desktop/git/carla-roach/outputs/2024-02-28/01-14-31',\n",
    "    '/home/shubham/Desktop/git/carla-roach/outputs/2024-02-28/07-15-11'\n",
    "]\n",
    "route_completion_ratio(list_of_addresses)\n"
   ]
  },
  {
   "cell_type": "code",
   "execution_count": null,
   "id": "aa88da3b",
   "metadata": {},
   "outputs": [],
   "source": []
  },
  {
   "cell_type": "markdown",
   "id": "28215697",
   "metadata": {},
   "source": [
    "### Dino v1 seed 2023 (third seed) NN"
   ]
  },
  {
   "cell_type": "code",
   "execution_count": 40,
   "id": "06276e36",
   "metadata": {},
   "outputs": [
    {
     "name": "stdout",
     "output_type": "stream",
     "text": [
      "Score: 8/12\n",
      "Score: 7/20\n",
      "Score: 16/20\n"
     ]
    },
    {
     "data": {
      "text/plain": [
       "59.61538461538461"
      ]
     },
     "execution_count": 40,
     "metadata": {},
     "output_type": "execute_result"
    }
   ],
   "source": [
    "list_of_addresses = [\n",
    "    '/home/shubham/Desktop/git/carla-roach/outputs/2024-02-28/16-17-23',\n",
    "    '/home/shubham/Desktop/git/carla-roach/outputs/2024-02-28/18-48-48',\n",
    "    '/home/shubham/Desktop/git/carla-roach/outputs/2024-02-29/00-13-12'\n",
    "]\n",
    "calc_success_rate(list_of_addresses)\n"
   ]
  },
  {
   "cell_type": "code",
   "execution_count": 41,
   "id": "ad1e01d8",
   "metadata": {},
   "outputs": [
    {
     "data": {
      "text/plain": [
       "79.78794675033754"
      ]
     },
     "execution_count": 41,
     "metadata": {},
     "output_type": "execute_result"
    }
   ],
   "source": [
    "list_of_addresses = [\n",
    "    '/home/shubham/Desktop/git/carla-roach/outputs/2024-02-28/16-17-23',\n",
    "    '/home/shubham/Desktop/git/carla-roach/outputs/2024-02-28/18-48-48',\n",
    "    '/home/shubham/Desktop/git/carla-roach/outputs/2024-02-29/00-13-12'\n",
    "]\n",
    "route_completion_ratio(list_of_addresses)\n"
   ]
  },
  {
   "cell_type": "markdown",
   "id": "d6256253",
   "metadata": {},
   "source": [
    "### Dino v1 Dagger 5 model 30, base seed"
   ]
  },
  {
   "cell_type": "code",
   "execution_count": 43,
   "id": "109fd01b",
   "metadata": {},
   "outputs": [
    {
     "name": "stdout",
     "output_type": "stream",
     "text": [
      "Score: 9/12\n",
      "Score: 8/20\n",
      "Score: 17/20\n"
     ]
    },
    {
     "data": {
      "text/plain": [
       "65.38461538461539"
      ]
     },
     "execution_count": 43,
     "metadata": {},
     "output_type": "execute_result"
    }
   ],
   "source": [
    "list_of_addresses = [\n",
    "    '/home/shubham/Desktop/git/carla-roach/outputs/2024-02-24/12-01-48',\n",
    "    '/home/shubham/Desktop/git/carla-roach/outputs/2024-02-24/14-13-21/',\n",
    "    '/home/shubham/Desktop/git/carla-roach/outputs/2024-02-24/20-32-45/'\n",
    "]\n",
    "calc_success_rate(list_of_addresses)\n"
   ]
  },
  {
   "cell_type": "code",
   "execution_count": 44,
   "id": "167c20b3",
   "metadata": {},
   "outputs": [
    {
     "data": {
      "text/plain": [
       "85.117642051608"
      ]
     },
     "execution_count": 44,
     "metadata": {},
     "output_type": "execute_result"
    }
   ],
   "source": [
    "list_of_addresses = [\n",
    "    '/home/shubham/Desktop/git/carla-roach/outputs/2024-02-24/12-01-48',\n",
    "    '/home/shubham/Desktop/git/carla-roach/outputs/2024-02-24/14-13-21/',\n",
    "    '/home/shubham/Desktop/git/carla-roach/outputs/2024-02-24/20-32-45/'\n",
    "]\n",
    "route_completion_ratio(list_of_addresses)\n"
   ]
  },
  {
   "cell_type": "code",
   "execution_count": null,
   "id": "ea24bc6f",
   "metadata": {},
   "outputs": [],
   "source": []
  },
  {
   "cell_type": "markdown",
   "id": "5cf71819",
   "metadata": {},
   "source": [
    "### Dino v1 Dagger 5 model 30, 2022 seed"
   ]
  },
  {
   "cell_type": "code",
   "execution_count": 45,
   "id": "5346f1d5",
   "metadata": {},
   "outputs": [
    {
     "name": "stdout",
     "output_type": "stream",
     "text": [
      "Score: 5/12\n",
      "Score: 6/20\n",
      "Score: 16/20\n"
     ]
    },
    {
     "data": {
      "text/plain": [
       "51.92307692307693"
      ]
     },
     "execution_count": 45,
     "metadata": {},
     "output_type": "execute_result"
    }
   ],
   "source": [
    "list_of_addresses = [\n",
    "    '/home/shubham/Desktop/git/carla-roach/outputs/2024-02-29/09-45-23',\n",
    "    '/home/shubham/Desktop/git/carla-roach/outputs/2024-02-29/11-40-37',\n",
    "    '/home/shubham/Desktop/git/carla-roach/outputs/2024-02-29/17-38-47'\n",
    "]\n",
    "calc_success_rate(list_of_addresses)\n"
   ]
  },
  {
   "cell_type": "code",
   "execution_count": 46,
   "id": "efcf9b90",
   "metadata": {},
   "outputs": [
    {
     "data": {
      "text/plain": [
       "75.66332995213062"
      ]
     },
     "execution_count": 46,
     "metadata": {},
     "output_type": "execute_result"
    }
   ],
   "source": [
    "list_of_addresses = [\n",
    "    '/home/shubham/Desktop/git/carla-roach/outputs/2024-02-29/09-45-23',\n",
    "    '/home/shubham/Desktop/git/carla-roach/outputs/2024-02-29/11-40-37',\n",
    "    '/home/shubham/Desktop/git/carla-roach/outputs/2024-02-29/17-38-47'\n",
    "]\n",
    "route_completion_ratio(list_of_addresses)\n"
   ]
  },
  {
   "cell_type": "code",
   "execution_count": null,
   "id": "527f0fba",
   "metadata": {},
   "outputs": [],
   "source": []
  },
  {
   "cell_type": "markdown",
   "id": "50119011",
   "metadata": {},
   "source": [
    "### Dino v1 Dagger 5 model 30, 2023 seed"
   ]
  },
  {
   "cell_type": "code",
   "execution_count": 52,
   "id": "d0333804",
   "metadata": {},
   "outputs": [
    {
     "name": "stdout",
     "output_type": "stream",
     "text": [
      "Score: 9/12\n",
      "Score: 10/20\n",
      "Score: 17/20\n"
     ]
    },
    {
     "data": {
      "text/plain": [
       "69.23076923076923"
      ]
     },
     "execution_count": 52,
     "metadata": {},
     "output_type": "execute_result"
    }
   ],
   "source": [
    "list_of_addresses = [\n",
    "]\n",
    "calc_success_rate(list_of_addresses)\n"
   ]
  },
  {
   "cell_type": "code",
   "execution_count": 53,
   "id": "53b1c917",
   "metadata": {},
   "outputs": [
    {
     "data": {
      "text/plain": [
       "84.78468710296725"
      ]
     },
     "execution_count": 53,
     "metadata": {},
     "output_type": "execute_result"
    }
   ],
   "source": [
    "list_of_addresses = [\n",
    "]\n",
    "route_completion_ratio(list_of_addresses)\n"
   ]
  },
  {
   "cell_type": "markdown",
   "id": "da7fd07b",
   "metadata": {},
   "source": [
    "### Dino v1 Dagger 4 seed 2023"
   ]
  },
  {
   "cell_type": "code",
   "execution_count": 54,
   "id": "20591f70",
   "metadata": {},
   "outputs": [
    {
     "name": "stdout",
     "output_type": "stream",
     "text": [
      "Score: 10/12\n",
      "Score: 6/20\n",
      "Score: 18/20\n"
     ]
    },
    {
     "data": {
      "text/plain": [
       "65.38461538461539"
      ]
     },
     "execution_count": 54,
     "metadata": {},
     "output_type": "execute_result"
    }
   ],
   "source": [
    "list_of_addresses = [\n",
    "    '/home/shubham/Desktop/git/carla-roach/outputs/2024-03-01/23-56-59',\n",
    "    '/home/shubham/Desktop/git/carla-roach/outputs/2024-03-02/02-35-29',\n",
    "    '/home/shubham/Desktop/git/carla-roach/outputs/2024-03-02/09-48-55'\n",
    "]\n",
    "calc_success_rate(list_of_addresses)\n"
   ]
  },
  {
   "cell_type": "code",
   "execution_count": 56,
   "id": "8a7c616d",
   "metadata": {},
   "outputs": [
    {
     "data": {
      "text/plain": [
       "90.24947228813029"
      ]
     },
     "execution_count": 56,
     "metadata": {},
     "output_type": "execute_result"
    }
   ],
   "source": [
    "list_of_addresses = [\n",
    "    '/home/shubham/Desktop/git/carla-roach/outputs/2024-03-01/23-56-59',\n",
    "    '/home/shubham/Desktop/git/carla-roach/outputs/2024-03-02/02-35-29',\n",
    "    '/home/shubham/Desktop/git/carla-roach/outputs/2024-03-02/09-48-55'\n",
    "\n",
    "]\n",
    "route_completion_ratio(list_of_addresses)\n"
   ]
  },
  {
   "cell_type": "markdown",
   "id": "a09a0e14",
   "metadata": {},
   "source": [
    "### Dino v1 Dagger 4 seed 2022"
   ]
  },
  {
   "cell_type": "code",
   "execution_count": 58,
   "id": "0cf78079",
   "metadata": {},
   "outputs": [
    {
     "name": "stdout",
     "output_type": "stream",
     "text": [
      "Score: 8/12\n",
      "Score: 7/20\n",
      "Score: 18/20\n"
     ]
    },
    {
     "data": {
      "text/plain": [
       "63.46153846153846"
      ]
     },
     "execution_count": 58,
     "metadata": {},
     "output_type": "execute_result"
    }
   ],
   "source": [
    "list_of_addresses = [\n",
    "    '/home/shubham/Desktop/git/carla-roach/outputs/2024-03-01/10-50-12',\n",
    "    '/home/shubham/Desktop/git/carla-roach/outputs/jointly_made/2024-03-01/13-26-03',\n",
    "    '/home/shubham/Desktop/git/carla-roach/outputs/2024-03-01/19-27-34']\n",
    "calc_success_rate(list_of_addresses)\n"
   ]
  },
  {
   "cell_type": "code",
   "execution_count": 57,
   "id": "875b706e",
   "metadata": {},
   "outputs": [
    {
     "data": {
      "text/plain": [
       "77.13901897409113"
      ]
     },
     "execution_count": 57,
     "metadata": {},
     "output_type": "execute_result"
    }
   ],
   "source": [
    "list_of_addresses = [\n",
    "    '/home/shubham/Desktop/git/carla-roach/outputs/2024-03-01/10-50-12',\n",
    "    '/home/shubham/Desktop/git/carla-roach/outputs/jointly_made/2024-03-01/13-26-03',\n",
    "    '/home/shubham/Desktop/git/carla-roach/outputs/2024-03-01/19-27-34'\n",
    "]\n",
    "route_completion_ratio(list_of_addresses)\n"
   ]
  },
  {
   "cell_type": "markdown",
   "id": "b1939968",
   "metadata": {},
   "source": [
    "### RoachNet50 Dagger 4"
   ]
  },
  {
   "cell_type": "code",
   "execution_count": 12,
   "id": "891d64b5",
   "metadata": {},
   "outputs": [
    {
     "name": "stdout",
     "output_type": "stream",
     "text": [
      "Score: 5/12\n",
      "Score: 6/20\n",
      "Score: 17/20\n"
     ]
    },
    {
     "data": {
      "text/plain": [
       "53.84615384615385"
      ]
     },
     "execution_count": 12,
     "metadata": {},
     "output_type": "execute_result"
    }
   ],
   "source": [
    "list_of_addresses = [\n",
    "    '/home/shubham/Desktop/git/carla-roach/outputs/2024-03-03/14-17-51',\n",
    "    '/home/shubham/Desktop/git/carla-roach/outputs/2024-03-03/15-56-22',\n",
    "    '/home/shubham/Desktop/git/carla-roach/outputs/2024-03-03/21-42-04'\n",
    "]\n",
    "calc_success_rate(list_of_addresses)\n"
   ]
  },
  {
   "cell_type": "code",
   "execution_count": 9,
   "id": "f49dd988",
   "metadata": {},
   "outputs": [
    {
     "data": {
      "text/plain": [
       "68.99532653627462"
      ]
     },
     "execution_count": 9,
     "metadata": {},
     "output_type": "execute_result"
    }
   ],
   "source": [
    "list_of_addresses = [\n",
    "    '/home/shubham/Desktop/git/carla-roach/outputs/2024-03-03/14-17-51',\n",
    "    '/home/shubham/Desktop/git/carla-roach/outputs/2024-03-03/15-56-22',\n",
    "    '/home/shubham/Desktop/git/carla-roach/outputs/2024-03-03/21-42-04'\n",
    "]\n",
    "route_completion_ratio(list_of_addresses)"
   ]
  },
  {
   "cell_type": "markdown",
   "id": "c77baf85",
   "metadata": {},
   "source": [
    "### RoachNet50 Dagger 5"
   ]
  },
  {
   "cell_type": "code",
   "execution_count": 14,
   "id": "65ad15bc",
   "metadata": {},
   "outputs": [
    {
     "name": "stdout",
     "output_type": "stream",
     "text": [
      "Score: 1/12\n",
      "Score: 6/20\n",
      "Score: 19/20\n"
     ]
    },
    {
     "data": {
      "text/plain": [
       "50.0"
      ]
     },
     "execution_count": 14,
     "metadata": {},
     "output_type": "execute_result"
    }
   ],
   "source": [
    "list_of_addresses = [\n",
    "    '/home/shubham/Desktop/git/carla-roach/outputs/2024-03-05/00-31-52',\n",
    "    '/home/shubham/Desktop/git/carla-roach/outputs/2024-03-05/02-34-03',\n",
    "    '/home/shubham/Desktop/git/carla-roach/outputs/2024-03-05/08-44-24'\n",
    "]\n",
    "calc_success_rate(list_of_addresses)\n"
   ]
  },
  {
   "cell_type": "code",
   "execution_count": 15,
   "id": "f736f1a5",
   "metadata": {},
   "outputs": [
    {
     "data": {
      "text/plain": [
       "73.84499592101848"
      ]
     },
     "execution_count": 15,
     "metadata": {},
     "output_type": "execute_result"
    }
   ],
   "source": [
    "list_of_addresses = [\n",
    "    '/home/shubham/Desktop/git/carla-roach/outputs/2024-03-05/00-31-52',\n",
    "    '/home/shubham/Desktop/git/carla-roach/outputs/2024-03-05/02-34-03',\n",
    "    '/home/shubham/Desktop/git/carla-roach/outputs/2024-03-05/08-44-24'\n",
    "]\n",
    "route_completion_ratio(list_of_addresses)"
   ]
  },
  {
   "cell_type": "markdown",
   "id": "7d05d22d",
   "metadata": {},
   "source": [
    "### RoachNet Dagger 4 2023"
   ]
  },
  {
   "cell_type": "code",
   "execution_count": 37,
   "id": "5355bc2f",
   "metadata": {},
   "outputs": [
    {
     "name": "stdout",
     "output_type": "stream",
     "text": [
      "Score: 4/12\n",
      "Score: 7/20\n",
      "Score: 16/20\n"
     ]
    },
    {
     "data": {
      "text/plain": [
       "51.92307692307693"
      ]
     },
     "execution_count": 37,
     "metadata": {},
     "output_type": "execute_result"
    }
   ],
   "source": [
    "list_of_addresses = [\n",
    "    '/home/shubham/Desktop/git/carla-roach/outputs/2024-03-05/20-23-23',\n",
    "    '/home/shubham/Desktop/git/carla-roach/outputs/2024-03-05/22-14-57',\n",
    "    '/home/shubham/Desktop/git/carla-roach/outputs/2024-03-06/04-29-42'\n",
    "]\n",
    "calc_success_rate(list_of_addresses)\n"
   ]
  },
  {
   "cell_type": "code",
   "execution_count": null,
   "id": "4d61a60c",
   "metadata": {},
   "outputs": [
    {
     "data": {
      "text/plain": [
       "73.84499592101848"
      ]
     },
     "metadata": {},
     "output_type": "display_data"
    }
   ],
   "source": [
    "list_of_addresses = [\n",
    "    '/home/shubham/Desktop/git/carla-roach/outputs/2024-03-05/20-23-23',\n",
    "    '/home/shubham/Desktop/git/carla-roach/outputs/2024-03-05/22-14-57',\n",
    "    '/home/shubham/Desktop/git/carla-roach/outputs/2024-03-06/04-29-42'\n",
    "]\n",
    "route_completion_ratio(list_of_addresses)"
   ]
  },
  {
   "cell_type": "markdown",
   "id": "6b936ab7",
   "metadata": {},
   "source": [
    "### RoachNet Dagger 4"
   ]
  },
  {
   "cell_type": "code",
   "execution_count": 67,
   "id": "769121e7",
   "metadata": {},
   "outputs": [
    {
     "name": "stdout",
     "output_type": "stream",
     "text": [
      "Score: 7/12\n",
      "Score: 5/20\n",
      "Score: 16/20\n"
     ]
    },
    {
     "data": {
      "text/plain": [
       "53.84615384615385"
      ]
     },
     "execution_count": 67,
     "metadata": {},
     "output_type": "execute_result"
    }
   ],
   "source": [
    "list_of_addresses = [\n",
    "    '/home/shubham/Desktop/git/carla-roach/outputs/2024-03-04/08-12-00',\n",
    "    '/home/shubham/Desktop/git/carla-roach/outputs/2024-03-04/10-14-30',\n",
    "    '/home/shubham/Desktop/git/carla-roach/outputs/2024-03-04/15-08-46'\n",
    "]\n",
    "calc_success_rate(list_of_addresses)"
   ]
  },
  {
   "cell_type": "code",
   "execution_count": 68,
   "id": "0c4cbf4a",
   "metadata": {},
   "outputs": [
    {
     "data": {
      "text/plain": [
       "61.74809885402216"
      ]
     },
     "execution_count": 68,
     "metadata": {},
     "output_type": "execute_result"
    }
   ],
   "source": [
    "list_of_addresses = [\n",
    "    '/home/shubham/Desktop/git/carla-roach/outputs/2024-03-04/08-12-00',\n",
    "    '/home/shubham/Desktop/git/carla-roach/outputs/2024-03-04/10-14-30',\n",
    "    '/home/shubham/Desktop/git/carla-roach/outputs/2024-03-04/15-08-46'\n",
    "]\n",
    "route_completion_ratio(list_of_addresses)"
   ]
  },
  {
   "cell_type": "markdown",
   "id": "a6f484e2",
   "metadata": {},
   "source": [
    "### RoachNet Dagger 5 seed 2022"
   ]
  },
  {
   "cell_type": "code",
   "execution_count": 35,
   "id": "1b02f05a",
   "metadata": {},
   "outputs": [
    {
     "name": "stdout",
     "output_type": "stream",
     "text": [
      "Score: 3/12\n",
      "Score: 6/20\n",
      "Score: 18/20\n"
     ]
    },
    {
     "data": {
      "text/plain": [
       "51.92307692307693"
      ]
     },
     "execution_count": 35,
     "metadata": {},
     "output_type": "execute_result"
    }
   ],
   "source": [
    "list_of_addresses = [\n",
    "    '/home/shubham/Desktop/git/carla-roach/outputs/2024-03-06/09-16-41',\n",
    "    '/home/shubham/Desktop/git/carla-roach/outputs/2024-03-06/11-05-35',\n",
    "    '/home/shubham/Desktop/git/carla-roach/outputs/2024-03-06/17-48-23'\n",
    "]\n",
    "calc_success_rate(list_of_addresses)\n"
   ]
  },
  {
   "cell_type": "code",
   "execution_count": 36,
   "metadata": {},
   "outputs": [
    {
     "data": {
      "text/plain": [
       "78.49135642382676"
      ]
     },
     "execution_count": 36,
     "metadata": {},
     "output_type": "execute_result"
    }
   ],
   "source": [
    "list_of_addresses = [\n",
    "    '/home/shubham/Desktop/git/carla-roach/outputs/2024-03-06/09-16-41',\n",
    "    '/home/shubham/Desktop/git/carla-roach/outputs/2024-03-06/11-05-35',\n",
    "    '/home/shubham/Desktop/git/carla-roach/outputs/2024-03-06/17-48-23'\n",
    "]\n",
    "route_completion_ratio(list_of_addresses)"
   ]
  },
  {
   "cell_type": "markdown",
   "id": "11a5d633",
   "metadata": {},
   "source": [
    "### RoachNet Dagger 5 seed 2023"
   ]
  },
  {
   "cell_type": "code",
   "execution_count": 33,
   "id": "96c13143",
   "metadata": {},
   "outputs": [
    {
     "name": "stdout",
     "output_type": "stream",
     "text": [
      "Score: 2/12\n",
      "Score: 5/20\n",
      "Score: 18/20\n"
     ]
    },
    {
     "data": {
      "text/plain": [
       "48.07692307692308"
      ]
     },
     "execution_count": 33,
     "metadata": {},
     "output_type": "execute_result"
    }
   ],
   "source": [
    "list_of_addresses = [\n",
    "    '/home/shubham/Desktop/git/carla-roach/outputs/2024-03-06/21-54-54',\n",
    "    '/home/shubham/Desktop/git/carla-roach/outputs/2024-03-06/23-40-10',\n",
    "    '/home/shubham/Desktop/git/carla-roach/outputs/2024-03-07/04-53-20'\n",
    "]\n",
    "calc_success_rate(list_of_addresses)\n"
   ]
  },
  {
   "cell_type": "code",
   "execution_count": 34,
   "id": "1547b7a9",
   "metadata": {},
   "outputs": [
    {
     "data": {
      "text/plain": [
       "64.3499552664048"
      ]
     },
     "execution_count": 34,
     "metadata": {},
     "output_type": "execute_result"
    }
   ],
   "source": [
    "list_of_addresses = [\n",
    "    '/home/shubham/Desktop/git/carla-roach/outputs/2024-03-06/21-54-54',\n",
    "    '/home/shubham/Desktop/git/carla-roach/outputs/2024-03-06/23-40-10',\n",
    "    '/home/shubham/Desktop/git/carla-roach/outputs/2024-03-07/04-53-20'\n",
    "]\n",
    "route_completion_ratio(list_of_addresses)"
   ]
  },
  {
   "cell_type": "markdown",
   "id": "d567c712",
   "metadata": {},
   "source": [
    "### Dino Dagger 4 lost seed"
   ]
  },
  {
   "cell_type": "code",
   "execution_count": 76,
   "id": "0c38fc6a",
   "metadata": {},
   "outputs": [
    {
     "name": "stdout",
     "output_type": "stream",
     "text": [
      "Score: 5/12\n",
      "Score: 8/20\n",
      "Score: 15/20\n"
     ]
    },
    {
     "data": {
      "text/plain": [
       "53.84615384615385"
      ]
     },
     "execution_count": 76,
     "metadata": {},
     "output_type": "execute_result"
    }
   ],
   "source": [
    "list_of_addresses = [\n",
    "'/home/shubham/Desktop/git/carla-roach/outputs/2024-02-26/22-59-31',\n",
    "'/home/shubham/Desktop/git/carla-roach/outputs/2024-02-27/01-03-14',\n",
    "'/home/shubham/Desktop/git/carla-roach/outputs/2024-02-27/08-01-37'\n",
    "]\n",
    "calc_success_rate(list_of_addresses)\n"
   ]
  },
  {
   "cell_type": "code",
   "execution_count": 77,
   "id": "0b6e2759",
   "metadata": {},
   "outputs": [
    {
     "data": {
      "text/plain": [
       "80.62769599041964"
      ]
     },
     "execution_count": 77,
     "metadata": {},
     "output_type": "execute_result"
    }
   ],
   "source": [
    "list_of_addresses = [\n",
    "'/home/shubham/Desktop/git/carla-roach/outputs/2024-02-26/22-59-31',\n",
    "'/home/shubham/Desktop/git/carla-roach/outputs/2024-02-27/01-03-14',\n",
    "'/home/shubham/Desktop/git/carla-roach/outputs/2024-02-27/08-01-37'\n",
    "]\n",
    "route_completion_ratio(list_of_addresses)"
   ]
  },
  {
   "cell_type": "markdown",
   "id": "aa21f9d0",
   "metadata": {},
   "source": [
    "### Dino v1 Dagger 3 2023"
   ]
  },
  {
   "cell_type": "code",
   "execution_count": 83,
   "id": "d64c27ac",
   "metadata": {},
   "outputs": [
    {
     "name": "stdout",
     "output_type": "stream",
     "text": [
      "Score: 6/12\n",
      "Score: 6/20\n",
      "Score: 14/20\n"
     ]
    },
    {
     "data": {
      "text/plain": [
       "50.0"
      ]
     },
     "execution_count": 83,
     "metadata": {},
     "output_type": "execute_result"
    }
   ],
   "source": [
    "list_of_addresses = [\n",
    "'/home/shubham/Desktop/git/carla-roach/outputs/2024-03-09/12-25-56',\n",
    "'/home/shubham/Desktop/git/carla-roach/outputs/2024-03-09/14-29-35',\n",
    "'/home/shubham/Desktop/git/carla-roach/outputs/2024-03-09/19-20-47'\n",
    "]\n",
    "calc_success_rate(list_of_addresses)\n"
   ]
  },
  {
   "cell_type": "code",
   "execution_count": 84,
   "id": "90ab1084",
   "metadata": {},
   "outputs": [
    {
     "data": {
      "text/plain": [
       "68.55335383820736"
      ]
     },
     "execution_count": 84,
     "metadata": {},
     "output_type": "execute_result"
    }
   ],
   "source": [
    "list_of_addresses = [\n",
    "'/home/shubham/Desktop/git/carla-roach/outputs/2024-03-09/12-25-56',\n",
    "'/home/shubham/Desktop/git/carla-roach/outputs/2024-03-09/14-29-35',\n",
    "'/home/shubham/Desktop/git/carla-roach/outputs/2024-03-09/19-20-47'\n",
    "]\n",
    "route_completion_ratio(list_of_addresses)"
   ]
  },
  {
   "cell_type": "markdown",
   "id": "49e2c6c3",
   "metadata": {},
   "source": [
    "### Dino v1 Dagger 3 2022"
   ]
  },
  {
   "cell_type": "code",
   "execution_count": 85,
   "id": "9b047b05",
   "metadata": {},
   "outputs": [
    {
     "name": "stdout",
     "output_type": "stream",
     "text": [
      "Score: 6/12\n",
      "Score: 8/20\n",
      "Score: 14/20\n"
     ]
    },
    {
     "data": {
      "text/plain": [
       "53.84615384615385"
      ]
     },
     "execution_count": 85,
     "metadata": {},
     "output_type": "execute_result"
    }
   ],
   "source": [
    "list_of_addresses = [\n",
    "    '/home/shubham/Desktop/git/carla-roach/outputs/2024-03-08/23-49-36',\n",
    "    '/home/shubham/Desktop/git/carla-roach/outputs/2024-03-09/01-48-24',\n",
    "    '/home/shubham/Desktop/git/carla-roach/outputs/2024-03-09/08-45-34'\n",
    "]\n",
    "calc_success_rate(list_of_addresses)\n"
   ]
  },
  {
   "cell_type": "code",
   "execution_count": 88,
   "id": "1105f004",
   "metadata": {},
   "outputs": [
    {
     "data": {
      "text/plain": [
       "78.21427913386144"
      ]
     },
     "execution_count": 88,
     "metadata": {},
     "output_type": "execute_result"
    }
   ],
   "source": [
    "list_of_addresses = [\n",
    "    '/home/shubham/Desktop/git/carla-roach/outputs/2024-03-08/23-49-36',\n",
    "    '/home/shubham/Desktop/git/carla-roach/outputs/2024-03-09/01-48-24',\n",
    "    '/home/shubham/Desktop/git/carla-roach/outputs/2024-03-09/08-45-34'\n",
    "]\n",
    "route_completion_ratio(list_of_addresses)"
   ]
  },
  {
   "cell_type": "markdown",
   "id": "3542ab70",
   "metadata": {},
   "source": [
    "### Dino v1 Dagger 3 2021"
   ]
  },
  {
   "cell_type": "code",
   "execution_count": 89,
   "id": "ab1a7544",
   "metadata": {},
   "outputs": [
    {
     "name": "stdout",
     "output_type": "stream",
     "text": [
      "Score: 4/12\n",
      "Score: 9/20\n",
      "Score: 16/20\n"
     ]
    },
    {
     "data": {
      "text/plain": [
       "55.769230769230774"
      ]
     },
     "execution_count": 89,
     "metadata": {},
     "output_type": "execute_result"
    }
   ],
   "source": [
    "list_of_addresses = [\n",
    "    '/home/shubham/Desktop/git/carla-roach/outputs/2024-03-08/10-21-35',\n",
    "    '/home/shubham/Desktop/git/carla-roach/outputs/2024-03-08/12-16-18',\n",
    "    '/home/shubham/Desktop/git/carla-roach/outputs/2024-03-08/19-15-26'\n",
    "]\n",
    "calc_success_rate(list_of_addresses)\n"
   ]
  },
  {
   "cell_type": "code",
   "execution_count": 90,
   "id": "9c2da83e",
   "metadata": {},
   "outputs": [
    {
     "data": {
      "text/plain": [
       "81.65319888891116"
      ]
     },
     "execution_count": 90,
     "metadata": {},
     "output_type": "execute_result"
    }
   ],
   "source": [
    "list_of_addresses = [\n",
    "    '/home/shubham/Desktop/git/carla-roach/outputs/2024-03-08/10-21-35',\n",
    "    '/home/shubham/Desktop/git/carla-roach/outputs/2024-03-08/12-16-18',\n",
    "    '/home/shubham/Desktop/git/carla-roach/outputs/2024-03-08/19-15-26'\n",
    "]\n",
    "route_completion_ratio(list_of_addresses)"
   ]
  },
  {
   "cell_type": "markdown",
   "id": "b01d77c7",
   "metadata": {},
   "source": [
    "### Dino V2 dagger 4 2021"
   ]
  },
  {
   "cell_type": "code",
   "execution_count": 94,
   "id": "910ac8c8",
   "metadata": {},
   "outputs": [
    {
     "name": "stdout",
     "output_type": "stream",
     "text": [
      "Score: 5/12\n",
      "Score: 6/20\n",
      "Score: 8/20\n"
     ]
    },
    {
     "data": {
      "text/plain": [
       "36.53846153846153"
      ]
     },
     "execution_count": 94,
     "metadata": {},
     "output_type": "execute_result"
    }
   ],
   "source": [
    "list_of_addresses = [\n",
    "    '/home/shubham/Desktop/git/carla-roach/outputs/2024-03-11/18-00-54',\n",
    "    '/home/shubham/Desktop/git/carla-roach/outputs/2024-03-11/20-03-52',\n",
    "    '/home/shubham/Desktop/git/carla-roach/outputs/2024-03-12/01-52-37'\n",
    "]\n",
    "calc_success_rate(list_of_addresses)\n"
   ]
  },
  {
   "cell_type": "code",
   "execution_count": 95,
   "id": "b6da3b72",
   "metadata": {},
   "outputs": [
    {
     "data": {
      "text/plain": [
       "64.95104022858554"
      ]
     },
     "execution_count": 95,
     "metadata": {},
     "output_type": "execute_result"
    }
   ],
   "source": [
    "list_of_addresses = [\n",
    "    '/home/shubham/Desktop/git/carla-roach/outputs/2024-03-11/18-00-54',\n",
    "    '/home/shubham/Desktop/git/carla-roach/outputs/2024-03-11/20-03-52',\n",
    "    '/home/shubham/Desktop/git/carla-roach/outputs/2024-03-12/01-52-37'\n",
    "]\n",
    "route_completion_ratio(list_of_addresses)"
   ]
  },
  {
   "cell_type": "code",
   "execution_count": null,
   "id": "aaae8962",
   "metadata": {},
   "outputs": [],
   "source": []
  },
  {
   "cell_type": "markdown",
   "id": "ba758c75",
   "metadata": {},
   "source": [
    "### Dino v1 Dagger 2 2021"
   ]
  },
  {
   "cell_type": "code",
   "execution_count": 27,
   "id": "2d57649b",
   "metadata": {},
   "outputs": [
    {
     "name": "stdout",
     "output_type": "stream",
     "text": [
      "Score: 2/12\n",
      "Score: 8/20\n",
      "Score: 12/20\n"
     ]
    },
    {
     "data": {
      "text/plain": [
       "42.30769230769231"
      ]
     },
     "execution_count": 27,
     "metadata": {},
     "output_type": "execute_result"
    }
   ],
   "source": [
    "list_of_addresses = [\n",
    "    '/home/shubham/Desktop/git/carla-roach/outputs/2024-03-12/22-52-30',\n",
    "    '/home/shubham/Desktop/git/carla-roach/outputs/2024-03-13/00-26-35',\n",
    "    '/home/shubham/Desktop/git/carla-roach/outputs/2024-03-13/06-04-31'\n",
    "]\n",
    "\n",
    "calc_success_rate(list_of_addresses)\n"
   ]
  },
  {
   "cell_type": "code",
   "execution_count": 28,
   "id": "ec81d882",
   "metadata": {},
   "outputs": [
    {
     "data": {
      "text/plain": [
       "67.10675185366809"
      ]
     },
     "execution_count": 28,
     "metadata": {},
     "output_type": "execute_result"
    }
   ],
   "source": [
    "list_of_addresses = [\n",
    "    '/home/shubham/Desktop/git/carla-roach/outputs/2024-03-12/22-52-30',\n",
    "    '/home/shubham/Desktop/git/carla-roach/outputs/2024-03-13/00-26-35',\n",
    "    '/home/shubham/Desktop/git/carla-roach/outputs/2024-03-13/06-04-31'\n",
    "]\n",
    "route_completion_ratio(list_of_addresses)"
   ]
  },
  {
   "cell_type": "markdown",
   "id": "f3707edd",
   "metadata": {},
   "source": [
    "### Dino v1 Dagger 2 2022"
   ]
  },
  {
   "cell_type": "code",
   "execution_count": 29,
   "id": "bc4961b5",
   "metadata": {},
   "outputs": [
    {
     "name": "stdout",
     "output_type": "stream",
     "text": [
      "Score: 3/12\n",
      "Score: 7/20\n",
      "Score: 11/20\n"
     ]
    },
    {
     "data": {
      "text/plain": [
       "40.38461538461539"
      ]
     },
     "execution_count": 29,
     "metadata": {},
     "output_type": "execute_result"
    }
   ],
   "source": [
    "list_of_addresses = [\n",
    "    '/home/shubham/Desktop/git/carla-roach/outputs/2024-03-13/09-55-08',\n",
    "    '/home/shubham/Desktop/git/carla-roach/outputs/jointly_made/2024-03-13/11-35-19',\n",
    "    '/home/shubham/Desktop/git/carla-roach/outputs/2024-03-13/18-06-22'\n",
    "]\n",
    "calc_success_rate(list_of_addresses)\n"
   ]
  },
  {
   "cell_type": "code",
   "execution_count": 30,
   "id": "51658a35",
   "metadata": {},
   "outputs": [
    {
     "data": {
      "text/plain": [
       "76.87974555990037"
      ]
     },
     "execution_count": 30,
     "metadata": {},
     "output_type": "execute_result"
    }
   ],
   "source": [
    "list_of_addresses = [\n",
    "    '/home/shubham/Desktop/git/carla-roach/outputs/2024-03-13/09-55-08',\n",
    "    '/home/shubham/Desktop/git/carla-roach/outputs/jointly_made/2024-03-13/11-35-19',\n",
    "    '/home/shubham/Desktop/git/carla-roach/outputs/2024-03-13/18-06-22'\n",
    "]\n",
    "route_completion_ratio(list_of_addresses)"
   ]
  },
  {
   "cell_type": "markdown",
   "id": "042d7d7b",
   "metadata": {},
   "source": [
    "### Dino v1 Dagger 2 2023"
   ]
  },
  {
   "cell_type": "code",
   "execution_count": 31,
   "id": "f8170854",
   "metadata": {},
   "outputs": [
    {
     "name": "stdout",
     "output_type": "stream",
     "text": [
      "Score: 4/12\n",
      "Score: 9/20\n",
      "Score: 12/20\n"
     ]
    },
    {
     "data": {
      "text/plain": [
       "48.07692307692308"
      ]
     },
     "execution_count": 31,
     "metadata": {},
     "output_type": "execute_result"
    }
   ],
   "source": [
    "list_of_addresses = [\n",
    "    '/home/shubham/Desktop/git/carla-roach/outputs/2024-03-13/22-05-37',\n",
    "    '/home/shubham/Desktop/git/carla-roach/outputs/2024-03-13/23-48-02',\n",
    "    '/home/shubham/Desktop/git/carla-roach/outputs/2024-03-14/05-43-07'\n",
    "]\n",
    "calc_success_rate(list_of_addresses)\n"
   ]
  },
  {
   "cell_type": "code",
   "execution_count": 32,
   "id": "57a66798",
   "metadata": {},
   "outputs": [
    {
     "data": {
      "text/plain": [
       "75.36364208123598"
      ]
     },
     "execution_count": 32,
     "metadata": {},
     "output_type": "execute_result"
    }
   ],
   "source": [
    "list_of_addresses = [\n",
    "    '/home/shubham/Desktop/git/carla-roach/outputs/2024-03-13/22-05-37',\n",
    "    '/home/shubham/Desktop/git/carla-roach/outputs/2024-03-13/23-48-02',\n",
    "    '/home/shubham/Desktop/git/carla-roach/outputs/2024-03-14/05-43-07'\n",
    "]\n",
    "route_completion_ratio(list_of_addresses)"
   ]
  },
  {
   "cell_type": "markdown",
   "id": "db9dcd87",
   "metadata": {},
   "source": [
    "### Dino v1 Dagger 1 2023"
   ]
  },
  {
   "cell_type": "code",
   "execution_count": 111,
   "id": "4100a23e",
   "metadata": {},
   "outputs": [
    {
     "name": "stdout",
     "output_type": "stream",
     "text": [
      "Score: 1/12\n",
      "Score: 7/20\n",
      "Score: 12/20\n"
     ]
    },
    {
     "data": {
      "text/plain": [
       "38.46153846153847"
      ]
     },
     "execution_count": 111,
     "metadata": {},
     "output_type": "execute_result"
    }
   ],
   "source": [
    "list_of_addresses = [\n",
    "    '/home/shubham/Desktop/git/carla-roach/outputs/2024-03-14/13-48-22',\n",
    "    '/home/shubham/Desktop/git/carla-roach/outputs/2024-03-14/15-24-40',\n",
    "    '/home/shubham/Desktop/git/carla-roach/outputs/2024-03-14/21-51-57'\n",
    "]\n",
    "calc_success_rate(list_of_addresses)\n"
   ]
  },
  {
   "cell_type": "code",
   "execution_count": 113,
   "id": "4af0c159",
   "metadata": {},
   "outputs": [
    {
     "data": {
      "text/plain": [
       "71.20574845289681"
      ]
     },
     "execution_count": 113,
     "metadata": {},
     "output_type": "execute_result"
    }
   ],
   "source": [
    "list_of_addresses = [\n",
    "    '/home/shubham/Desktop/git/carla-roach/outputs/2024-03-14/13-48-22',\n",
    "    '/home/shubham/Desktop/git/carla-roach/outputs/2024-03-14/15-24-40',\n",
    "    '/home/shubham/Desktop/git/carla-roach/outputs/2024-03-14/21-51-57'\n",
    "]\n",
    "route_completion_ratio(list_of_addresses)"
   ]
  },
  {
   "cell_type": "markdown",
   "id": "61418f30",
   "metadata": {},
   "source": [
    "### Dino v1 Dagger 1 2022"
   ]
  },
  {
   "cell_type": "code",
   "execution_count": 109,
   "id": "b3e8b296",
   "metadata": {},
   "outputs": [
    {
     "name": "stdout",
     "output_type": "stream",
     "text": [
      "Score: 3/12\n",
      "Score: 7/20\n",
      "Score: 12/20\n"
     ]
    },
    {
     "data": {
      "text/plain": [
       "42.30769230769231"
      ]
     },
     "execution_count": 109,
     "metadata": {},
     "output_type": "execute_result"
    }
   ],
   "source": [
    "list_of_addresses = [\n",
    "    '/home/shubham/Desktop/git/carla-roach/outputs/2024-03-15/01-20-35',\n",
    "    '/home/shubham/Desktop/git/carla-roach/outputs/2024-03-15/02-47-34',\n",
    "    '/home/shubham/Desktop/git/carla-roach/outputs/2024-03-15/08-09-26'\n",
    "]\n",
    "calc_success_rate(list_of_addresses)\n"
   ]
  },
  {
   "cell_type": "code",
   "execution_count": 110,
   "id": "7cb5315e",
   "metadata": {},
   "outputs": [
    {
     "data": {
      "text/plain": [
       "68.77213126217062"
      ]
     },
     "execution_count": 110,
     "metadata": {},
     "output_type": "execute_result"
    }
   ],
   "source": [
    "list_of_addresses = [\n",
    "    '/home/shubham/Desktop/git/carla-roach/outputs/2024-03-15/01-20-35',\n",
    "    '/home/shubham/Desktop/git/carla-roach/outputs/2024-03-15/02-47-34',\n",
    "    '/home/shubham/Desktop/git/carla-roach/outputs/2024-03-15/08-09-26'\n",
    "]\n",
    "route_completion_ratio(list_of_addresses)"
   ]
  },
  {
   "cell_type": "markdown",
   "id": "e6222435",
   "metadata": {},
   "source": [
    "### Dino v1 Dagger 1 2021"
   ]
  },
  {
   "cell_type": "code",
   "execution_count": 107,
   "id": "28d34319",
   "metadata": {},
   "outputs": [
    {
     "name": "stdout",
     "output_type": "stream",
     "text": [
      "Score: 2/12\n",
      "Score: 7/20\n",
      "Score: 11/20\n"
     ]
    },
    {
     "data": {
      "text/plain": [
       "38.46153846153847"
      ]
     },
     "execution_count": 107,
     "metadata": {},
     "output_type": "execute_result"
    }
   ],
   "source": [
    "list_of_addresses = [\n",
    "    '/home/shubham/Desktop/git/carla-roach/outputs/2024-03-15/12-12-18',\n",
    "    '/home/shubham/Desktop/git/carla-roach/outputs/2024-03-15/13-30-15',\n",
    "    '/home/shubham/Desktop/git/carla-roach/outputs/2024-03-15/19-07-41'\n",
    "]\n",
    "calc_success_rate(list_of_addresses)\n"
   ]
  },
  {
   "cell_type": "code",
   "execution_count": 108,
   "id": "85756d36",
   "metadata": {},
   "outputs": [
    {
     "data": {
      "text/plain": [
       "68.52960559758195"
      ]
     },
     "execution_count": 108,
     "metadata": {},
     "output_type": "execute_result"
    }
   ],
   "source": [
    "list_of_addresses = [\n",
    "    '/home/shubham/Desktop/git/carla-roach/outputs/2024-03-15/12-12-18',\n",
    "    '/home/shubham/Desktop/git/carla-roach/outputs/2024-03-15/13-30-15',\n",
    "    '/home/shubham/Desktop/git/carla-roach/outputs/2024-03-15/19-07-41'\n",
    "]\n",
    "route_completion_ratio(list_of_addresses)"
   ]
  },
  {
   "cell_type": "code",
   "execution_count": null,
   "id": "787df5c8",
   "metadata": {},
   "outputs": [],
   "source": []
  },
  {
   "cell_type": "markdown",
   "id": "3423b632",
   "metadata": {},
   "source": [
    "### Dino v1 Dagger 0 2023"
   ]
  },
  {
   "cell_type": "code",
   "execution_count": 120,
   "id": "db0a08ae",
   "metadata": {},
   "outputs": [
    {
     "name": "stdout",
     "output_type": "stream",
     "text": [
      "Score: 0/12\n",
      "Score: 2/20\n",
      "Score: 3/20\n"
     ]
    },
    {
     "data": {
      "text/plain": [
       "9.615384615384617"
      ]
     },
     "execution_count": 120,
     "metadata": {},
     "output_type": "execute_result"
    }
   ],
   "source": [
    "list_of_addresses = [\n",
    "    '/home/shubham/Desktop/git/carla-roach/outputs/2024-03-16/22-24-29',\n",
    "    '/home/shubham/Desktop/git/carla-roach/outputs/2024-03-16/23-18-28',\n",
    "    '/home/shubham/Desktop/git/carla-roach/outputs/2024-03-17/02-49-32'\n",
    "]\n",
    "calc_success_rate(list_of_addresses)\n"
   ]
  },
  {
   "cell_type": "code",
   "execution_count": 121,
   "id": "c9bfcf04",
   "metadata": {},
   "outputs": [
    {
     "data": {
      "text/plain": [
       "37.352182326414656"
      ]
     },
     "execution_count": 121,
     "metadata": {},
     "output_type": "execute_result"
    }
   ],
   "source": [
    "list_of_addresses = [\n",
    "    '/home/shubham/Desktop/git/carla-roach/outputs/2024-03-16/22-24-29',\n",
    "    '/home/shubham/Desktop/git/carla-roach/outputs/2024-03-16/23-18-28',\n",
    "    '/home/shubham/Desktop/git/carla-roach/outputs/2024-03-17/02-49-32'\n",
    "]\n",
    "route_completion_ratio(list_of_addresses)"
   ]
  },
  {
   "cell_type": "markdown",
   "id": "65d8e088",
   "metadata": {},
   "source": [
    "### Dino v1 Dagger 0 2022"
   ]
  },
  {
   "cell_type": "code",
   "execution_count": 118,
   "id": "a3803ed7",
   "metadata": {},
   "outputs": [
    {
     "name": "stdout",
     "output_type": "stream",
     "text": [
      "Score: 0/12\n",
      "Score: 3/20\n",
      "Score: 3/20\n"
     ]
    },
    {
     "data": {
      "text/plain": [
       "11.538461538461538"
      ]
     },
     "execution_count": 118,
     "metadata": {},
     "output_type": "execute_result"
    }
   ],
   "source": [
    "list_of_addresses = [\n",
    "    '/home/shubham/Desktop/git/carla-roach/outputs/2024-03-17/05-36-28',\n",
    "    '/home/shubham/Desktop/git/carla-roach/outputs/2024-03-17/06-29-57',\n",
    "    '/home/shubham/Desktop/git/carla-roach/outputs/2024-03-17/10-09-49'\n",
    "]\n",
    "calc_success_rate(list_of_addresses)\n"
   ]
  },
  {
   "cell_type": "code",
   "execution_count": 119,
   "id": "64c24039",
   "metadata": {},
   "outputs": [
    {
     "data": {
      "text/plain": [
       "37.73340196613359"
      ]
     },
     "execution_count": 119,
     "metadata": {},
     "output_type": "execute_result"
    }
   ],
   "source": [
    "list_of_addresses = [\n",
    "    '/home/shubham/Desktop/git/carla-roach/outputs/2024-03-17/05-36-28',\n",
    "    '/home/shubham/Desktop/git/carla-roach/outputs/2024-03-17/06-29-57',\n",
    "    '/home/shubham/Desktop/git/carla-roach/outputs/2024-03-17/10-09-49'\n",
    "]\n",
    "route_completion_ratio(list_of_addresses)"
   ]
  },
  {
   "cell_type": "markdown",
   "id": "1451e756",
   "metadata": {},
   "source": [
    "### Dino v1 Dagger 0 2021"
   ]
  },
  {
   "cell_type": "code",
   "execution_count": 116,
   "id": "99446da9",
   "metadata": {},
   "outputs": [
    {
     "name": "stdout",
     "output_type": "stream",
     "text": [
      "Score: 0/12\n",
      "Score: 3/20\n",
      "Score: 3/20\n"
     ]
    },
    {
     "data": {
      "text/plain": [
       "11.538461538461538"
      ]
     },
     "execution_count": 116,
     "metadata": {},
     "output_type": "execute_result"
    }
   ],
   "source": [
    "list_of_addresses = [\n",
    "    '/home/shubham/Desktop/git/carla-roach/outputs/2024-03-17/12-25-49',\n",
    "    '/home/shubham/Desktop/git/carla-roach/outputs/2024-03-17/13-23-52',\n",
    "    '/home/shubham/Desktop/git/carla-roach/outputs/2024-03-17/17-00-49'\n",
    "]\n",
    "calc_success_rate(list_of_addresses)\n"
   ]
  },
  {
   "cell_type": "code",
   "execution_count": 117,
   "id": "dc30befa",
   "metadata": {},
   "outputs": [
    {
     "data": {
      "text/plain": [
       "36.21100983219385"
      ]
     },
     "execution_count": 117,
     "metadata": {},
     "output_type": "execute_result"
    }
   ],
   "source": [
    "list_of_addresses = [\n",
    "    '/home/shubham/Desktop/git/carla-roach/outputs/2024-03-17/12-25-49',\n",
    "    '/home/shubham/Desktop/git/carla-roach/outputs/2024-03-17/13-23-52',\n",
    "    '/home/shubham/Desktop/git/carla-roach/outputs/2024-03-17/17-00-49'\n",
    "]\n",
    "route_completion_ratio(list_of_addresses)"
   ]
  },
  {
   "cell_type": "markdown",
   "id": "569d40af",
   "metadata": {},
   "source": [
    "### RoachNet50 Dagger 3 2023"
   ]
  },
  {
   "cell_type": "code",
   "execution_count": 8,
   "id": "5dac165f",
   "metadata": {},
   "outputs": [
    {
     "name": "stdout",
     "output_type": "stream",
     "text": [
      "Score: 0/12\n",
      "Score: 5/20\n",
      "Score: 7/20\n"
     ]
    },
    {
     "data": {
      "text/plain": [
       "23.076923076923077"
      ]
     },
     "execution_count": 8,
     "metadata": {},
     "output_type": "execute_result"
    }
   ],
   "source": [
    "list_of_addresses = [\n",
    "    '/home/shubham/Desktop/git/carla-roach/outputs/2024-03-18/08-01-25',\n",
    "    '/home/shubham/Desktop/git/carla-roach/outputs/2024-03-18/08-54-19',\n",
    "    '/home/shubham/Desktop/git/carla-roach/outputs/2024-03-18/12-57-10'\n",
    "]\n",
    "calc_success_rate(list_of_addresses)\n"
   ]
  },
  {
   "cell_type": "code",
   "execution_count": 10,
   "id": "33b4ec6f",
   "metadata": {},
   "outputs": [
    {
     "data": {
      "text/plain": [
       "43.296301713579254"
      ]
     },
     "execution_count": 10,
     "metadata": {},
     "output_type": "execute_result"
    }
   ],
   "source": [
    "list_of_addresses = [\n",
    "    '/home/shubham/Desktop/git/carla-roach/outputs/2024-03-18/08-01-25',\n",
    "    '/home/shubham/Desktop/git/carla-roach/outputs/2024-03-18/08-54-19',\n",
    "    '/home/shubham/Desktop/git/carla-roach/outputs/2024-03-18/12-57-10'\n",
    "]\n",
    "route_completion_ratio(list_of_addresses)"
   ]
  },
  {
   "cell_type": "markdown",
   "id": "0fbacfb5",
   "metadata": {},
   "source": [
    "### RoachNet50 Dagger 3 2022"
   ]
  },
  {
   "cell_type": "code",
   "execution_count": 6,
   "id": "071a7bdd",
   "metadata": {},
   "outputs": [
    {
     "name": "stdout",
     "output_type": "stream",
     "text": [
      "Score: 1/12\n",
      "Score: 4/20\n",
      "Score: 6/20\n"
     ]
    },
    {
     "data": {
      "text/plain": [
       "21.153846153846153"
      ]
     },
     "execution_count": 6,
     "metadata": {},
     "output_type": "execute_result"
    }
   ],
   "source": [
    "list_of_addresses = [\n",
    "    '/home/shubham/Desktop/git/carla-roach/outputs/2024-03-18/16-11-07',\n",
    "    '/home/shubham/Desktop/git/carla-roach/outputs/2024-03-18/17-41-26',\n",
    "    '/home/shubham/Desktop/git/carla-roach/outputs/2024-03-18/21-47-59'\n",
    "]\n",
    "calc_success_rate(list_of_addresses)\n"
   ]
  },
  {
   "cell_type": "code",
   "execution_count": 7,
   "id": "f4c6201d",
   "metadata": {},
   "outputs": [
    {
     "data": {
      "text/plain": [
       "45.049120669911424"
      ]
     },
     "execution_count": 7,
     "metadata": {},
     "output_type": "execute_result"
    }
   ],
   "source": [
    "list_of_addresses = [\n",
    "    '/home/shubham/Desktop/git/carla-roach/outputs/2024-03-18/16-11-07',\n",
    "    '/home/shubham/Desktop/git/carla-roach/outputs/2024-03-18/17-41-26',\n",
    "    '/home/shubham/Desktop/git/carla-roach/outputs/2024-03-18/21-47-59'\n",
    "]\n",
    "route_completion_ratio(list_of_addresses)"
   ]
  },
  {
   "cell_type": "markdown",
   "id": "4b27ca2b",
   "metadata": {},
   "source": [
    "### RoachNet50 Dagger 3 2021"
   ]
  },
  {
   "cell_type": "code",
   "execution_count": 4,
   "id": "ee9a927f",
   "metadata": {},
   "outputs": [
    {
     "name": "stdout",
     "output_type": "stream",
     "text": [
      "Score: 1/12\n",
      "Score: 4/20\n",
      "Score: 5/20\n"
     ]
    },
    {
     "data": {
      "text/plain": [
       "19.230769230769234"
      ]
     },
     "execution_count": 4,
     "metadata": {},
     "output_type": "execute_result"
    }
   ],
   "source": [
    "list_of_addresses = [\n",
    "    '/home/shubham/Desktop/git/carla-roach/outputs/2024-03-19/00-41-24',\n",
    "    '/home/shubham/Desktop/git/carla-roach/outputs/2024-03-19/01-41-48',\n",
    "    '/home/shubham/Desktop/git/carla-roach/outputs/2024-03-19/05-40-31'\n",
    "]\n",
    "calc_success_rate(list_of_addresses)\n"
   ]
  },
  {
   "cell_type": "code",
   "execution_count": 5,
   "id": "56e45c7e",
   "metadata": {},
   "outputs": [
    {
     "data": {
      "text/plain": [
       "39.948869655517484"
      ]
     },
     "execution_count": 5,
     "metadata": {},
     "output_type": "execute_result"
    }
   ],
   "source": [
    "list_of_addresses = [\n",
    "    '/home/shubham/Desktop/git/carla-roach/outputs/2024-03-19/00-41-24',\n",
    "    '/home/shubham/Desktop/git/carla-roach/outputs/2024-03-19/01-41-48',\n",
    "    '/home/shubham/Desktop/git/carla-roach/outputs/2024-03-19/05-40-31'\n",
    "]\n",
    "route_completion_ratio(list_of_addresses)"
   ]
  },
  {
   "cell_type": "markdown",
   "id": "5fe0abb5",
   "metadata": {},
   "source": [
    "### RoachNet50 Dagger 2 2023"
   ]
  },
  {
   "cell_type": "code",
   "execution_count": 19,
   "id": "cf32f4ce",
   "metadata": {},
   "outputs": [
    {
     "name": "stdout",
     "output_type": "stream",
     "text": [
      "Score: 6/12\n",
      "Score: 3/20\n",
      "Score: 8/20\n"
     ]
    },
    {
     "data": {
      "text/plain": [
       "32.69230769230769"
      ]
     },
     "execution_count": 19,
     "metadata": {},
     "output_type": "execute_result"
    }
   ],
   "source": [
    "list_of_addresses = [\n",
    "    '/home/shubham/Desktop/git/carla-roach/outputs/2024-03-23/10-49-10',\n",
    "    '/home/shubham/Desktop/git/carla-roach/outputs/2024-03-23/13-09-02',\n",
    "    '/home/shubham/Desktop/git/carla-roach/outputs/2024-03-23/17-10-16'\n",
    "]\n",
    "calc_success_rate(list_of_addresses)\n"
   ]
  },
  {
   "cell_type": "code",
   "execution_count": 20,
   "id": "33b9337c",
   "metadata": {},
   "outputs": [
    {
     "data": {
      "text/plain": [
       "50.178929286669096"
      ]
     },
     "execution_count": 20,
     "metadata": {},
     "output_type": "execute_result"
    }
   ],
   "source": [
    "list_of_addresses = [\n",
    "    '/home/shubham/Desktop/git/carla-roach/outputs/2024-03-23/10-49-10',\n",
    "    '/home/shubham/Desktop/git/carla-roach/outputs/2024-03-23/13-09-02',\n",
    "    '/home/shubham/Desktop/git/carla-roach/outputs/2024-03-23/17-10-16'\n",
    "]\n",
    "route_completion_ratio(list_of_addresses)"
   ]
  },
  {
   "cell_type": "markdown",
   "id": "b42c9175",
   "metadata": {},
   "source": [
    "### RoachNet50 Dagger 2 2022"
   ]
  },
  {
   "cell_type": "code",
   "execution_count": 17,
   "id": "d5391e9e",
   "metadata": {},
   "outputs": [
    {
     "name": "stdout",
     "output_type": "stream",
     "text": [
      "Score: 6/12\n",
      "Score: 4/20\n",
      "Score: 9/20\n"
     ]
    },
    {
     "data": {
      "text/plain": [
       "36.53846153846153"
      ]
     },
     "execution_count": 17,
     "metadata": {},
     "output_type": "execute_result"
    }
   ],
   "source": [
    "list_of_addresses = [\n",
    "    '/home/shubham/Desktop/git/carla-roach/outputs/2024-03-23/20-21-24',\n",
    "    '/home/shubham/Desktop/git/carla-roach/outputs/2024-03-23/22-18-19',\n",
    "    '/home/shubham/Desktop/git/carla-roach/outputs/2024-03-24/02-31-09'\n",
    "]\n",
    "calc_success_rate(list_of_addresses)\n"
   ]
  },
  {
   "cell_type": "code",
   "execution_count": 18,
   "id": "5602e3b8",
   "metadata": {},
   "outputs": [
    {
     "data": {
      "text/plain": [
       "51.10098220037735"
      ]
     },
     "execution_count": 18,
     "metadata": {},
     "output_type": "execute_result"
    }
   ],
   "source": [
    "list_of_addresses = [\n",
    "    '/home/shubham/Desktop/git/carla-roach/outputs/2024-03-23/20-21-24',\n",
    "    '/home/shubham/Desktop/git/carla-roach/outputs/2024-03-23/22-18-19',\n",
    "    '/home/shubham/Desktop/git/carla-roach/outputs/2024-03-24/02-31-09'\n",
    "]\n",
    "route_completion_ratio(list_of_addresses)"
   ]
  },
  {
   "cell_type": "markdown",
   "id": "a5ff9746",
   "metadata": {},
   "source": [
    "### RoachNet50 Dagger 2 2021"
   ]
  },
  {
   "cell_type": "code",
   "execution_count": 15,
   "id": "9ed2bca7",
   "metadata": {},
   "outputs": [
    {
     "name": "stdout",
     "output_type": "stream",
     "text": [
      "Score: 8/12\n",
      "Score: 4/20\n",
      "Score: 9/20\n"
     ]
    },
    {
     "data": {
      "text/plain": [
       "40.38461538461539"
      ]
     },
     "execution_count": 15,
     "metadata": {},
     "output_type": "execute_result"
    }
   ],
   "source": [
    "list_of_addresses = [\n",
    "    '/home/shubham/Desktop/git/carla-roach/outputs/2024-03-24/06-29-24',\n",
    "    '/home/shubham/Desktop/git/carla-roach/outputs/2024-03-24/08-41-34',\n",
    "    '/home/shubham/Desktop/git/carla-roach/outputs/2024-03-24/13-02-17'\n",
    "]\n",
    "calc_success_rate(list_of_addresses)\n"
   ]
  },
  {
   "cell_type": "code",
   "execution_count": 16,
   "id": "945d42e3",
   "metadata": {},
   "outputs": [
    {
     "data": {
      "text/plain": [
       "53.7058074520517"
      ]
     },
     "execution_count": 16,
     "metadata": {},
     "output_type": "execute_result"
    }
   ],
   "source": [
    "list_of_addresses = [\n",
    "    '/home/shubham/Desktop/git/carla-roach/outputs/2024-03-24/06-29-24',\n",
    "    '/home/shubham/Desktop/git/carla-roach/outputs/2024-03-24/08-41-34',\n",
    "    '/home/shubham/Desktop/git/carla-roach/outputs/2024-03-24/13-02-17'\n",
    "\n",
    "]\n",
    "route_completion_ratio(list_of_addresses)"
   ]
  },
  {
   "cell_type": "markdown",
   "id": "94389a4d",
   "metadata": {},
   "source": [
    "### RoachNet50 Dagger 1 2023"
   ]
  },
  {
   "cell_type": "code",
   "execution_count": 28,
   "id": "ee291bfe",
   "metadata": {},
   "outputs": [
    {
     "name": "stdout",
     "output_type": "stream",
     "text": [
      "Score: 0/12\n",
      "Score: 2/20\n",
      "Score: 13/20\n"
     ]
    },
    {
     "data": {
      "text/plain": [
       "28.846153846153843"
      ]
     },
     "execution_count": 28,
     "metadata": {},
     "output_type": "execute_result"
    }
   ],
   "source": [
    "list_of_addresses = [\n",
    "    '/home/shubham/Desktop/git/carla-roach/outputs/2024-03-31/11-33-02',\n",
    "    '/home/shubham/Desktop/git/carla-roach/outputs/2024-03-31/12-47-50',\n",
    "    '/home/shubham/Desktop/git/carla-roach/outputs/2024-03-31/17-41-11'\n",
    "]\n",
    "calc_success_rate(list_of_addresses)\n"
   ]
  },
  {
   "cell_type": "code",
   "execution_count": 29,
   "id": "669d19e9",
   "metadata": {},
   "outputs": [
    {
     "data": {
      "text/plain": [
       "52.355962408695646"
      ]
     },
     "execution_count": 29,
     "metadata": {},
     "output_type": "execute_result"
    }
   ],
   "source": [
    "list_of_addresses = [\n",
    "    '/home/shubham/Desktop/git/carla-roach/outputs/2024-03-31/11-33-02',\n",
    "    '/home/shubham/Desktop/git/carla-roach/outputs/2024-03-31/12-47-50',\n",
    "    '/home/shubham/Desktop/git/carla-roach/outputs/2024-03-31/17-41-11'\n",
    "]\n",
    "route_completion_ratio(list_of_addresses)"
   ]
  },
  {
   "cell_type": "markdown",
   "id": "57531e4f",
   "metadata": {},
   "source": [
    "### RoachNet50 Dagger 1 2022"
   ]
  },
  {
   "cell_type": "code",
   "execution_count": 26,
   "id": "58b403fc",
   "metadata": {},
   "outputs": [
    {
     "name": "stdout",
     "output_type": "stream",
     "text": [
      "Score: 0/12\n",
      "Score: 4/20\n",
      "Score: 10/20\n"
     ]
    },
    {
     "data": {
      "text/plain": [
       "26.923076923076923"
      ]
     },
     "execution_count": 26,
     "metadata": {},
     "output_type": "execute_result"
    }
   ],
   "source": [
    "list_of_addresses = [\n",
    "    '/home/shubham/Desktop/git/carla-roach/outputs/2024-03-31/21-41-00',\n",
    "    '/home/shubham/Desktop/git/carla-roach/outputs/2024-03-31/22-52-01',\n",
    "    '/home/shubham/Desktop/git/carla-roach/outputs/2024-04-01/04-10-24'\n",
    "]\n",
    "calc_success_rate(list_of_addresses)\n"
   ]
  },
  {
   "cell_type": "code",
   "execution_count": 27,
   "id": "5a0cfe72",
   "metadata": {},
   "outputs": [
    {
     "data": {
      "text/plain": [
       "52.016390234928814"
      ]
     },
     "execution_count": 27,
     "metadata": {},
     "output_type": "execute_result"
    }
   ],
   "source": [
    "list_of_addresses = [\n",
    "    '/home/shubham/Desktop/git/carla-roach/outputs/2024-03-31/21-41-00',\n",
    "    '/home/shubham/Desktop/git/carla-roach/outputs/2024-03-31/22-52-01',\n",
    "    '/home/shubham/Desktop/git/carla-roach/outputs/2024-04-01/04-10-24'\n",
    "]\n",
    "route_completion_ratio(list_of_addresses)"
   ]
  },
  {
   "cell_type": "markdown",
   "id": "296eddf5",
   "metadata": {},
   "source": [
    "### RoachNet50 Dagger 1 2021"
   ]
  },
  {
   "cell_type": "code",
   "execution_count": 24,
   "id": "34f65478",
   "metadata": {},
   "outputs": [
    {
     "name": "stdout",
     "output_type": "stream",
     "text": [
      "Score: 0/12\n",
      "Score: 4/20\n",
      "Score: 13/20\n"
     ]
    },
    {
     "data": {
      "text/plain": [
       "32.69230769230769"
      ]
     },
     "execution_count": 24,
     "metadata": {},
     "output_type": "execute_result"
    }
   ],
   "source": [
    "list_of_addresses = [\n",
    "    '/home/shubham/Desktop/git/carla-roach/outputs/2024-04-01/07-49-33',\n",
    "    '/home/shubham/Desktop/git/carla-roach/outputs/2024-04-01/08-46-22',\n",
    "    '/home/shubham/Desktop/git/carla-roach/outputs/2024-04-01/12-48-33'\n",
    "]\n",
    "calc_success_rate(list_of_addresses)\n"
   ]
  },
  {
   "cell_type": "code",
   "execution_count": 25,
   "id": "f5fd548d",
   "metadata": {},
   "outputs": [
    {
     "data": {
      "text/plain": [
       "49.02656313056223"
      ]
     },
     "execution_count": 25,
     "metadata": {},
     "output_type": "execute_result"
    }
   ],
   "source": [
    "list_of_addresses = [\n",
    "    '/home/shubham/Desktop/git/carla-roach/outputs/2024-04-01/07-49-33',\n",
    "    '/home/shubham/Desktop/git/carla-roach/outputs/2024-04-01/08-46-22',\n",
    "    '/home/shubham/Desktop/git/carla-roach/outputs/2024-04-01/12-48-33'\n",
    "]\n",
    "route_completion_ratio(list_of_addresses)"
   ]
  },
  {
   "cell_type": "markdown",
   "id": "2095667e",
   "metadata": {},
   "source": [
    "### RoachNet50 Dagger 0 2021"
   ]
  },
  {
   "cell_type": "code",
   "execution_count": 36,
   "id": "d295fc7b",
   "metadata": {},
   "outputs": [
    {
     "name": "stdout",
     "output_type": "stream",
     "text": [
      "Score: 0/12\n",
      "Score: 0/20\n",
      "Score: 8/20\n"
     ]
    },
    {
     "data": {
      "text/plain": [
       "15.384615384615385"
      ]
     },
     "execution_count": 36,
     "metadata": {},
     "output_type": "execute_result"
    }
   ],
   "source": [
    "list_of_addresses = [\n",
    "    '/home/shubham/Desktop/git/carla-roach/outputs/2024-04-01/23-02-03',\n",
    "    '/home/shubham/Desktop/git/carla-roach/outputs/2024-04-02/01-19-21',\n",
    "    '/home/shubham/Desktop/git/carla-roach/outputs/2024-04-02/04-32-44'\n",
    "]\n",
    "calc_success_rate(list_of_addresses)\n"
   ]
  },
  {
   "cell_type": "code",
   "execution_count": 37,
   "id": "d5f27445",
   "metadata": {},
   "outputs": [
    {
     "data": {
      "text/plain": [
       "35.34677425271842"
      ]
     },
     "execution_count": 37,
     "metadata": {},
     "output_type": "execute_result"
    }
   ],
   "source": [
    "list_of_addresses = [\n",
    "    '/home/shubham/Desktop/git/carla-roach/outputs/2024-04-01/23-02-03',\n",
    "    '/home/shubham/Desktop/git/carla-roach/outputs/2024-04-02/01-19-21',\n",
    "    '/home/shubham/Desktop/git/carla-roach/outputs/2024-04-02/04-32-44'\n",
    "]\n",
    "route_completion_ratio(list_of_addresses)"
   ]
  },
  {
   "cell_type": "markdown",
   "id": "94d0c1f1",
   "metadata": {},
   "source": [
    "### RoachNet50 Dagger 0 2022"
   ]
  },
  {
   "cell_type": "code",
   "execution_count": 34,
   "id": "86b146ae",
   "metadata": {},
   "outputs": [
    {
     "name": "stdout",
     "output_type": "stream",
     "text": [
      "Score: 0/12\n",
      "Score: 0/20\n",
      "Score: 6/20\n"
     ]
    },
    {
     "data": {
      "text/plain": [
       "11.538461538461538"
      ]
     },
     "execution_count": 34,
     "metadata": {},
     "output_type": "execute_result"
    }
   ],
   "source": [
    "list_of_addresses = [\n",
    "    '/home/shubham/Desktop/git/carla-roach/outputs/2024-04-02/08-12-11',\n",
    "    '/home/shubham/Desktop/git/carla-roach/outputs/2024-04-02/08-54-51',\n",
    "    '/home/shubham/Desktop/git/carla-roach/outputs/2024-04-02/12-13-07'\n",
    "]\n",
    "calc_success_rate(list_of_addresses)\n"
   ]
  },
  {
   "cell_type": "code",
   "execution_count": 35,
   "id": "70b17518",
   "metadata": {},
   "outputs": [
    {
     "data": {
      "text/plain": [
       "33.37134390532585"
      ]
     },
     "execution_count": 35,
     "metadata": {},
     "output_type": "execute_result"
    }
   ],
   "source": [
    "list_of_addresses = [\n",
    "    '/home/shubham/Desktop/git/carla-roach/outputs/2024-04-02/08-12-11',\n",
    "    '/home/shubham/Desktop/git/carla-roach/outputs/2024-04-02/08-54-51',\n",
    "    '/home/shubham/Desktop/git/carla-roach/outputs/2024-04-02/12-13-07'\n",
    "]\n",
    "route_completion_ratio(list_of_addresses)"
   ]
  },
  {
   "cell_type": "markdown",
   "id": "549743e7",
   "metadata": {},
   "source": [
    "### RoachNet50 Dagger 0 2023"
   ]
  },
  {
   "cell_type": "code",
   "execution_count": 32,
   "id": "1ecdde19",
   "metadata": {},
   "outputs": [
    {
     "name": "stdout",
     "output_type": "stream",
     "text": [
      "Score: 0/12\n",
      "Score: 0/20\n",
      "Score: 5/20\n"
     ]
    },
    {
     "data": {
      "text/plain": [
       "9.615384615384617"
      ]
     },
     "execution_count": 32,
     "metadata": {},
     "output_type": "execute_result"
    }
   ],
   "source": [
    "list_of_addresses = [\n",
    "    '/home/shubham/Desktop/git/carla-roach/outputs/2024-04-02/15-47-41',\n",
    "    '/home/shubham/Desktop/git/carla-roach/outputs/2024-04-02/16-29-18',\n",
    "    '/home/shubham/Desktop/git/carla-roach/outputs/2024-04-02/19-16-42'\n",
    "]\n",
    "calc_success_rate(list_of_addresses)\n"
   ]
  },
  {
   "cell_type": "code",
   "execution_count": 33,
   "id": "b8506a22",
   "metadata": {},
   "outputs": [
    {
     "data": {
      "text/plain": [
       "29.42745614302772"
      ]
     },
     "execution_count": 33,
     "metadata": {},
     "output_type": "execute_result"
    }
   ],
   "source": [
    "list_of_addresses = [\n",
    "    '/home/shubham/Desktop/git/carla-roach/outputs/2024-04-02/15-47-41',\n",
    "    '/home/shubham/Desktop/git/carla-roach/outputs/2024-04-02/16-29-18',\n",
    "    '/home/shubham/Desktop/git/carla-roach/outputs/2024-04-02/19-16-42'\n",
    "]\n",
    "route_completion_ratio(list_of_addresses)"
   ]
  },
  {
   "cell_type": "markdown",
   "id": "6b2cb617",
   "metadata": {},
   "source": [
    "### Missing: Dino v1 Dagger 5 epoch 30 2021\n",
    "#### Checking"
   ]
  },
  {
   "cell_type": "code",
   "execution_count": 50,
   "id": "c5d92992",
   "metadata": {},
   "outputs": [
    {
     "name": "stdout",
     "output_type": "stream",
     "text": [
      "Score: 9/12\n",
      "Score: 8/20\n",
      "Score: 17/20\n"
     ]
    },
    {
     "data": {
      "text/plain": [
       "65.38461538461539"
      ]
     },
     "execution_count": 50,
     "metadata": {},
     "output_type": "execute_result"
    }
   ],
   "source": [
    "list_of_addresses = [\n",
    "    # '/home/shubham/Desktop/git/carla-roach/outputs/2024-02-28/16-17-23',\n",
    "    # '/home/shubham/Desktop/git/carla-roach/outputs/2024-02-28/18-48-48',\n",
    "    # '/home/shubham/Desktop/git/carla-roach/outputs/2024-02-29/00-13-12'\n",
    "    '/home/shubham/Desktop/git/carla-roach/outputs/2024-02-24/12-01-48',\n",
    "    '/home/shubham/Desktop/git/carla-roach/outputs/2024-02-24/14-13-21/',\n",
    "    '/home/shubham/Desktop/git/carla-roach/outputs/2024-02-24/20-32-45/'\n",
    "]\n",
    "calc_success_rate(list_of_addresses)\n"
   ]
  },
  {
   "cell_type": "code",
   "execution_count": 47,
   "id": "4709f466",
   "metadata": {},
   "outputs": [
    {
     "data": {
      "text/plain": [
       "79.78794675033754"
      ]
     },
     "execution_count": 47,
     "metadata": {},
     "output_type": "execute_result"
    }
   ],
   "source": [
    "list_of_addresses = [\n",
    "    '/home/shubham/Desktop/git/carla-roach/outputs/2024-02-28/16-17-23',\n",
    "    '/home/shubham/Desktop/git/carla-roach/outputs/2024-02-28/18-48-48',\n",
    "    '/home/shubham/Desktop/git/carla-roach/outputs/2024-02-29/00-13-12'\n",
    "]\n",
    "route_completion_ratio(list_of_addresses)"
   ]
  },
  {
   "cell_type": "markdown",
   "id": "f4628f3e",
   "metadata": {},
   "source": [
    "### Missing: Dino v1 Dagger 5 epoch 30 2022\n",
    "#### Checking"
   ]
  },
  {
   "cell_type": "code",
   "execution_count": 43,
   "id": "9db2c2f9",
   "metadata": {},
   "outputs": [
    {
     "name": "stdout",
     "output_type": "stream",
     "text": [
      "Score: 5/12\n",
      "Score: 6/20\n",
      "Score: 16/20\n"
     ]
    },
    {
     "data": {
      "text/plain": [
       "51.92307692307693"
      ]
     },
     "execution_count": 43,
     "metadata": {},
     "output_type": "execute_result"
    }
   ],
   "source": [
    "list_of_addresses = [\n",
    "    '/home/shubham/Desktop/git/carla-roach/outputs/2024-02-29/09-45-23',\n",
    "    '/home/shubham/Desktop/git/carla-roach/outputs/2024-02-29/11-40-37',\n",
    "    '/home/shubham/Desktop/git/carla-roach/outputs/2024-02-29/17-38-47'\n",
    "]\n",
    "calc_success_rate(list_of_addresses)\n"
   ]
  },
  {
   "cell_type": "code",
   "execution_count": 42,
   "id": "b187f99f",
   "metadata": {},
   "outputs": [
    {
     "data": {
      "text/plain": [
       "75.66332995213062"
      ]
     },
     "execution_count": 42,
     "metadata": {},
     "output_type": "execute_result"
    }
   ],
   "source": [
    "list_of_addresses = [\n",
    "    '/home/shubham/Desktop/git/carla-roach/outputs/2024-02-29/09-45-23',\n",
    "    '/home/shubham/Desktop/git/carla-roach/outputs/2024-02-29/11-40-37',\n",
    "    '/home/shubham/Desktop/git/carla-roach/outputs/2024-02-29/17-38-47'\n",
    "]\n",
    "route_completion_ratio(list_of_addresses)"
   ]
  },
  {
   "cell_type": "markdown",
   "id": "e4f7ad22",
   "metadata": {},
   "source": [
    "### Missing: Dino v1 Dagger 5 epoch 30 2023 \n",
    "#### Checking"
   ]
  },
  {
   "cell_type": "code",
   "execution_count": 40,
   "id": "246186c6",
   "metadata": {},
   "outputs": [
    {
     "name": "stdout",
     "output_type": "stream",
     "text": [
      "Score: 9/12\n",
      "Score: 10/20\n",
      "Score: 17/20\n"
     ]
    },
    {
     "data": {
      "text/plain": [
       "69.23076923076923"
      ]
     },
     "execution_count": 40,
     "metadata": {},
     "output_type": "execute_result"
    }
   ],
   "source": [
    "list_of_addresses = [\n",
    "    '/home/shubham/Desktop/git/carla-roach/outputs/2024-02-29/21-32-54',\n",
    "    '/home/shubham/Desktop/git/carla-roach/outputs/2024-02-29/23-35-32',\n",
    "    '/home/shubham/Desktop/git/carla-roach/outputs/2024-03-01/06-04-55'\n",
    "]\n",
    "calc_success_rate(list_of_addresses)\n"
   ]
  },
  {
   "cell_type": "code",
   "execution_count": 41,
   "id": "cb51299e",
   "metadata": {},
   "outputs": [
    {
     "data": {
      "text/plain": [
       "84.78468710296725"
      ]
     },
     "execution_count": 41,
     "metadata": {},
     "output_type": "execute_result"
    }
   ],
   "source": [
    "list_of_addresses = [\n",
    "    '/home/shubham/Desktop/git/carla-roach/outputs/2024-02-29/21-32-54',\n",
    "    '/home/shubham/Desktop/git/carla-roach/outputs/2024-02-29/23-35-32',\n",
    "    '/home/shubham/Desktop/git/carla-roach/outputs/2024-03-01/06-04-55'\n",
    "]\n",
    "route_completion_ratio(list_of_addresses)"
   ]
  },
  {
   "cell_type": "markdown",
   "id": "698b4dbe",
   "metadata": {},
   "source": [
    "# Making graph of all results calculated"
   ]
  },
  {
   "cell_type": "code",
   "execution_count": 13,
   "id": "7b2954a4",
   "metadata": {},
   "outputs": [],
   "source": [
    "import matplotlib.pyplot as plt\n",
    "%matplotlib inline"
   ]
  },
  {
   "cell_type": "code",
   "execution_count": 39,
   "id": "5340de39",
   "metadata": {},
   "outputs": [
    {
     "data": {
      "image/png": "[encoded data removed]",
      "text/plain": [
       "<Figure size 640x480 with 1 Axes>"
      ]
     },
     "metadata": {},
     "output_type": "display_data"
    }
   ],
   "source": [
    "# RoachNet50 single seeds\n",
    "plt.scatter([5, 5, 5], [50.0, 51.92, 48.08], c='#9bafd9', alpha=0.5)\n",
    "plt.scatter([4, 4, 4], [53.85, 51.92, 53.85], c='#9bafd9', alpha=0.5)\n",
    "plt.scatter([3, 3, 3], [19.23, 21.15, 23.07], c='#9bafd9', alpha=0.5)\n",
    "plt.scatter([2, 2, 2], [32.69, 36.54, 40.38], c='#9bafd9', alpha=0.5)\n",
    "plt.scatter([1, 1, 1], [28.85, 26.92, 32.69], c='#9bafd9', alpha=0.5)\n",
    "plt.scatter([0, 0, 0], [15.38, 11.54, 9.62], c='#9bafd9', alpha=0.5)\n",
    "\n",
    "# RoachNet50 Averages\n",
    "plt.scatter([0, 1, 2, 3, 4, 5], [12.18, 29.49, 36.54, 21.15, 53.21, 50.0], c='#103783')\n",
    "\n",
    "# Dino v1 single seeds\n",
    "plt.scatter([0, 0, 0], [9.61, 11.34, 11.53], c='#aacc00', alpha=0.5)\n",
    "plt.scatter([1, 1, 1], [38.46, 42.31, 38.46], c='#aacc00', alpha=0.5)\n",
    "plt.scatter([2, 2, 2], [42.31, 40.39, 48.08], c='#aacc00', alpha=0.5)\n",
    "plt.scatter([3, 3, 3], [50.0, 53.85, 55.78], c='#aacc00', alpha=0.5)\n",
    "plt.scatter([4, 4, 4], [63.46, 65.38, 53.85], c='#aacc00', alpha=0.5)\n",
    "plt.scatter([5, 5, 5], [69.23, 51.92, 65.38], c='#aacc00', alpha=0.5)\n",
    "\n",
    "# Dino v1 Averages\n",
    "plt.scatter([0, 1, 2, 3, 4, 5], [10.86, 39.74, 43.59, 53.21, 60.90, 62.18], c='#007f5f')\n",
    "\n",
    "# old best / SegVPR\n",
    "plt.scatter([4], [60.25], c='#2d00f7')\n",
    "\n",
    "plt.xlim(-1,6)\n",
    "plt.ylim(0,75)\n",
    "plt.show()"
   ]
  },
  {
   "cell_type": "code",
   "execution_count": 38,
   "id": "89727b08",
   "metadata": {},
   "outputs": [
    {
     "data": {
      "text/plain": [
       "12.18"
      ]
     },
     "execution_count": 38,
     "metadata": {},
     "output_type": "execute_result"
    }
   ],
   "source": [
    "np.mean([15.38, 11.54, 9.62])"
   ]
  },
  {
   "cell_type": "markdown",
   "id": "8e367a1f",
   "metadata": {},
   "source": [
    "## Benchmark tool to search address by model name"
   ]
  },
  {
   "cell_type": "code",
   "execution_count": 39,
   "id": "a5ac90af",
   "metadata": {},
   "outputs": [
    {
     "name": "stdout",
     "output_type": "stream",
     "text": [
      "Folder: /home/shubham/Desktop/git/carla-roach/outputs/2024-02-29/11-40-37 Town: ['/home/shubham/Desktop/git/carla-roach/outputs/2024-02-29/11-40-37/videos/custom_LeaderBoard-v0_Town04_test_new']\n",
      "Folder: /home/shubham/Desktop/git/carla-roach/outputs/2024-02-29/23-35-32 Town: ['/home/shubham/Desktop/git/carla-roach/outputs/2024-02-29/23-35-32/videos/custom_LeaderBoard-v0_Town04_test_new']\n",
      "Folder: /home/shubham/Desktop/git/carla-roach/outputs/2024-02-29/21-32-54 Town: ['/home/shubham/Desktop/git/carla-roach/outputs/2024-02-29/21-32-54/videos/custom_LeaderBoard-v0_Town02_None_new']\n",
      "Folder: /home/shubham/Desktop/git/carla-roach/outputs/2024-02-29/17-38-47 Town: ['/home/shubham/Desktop/git/carla-roach/outputs/2024-02-29/17-38-47/videos/custom_LeaderBoard-v0_Town05_None_new']\n",
      "Folder: /home/shubham/Desktop/git/carla-roach/outputs/2024-02-29/00-13-12 Town: ['/home/shubham/Desktop/git/carla-roach/outputs/2024-02-29/00-13-12/videos/custom_LeaderBoard-v0_Town05_None_new']\n",
      "Folder: /home/shubham/Desktop/git/carla-roach/outputs/2024-02-29/09-45-23 Town: ['/home/shubham/Desktop/git/carla-roach/outputs/2024-02-29/09-45-23/videos/custom_LeaderBoard-v0_Town02_None_new']\n",
      "Folder: /home/shubham/Desktop/git/carla-roach/outputs/2024-02-23/20-17-18 Town: ['/home/shubham/Desktop/git/carla-roach/outputs/2024-02-23/20-17-18/videos/custom_LeaderBoard-v0_Town04_test_new']\n",
      "Folder: /home/shubham/Desktop/git/carla-roach/outputs/2024-02-23/17-44-19 Town: ['/home/shubham/Desktop/git/carla-roach/outputs/2024-02-23/17-44-19/videos/custom_LeaderBoard-v0_Town02_None_new']\n",
      "Folder: /home/shubham/Desktop/git/carla-roach/outputs/2024-02-23/20-14-48 Town: ['/home/shubham/Desktop/git/carla-roach/outputs/2024-02-23/20-14-48/videos/custom_LeaderBoard-v0_Town02_None_new']\n",
      "Folder: /home/shubham/Desktop/git/carla-roach/outputs/2024-03-01/06-04-55 Town: ['/home/shubham/Desktop/git/carla-roach/outputs/2024-03-01/06-04-55/videos/custom_LeaderBoard-v0_Town05_None_new']\n",
      "Folder: /home/shubham/Desktop/git/carla-roach/outputs/2024-02-24/20-32-45 Town: ['/home/shubham/Desktop/git/carla-roach/outputs/2024-02-24/20-32-45/videos/custom_LeaderBoard-v0_Town05_None_new']\n",
      "Folder: /home/shubham/Desktop/git/carla-roach/outputs/2024-02-24/02-42-36 Town: ['/home/shubham/Desktop/git/carla-roach/outputs/2024-02-24/02-42-36/videos/custom_LeaderBoard-v0_Town05_None_new']\n",
      "Folder: /home/shubham/Desktop/git/carla-roach/outputs/2024-02-24/12-01-48 Town: ['/home/shubham/Desktop/git/carla-roach/outputs/2024-02-24/12-01-48/videos/custom_LeaderBoard-v0_Town02_None_new']\n",
      "Folder: /home/shubham/Desktop/git/carla-roach/outputs/2024-02-24/14-13-21 Town: ['/home/shubham/Desktop/git/carla-roach/outputs/2024-02-24/14-13-21/videos/custom_LeaderBoard-v0_Town04_test_new']\n",
      "Folder: /home/shubham/Desktop/git/carla-roach/outputs/2024-02-27/23-13-55 Town: ['/home/shubham/Desktop/git/carla-roach/outputs/2024-02-27/23-13-55/videos/custom_LeaderBoard-v0_Town02_None_new']\n",
      "Folder: /home/shubham/Desktop/git/carla-roach/outputs/2024-02-28/18-48-48 Town: ['/home/shubham/Desktop/git/carla-roach/outputs/2024-02-28/18-48-48/videos/custom_LeaderBoard-v0_Town04_test_new']\n",
      "Folder: /home/shubham/Desktop/git/carla-roach/outputs/2024-02-28/01-14-31 Town: ['/home/shubham/Desktop/git/carla-roach/outputs/2024-02-28/01-14-31/videos/custom_LeaderBoard-v0_Town04_test_new']\n",
      "Folder: /home/shubham/Desktop/git/carla-roach/outputs/2024-02-28/16-17-23 Town: ['/home/shubham/Desktop/git/carla-roach/outputs/2024-02-28/16-17-23/videos/custom_LeaderBoard-v0_Town02_None_new']\n",
      "Folder: /home/shubham/Desktop/git/carla-roach/outputs/2024-02-28/07-15-11 Town: ['/home/shubham/Desktop/git/carla-roach/outputs/2024-02-28/07-15-11/videos/custom_LeaderBoard-v0_Town05_None_new']\n"
     ]
    }
   ],
   "source": [
    "from os.path import isdir, exists\n",
    "import yaml\n",
    "\n",
    "query_model = '20240130_094844Dino_oneD2_e12'\n",
    "query_model = '20240204_170347Dino_oneD5_e12'\n",
    "main_address = '/home/shubham/Desktop/git/carla-roach/outputs/'\n",
    "for day in glob(join(main_address, '*')):\n",
    "    if isdir(day) and (day.split('/')[-1] != 'jointly_made'):\n",
    "        for hour in glob(join(day,'*')):\n",
    "            configfile = join(hour, 'config_agent.yaml')\n",
    "            if exists(configfile):\n",
    "                # Read YAML file\n",
    "                with open(configfile, 'r') as stream:\n",
    "                    config = yaml.safe_load(stream)\n",
    "                if 'ckpt' in config and query_model in config['ckpt']:\n",
    "                    # This line is to stop printing TT folders, and only print NN\n",
    "                    if len(glob(join(hour,'videos/*')))>0 and 'eval' not in glob(join(hour,'videos/*'))[0]:\n",
    "                        print(f\"Folder: {hour} Town: {glob(join(hour,'videos/*'))}\")\n",
    "\n"
   ]
  },
  {
   "cell_type": "code",
   "execution_count": null,
   "id": "1539a080",
   "metadata": {},
   "outputs": [],
   "source": []
  },
  {
   "cell_type": "markdown",
   "id": "bd8d8c65",
   "metadata": {},
   "source": [
    "## TT"
   ]
  },
  {
   "cell_type": "markdown",
   "id": "6d3cc4e7",
   "metadata": {},
   "source": [
    "## Dino Dagger 5 SEED 2021"
   ]
  },
  {
   "cell_type": "code",
   "execution_count": 7,
   "id": "3b737409",
   "metadata": {},
   "outputs": [
    {
     "name": "stdout",
     "output_type": "stream",
     "text": [
      "Score: 19/20\n",
      "Score: 28/40\n",
      "Score: 14/20\n",
      "Score: 14/20\n"
     ]
    },
    {
     "data": {
      "text/plain": [
       "75.0"
      ]
     },
     "execution_count": 7,
     "metadata": {},
     "output_type": "execute_result"
    }
   ],
   "source": [
    "list_of_addresses = [\n",
    "    '/home/shubham/Desktop/git/carla-roach/outputs/2024-05-14/23-16-41',\n",
    "    '/home/shubham/Desktop/git/carla-roach/outputs/2024-05-15/02-14-45',\n",
    "    '/home/shubham/Desktop/git/carla-roach/outputs/2024-05-15/08-50-02',\n",
    "    '/home/shubham/Desktop/git/carla-roach/outputs/2024-05-15/13-54-23',\n",
    "]\n",
    "calc_success_rate(list_of_addresses)\n"
   ]
  },
  {
   "cell_type": "code",
   "execution_count": 8,
   "id": "3d474bb8",
   "metadata": {},
   "outputs": [
    {
     "data": {
      "text/plain": [
       "86.99400171617417"
      ]
     },
     "execution_count": 8,
     "metadata": {},
     "output_type": "execute_result"
    }
   ],
   "source": [
    "list_of_addresses = [\n",
    "    '/home/shubham/Desktop/git/carla-roach/outputs/2024-05-14/23-16-41',\n",
    "    '/home/shubham/Desktop/git/carla-roach/outputs/2024-05-15/02-14-45',\n",
    "    '/home/shubham/Desktop/git/carla-roach/outputs/2024-05-15/08-50-02',\n",
    "    '/home/shubham/Desktop/git/carla-roach/outputs/2024-05-15/13-54-23',\n",
    "]\n",
    "route_completion_ratio(list_of_addresses)"
   ]
  },
  {
   "cell_type": "code",
   "execution_count": null,
   "id": "cac476b8",
   "metadata": {},
   "outputs": [],
   "source": []
  },
  {
   "cell_type": "markdown",
   "id": "965a6d27",
   "metadata": {},
   "source": [
    "## Dino Dagger 5 SEED 2022"
   ]
  },
  {
   "cell_type": "code",
   "execution_count": 9,
   "id": "303c1351",
   "metadata": {},
   "outputs": [
    {
     "name": "stdout",
     "output_type": "stream",
     "text": [
      "Score: 19/20\n",
      "Score: 28/40\n",
      "Score: 14/20\n",
      "Score: 14/20\n"
     ]
    },
    {
     "data": {
      "text/plain": [
       "75.0"
      ]
     },
     "execution_count": 9,
     "metadata": {},
     "output_type": "execute_result"
    }
   ],
   "source": [
    "list_of_addresses = [\n",
    "    '/home/shubham/Desktop/git/carla-roach/outputs/2024-05-15/21-54-56',\n",
    "    '/home/shubham/Desktop/git/carla-roach/outputs/2024-05-16/00-42-13',\n",
    "    '/home/shubham/Desktop/git/carla-roach/outputs/2024-05-16/07-00-59',\n",
    "    '/home/shubham/Desktop/git/carla-roach/outputs/2024-05-16/12-19-05',\n",
    "]\n",
    "calc_success_rate(list_of_addresses)\n"
   ]
  },
  {
   "cell_type": "code",
   "execution_count": 10,
   "id": "099d0f31",
   "metadata": {},
   "outputs": [
    {
     "data": {
      "text/plain": [
       "86.77594665517235"
      ]
     },
     "execution_count": 10,
     "metadata": {},
     "output_type": "execute_result"
    }
   ],
   "source": [
    "list_of_addresses = [\n",
    "    '/home/shubham/Desktop/git/carla-roach/outputs/2024-05-15/21-54-56',\n",
    "    '/home/shubham/Desktop/git/carla-roach/outputs/2024-05-16/00-42-13',\n",
    "    '/home/shubham/Desktop/git/carla-roach/outputs/2024-05-16/07-00-59',\n",
    "    '/home/shubham/Desktop/git/carla-roach/outputs/2024-05-16/12-19-05',\n",
    "]\n",
    "route_completion_ratio(list_of_addresses)"
   ]
  },
  {
   "cell_type": "code",
   "execution_count": null,
   "id": "587e0e37",
   "metadata": {},
   "outputs": [],
   "source": []
  },
  {
   "cell_type": "markdown",
   "id": "420fcd1c",
   "metadata": {},
   "source": [
    "## Dino Dagger 5 SEED 2023"
   ]
  },
  {
   "cell_type": "code",
   "execution_count": 11,
   "id": "b190929a",
   "metadata": {},
   "outputs": [
    {
     "name": "stdout",
     "output_type": "stream",
     "text": [
      "Score: 19/20\n",
      "Score: 25/40\n",
      "Score: 12/20\n",
      "Score: 12/20\n"
     ]
    },
    {
     "data": {
      "text/plain": [
       "68.0"
      ]
     },
     "execution_count": 11,
     "metadata": {},
     "output_type": "execute_result"
    }
   ],
   "source": [
    "list_of_addresses = [\n",
    "    '/home/shubham/Desktop/git/carla-roach/outputs/2024-05-16/16-55-10',\n",
    "    '/home/shubham/Desktop/git/carla-roach/outputs/2024-05-16/19-55-07',\n",
    "    '/home/shubham/Desktop/git/carla-roach/outputs/2024-05-17/02-03-26',\n",
    "    '/home/shubham/Desktop/git/carla-roach/outputs/2024-05-17/06-57-17',\n",
    "]\n",
    "calc_success_rate(list_of_addresses)\n"
   ]
  },
  {
   "cell_type": "code",
   "execution_count": 12,
   "id": "7eb4566c",
   "metadata": {},
   "outputs": [
    {
     "data": {
      "text/plain": [
       "84.35272249149152"
      ]
     },
     "execution_count": 12,
     "metadata": {},
     "output_type": "execute_result"
    }
   ],
   "source": [
    "list_of_addresses = [\n",
    "    '/home/shubham/Desktop/git/carla-roach/outputs/2024-05-16/16-55-10',\n",
    "    '/home/shubham/Desktop/git/carla-roach/outputs/2024-05-16/19-55-07',\n",
    "    '/home/shubham/Desktop/git/carla-roach/outputs/2024-05-17/02-03-26',\n",
    "    '/home/shubham/Desktop/git/carla-roach/outputs/2024-05-17/06-57-17',]\n",
    "route_completion_ratio(list_of_addresses)"
   ]
  },
  {
   "cell_type": "code",
   "execution_count": null,
   "id": "04bb95a5",
   "metadata": {},
   "outputs": [],
   "source": []
  },
  {
   "cell_type": "markdown",
   "id": "0c0b8351",
   "metadata": {},
   "source": [
    "## Dino Dagger 4 SEED 2021"
   ]
  },
  {
   "cell_type": "code",
   "execution_count": 19,
   "id": "8d77e8b1",
   "metadata": {},
   "outputs": [
    {
     "name": "stdout",
     "output_type": "stream",
     "text": [
      "Score: 18/20\n",
      "Score: 25/40\n",
      "Score: 14/20\n",
      "Score: 10/20\n"
     ]
    },
    {
     "data": {
      "text/plain": [
       "67.0"
      ]
     },
     "execution_count": 19,
     "metadata": {},
     "output_type": "execute_result"
    }
   ],
   "source": [
    "list_of_addresses = [\n",
    "    '/home/shubham/Desktop/git/carla-roach/outputs/2024-05-18/02-03-34',\n",
    "    '/home/shubham/Desktop/git/carla-roach/outputs/2024-05-18/04-54-35',\n",
    "    '/home/shubham/Desktop/git/carla-roach/outputs/2024-05-18/11-15-10',\n",
    "    '/home/shubham/Desktop/git/carla-roach/outputs/2024-05-18/16-37-45'\n",
    "]\n",
    "\n",
    "calc_success_rate(list_of_addresses)\n"
   ]
  },
  {
   "cell_type": "code",
   "execution_count": 20,
   "id": "af560970",
   "metadata": {},
   "outputs": [
    {
     "data": {
      "text/plain": [
       "81.60870387607442"
      ]
     },
     "execution_count": 20,
     "metadata": {},
     "output_type": "execute_result"
    }
   ],
   "source": [
    "list_of_addresses = [\n",
    "    '/home/shubham/Desktop/git/carla-roach/outputs/2024-05-18/02-03-34',\n",
    "    '/home/shubham/Desktop/git/carla-roach/outputs/2024-05-18/04-54-35',\n",
    "    '/home/shubham/Desktop/git/carla-roach/outputs/2024-05-18/11-15-10',\n",
    "    '/home/shubham/Desktop/git/carla-roach/outputs/2024-05-18/16-37-45'\n",
    "]\n",
    "route_completion_ratio(list_of_addresses)"
   ]
  },
  {
   "cell_type": "markdown",
   "id": "e277a152",
   "metadata": {},
   "source": [
    "## Dino Dagger 4 SEED 2022"
   ]
  },
  {
   "cell_type": "code",
   "execution_count": 17,
   "id": "2343ae9e",
   "metadata": {},
   "outputs": [
    {
     "name": "stdout",
     "output_type": "stream",
     "text": [
      "Score: 17/20\n",
      "Score: 25/40\n",
      "Score: 11/20\n",
      "Score: 15/20\n"
     ]
    },
    {
     "data": {
      "text/plain": [
       "68.0"
      ]
     },
     "execution_count": 17,
     "metadata": {},
     "output_type": "execute_result"
    }
   ],
   "source": [
    "list_of_addresses = [\n",
    "    '/home/shubham/Desktop/git/carla-roach/outputs/2024-05-18/21-06-15',\n",
    "    '/home/shubham/Desktop/git/carla-roach/outputs/2024-05-19/00-06-16',\n",
    "    '/home/shubham/Desktop/git/carla-roach/outputs/2024-05-19/06-34-06',\n",
    "    '/home/shubham/Desktop/git/carla-roach/outputs/2024-05-19/11-15-04'\n",
    "]\n",
    "calc_success_rate(list_of_addresses)\n"
   ]
  },
  {
   "cell_type": "code",
   "execution_count": 18,
   "id": "cb3360a3",
   "metadata": {},
   "outputs": [
    {
     "data": {
      "text/plain": [
       "85.20464920084086"
      ]
     },
     "execution_count": 18,
     "metadata": {},
     "output_type": "execute_result"
    }
   ],
   "source": [
    "list_of_addresses = [\n",
    "    '/home/shubham/Desktop/git/carla-roach/outputs/2024-05-18/21-06-15',\n",
    "    '/home/shubham/Desktop/git/carla-roach/outputs/2024-05-19/00-06-16',\n",
    "    '/home/shubham/Desktop/git/carla-roach/outputs/2024-05-19/06-34-06',\n",
    "    '/home/shubham/Desktop/git/carla-roach/outputs/2024-05-19/11-15-04'\n",
    "]\n",
    "route_completion_ratio(list_of_addresses)"
   ]
  },
  {
   "cell_type": "code",
   "execution_count": null,
   "id": "1d1fcdb1",
   "metadata": {},
   "outputs": [],
   "source": []
  },
  {
   "cell_type": "markdown",
   "id": "ec971f96",
   "metadata": {},
   "source": [
    "## Dino Dagger 4 SEED 2023"
   ]
  },
  {
   "cell_type": "code",
   "execution_count": 15,
   "id": "cf4fab55",
   "metadata": {},
   "outputs": [
    {
     "name": "stdout",
     "output_type": "stream",
     "text": [
      "Score: 18/20\n",
      "Score: 27/40\n",
      "Score: 9/20\n",
      "Score: 13/20\n"
     ]
    },
    {
     "data": {
      "text/plain": [
       "67.0"
      ]
     },
     "execution_count": 15,
     "metadata": {},
     "output_type": "execute_result"
    }
   ],
   "source": [
    "list_of_addresses = [\n",
    "    '/home/shubham/Desktop/git/carla-roach/outputs/2024-05-19/16-25-02',\n",
    "    '/home/shubham/Desktop/git/carla-roach/outputs/2024-05-19/19-26-31',\n",
    "    '/home/shubham/Desktop/git/carla-roach/outputs/2024-05-20/01-55-43',\n",
    "    '/home/shubham/Desktop/git/carla-roach/outputs/2024-05-20/07-09-09',\n",
    "]\n",
    "calc_success_rate(list_of_addresses)\n"
   ]
  },
  {
   "cell_type": "code",
   "execution_count": 16,
   "id": "f46f3d26",
   "metadata": {},
   "outputs": [
    {
     "data": {
      "text/plain": [
       "85.15966549727078"
      ]
     },
     "execution_count": 16,
     "metadata": {},
     "output_type": "execute_result"
    }
   ],
   "source": [
    "list_of_addresses = [\n",
    "    '/home/shubham/Desktop/git/carla-roach/outputs/2024-05-19/16-25-02',\n",
    "    '/home/shubham/Desktop/git/carla-roach/outputs/2024-05-19/19-26-31',\n",
    "    '/home/shubham/Desktop/git/carla-roach/outputs/2024-05-20/01-55-43',\n",
    "    '/home/shubham/Desktop/git/carla-roach/outputs/2024-05-20/07-09-09',\n",
    "]\n",
    "\n",
    "route_completion_ratio(list_of_addresses)"
   ]
  },
  {
   "cell_type": "code",
   "execution_count": null,
   "id": "8f56e68e",
   "metadata": {},
   "outputs": [],
   "source": []
  },
  {
   "cell_type": "markdown",
   "id": "bbeeb621",
   "metadata": {},
   "source": [
    "## Dino Dagger 3 SEED 2021"
   ]
  },
  {
   "cell_type": "code",
   "execution_count": 21,
   "id": "97f783ba",
   "metadata": {},
   "outputs": [
    {
     "name": "stdout",
     "output_type": "stream",
     "text": [
      "Score: 19/20\n",
      "Score: 24/40\n",
      "Score: 13/20\n",
      "Score: 11/20\n"
     ]
    },
    {
     "data": {
      "text/plain": [
       "67.0"
      ]
     },
     "execution_count": 21,
     "metadata": {},
     "output_type": "execute_result"
    }
   ],
   "source": [
    "list_of_addresses = [\n",
    "    '/home/shubham/Desktop/git/carla-roach/outputs/2024-05-20/23-29-16',\n",
    "    '/home/shubham/Desktop/git/carla-roach/outputs/2024-05-21/02-30-18',\n",
    "    '/home/shubham/Desktop/git/carla-roach/outputs/2024-05-21/08-34-24',\n",
    "    '/home/shubham/Desktop/git/carla-roach/outputs/2024-05-21/13-33-07',\n",
    "]\n",
    "calc_success_rate(list_of_addresses)\n"
   ]
  },
  {
   "cell_type": "code",
   "execution_count": 22,
   "id": "ce47bfd3",
   "metadata": {},
   "outputs": [
    {
     "data": {
      "text/plain": [
       "82.61545655817052"
      ]
     },
     "execution_count": 22,
     "metadata": {},
     "output_type": "execute_result"
    }
   ],
   "source": [
    "list_of_addresses = [\n",
    "    '/home/shubham/Desktop/git/carla-roach/outputs/2024-05-20/23-29-16',\n",
    "    '/home/shubham/Desktop/git/carla-roach/outputs/2024-05-21/02-30-18',\n",
    "    '/home/shubham/Desktop/git/carla-roach/outputs/2024-05-21/08-34-24',\n",
    "    '/home/shubham/Desktop/git/carla-roach/outputs/2024-05-21/13-33-07',\n",
    "]\n",
    "\n",
    "route_completion_ratio(list_of_addresses)"
   ]
  },
  {
   "cell_type": "code",
   "execution_count": null,
   "id": "3a7bdcee",
   "metadata": {},
   "outputs": [],
   "source": []
  },
  {
   "cell_type": "markdown",
   "id": "c6e79c95",
   "metadata": {},
   "source": [
    "## Dino Dagger 3 SEED 2022"
   ]
  },
  {
   "cell_type": "code",
   "execution_count": 9,
   "id": "2af117d9",
   "metadata": {},
   "outputs": [
    {
     "name": "stdout",
     "output_type": "stream",
     "text": [
      "Score: 17/20\n",
      "Score: 28/40\n",
      "Score: 13/20\n",
      "Score: 10/20\n"
     ]
    },
    {
     "data": {
      "text/plain": [
       "68.0"
      ]
     },
     "execution_count": 9,
     "metadata": {},
     "output_type": "execute_result"
    }
   ],
   "source": [
    "list_of_addresses = [\n",
    "    \"/home/shubham/Desktop/git/carla-roach/outputs/2024-05-24/19-06-47\",\n",
    "    \"/home/shubham/Desktop/git/carla-roach/outputs/jointly_made/2024-05-24/21-48-27\",\n",
    "    \"/home/shubham/Desktop/git/carla-roach/outputs/2024-05-25/03-58-23\",\n",
    "    \"/home/shubham/Desktop/git/carla-roach/outputs/2024-05-25/08-34-03\"\n",
    "]\n",
    "calc_success_rate(list_of_addresses)\n"
   ]
  },
  {
   "cell_type": "code",
   "execution_count": 8,
   "id": "727ce2a4",
   "metadata": {},
   "outputs": [
    {
     "data": {
      "text/plain": [
       "82.85605038078204"
      ]
     },
     "execution_count": 8,
     "metadata": {},
     "output_type": "execute_result"
    }
   ],
   "source": [
    "list_of_addresses = [\n",
    "    \"/home/shubham/Desktop/git/carla-roach/outputs/2024-05-24/19-06-47\",\n",
    "    \"/home/shubham/Desktop/git/carla-roach/outputs/jointly_made/2024-05-24/21-48-27\",\n",
    "    \"/home/shubham/Desktop/git/carla-roach/outputs/2024-05-25/03-58-23\",\n",
    "    \"/home/shubham/Desktop/git/carla-roach/outputs/2024-05-25/08-34-03\"\n",
    "]\n",
    "\n",
    "route_completion_ratio(list_of_addresses)"
   ]
  },
  {
   "cell_type": "markdown",
   "id": "bfe36d90",
   "metadata": {},
   "source": [
    "## Dino Dagger 3 SEED 2023"
   ]
  },
  {
   "cell_type": "code",
   "execution_count": 6,
   "id": "72892959",
   "metadata": {},
   "outputs": [
    {
     "name": "stdout",
     "output_type": "stream",
     "text": [
      "Score: 18/20\n",
      "Score: 25/40\n",
      "Score: 15/20\n",
      "Score: 9/20\n"
     ]
    },
    {
     "data": {
      "text/plain": [
       "67.0"
      ]
     },
     "execution_count": 6,
     "metadata": {},
     "output_type": "execute_result"
    }
   ],
   "source": [
    "list_of_addresses = [\n",
    "    \"/home/shubham/Desktop/git/carla-roach/outputs/2024-05-25/13-10-35\",\n",
    "    \"/home/shubham/Desktop/git/carla-roach/outputs/2024-05-25/16-04-31\",\n",
    "    \"/home/shubham/Desktop/git/carla-roach/outputs/2024-05-25/22-04-15\",\n",
    "    \"/home/shubham/Desktop/git/carla-roach/outputs/2024-05-26/03-00-42\"\n",
    "]\n",
    "calc_success_rate(list_of_addresses)\n"
   ]
  },
  {
   "cell_type": "code",
   "execution_count": 7,
   "id": "50fdb7d4",
   "metadata": {},
   "outputs": [
    {
     "data": {
      "text/plain": [
       "82.29620507448767"
      ]
     },
     "execution_count": 7,
     "metadata": {},
     "output_type": "execute_result"
    }
   ],
   "source": [
    "list_of_addresses = [\n",
    "    \"/home/shubham/Desktop/git/carla-roach/outputs/2024-05-25/13-10-35\",\n",
    "    \"/home/shubham/Desktop/git/carla-roach/outputs/2024-05-25/16-04-31\",\n",
    "    \"/home/shubham/Desktop/git/carla-roach/outputs/2024-05-25/22-04-15\",\n",
    "    \"/home/shubham/Desktop/git/carla-roach/outputs/2024-05-26/03-00-42\"\n",
    "]\n",
    "\n",
    "route_completion_ratio(list_of_addresses)"
   ]
  },
  {
   "cell_type": "markdown",
   "id": "e4e23f23",
   "metadata": {},
   "source": [
    "## Dino Dagger 2 SEED 2021"
   ]
  },
  {
   "cell_type": "code",
   "execution_count": 7,
   "id": "16ddadf4",
   "metadata": {},
   "outputs": [
    {
     "name": "stdout",
     "output_type": "stream",
     "text": [
      "Score: 17/20\n",
      "Score: 31/40\n",
      "Score: 10/20\n",
      "Score: 13/20\n"
     ]
    },
    {
     "data": {
      "text/plain": [
       "71.0"
      ]
     },
     "execution_count": 7,
     "metadata": {},
     "output_type": "execute_result"
    }
   ],
   "source": [
    "list_of_addresses = [\n",
    "    '/home/shubham/Desktop/git/carla-roach/outputs/2024-05-26/18-15-38',\n",
    "    '/home/shubham/Desktop/git/carla-roach/outputs/2024-05-26/21-18-16',\n",
    "    '/home/shubham/Desktop/git/carla-roach/outputs/2024-05-27/03-11-38',\n",
    "    '/home/shubham/Desktop/git/carla-roach/outputs/2024-05-27/08-20-01'\n",
    "]\n",
    "calc_success_rate(list_of_addresses)\n"
   ]
  },
  {
   "cell_type": "code",
   "execution_count": 8,
   "id": "b6f1cbcc",
   "metadata": {},
   "outputs": [
    {
     "data": {
      "text/plain": [
       "84.47311528836094"
      ]
     },
     "execution_count": 8,
     "metadata": {},
     "output_type": "execute_result"
    }
   ],
   "source": [
    "list_of_addresses = [\n",
    "    '/home/shubham/Desktop/git/carla-roach/outputs/2024-05-26/18-15-38',\n",
    "    '/home/shubham/Desktop/git/carla-roach/outputs/2024-05-26/21-18-16',\n",
    "    '/home/shubham/Desktop/git/carla-roach/outputs/2024-05-27/03-11-38',\n",
    "    '/home/shubham/Desktop/git/carla-roach/outputs/2024-05-27/08-20-01'\n",
    "]\n",
    "\n",
    "route_completion_ratio(list_of_addresses)"
   ]
  },
  {
   "cell_type": "markdown",
   "id": "7bbdc24f",
   "metadata": {},
   "source": [
    "## Dino Dagger 2 SEED 2022"
   ]
  },
  {
   "cell_type": "code",
   "execution_count": 9,
   "id": "1ba31f4c",
   "metadata": {},
   "outputs": [
    {
     "name": "stdout",
     "output_type": "stream",
     "text": [
      "Score: 17/20\n",
      "Score: 28/40\n",
      "Score: 10/20\n",
      "Score: 15/20\n"
     ]
    },
    {
     "data": {
      "text/plain": [
       "70.0"
      ]
     },
     "execution_count": 9,
     "metadata": {},
     "output_type": "execute_result"
    }
   ],
   "source": [
    "list_of_addresses = [\n",
    "    '/home/shubham/Desktop/git/carla-roach/outputs/2024-05-27/12-46-04',\n",
    "    '/home/shubham/Desktop/git/carla-roach/outputs/2024-05-27/15-47-47',\n",
    "    '/home/shubham/Desktop/git/carla-roach/outputs/2024-05-27/21-57-05',\n",
    "    '/home/shubham/Desktop/git/carla-roach/outputs/2024-05-28/02-57-16'\n",
    "]\n",
    "calc_success_rate(list_of_addresses)\n"
   ]
  },
  {
   "cell_type": "code",
   "execution_count": 10,
   "id": "518b439b",
   "metadata": {},
   "outputs": [
    {
     "data": {
      "text/plain": [
       "86.01028155694951"
      ]
     },
     "execution_count": 10,
     "metadata": {},
     "output_type": "execute_result"
    }
   ],
   "source": [
    "list_of_addresses = [\n",
    "    '/home/shubham/Desktop/git/carla-roach/outputs/2024-05-27/12-46-04',\n",
    "    '/home/shubham/Desktop/git/carla-roach/outputs/2024-05-27/15-47-47',\n",
    "    '/home/shubham/Desktop/git/carla-roach/outputs/2024-05-27/21-57-05',\n",
    "    '/home/shubham/Desktop/git/carla-roach/outputs/2024-05-28/02-57-16'\n",
    "]\n",
    "\n",
    "route_completion_ratio(list_of_addresses)"
   ]
  },
  {
   "cell_type": "markdown",
   "id": "e51f4646",
   "metadata": {},
   "source": [
    "## Dino Dagger 2 SEED 2023"
   ]
  },
  {
   "cell_type": "code",
   "execution_count": 11,
   "id": "d72281a0",
   "metadata": {},
   "outputs": [
    {
     "name": "stdout",
     "output_type": "stream",
     "text": [
      "Score: 17/20\n",
      "Score: 28/40\n",
      "Score: 13/20\n",
      "Score: 17/20\n"
     ]
    },
    {
     "data": {
      "text/plain": [
       "75.0"
      ]
     },
     "execution_count": 11,
     "metadata": {},
     "output_type": "execute_result"
    }
   ],
   "source": [
    "list_of_addresses = [\n",
    "    '/home/shubham/Desktop/git/carla-roach/outputs/2024-05-28/07-52-04',\n",
    "    '/home/shubham/Desktop/git/carla-roach/outputs/2024-05-28/10-44-36',\n",
    "    '/home/shubham/Desktop/git/carla-roach/outputs/2024-05-28/17-28-25',\n",
    "    '/home/shubham/Desktop/git/carla-roach/outputs/2024-05-28/22-11-02'\n",
    "]\n",
    "calc_success_rate(list_of_addresses)\n"
   ]
  },
  {
   "cell_type": "code",
   "execution_count": 12,
   "id": "02dd8da8",
   "metadata": {},
   "outputs": [
    {
     "data": {
      "text/plain": [
       "87.23503170731414"
      ]
     },
     "execution_count": 12,
     "metadata": {},
     "output_type": "execute_result"
    }
   ],
   "source": [
    "list_of_addresses = [\n",
    "    '/home/shubham/Desktop/git/carla-roach/outputs/2024-05-28/07-52-04',\n",
    "    '/home/shubham/Desktop/git/carla-roach/outputs/2024-05-28/10-44-36',\n",
    "    '/home/shubham/Desktop/git/carla-roach/outputs/2024-05-28/17-28-25',\n",
    "    '/home/shubham/Desktop/git/carla-roach/outputs/2024-05-28/22-11-02'\n",
    "]\n",
    "\n",
    "route_completion_ratio(list_of_addresses)"
   ]
  },
  {
   "cell_type": "markdown",
   "id": "6a7da64d",
   "metadata": {},
   "source": [
    "## Dino Dagger 1 SEED 2021"
   ]
  },
  {
   "cell_type": "code",
   "execution_count": 18,
   "id": "9598f36a",
   "metadata": {},
   "outputs": [
    {
     "name": "stdout",
     "output_type": "stream",
     "text": [
      "Score: 18/20\n",
      "Score: 17/40\n",
      "Score: 9/20\n",
      "Score: 9/20\n"
     ]
    },
    {
     "data": {
      "text/plain": [
       "53.0"
      ]
     },
     "execution_count": 18,
     "metadata": {},
     "output_type": "execute_result"
    }
   ],
   "source": [
    "list_of_addresses = [\n",
    "    '/home/shubham/Desktop/git/carla-roach/outputs/2024-05-31/19-41-18',\n",
    "    '/home/shubham/Desktop/git/carla-roach/outputs/2024-05-31/22-49-41',\n",
    "    '/home/shubham/Desktop/git/carla-roach/outputs/2024-06-01/04-01-03',\n",
    "    '/home/shubham/Desktop/git/carla-roach/outputs/2024-06-01/07-45-55'\n",
    "]\n",
    "calc_success_rate(list_of_addresses)\n"
   ]
  },
  {
   "cell_type": "code",
   "execution_count": 19,
   "id": "1ec3a9e0",
   "metadata": {},
   "outputs": [
    {
     "data": {
      "text/plain": [
       "71.62096971221767"
      ]
     },
     "execution_count": 19,
     "metadata": {},
     "output_type": "execute_result"
    }
   ],
   "source": [
    "list_of_addresses = [\n",
    "    '/home/shubham/Desktop/git/carla-roach/outputs/2024-05-31/19-41-18',\n",
    "    '/home/shubham/Desktop/git/carla-roach/outputs/2024-05-31/22-49-41',\n",
    "    '/home/shubham/Desktop/git/carla-roach/outputs/2024-06-01/04-01-03',\n",
    "    '/home/shubham/Desktop/git/carla-roach/outputs/2024-06-01/07-45-55'\n",
    "]\n",
    "\n",
    "route_completion_ratio(list_of_addresses)"
   ]
  },
  {
   "cell_type": "markdown",
   "id": "6831ba95",
   "metadata": {},
   "source": [
    "## Dino Dagger 1 SEED 2022"
   ]
  },
  {
   "cell_type": "code",
   "execution_count": 17,
   "id": "471d608a",
   "metadata": {},
   "outputs": [
    {
     "name": "stdout",
     "output_type": "stream",
     "text": [
      "Score: 16/20\n",
      "Score: 22/40\n",
      "Score: 8/20\n",
      "Score: 12/20\n"
     ]
    },
    {
     "data": {
      "text/plain": [
       "57.99999999999999"
      ]
     },
     "execution_count": 17,
     "metadata": {},
     "output_type": "execute_result"
    }
   ],
   "source": [
    "list_of_addresses = [\n",
    "    '/home/shubham/Desktop/git/carla-roach/outputs/2024-06-01/12-14-57',\n",
    "    '/home/shubham/Desktop/git/carla-roach/outputs/2024-06-01/15-17-01',\n",
    "    '/home/shubham/Desktop/git/carla-roach/outputs/2024-06-01/21-06-53',\n",
    "    '/home/shubham/Desktop/git/carla-roach/outputs/2024-06-02/00-57-57'\n",
    "]\n",
    "calc_success_rate(list_of_addresses)\n"
   ]
  },
  {
   "cell_type": "code",
   "execution_count": 16,
   "id": "ec7607ac",
   "metadata": {},
   "outputs": [
    {
     "data": {
      "text/plain": [
       "71.24067007959113"
      ]
     },
     "execution_count": 16,
     "metadata": {},
     "output_type": "execute_result"
    }
   ],
   "source": [
    "list_of_addresses = [\n",
    "    '/home/shubham/Desktop/git/carla-roach/outputs/2024-06-01/12-14-57',\n",
    "    '/home/shubham/Desktop/git/carla-roach/outputs/2024-06-01/15-17-01',\n",
    "    '/home/shubham/Desktop/git/carla-roach/outputs/2024-06-01/21-06-53',\n",
    "    '/home/shubham/Desktop/git/carla-roach/outputs/2024-06-02/00-57-57'\n",
    "]\n",
    "\n",
    "route_completion_ratio(list_of_addresses)"
   ]
  },
  {
   "cell_type": "markdown",
   "id": "137af557",
   "metadata": {},
   "source": [
    "## Dino Dagger 1 SEED 2023"
   ]
  },
  {
   "cell_type": "code",
   "execution_count": 14,
   "id": "9c61d9de",
   "metadata": {},
   "outputs": [
    {
     "name": "stdout",
     "output_type": "stream",
     "text": [
      "Score: 16/20\n",
      "Score: 21/40\n",
      "Score: 10/20\n",
      "Score: 11/20\n"
     ]
    },
    {
     "data": {
      "text/plain": [
       "57.99999999999999"
      ]
     },
     "execution_count": 14,
     "metadata": {},
     "output_type": "execute_result"
    }
   ],
   "source": [
    "list_of_addresses = [\n",
    "    '/home/shubham/Desktop/git/carla-roach/outputs/2024-06-02/05-39-01',\n",
    "    '/home/shubham/Desktop/git/carla-roach/outputs/2024-06-02/08-41-57',\n",
    "    '/home/shubham/Desktop/git/carla-roach/outputs/2024-06-02/14-49-41',\n",
    "    '/home/shubham/Desktop/git/carla-roach/outputs/2024-06-02/18-57-55'\n",
    "]\n",
    "calc_success_rate(list_of_addresses)\n"
   ]
  },
  {
   "cell_type": "code",
   "execution_count": 15,
   "id": "b968a6b8",
   "metadata": {},
   "outputs": [
    {
     "data": {
      "text/plain": [
       "75.93592996619797"
      ]
     },
     "execution_count": 15,
     "metadata": {},
     "output_type": "execute_result"
    }
   ],
   "source": [
    "list_of_addresses = [\n",
    "    '/home/shubham/Desktop/git/carla-roach/outputs/2024-06-02/05-39-01',\n",
    "    '/home/shubham/Desktop/git/carla-roach/outputs/2024-06-02/08-41-57',\n",
    "    '/home/shubham/Desktop/git/carla-roach/outputs/2024-06-02/14-49-41',\n",
    "    '/home/shubham/Desktop/git/carla-roach/outputs/2024-06-02/18-57-55'\n",
    "]\n",
    "\n",
    "route_completion_ratio(list_of_addresses)"
   ]
  },
  {
   "cell_type": "markdown",
   "id": "d5aeaef8",
   "metadata": {},
   "source": [
    "## Dino Dagger 0 SEED 2021"
   ]
  },
  {
   "cell_type": "code",
   "execution_count": 25,
   "id": "1f2da01e",
   "metadata": {},
   "outputs": [
    {
     "name": "stdout",
     "output_type": "stream",
     "text": [
      "Score: 11/20\n",
      "Score: 14/40\n",
      "Score: 3/20\n",
      "Score: 3/20\n"
     ]
    },
    {
     "data": {
      "text/plain": [
       "31.0"
      ]
     },
     "execution_count": 25,
     "metadata": {},
     "output_type": "execute_result"
    }
   ],
   "source": [
    "list_of_addresses = [\n",
    "    '/home/shubham/Desktop/git/carla-roach/outputs/2024-06-06/18-24-58',\n",
    "    '/home/shubham/Desktop/git/carla-roach/outputs/2024-06-06/21-07-03',\n",
    "    '/home/shubham/Desktop/git/carla-roach/outputs/2024-06-07/01-53-29',\n",
    "    '/home/shubham/Desktop/git/carla-roach/outputs/2024-06-07/05-12-59'\n",
    "]\n",
    "calc_success_rate(list_of_addresses)\n"
   ]
  },
  {
   "cell_type": "code",
   "execution_count": 24,
   "id": "918d1839",
   "metadata": {},
   "outputs": [
    {
     "data": {
      "text/plain": [
       "56.72069244683963"
      ]
     },
     "execution_count": 24,
     "metadata": {},
     "output_type": "execute_result"
    }
   ],
   "source": [
    "list_of_addresses = [\n",
    "    '/home/shubham/Desktop/git/carla-roach/outputs/2024-06-06/18-24-58',\n",
    "    '/home/shubham/Desktop/git/carla-roach/outputs/2024-06-06/21-07-03',\n",
    "    '/home/shubham/Desktop/git/carla-roach/outputs/2024-06-07/01-53-29',\n",
    "    '/home/shubham/Desktop/git/carla-roach/outputs/2024-06-07/05-12-59'\n",
    "]\n",
    "\n",
    "route_completion_ratio(list_of_addresses)"
   ]
  },
  {
   "cell_type": "markdown",
   "id": "6c758763",
   "metadata": {},
   "source": [
    "## Dino Dagger 0 SEED 2022"
   ]
  },
  {
   "cell_type": "code",
   "execution_count": 22,
   "id": "a0623efa",
   "metadata": {},
   "outputs": [
    {
     "name": "stdout",
     "output_type": "stream",
     "text": [
      "Score: 9/20\n",
      "Score: 12/40\n",
      "Score: 1/20\n",
      "Score: 4/20\n"
     ]
    },
    {
     "data": {
      "text/plain": [
       "26.0"
      ]
     },
     "execution_count": 22,
     "metadata": {},
     "output_type": "execute_result"
    }
   ],
   "source": [
    "list_of_addresses = [\n",
    "    '/home/shubham/Desktop/git/carla-roach/outputs/2024-06-07/09-12-05',\n",
    "    '/home/shubham/Desktop/git/carla-roach/outputs/2024-06-07/11-57-48',\n",
    "    '/home/shubham/Desktop/git/carla-roach/outputs/2024-06-07/17-06-09',\n",
    "    '/home/shubham/Desktop/git/carla-roach/outputs/2024-06-07/20-41-15'\n",
    "]\n",
    "calc_success_rate(list_of_addresses)\n"
   ]
  },
  {
   "cell_type": "code",
   "execution_count": 23,
   "id": "39392bb5",
   "metadata": {},
   "outputs": [
    {
     "data": {
      "text/plain": [
       "57.187775941655"
      ]
     },
     "execution_count": 23,
     "metadata": {},
     "output_type": "execute_result"
    }
   ],
   "source": [
    "list_of_addresses = [\n",
    "    '/home/shubham/Desktop/git/carla-roach/outputs/2024-06-07/09-12-05',\n",
    "    '/home/shubham/Desktop/git/carla-roach/outputs/2024-06-07/11-57-48',\n",
    "    '/home/shubham/Desktop/git/carla-roach/outputs/2024-06-07/17-06-09',\n",
    "    '/home/shubham/Desktop/git/carla-roach/outputs/2024-06-07/20-41-15'\n",
    "]\n",
    "\n",
    "route_completion_ratio(list_of_addresses)"
   ]
  },
  {
   "cell_type": "markdown",
   "id": "c4c7326b",
   "metadata": {},
   "source": [
    "## Dino Dagger 0 SEED 2023"
   ]
  },
  {
   "cell_type": "code",
   "execution_count": 21,
   "id": "ab6fbb87",
   "metadata": {},
   "outputs": [
    {
     "name": "stdout",
     "output_type": "stream",
     "text": [
      "Score: 11/20\n",
      "Score: 14/40\n",
      "Score: 5/20\n",
      "Score: 6/20\n"
     ]
    },
    {
     "data": {
      "text/plain": [
       "36.0"
      ]
     },
     "execution_count": 21,
     "metadata": {},
     "output_type": "execute_result"
    }
   ],
   "source": [
    "list_of_addresses = [\n",
    "    '/home/shubham/Desktop/git/carla-roach/outputs/jointly_made/2024-06-08/01-23-01',\n",
    "    '/home/shubham/Desktop/git/carla-roach/outputs/2024-06-08/04-02-20',\n",
    "    '/home/shubham/Desktop/git/carla-roach/outputs/2024-06-08/09-09-24',\n",
    "    '/home/shubham/Desktop/git/carla-roach/outputs/2024-06-08/13-13-25'\n",
    "]\n",
    "calc_success_rate(list_of_addresses)\n"
   ]
  },
  {
   "cell_type": "code",
   "execution_count": 20,
   "id": "1578ca01",
   "metadata": {},
   "outputs": [
    {
     "data": {
      "text/plain": [
       "65.0181744420425"
      ]
     },
     "execution_count": 20,
     "metadata": {},
     "output_type": "execute_result"
    }
   ],
   "source": [
    "list_of_addresses = [\n",
    "    '/home/shubham/Desktop/git/carla-roach/outputs/jointly_made/2024-06-08/01-23-01',\n",
    "    '/home/shubham/Desktop/git/carla-roach/outputs/2024-06-08/04-02-20',\n",
    "    '/home/shubham/Desktop/git/carla-roach/outputs/2024-06-08/09-09-24',\n",
    "    '/home/shubham/Desktop/git/carla-roach/outputs/2024-06-08/13-13-25'\n",
    "]\n",
    "\n",
    "route_completion_ratio(list_of_addresses)"
   ]
  },
  {
   "cell_type": "markdown",
   "id": "042f53f7",
   "metadata": {},
   "source": [
    "# Last 3 Baseline benchmarks"
   ]
  },
  {
   "cell_type": "markdown",
   "id": "914a2bf7",
   "metadata": {},
   "source": [
    "### RoachNet Dagger 2 2021"
   ]
  },
  {
   "cell_type": "code",
   "execution_count": 58,
   "id": "8d346bea",
   "metadata": {},
   "outputs": [
    {
     "name": "stdout",
     "output_type": "stream",
     "text": [
      "Score: 15/20\n",
      "Score: 21/40\n",
      "Score: 10/20\n",
      "Score: 10/20\n"
     ]
    },
    {
     "data": {
      "text/plain": [
       "56.00000000000001"
      ]
     },
     "execution_count": 58,
     "metadata": {},
     "output_type": "execute_result"
    }
   ],
   "source": [
    "list_of_addresses = [\n",
    "    '/home/shubham/Desktop/git/carla-roach/outputs/2024-06-10/17-57-30',\n",
    "    '/home/shubham/Desktop/git/carla-roach/outputs/2024-06-10/20-47-41',\n",
    "    '/home/shubham/Desktop/git/carla-roach/outputs/2024-06-11/02-09-48',\n",
    "    '/home/shubham/Desktop/git/carla-roach/outputs/2024-06-11/07-00-15'\n",
    "]\n",
    "calc_success_rate(list_of_addresses)\n"
   ]
  },
  {
   "cell_type": "code",
   "execution_count": 57,
   "id": "b1a72879",
   "metadata": {},
   "outputs": [
    {
     "data": {
      "text/plain": [
       "73.46786967098627"
      ]
     },
     "execution_count": 57,
     "metadata": {},
     "output_type": "execute_result"
    }
   ],
   "source": [
    "list_of_addresses = [\n",
    "    '/home/shubham/Desktop/git/carla-roach/outputs/2024-06-10/17-57-30',\n",
    "    '/home/shubham/Desktop/git/carla-roach/outputs/2024-06-10/20-47-41',\n",
    "    '/home/shubham/Desktop/git/carla-roach/outputs/2024-06-11/02-09-48',\n",
    "    '/home/shubham/Desktop/git/carla-roach/outputs/2024-06-11/07-00-15'\n",
    "]\n",
    "\n",
    "route_completion_ratio(list_of_addresses)"
   ]
  },
  {
   "cell_type": "markdown",
   "id": "2519a980",
   "metadata": {},
   "source": [
    "### RoachNet Dagger 2 2022"
   ]
  },
  {
   "cell_type": "code",
   "execution_count": 56,
   "id": "44df05f6",
   "metadata": {},
   "outputs": [
    {
     "name": "stdout",
     "output_type": "stream",
     "text": [
      "Score: 15/20\n",
      "Score: 20/40\n",
      "Score: 8/20\n",
      "Score: 13/20\n"
     ]
    },
    {
     "data": {
      "text/plain": [
       "56.00000000000001"
      ]
     },
     "execution_count": 56,
     "metadata": {},
     "output_type": "execute_result"
    }
   ],
   "source": [
    "list_of_addresses = [\n",
    "    '/home/shubham/Desktop/git/carla-roach/outputs/2024-06-11/11-43-56',\n",
    "    '/home/shubham/Desktop/git/carla-roach/outputs/2024-06-11/14-25-41',\n",
    "    '/home/shubham/Desktop/git/carla-roach/outputs/2024-06-11/20-14-09',\n",
    "    '/home/shubham/Desktop/git/carla-roach/outputs/2024-06-12/00-26-33'\n",
    "]\n",
    "calc_success_rate(list_of_addresses)\n"
   ]
  },
  {
   "cell_type": "code",
   "execution_count": 55,
   "id": "5b13a499",
   "metadata": {},
   "outputs": [
    {
     "data": {
      "text/plain": [
       "71.91152285348569"
      ]
     },
     "execution_count": 55,
     "metadata": {},
     "output_type": "execute_result"
    }
   ],
   "source": [
    "list_of_addresses = [\n",
    "    '/home/shubham/Desktop/git/carla-roach/outputs/2024-06-11/11-43-56',\n",
    "    '/home/shubham/Desktop/git/carla-roach/outputs/2024-06-11/14-25-41',\n",
    "    '/home/shubham/Desktop/git/carla-roach/outputs/2024-06-11/20-14-09',\n",
    "    '/home/shubham/Desktop/git/carla-roach/outputs/2024-06-12/00-26-33'\n",
    "]\n",
    "\n",
    "route_completion_ratio(list_of_addresses)"
   ]
  },
  {
   "cell_type": "markdown",
   "id": "1e04942b",
   "metadata": {},
   "source": [
    "### RoachNet Dagger 2 2023"
   ]
  },
  {
   "cell_type": "code",
   "execution_count": 53,
   "id": "6eb22332",
   "metadata": {},
   "outputs": [
    {
     "name": "stdout",
     "output_type": "stream",
     "text": [
      "Score: 16/20\n",
      "Score: 19/40\n",
      "Score: 10/20\n",
      "Score: 12/20\n"
     ]
    },
    {
     "data": {
      "text/plain": [
       "56.99999999999999"
      ]
     },
     "execution_count": 53,
     "metadata": {},
     "output_type": "execute_result"
    }
   ],
   "source": [
    "list_of_addresses = [\n",
    "    '/home/shubham/Desktop/git/carla-roach/outputs/jointly_made/2024-06-12/05-12-17',\n",
    "    '/home/shubham/Desktop/git/carla-roach/outputs/2024-06-12/08-06-45',\n",
    "    '/home/shubham/Desktop/git/carla-roach/outputs/2024-06-12/13-36-00',\n",
    "    '/home/shubham/Desktop/git/carla-roach/outputs/2024-06-12/17-35-29'\n",
    "]\n",
    "calc_success_rate(list_of_addresses)\n"
   ]
  },
  {
   "cell_type": "code",
   "execution_count": 54,
   "id": "113491b7",
   "metadata": {},
   "outputs": [
    {
     "data": {
      "text/plain": [
       "75.16011512165886"
      ]
     },
     "execution_count": 54,
     "metadata": {},
     "output_type": "execute_result"
    }
   ],
   "source": [
    "list_of_addresses = [\n",
    "    '/home/shubham/Desktop/git/carla-roach/outputs/jointly_made/2024-06-12/05-12-17',\n",
    "    '/home/shubham/Desktop/git/carla-roach/outputs/2024-06-12/08-06-45',\n",
    "    '/home/shubham/Desktop/git/carla-roach/outputs/2024-06-12/13-36-00',\n",
    "    '/home/shubham/Desktop/git/carla-roach/outputs/2024-06-12/17-35-29'\n",
    "]\n",
    "\n",
    "route_completion_ratio(list_of_addresses)"
   ]
  },
  {
   "cell_type": "code",
   "execution_count": null,
   "id": "762296a1",
   "metadata": {},
   "outputs": [],
   "source": []
  },
  {
   "cell_type": "code",
   "execution_count": null,
   "id": "51e9377f",
   "metadata": {},
   "outputs": [],
   "source": []
  }
 ],
 "metadata": {
  "kernelspec": {
   "display_name": "Python 3",
   "language": "python",
   "name": "python3"
  },
  "language_info": {
   "codemirror_mode": {
    "name": "ipython",
    "version": 3
   },
   "file_extension": ".py",
   "mimetype": "text/x-python",
   "name": "python",
   "nbconvert_exporter": "python",
   "pygments_lexer": "ipython3",
   "version": "3.8.15"
  }
 },
 "nbformat": 4,
 "nbformat_minor": 5
}
